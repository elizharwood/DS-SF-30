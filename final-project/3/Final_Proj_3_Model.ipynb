{
 "cells": [
  {
   "cell_type": "markdown",
   "metadata": {},
   "source": [
    "# DS-SF-30 | Final Project 3: Model Notebook\n",
    "### Elizabeth Harwood\n",
    "## Baseball Hall of Fame Prediction"
   ]
  },
  {
   "cell_type": "markdown",
   "metadata": {},
   "source": [
    "# Summary and Plan from Final Proj Part 2\n",
    "\n",
    "### Summary: \n",
    "\n",
    "Data exploration and visualization of player HallofFame table data. \n",
    "\n",
    "Added additional data from the following tables: \n",
    "* MASTER - Player names, DOB, and biographical info\n",
    "* Fielding - Player teams, positions\n",
    "* Salaries - player salary data\n",
    "* AllStarFull - All-Star appearances\n",
    "* Teams - yearly stats and standings\n",
    "* PlayerAwards - awards given to individual players\n",
    "\n",
    "Engineered the following features: \n",
    "* votes_percent\n",
    "* mean_salary\n",
    "* sum_salary\n",
    "* max_salary\n",
    "* allstarGameCount\n",
    "* n_prev_noms\n",
    "* Win_pct\n",
    "* Tot_Wins\n",
    "* Manager\n",
    "* Pioneer/Executive\n",
    "* Umpire\n",
    "* P_Awards\n",
    " \n",
    "\n",
    "\n",
    "### Analysis Plan: \n",
    "\n",
    "For exploring the factors influencing induction of nominees into the baseball hall of fame:\n",
    "\n",
    "* Perform both Logistic Regression (y = 'inducted') and linear regression (y = 'votes_percent') to explore factors influencing both. \n",
    "\n",
    "* Scale data prior to modeling to ensure each feature has a similar influence on outcome\n",
    "\n",
    "* Perform Lasso Regression starting with lots of features and removing those whose coefficients go to 0\n",
    "\n",
    "* Perform Linear Regression with StatsModels to see the p-values of the coefficients and determine which should be removed from the model\n",
    "\n",
    "* Possibly add more features from additional baseball data, such as Manager Awards, or specific player information like batting and pitching statistics, or number of people nominated to Hall of Fame that year\n",
    "\n",
    "* Remove any rows in the dataframe with missing data, or else possibly decide to only model data for nominees of category 'player'\n",
    "\n",
    "* Split data into a test and train data set (train set to be 20% of data, test remaining)\n",
    "\n",
    "* Perform cross-validation for any model parameter selection\n",
    "\n",
    "* Train model again using all train data\n",
    "\n",
    "* Score model using test data to get an estimate of error rate\n",
    "\n",
    "* Train model one last time on all data for final model."
   ]
  },
  {
   "cell_type": "markdown",
   "metadata": {},
   "source": [
    "Things to try: \n",
    "    \n",
    "1) Logistic regression\n",
    "\n",
    "2) Linear Regression \n",
    "\n",
    "2) b) with Lasso Regression\n",
    "\n",
    "3) Decision Trees"
   ]
  },
  {
   "cell_type": "code",
   "execution_count": null,
   "metadata": {
    "collapsed": true
   },
   "outputs": [],
   "source": []
  },
  {
   "cell_type": "markdown",
   "metadata": {},
   "source": [
    "# Import Libraries"
   ]
  },
  {
   "cell_type": "code",
   "execution_count": 1,
   "metadata": {
    "collapsed": true
   },
   "outputs": [],
   "source": [
    "import os\n",
    "import pandas as pd\n",
    "import matplotlib.pyplot as plt\n",
    "import seaborn as sns\n",
    "import statsmodels as sm\n",
    "from collections import defaultdict\n",
    "import statsmodels.api as sm\n",
    "import statsmodels.formula.api as smf\n",
    "from sklearn import linear_model\n",
    "import numpy as np\n",
    "import math\n",
    "\n",
    "from sklearn import tree, ensemble, metrics, cross_validation, externals\n",
    "\n",
    "pd.set_option('display.max_rows', 15)\n",
    "pd.set_option('display.max_columns', 15)\n",
    "pd.set_option('display.notebook_repr_html', True)\n",
    "\n",
    "%matplotlib inline\n",
    "plt.style.use('ggplot')"
   ]
  },
  {
   "cell_type": "markdown",
   "metadata": {},
   "source": [
    "# Load Data from Project Part 2"
   ]
  },
  {
   "cell_type": "code",
   "execution_count": 2,
   "metadata": {
    "collapsed": false
   },
   "outputs": [],
   "source": [
    "path = os.path.join('..','data','project_data_processed','part_2_output.csv')\n",
    "df_full = pd.read_csv(path)"
   ]
  },
  {
   "cell_type": "code",
   "execution_count": 3,
   "metadata": {
    "collapsed": false
   },
   "outputs": [
    {
     "data": {
      "text/html": [
       "<div>\n",
       "<table border=\"1\" class=\"dataframe\">\n",
       "  <thead>\n",
       "    <tr style=\"text-align: right;\">\n",
       "      <th></th>\n",
       "      <th>playerID</th>\n",
       "      <th>HoF_Year</th>\n",
       "      <th>votedBy</th>\n",
       "      <th>inducted</th>\n",
       "      <th>category</th>\n",
       "      <th>votes_percent</th>\n",
       "      <th>mean_salary</th>\n",
       "      <th>...</th>\n",
       "      <th>W</th>\n",
       "      <th>Win_pct</th>\n",
       "      <th>Tot_Wins</th>\n",
       "      <th>Manager</th>\n",
       "      <th>Pioneer/Executive</th>\n",
       "      <th>Umpire</th>\n",
       "      <th>P_Awards</th>\n",
       "    </tr>\n",
       "  </thead>\n",
       "  <tbody>\n",
       "    <tr>\n",
       "      <th>0</th>\n",
       "      <td>cobbty01</td>\n",
       "      <td>1936</td>\n",
       "      <td>BBWAA</td>\n",
       "      <td>1</td>\n",
       "      <td>Player</td>\n",
       "      <td>1.305882</td>\n",
       "      <td>NaN</td>\n",
       "      <td>...</td>\n",
       "      <td>1949.0</td>\n",
       "      <td>0.530079</td>\n",
       "      <td>3.0</td>\n",
       "      <td>0.0</td>\n",
       "      <td>0.0</td>\n",
       "      <td>0.0</td>\n",
       "      <td>31</td>\n",
       "    </tr>\n",
       "    <tr>\n",
       "      <th>1</th>\n",
       "      <td>ruthba01</td>\n",
       "      <td>1936</td>\n",
       "      <td>BBWAA</td>\n",
       "      <td>1</td>\n",
       "      <td>Player</td>\n",
       "      <td>1.264706</td>\n",
       "      <td>NaN</td>\n",
       "      <td>...</td>\n",
       "      <td>1957.0</td>\n",
       "      <td>0.582856</td>\n",
       "      <td>17.0</td>\n",
       "      <td>0.0</td>\n",
       "      <td>0.0</td>\n",
       "      <td>0.0</td>\n",
       "      <td>33</td>\n",
       "    </tr>\n",
       "    <tr>\n",
       "      <th>2</th>\n",
       "      <td>wagneho01</td>\n",
       "      <td>1936</td>\n",
       "      <td>BBWAA</td>\n",
       "      <td>1</td>\n",
       "      <td>Player</td>\n",
       "      <td>1.264706</td>\n",
       "      <td>NaN</td>\n",
       "      <td>...</td>\n",
       "      <td>1735.0</td>\n",
       "      <td>0.546518</td>\n",
       "      <td>5.0</td>\n",
       "      <td>0.0</td>\n",
       "      <td>0.0</td>\n",
       "      <td>0.0</td>\n",
       "      <td>12</td>\n",
       "    </tr>\n",
       "    <tr>\n",
       "      <th>3</th>\n",
       "      <td>mathech01</td>\n",
       "      <td>1936</td>\n",
       "      <td>BBWAA</td>\n",
       "      <td>1</td>\n",
       "      <td>Player</td>\n",
       "      <td>1.205882</td>\n",
       "      <td>NaN</td>\n",
       "      <td>...</td>\n",
       "      <td>1516.0</td>\n",
       "      <td>0.550792</td>\n",
       "      <td>6.0</td>\n",
       "      <td>0.0</td>\n",
       "      <td>0.0</td>\n",
       "      <td>0.0</td>\n",
       "      <td>15</td>\n",
       "    </tr>\n",
       "    <tr>\n",
       "      <th>4</th>\n",
       "      <td>johnswa01</td>\n",
       "      <td>1936</td>\n",
       "      <td>BBWAA</td>\n",
       "      <td>1</td>\n",
       "      <td>Player</td>\n",
       "      <td>1.111765</td>\n",
       "      <td>NaN</td>\n",
       "      <td>...</td>\n",
       "      <td>1559.0</td>\n",
       "      <td>0.484631</td>\n",
       "      <td>3.0</td>\n",
       "      <td>0.0</td>\n",
       "      <td>0.0</td>\n",
       "      <td>0.0</td>\n",
       "      <td>33</td>\n",
       "    </tr>\n",
       "  </tbody>\n",
       "</table>\n",
       "<p>5 rows × 18 columns</p>\n",
       "</div>"
      ],
      "text/plain": [
       "    playerID  HoF_Year votedBy  inducted category  votes_percent  mean_salary  \\\n",
       "0   cobbty01      1936   BBWAA         1   Player       1.305882          NaN   \n",
       "1   ruthba01      1936   BBWAA         1   Player       1.264706          NaN   \n",
       "2  wagneho01      1936   BBWAA         1   Player       1.264706          NaN   \n",
       "3  mathech01      1936   BBWAA         1   Player       1.205882          NaN   \n",
       "4  johnswa01      1936   BBWAA         1   Player       1.111765          NaN   \n",
       "\n",
       "     ...          W   Win_pct  Tot_Wins  Manager  Pioneer/Executive  Umpire  \\\n",
       "0    ...     1949.0  0.530079       3.0      0.0                0.0     0.0   \n",
       "1    ...     1957.0  0.582856      17.0      0.0                0.0     0.0   \n",
       "2    ...     1735.0  0.546518       5.0      0.0                0.0     0.0   \n",
       "3    ...     1516.0  0.550792       6.0      0.0                0.0     0.0   \n",
       "4    ...     1559.0  0.484631       3.0      0.0                0.0     0.0   \n",
       "\n",
       "   P_Awards  \n",
       "0        31  \n",
       "1        33  \n",
       "2        12  \n",
       "3        15  \n",
       "4        33  \n",
       "\n",
       "[5 rows x 18 columns]"
      ]
     },
     "execution_count": 3,
     "metadata": {},
     "output_type": "execute_result"
    }
   ],
   "source": [
    "df_full.head()"
   ]
  },
  {
   "cell_type": "markdown",
   "metadata": {},
   "source": [
    "# Summary of Features"
   ]
  },
  {
   "cell_type": "code",
   "execution_count": 4,
   "metadata": {
    "collapsed": false
   },
   "outputs": [
    {
     "name": "stdout",
     "output_type": "stream",
     "text": [
      "['playerID', 'HoF_Year', 'votedBy', 'inducted', 'category', 'votes_percent', 'mean_salary', 'sum_salary', 'max_salary', 'allstarGameCount', 'n_prev_noms', 'W', 'Win_pct', 'Tot_Wins', 'Manager', 'Pioneer/Executive', 'Umpire', 'P_Awards']\n"
     ]
    }
   ],
   "source": [
    "print(df_full.columns.tolist())"
   ]
  },
  {
   "cell_type": "markdown",
   "metadata": {},
   "source": [
    "* playerID - Unique id for all players in the dataset (not a feature)\n",
    "* HoF_Year - Year of this particular vote; might be included in feature set\n",
    "* votedBy - Association/Committee voting on induction; might be used to remove data\n",
    "* inducted - binary varible; outcome for logistic regression\n",
    "* category - Type of role of nominee; might be used to remove data\n",
    "* votes_percent - continuous variable; outcome for linear regression\n",
    "* mean_salary - Average of all salaries drawn by player; only one salary variable will be considered for inclusion\n",
    "* sum_salary - Sum of all salaries drawn by player; only one salary variable will be considered for inclusion\n",
    "* max_salary - Max of all salaries drawn by player; only one salary variable will be considered for inclusion\n",
    "* allstarGameCount - Number of all star games the nominee was part of; probable feature\n",
    "* n_prev_noms - Number of previous nominations for the nominee; probable feature\n",
    "* W - Total number of wins by the team the player was a part of; only one of 'W' or 'Win_pct' will be considered for inclusion\n",
    "* Win_pct - % of games won by the team the player was a part of; only one of 'W' or 'Win_pct' will be considered for inclusion\n",
    "* Tot_Wins - Number of postseason title games won by the team the player was a part of; probable feature\n",
    "* Manager - binary varible; if the nominee is a manager\n",
    "* Pioneer/Executive - binary varible; if the nominee is a Pioneer/Exec\n",
    "* Umpire - binary varible; if the nominee is an Umpire\n",
    "* P_Awards - number of individual awards won by the player; probable feature"
   ]
  },
  {
   "cell_type": "markdown",
   "metadata": {},
   "source": [
    "## Renaming Columns\n",
    "\n",
    "A few of the columns have long or confusing names, so I'll fix that now"
   ]
  },
  {
   "cell_type": "code",
   "execution_count": 5,
   "metadata": {
    "collapsed": true
   },
   "outputs": [],
   "source": [
    "df_full = df_full.rename(columns={'HoF_Year': 'HoF_Yr', 'n_prev_noms':'Prev_Nom',\n",
    "                                  'allstarGameCount':'AllstarGm','votes_percent': 'Vote_Pct',\n",
    "                                  'mean_salary':'Mean_Sal','sum_salary':'Sum_Sal','max_salary':'Max_Sal'})"
   ]
  },
  {
   "cell_type": "markdown",
   "metadata": {},
   "source": [
    "# Adding more data"
   ]
  },
  {
   "cell_type": "markdown",
   "metadata": {},
   "source": [
    "My dataset does not yet include data for player statistics, like pitching and batting, which are likely very important for prediction of Hall of Fame induction, so I will add that data to my dataset now. "
   ]
  },
  {
   "cell_type": "markdown",
   "metadata": {},
   "source": [
    "## Batting Data"
   ]
  },
  {
   "cell_type": "code",
   "execution_count": 6,
   "metadata": {
    "collapsed": false
   },
   "outputs": [
    {
     "name": "stdout",
     "output_type": "stream",
     "text": [
      "(101332, 22)\n"
     ]
    },
    {
     "data": {
      "text/html": [
       "<div>\n",
       "<table border=\"1\" class=\"dataframe\">\n",
       "  <thead>\n",
       "    <tr style=\"text-align: right;\">\n",
       "      <th></th>\n",
       "      <th>playerID</th>\n",
       "      <th>yearID</th>\n",
       "      <th>stint</th>\n",
       "      <th>teamID</th>\n",
       "      <th>lgID</th>\n",
       "      <th>G</th>\n",
       "      <th>AB</th>\n",
       "      <th>...</th>\n",
       "      <th>BB</th>\n",
       "      <th>SO</th>\n",
       "      <th>IBB</th>\n",
       "      <th>HBP</th>\n",
       "      <th>SH</th>\n",
       "      <th>SF</th>\n",
       "      <th>GIDP</th>\n",
       "    </tr>\n",
       "  </thead>\n",
       "  <tbody>\n",
       "    <tr>\n",
       "      <th>0</th>\n",
       "      <td>abercda01</td>\n",
       "      <td>1871</td>\n",
       "      <td>1</td>\n",
       "      <td>TRO</td>\n",
       "      <td>NaN</td>\n",
       "      <td>1</td>\n",
       "      <td>4.0</td>\n",
       "      <td>...</td>\n",
       "      <td>0.0</td>\n",
       "      <td>0.0</td>\n",
       "      <td>NaN</td>\n",
       "      <td>NaN</td>\n",
       "      <td>NaN</td>\n",
       "      <td>NaN</td>\n",
       "      <td>NaN</td>\n",
       "    </tr>\n",
       "    <tr>\n",
       "      <th>1</th>\n",
       "      <td>addybo01</td>\n",
       "      <td>1871</td>\n",
       "      <td>1</td>\n",
       "      <td>RC1</td>\n",
       "      <td>NaN</td>\n",
       "      <td>25</td>\n",
       "      <td>118.0</td>\n",
       "      <td>...</td>\n",
       "      <td>4.0</td>\n",
       "      <td>0.0</td>\n",
       "      <td>NaN</td>\n",
       "      <td>NaN</td>\n",
       "      <td>NaN</td>\n",
       "      <td>NaN</td>\n",
       "      <td>NaN</td>\n",
       "    </tr>\n",
       "    <tr>\n",
       "      <th>2</th>\n",
       "      <td>allisar01</td>\n",
       "      <td>1871</td>\n",
       "      <td>1</td>\n",
       "      <td>CL1</td>\n",
       "      <td>NaN</td>\n",
       "      <td>29</td>\n",
       "      <td>137.0</td>\n",
       "      <td>...</td>\n",
       "      <td>2.0</td>\n",
       "      <td>5.0</td>\n",
       "      <td>NaN</td>\n",
       "      <td>NaN</td>\n",
       "      <td>NaN</td>\n",
       "      <td>NaN</td>\n",
       "      <td>NaN</td>\n",
       "    </tr>\n",
       "    <tr>\n",
       "      <th>3</th>\n",
       "      <td>allisdo01</td>\n",
       "      <td>1871</td>\n",
       "      <td>1</td>\n",
       "      <td>WS3</td>\n",
       "      <td>NaN</td>\n",
       "      <td>27</td>\n",
       "      <td>133.0</td>\n",
       "      <td>...</td>\n",
       "      <td>0.0</td>\n",
       "      <td>2.0</td>\n",
       "      <td>NaN</td>\n",
       "      <td>NaN</td>\n",
       "      <td>NaN</td>\n",
       "      <td>NaN</td>\n",
       "      <td>NaN</td>\n",
       "    </tr>\n",
       "    <tr>\n",
       "      <th>4</th>\n",
       "      <td>ansonca01</td>\n",
       "      <td>1871</td>\n",
       "      <td>1</td>\n",
       "      <td>RC1</td>\n",
       "      <td>NaN</td>\n",
       "      <td>25</td>\n",
       "      <td>120.0</td>\n",
       "      <td>...</td>\n",
       "      <td>2.0</td>\n",
       "      <td>1.0</td>\n",
       "      <td>NaN</td>\n",
       "      <td>NaN</td>\n",
       "      <td>NaN</td>\n",
       "      <td>NaN</td>\n",
       "      <td>NaN</td>\n",
       "    </tr>\n",
       "  </tbody>\n",
       "</table>\n",
       "<p>5 rows × 22 columns</p>\n",
       "</div>"
      ],
      "text/plain": [
       "    playerID  yearID  stint teamID lgID   G     AB  ...    BB   SO  IBB  HBP  \\\n",
       "0  abercda01    1871      1    TRO  NaN   1    4.0  ...   0.0  0.0  NaN  NaN   \n",
       "1   addybo01    1871      1    RC1  NaN  25  118.0  ...   4.0  0.0  NaN  NaN   \n",
       "2  allisar01    1871      1    CL1  NaN  29  137.0  ...   2.0  5.0  NaN  NaN   \n",
       "3  allisdo01    1871      1    WS3  NaN  27  133.0  ...   0.0  2.0  NaN  NaN   \n",
       "4  ansonca01    1871      1    RC1  NaN  25  120.0  ...   2.0  1.0  NaN  NaN   \n",
       "\n",
       "   SH  SF  GIDP  \n",
       "0 NaN NaN   NaN  \n",
       "1 NaN NaN   NaN  \n",
       "2 NaN NaN   NaN  \n",
       "3 NaN NaN   NaN  \n",
       "4 NaN NaN   NaN  \n",
       "\n",
       "[5 rows x 22 columns]"
      ]
     },
     "execution_count": 6,
     "metadata": {},
     "output_type": "execute_result"
    }
   ],
   "source": [
    "batting_df = pd.read_csv(os.path.join('..','data','baseballdatabank-master', 'core','Batting.csv'))\n",
    "print(batting_df.shape)\n",
    "batting_df.head()"
   ]
  },
  {
   "cell_type": "code",
   "execution_count": 7,
   "metadata": {
    "collapsed": false
   },
   "outputs": [
    {
     "data": {
      "text/plain": [
       "Index(['playerID', 'yearID', 'stint', 'teamID', 'lgID', 'G', 'AB', 'R', 'H',\n",
       "       '2B', '3B', 'HR', 'RBI', 'SB', 'CS', 'BB', 'SO', 'IBB', 'HBP', 'SH',\n",
       "       'SF', 'GIDP'],\n",
       "      dtype='object')"
      ]
     },
     "execution_count": 7,
     "metadata": {},
     "output_type": "execute_result"
    }
   ],
   "source": [
    "batting_df.columns"
   ]
  },
  {
   "cell_type": "markdown",
   "metadata": {},
   "source": [
    "2.2 Batting Table\n",
    "* playerID:       Player ID code\n",
    "* yearID:         Year\n",
    "* stint:          player's stint (order of appearances within a season)\n",
    "* teamID:         Team\n",
    "* lgID:           League\n",
    "* G:              Games\n",
    "* AB:             At Bats\n",
    "* R:              Runs\n",
    "* H:              Hits\n",
    "* 2B:             Doubles\n",
    "* 3B:             Triples\n",
    "* HR:             Homeruns\n",
    "* RBI:            Runs Batted In\n",
    "* SB:             Stolen Bases\n",
    "* CS:             Caught Stealing\n",
    "* BB:             Base on Balls\n",
    "* SO:             Strikeouts\n",
    "* IBB:            Intentional walks\n",
    "* HBP:            Hit by pitch\n",
    "* SH:             Sacrifice hits\n",
    "* SF:             Sacrifice flies\n",
    "* GIDP:           Grounded into double plays"
   ]
  },
  {
   "cell_type": "markdown",
   "metadata": {},
   "source": [
    "Due to rules about induction and nomination into the baseball Hall of Fame, I know that any player must have been retired for at least 5 years (or dead) to be eligible for induction, so any data from the player's batting or pitching tables will be information from their record that took place prior to any HoF vote, so it can all be included regardless of year. Now I just have to determine how to include it. I think that some statistics should be added, and others should be counted (like number of seasons with batting averages in the top 5 or 10%) or else averaged. "
   ]
  },
  {
   "cell_type": "code",
   "execution_count": 8,
   "metadata": {
    "collapsed": false
   },
   "outputs": [
    {
     "data": {
      "text/plain": [
       "(80462, 22)"
      ]
     },
     "execution_count": 8,
     "metadata": {},
     "output_type": "execute_result"
    }
   ],
   "source": [
    "# Only want to use stints where the player played at least 10 games\n",
    "batting_df = batting_df[batting_df.G >=10]\n",
    "batting_df.shape"
   ]
  },
  {
   "cell_type": "markdown",
   "metadata": {},
   "source": [
    "I want batting average, which is defined as the number of hits divided by the number of at bats. "
   ]
  },
  {
   "cell_type": "code",
   "execution_count": 9,
   "metadata": {
    "collapsed": true
   },
   "outputs": [],
   "source": [
    "batting_df['BA'] = batting_df.H / batting_df.AB"
   ]
  },
  {
   "cell_type": "markdown",
   "metadata": {},
   "source": [
    "#### Feature: Number of seasons in top 10% of batting averages"
   ]
  },
  {
   "cell_type": "code",
   "execution_count": 10,
   "metadata": {
    "collapsed": false
   },
   "outputs": [
    {
     "name": "stdout",
     "output_type": "stream",
     "text": [
      "0.30612244898\n"
     ]
    }
   ],
   "source": [
    "# want to find the top 10% of batting averages out of the ones that aren't null\n",
    "ba_top10 = batting_df.BA.dropna().quantile(.9)\n",
    "print(ba_top10)\n",
    "# making a new feature, number of years with a top 10% batting average\n",
    "batting_df['ba_top10'] = batting_df.BA >= ba_top10 "
   ]
  },
  {
   "cell_type": "code",
   "execution_count": 11,
   "metadata": {
    "collapsed": false
   },
   "outputs": [],
   "source": [
    "# want it in binary\n",
    "batting_df['ba_top10'] = batting_df['ba_top10'] * 1\n",
    "# this will be aggregated by player\n",
    "batting_df_by_player = batting_df.groupby(['playerID']).ba_top10.sum()\n",
    "batting_df_by_player = pd.DataFrame(batting_df_by_player)"
   ]
  },
  {
   "cell_type": "markdown",
   "metadata": {},
   "source": [
    "#### Feature: Number of average batting average (over all seasons)"
   ]
  },
  {
   "cell_type": "code",
   "execution_count": 12,
   "metadata": {
    "collapsed": false
   },
   "outputs": [],
   "source": [
    "# groupby player, take mean\n",
    "batting_df_by_player['avg_ba'] = batting_df.groupby(['playerID']).BA.mean()"
   ]
  },
  {
   "cell_type": "markdown",
   "metadata": {},
   "source": [
    "#### Feature: Number of Runs (cumulative over all seasons)"
   ]
  },
  {
   "cell_type": "code",
   "execution_count": 13,
   "metadata": {
    "collapsed": true
   },
   "outputs": [],
   "source": [
    "# groupby player, take mean\n",
    "batting_df_by_player['sum_R'] = batting_df.groupby(['playerID']).R.sum()"
   ]
  },
  {
   "cell_type": "markdown",
   "metadata": {},
   "source": [
    "#### Feature: Number of Home Runs (cumulative over all seasons)"
   ]
  },
  {
   "cell_type": "code",
   "execution_count": 14,
   "metadata": {
    "collapsed": true
   },
   "outputs": [],
   "source": [
    "# groupby player, take mean\n",
    "batting_df_by_player['sum_HR'] = batting_df.groupby(['playerID']).HR.sum()"
   ]
  },
  {
   "cell_type": "code",
   "execution_count": 15,
   "metadata": {
    "collapsed": false
   },
   "outputs": [
    {
     "name": "stdout",
     "output_type": "stream",
     "text": [
      "ba_top10    14304\n",
      "avg_ba      13303\n",
      "sum_R       14005\n",
      "sum_HR      14005\n",
      "dtype: int64\n"
     ]
    },
    {
     "data": {
      "text/html": [
       "<div>\n",
       "<table border=\"1\" class=\"dataframe\">\n",
       "  <thead>\n",
       "    <tr style=\"text-align: right;\">\n",
       "      <th></th>\n",
       "      <th>ba_top10</th>\n",
       "      <th>avg_ba</th>\n",
       "      <th>sum_R</th>\n",
       "      <th>sum_HR</th>\n",
       "    </tr>\n",
       "    <tr>\n",
       "      <th>playerID</th>\n",
       "      <th></th>\n",
       "      <th></th>\n",
       "      <th></th>\n",
       "      <th></th>\n",
       "    </tr>\n",
       "  </thead>\n",
       "  <tbody>\n",
       "    <tr>\n",
       "      <th>aardsda01</th>\n",
       "      <td>0</td>\n",
       "      <td>0.000000</td>\n",
       "      <td>0.0</td>\n",
       "      <td>0.0</td>\n",
       "    </tr>\n",
       "    <tr>\n",
       "      <th>aaronha01</th>\n",
       "      <td>12</td>\n",
       "      <td>0.301075</td>\n",
       "      <td>2174.0</td>\n",
       "      <td>755.0</td>\n",
       "    </tr>\n",
       "    <tr>\n",
       "      <th>aaronto01</th>\n",
       "      <td>0</td>\n",
       "      <td>0.226187</td>\n",
       "      <td>101.0</td>\n",
       "      <td>13.0</td>\n",
       "    </tr>\n",
       "    <tr>\n",
       "      <th>aasedo01</th>\n",
       "      <td>0</td>\n",
       "      <td>0.000000</td>\n",
       "      <td>0.0</td>\n",
       "      <td>0.0</td>\n",
       "    </tr>\n",
       "    <tr>\n",
       "      <th>abadfe01</th>\n",
       "      <td>0</td>\n",
       "      <td>0.071429</td>\n",
       "      <td>0.0</td>\n",
       "      <td>0.0</td>\n",
       "    </tr>\n",
       "  </tbody>\n",
       "</table>\n",
       "</div>"
      ],
      "text/plain": [
       "           ba_top10    avg_ba   sum_R  sum_HR\n",
       "playerID                                     \n",
       "aardsda01         0  0.000000     0.0     0.0\n",
       "aaronha01        12  0.301075  2174.0   755.0\n",
       "aaronto01         0  0.226187   101.0    13.0\n",
       "aasedo01          0  0.000000     0.0     0.0\n",
       "abadfe01          0  0.071429     0.0     0.0"
      ]
     },
     "execution_count": 15,
     "metadata": {},
     "output_type": "execute_result"
    }
   ],
   "source": [
    "print(batting_df_by_player.count())\n",
    "batting_df_by_player.head()"
   ]
  },
  {
   "cell_type": "code",
   "execution_count": 16,
   "metadata": {
    "collapsed": false
   },
   "outputs": [
    {
     "data": {
      "text/html": [
       "<div>\n",
       "<table border=\"1\" class=\"dataframe\">\n",
       "  <thead>\n",
       "    <tr style=\"text-align: right;\">\n",
       "      <th></th>\n",
       "      <th>ba_top10</th>\n",
       "      <th>avg_ba</th>\n",
       "      <th>sum_R</th>\n",
       "      <th>sum_HR</th>\n",
       "    </tr>\n",
       "  </thead>\n",
       "  <tbody>\n",
       "    <tr>\n",
       "      <th>ba_top10</th>\n",
       "      <td>1.000000</td>\n",
       "      <td>0.325180</td>\n",
       "      <td>0.642274</td>\n",
       "      <td>0.431280</td>\n",
       "    </tr>\n",
       "    <tr>\n",
       "      <th>avg_ba</th>\n",
       "      <td>0.325180</td>\n",
       "      <td>1.000000</td>\n",
       "      <td>0.353723</td>\n",
       "      <td>0.250362</td>\n",
       "    </tr>\n",
       "    <tr>\n",
       "      <th>sum_R</th>\n",
       "      <td>0.642274</td>\n",
       "      <td>0.353723</td>\n",
       "      <td>1.000000</td>\n",
       "      <td>0.788429</td>\n",
       "    </tr>\n",
       "    <tr>\n",
       "      <th>sum_HR</th>\n",
       "      <td>0.431280</td>\n",
       "      <td>0.250362</td>\n",
       "      <td>0.788429</td>\n",
       "      <td>1.000000</td>\n",
       "    </tr>\n",
       "  </tbody>\n",
       "</table>\n",
       "</div>"
      ],
      "text/plain": [
       "          ba_top10    avg_ba     sum_R    sum_HR\n",
       "ba_top10  1.000000  0.325180  0.642274  0.431280\n",
       "avg_ba    0.325180  1.000000  0.353723  0.250362\n",
       "sum_R     0.642274  0.353723  1.000000  0.788429\n",
       "sum_HR    0.431280  0.250362  0.788429  1.000000"
      ]
     },
     "execution_count": 16,
     "metadata": {},
     "output_type": "execute_result"
    }
   ],
   "source": [
    "batting_df_by_player.dropna().corr()"
   ]
  },
  {
   "cell_type": "markdown",
   "metadata": {},
   "source": [
    "These variables are highly correlated, so I'll only use one or two of them in my ultimate model. "
   ]
  },
  {
   "cell_type": "markdown",
   "metadata": {},
   "source": [
    "## Pitching Data"
   ]
  },
  {
   "cell_type": "code",
   "execution_count": 17,
   "metadata": {
    "collapsed": false
   },
   "outputs": [
    {
     "name": "stdout",
     "output_type": "stream",
     "text": [
      "(44139, 30)\n"
     ]
    },
    {
     "data": {
      "text/html": [
       "<div>\n",
       "<table border=\"1\" class=\"dataframe\">\n",
       "  <thead>\n",
       "    <tr style=\"text-align: right;\">\n",
       "      <th></th>\n",
       "      <th>playerID</th>\n",
       "      <th>yearID</th>\n",
       "      <th>stint</th>\n",
       "      <th>teamID</th>\n",
       "      <th>lgID</th>\n",
       "      <th>W</th>\n",
       "      <th>L</th>\n",
       "      <th>...</th>\n",
       "      <th>BK</th>\n",
       "      <th>BFP</th>\n",
       "      <th>GF</th>\n",
       "      <th>R</th>\n",
       "      <th>SH</th>\n",
       "      <th>SF</th>\n",
       "      <th>GIDP</th>\n",
       "    </tr>\n",
       "  </thead>\n",
       "  <tbody>\n",
       "    <tr>\n",
       "      <th>0</th>\n",
       "      <td>bechtge01</td>\n",
       "      <td>1871</td>\n",
       "      <td>1</td>\n",
       "      <td>PH1</td>\n",
       "      <td>NaN</td>\n",
       "      <td>1</td>\n",
       "      <td>2</td>\n",
       "      <td>...</td>\n",
       "      <td>0</td>\n",
       "      <td>NaN</td>\n",
       "      <td>NaN</td>\n",
       "      <td>42</td>\n",
       "      <td>NaN</td>\n",
       "      <td>NaN</td>\n",
       "      <td>NaN</td>\n",
       "    </tr>\n",
       "    <tr>\n",
       "      <th>1</th>\n",
       "      <td>brainas01</td>\n",
       "      <td>1871</td>\n",
       "      <td>1</td>\n",
       "      <td>WS3</td>\n",
       "      <td>NaN</td>\n",
       "      <td>12</td>\n",
       "      <td>15</td>\n",
       "      <td>...</td>\n",
       "      <td>0</td>\n",
       "      <td>NaN</td>\n",
       "      <td>NaN</td>\n",
       "      <td>292</td>\n",
       "      <td>NaN</td>\n",
       "      <td>NaN</td>\n",
       "      <td>NaN</td>\n",
       "    </tr>\n",
       "    <tr>\n",
       "      <th>2</th>\n",
       "      <td>fergubo01</td>\n",
       "      <td>1871</td>\n",
       "      <td>1</td>\n",
       "      <td>NY2</td>\n",
       "      <td>NaN</td>\n",
       "      <td>0</td>\n",
       "      <td>0</td>\n",
       "      <td>...</td>\n",
       "      <td>0</td>\n",
       "      <td>NaN</td>\n",
       "      <td>NaN</td>\n",
       "      <td>9</td>\n",
       "      <td>NaN</td>\n",
       "      <td>NaN</td>\n",
       "      <td>NaN</td>\n",
       "    </tr>\n",
       "    <tr>\n",
       "      <th>3</th>\n",
       "      <td>fishech01</td>\n",
       "      <td>1871</td>\n",
       "      <td>1</td>\n",
       "      <td>RC1</td>\n",
       "      <td>NaN</td>\n",
       "      <td>4</td>\n",
       "      <td>16</td>\n",
       "      <td>...</td>\n",
       "      <td>0</td>\n",
       "      <td>NaN</td>\n",
       "      <td>NaN</td>\n",
       "      <td>257</td>\n",
       "      <td>NaN</td>\n",
       "      <td>NaN</td>\n",
       "      <td>NaN</td>\n",
       "    </tr>\n",
       "    <tr>\n",
       "      <th>4</th>\n",
       "      <td>fleetfr01</td>\n",
       "      <td>1871</td>\n",
       "      <td>1</td>\n",
       "      <td>NY2</td>\n",
       "      <td>NaN</td>\n",
       "      <td>0</td>\n",
       "      <td>1</td>\n",
       "      <td>...</td>\n",
       "      <td>0</td>\n",
       "      <td>NaN</td>\n",
       "      <td>NaN</td>\n",
       "      <td>21</td>\n",
       "      <td>NaN</td>\n",
       "      <td>NaN</td>\n",
       "      <td>NaN</td>\n",
       "    </tr>\n",
       "  </tbody>\n",
       "</table>\n",
       "<p>5 rows × 30 columns</p>\n",
       "</div>"
      ],
      "text/plain": [
       "    playerID  yearID  stint teamID lgID   W   L  ...   BK  BFP  GF    R  SH  \\\n",
       "0  bechtge01    1871      1    PH1  NaN   1   2  ...    0  NaN NaN   42 NaN   \n",
       "1  brainas01    1871      1    WS3  NaN  12  15  ...    0  NaN NaN  292 NaN   \n",
       "2  fergubo01    1871      1    NY2  NaN   0   0  ...    0  NaN NaN    9 NaN   \n",
       "3  fishech01    1871      1    RC1  NaN   4  16  ...    0  NaN NaN  257 NaN   \n",
       "4  fleetfr01    1871      1    NY2  NaN   0   1  ...    0  NaN NaN   21 NaN   \n",
       "\n",
       "   SF  GIDP  \n",
       "0 NaN   NaN  \n",
       "1 NaN   NaN  \n",
       "2 NaN   NaN  \n",
       "3 NaN   NaN  \n",
       "4 NaN   NaN  \n",
       "\n",
       "[5 rows x 30 columns]"
      ]
     },
     "execution_count": 17,
     "metadata": {},
     "output_type": "execute_result"
    }
   ],
   "source": [
    "pitching_df = pd.read_csv(os.path.join('..','data','baseballdatabank-master', 'core','Pitching.csv'))\n",
    "print(pitching_df.shape)\n",
    "pitching_df.head()"
   ]
  },
  {
   "cell_type": "markdown",
   "metadata": {},
   "source": [
    "### 2.3 Pitching table - columns and descriptions\n",
    "\n",
    "* playerID:       Player ID code\n",
    "* yearID:         Year\n",
    "* stint:          player's stint (order of appearances within a season)\n",
    "* teamID:         Team\n",
    "* lgID:           League\n",
    "* W:              Wins\n",
    "* L:              Losses\n",
    "* G:              Games\n",
    "* GS:             Games Started\n",
    "* CG:             Complete Games \n",
    "* SHO:            Shutouts\n",
    "* SV:             Saves\n",
    "* IPOuts:         Outs Pitched (innings pitched x 3)\n",
    "* H:              Hits\n",
    "* ER:             Earned Runs\n",
    "* HR:             Homeruns\n",
    "* BB:             Walks\n",
    "* SO:             Strikeouts\n",
    "* BAOpp:          Opponent's Batting Average\n",
    "* ERA:            Earned Run Average\n",
    "* IBB:            Intentional Walks\n",
    "* WP:             Wild Pitches\n",
    "* HBP:            Batters Hit By Pitch\n",
    "* BK:             Balks\n",
    "* BFP:            Batters faced by Pitcher\n",
    "* GF:             Games Finished\n",
    "* R:              Runs Allowed\n",
    "* SH:             Sacrifices by opposing batters\n",
    "* SF:             Sacrifice flies by opposing batters\n",
    "* GIDP:           Grounded into double plays by opposing batter"
   ]
  },
  {
   "cell_type": "markdown",
   "metadata": {},
   "source": [
    "#### Fields to engineer: \n",
    "shutouts, strikeouts, BAOpp (opponent's batting avg), and R ( runs allowed, but need to rename that column)"
   ]
  },
  {
   "cell_type": "markdown",
   "metadata": {},
   "source": [
    "#### Feature: Opponent's Batting Average (average of those)"
   ]
  },
  {
   "cell_type": "code",
   "execution_count": 18,
   "metadata": {
    "collapsed": false
   },
   "outputs": [],
   "source": [
    "pitching_df_by_player = pitching_df.groupby(['playerID']).BAOpp.mean()\n",
    "pitching_df_by_player = pd.DataFrame(pitching_df_by_player)"
   ]
  },
  {
   "cell_type": "markdown",
   "metadata": {},
   "source": [
    "#### Feature: Strikeouts (sum over all seasons)"
   ]
  },
  {
   "cell_type": "code",
   "execution_count": 19,
   "metadata": {
    "collapsed": true
   },
   "outputs": [],
   "source": [
    "# groupby player, aggregate\n",
    "pitching_df_by_player['StrikeOuts'] = pitching_df.groupby(['playerID']).SO.sum()"
   ]
  },
  {
   "cell_type": "markdown",
   "metadata": {},
   "source": [
    "#### Feature: Shutouts (sum over all seasons)"
   ]
  },
  {
   "cell_type": "code",
   "execution_count": 20,
   "metadata": {
    "collapsed": true
   },
   "outputs": [],
   "source": [
    "# groupby player, aggregate\n",
    "pitching_df_by_player['ShutOuts'] = pitching_df.groupby(['playerID']).SHO.sum()"
   ]
  },
  {
   "cell_type": "markdown",
   "metadata": {},
   "source": [
    "#### Feature: Runs Allowed (sum over all seasons)"
   ]
  },
  {
   "cell_type": "code",
   "execution_count": 21,
   "metadata": {
    "collapsed": true
   },
   "outputs": [],
   "source": [
    "# groupby player, aggregate\n",
    "pitching_df_by_player['R_Allowed'] = pitching_df.groupby(['playerID']).R.sum()"
   ]
  },
  {
   "cell_type": "code",
   "execution_count": 22,
   "metadata": {
    "collapsed": false
   },
   "outputs": [
    {
     "name": "stdout",
     "output_type": "stream",
     "text": [
      "BAOpp         8822\n",
      "StrikeOuts    9126\n",
      "ShutOuts      9126\n",
      "R_Allowed     9126\n",
      "dtype: int64\n"
     ]
    },
    {
     "data": {
      "text/html": [
       "<div>\n",
       "<table border=\"1\" class=\"dataframe\">\n",
       "  <thead>\n",
       "    <tr style=\"text-align: right;\">\n",
       "      <th></th>\n",
       "      <th>BAOpp</th>\n",
       "      <th>StrikeOuts</th>\n",
       "      <th>ShutOuts</th>\n",
       "      <th>R_Allowed</th>\n",
       "    </tr>\n",
       "    <tr>\n",
       "      <th>playerID</th>\n",
       "      <th></th>\n",
       "      <th></th>\n",
       "      <th></th>\n",
       "      <th></th>\n",
       "    </tr>\n",
       "  </thead>\n",
       "  <tbody>\n",
       "    <tr>\n",
       "      <th>aardsda01</th>\n",
       "      <td>0.257111</td>\n",
       "      <td>340</td>\n",
       "      <td>0</td>\n",
       "      <td>169</td>\n",
       "    </tr>\n",
       "    <tr>\n",
       "      <th>aasedo01</th>\n",
       "      <td>0.246923</td>\n",
       "      <td>641</td>\n",
       "      <td>5</td>\n",
       "      <td>503</td>\n",
       "    </tr>\n",
       "    <tr>\n",
       "      <th>abadfe01</th>\n",
       "      <td>0.255667</td>\n",
       "      <td>193</td>\n",
       "      <td>0</td>\n",
       "      <td>99</td>\n",
       "    </tr>\n",
       "    <tr>\n",
       "      <th>abbeybe01</th>\n",
       "      <td>0.295000</td>\n",
       "      <td>161</td>\n",
       "      <td>0</td>\n",
       "      <td>442</td>\n",
       "    </tr>\n",
       "    <tr>\n",
       "      <th>abbeych01</th>\n",
       "      <td>0.510000</td>\n",
       "      <td>0</td>\n",
       "      <td>0</td>\n",
       "      <td>3</td>\n",
       "    </tr>\n",
       "  </tbody>\n",
       "</table>\n",
       "</div>"
      ],
      "text/plain": [
       "              BAOpp  StrikeOuts  ShutOuts  R_Allowed\n",
       "playerID                                            \n",
       "aardsda01  0.257111         340         0        169\n",
       "aasedo01   0.246923         641         5        503\n",
       "abadfe01   0.255667         193         0         99\n",
       "abbeybe01  0.295000         161         0        442\n",
       "abbeych01  0.510000           0         0          3"
      ]
     },
     "execution_count": 22,
     "metadata": {},
     "output_type": "execute_result"
    }
   ],
   "source": [
    "print(pitching_df_by_player.count())\n",
    "pitching_df_by_player.head()"
   ]
  },
  {
   "cell_type": "code",
   "execution_count": 23,
   "metadata": {
    "collapsed": false
   },
   "outputs": [
    {
     "data": {
      "text/html": [
       "<div>\n",
       "<table border=\"1\" class=\"dataframe\">\n",
       "  <thead>\n",
       "    <tr style=\"text-align: right;\">\n",
       "      <th></th>\n",
       "      <th>BAOpp</th>\n",
       "      <th>StrikeOuts</th>\n",
       "      <th>ShutOuts</th>\n",
       "      <th>R_Allowed</th>\n",
       "    </tr>\n",
       "  </thead>\n",
       "  <tbody>\n",
       "    <tr>\n",
       "      <th>BAOpp</th>\n",
       "      <td>1.000000</td>\n",
       "      <td>-0.040817</td>\n",
       "      <td>-0.003095</td>\n",
       "      <td>-0.019576</td>\n",
       "    </tr>\n",
       "    <tr>\n",
       "      <th>StrikeOuts</th>\n",
       "      <td>-0.040817</td>\n",
       "      <td>1.000000</td>\n",
       "      <td>0.758375</td>\n",
       "      <td>0.878033</td>\n",
       "    </tr>\n",
       "    <tr>\n",
       "      <th>ShutOuts</th>\n",
       "      <td>-0.003095</td>\n",
       "      <td>0.758375</td>\n",
       "      <td>1.000000</td>\n",
       "      <td>0.796442</td>\n",
       "    </tr>\n",
       "    <tr>\n",
       "      <th>R_Allowed</th>\n",
       "      <td>-0.019576</td>\n",
       "      <td>0.878033</td>\n",
       "      <td>0.796442</td>\n",
       "      <td>1.000000</td>\n",
       "    </tr>\n",
       "  </tbody>\n",
       "</table>\n",
       "</div>"
      ],
      "text/plain": [
       "               BAOpp  StrikeOuts  ShutOuts  R_Allowed\n",
       "BAOpp       1.000000   -0.040817 -0.003095  -0.019576\n",
       "StrikeOuts -0.040817    1.000000  0.758375   0.878033\n",
       "ShutOuts   -0.003095    0.758375  1.000000   0.796442\n",
       "R_Allowed  -0.019576    0.878033  0.796442   1.000000"
      ]
     },
     "execution_count": 23,
     "metadata": {},
     "output_type": "execute_result"
    }
   ],
   "source": [
    "# by definition, the .mean() method used on BAOpp drops na values and only gives a result of NA if all \n",
    "# of the inputs were NA, so I am going to ignore NA values for now\n",
    "pitching_df_by_player.dropna().corr()"
   ]
  },
  {
   "cell_type": "markdown",
   "metadata": {},
   "source": [
    "As suspected, many of these variables are highly correlated (R_Allowed and Strikeouts, for example) so I'll ultimately only include one or possibly two in my model"
   ]
  },
  {
   "cell_type": "markdown",
   "metadata": {},
   "source": [
    "## Fielding Table"
   ]
  },
  {
   "cell_type": "code",
   "execution_count": 24,
   "metadata": {
    "collapsed": false
   },
   "outputs": [
    {
     "name": "stdout",
     "output_type": "stream",
     "text": [
      "(170526, 18)\n"
     ]
    },
    {
     "data": {
      "text/html": [
       "<div>\n",
       "<table border=\"1\" class=\"dataframe\">\n",
       "  <thead>\n",
       "    <tr style=\"text-align: right;\">\n",
       "      <th></th>\n",
       "      <th>playerID</th>\n",
       "      <th>yearID</th>\n",
       "      <th>stint</th>\n",
       "      <th>teamID</th>\n",
       "      <th>lgID</th>\n",
       "      <th>POS</th>\n",
       "      <th>G</th>\n",
       "      <th>...</th>\n",
       "      <th>E</th>\n",
       "      <th>DP</th>\n",
       "      <th>PB</th>\n",
       "      <th>WP</th>\n",
       "      <th>SB</th>\n",
       "      <th>CS</th>\n",
       "      <th>ZR</th>\n",
       "    </tr>\n",
       "  </thead>\n",
       "  <tbody>\n",
       "    <tr>\n",
       "      <th>0</th>\n",
       "      <td>abercda01</td>\n",
       "      <td>1871</td>\n",
       "      <td>1</td>\n",
       "      <td>TRO</td>\n",
       "      <td>NaN</td>\n",
       "      <td>SS</td>\n",
       "      <td>1</td>\n",
       "      <td>...</td>\n",
       "      <td>2.0</td>\n",
       "      <td>0.0</td>\n",
       "      <td>NaN</td>\n",
       "      <td>NaN</td>\n",
       "      <td>NaN</td>\n",
       "      <td>NaN</td>\n",
       "      <td>NaN</td>\n",
       "    </tr>\n",
       "    <tr>\n",
       "      <th>1</th>\n",
       "      <td>addybo01</td>\n",
       "      <td>1871</td>\n",
       "      <td>1</td>\n",
       "      <td>RC1</td>\n",
       "      <td>NaN</td>\n",
       "      <td>2B</td>\n",
       "      <td>22</td>\n",
       "      <td>...</td>\n",
       "      <td>42.0</td>\n",
       "      <td>5.0</td>\n",
       "      <td>NaN</td>\n",
       "      <td>NaN</td>\n",
       "      <td>NaN</td>\n",
       "      <td>NaN</td>\n",
       "      <td>NaN</td>\n",
       "    </tr>\n",
       "    <tr>\n",
       "      <th>2</th>\n",
       "      <td>addybo01</td>\n",
       "      <td>1871</td>\n",
       "      <td>1</td>\n",
       "      <td>RC1</td>\n",
       "      <td>NaN</td>\n",
       "      <td>SS</td>\n",
       "      <td>3</td>\n",
       "      <td>...</td>\n",
       "      <td>7.0</td>\n",
       "      <td>0.0</td>\n",
       "      <td>NaN</td>\n",
       "      <td>NaN</td>\n",
       "      <td>NaN</td>\n",
       "      <td>NaN</td>\n",
       "      <td>NaN</td>\n",
       "    </tr>\n",
       "    <tr>\n",
       "      <th>3</th>\n",
       "      <td>allisar01</td>\n",
       "      <td>1871</td>\n",
       "      <td>1</td>\n",
       "      <td>CL1</td>\n",
       "      <td>NaN</td>\n",
       "      <td>2B</td>\n",
       "      <td>2</td>\n",
       "      <td>...</td>\n",
       "      <td>0.0</td>\n",
       "      <td>0.0</td>\n",
       "      <td>NaN</td>\n",
       "      <td>NaN</td>\n",
       "      <td>NaN</td>\n",
       "      <td>NaN</td>\n",
       "      <td>NaN</td>\n",
       "    </tr>\n",
       "    <tr>\n",
       "      <th>4</th>\n",
       "      <td>allisar01</td>\n",
       "      <td>1871</td>\n",
       "      <td>1</td>\n",
       "      <td>CL1</td>\n",
       "      <td>NaN</td>\n",
       "      <td>OF</td>\n",
       "      <td>29</td>\n",
       "      <td>...</td>\n",
       "      <td>7.0</td>\n",
       "      <td>1.0</td>\n",
       "      <td>NaN</td>\n",
       "      <td>NaN</td>\n",
       "      <td>NaN</td>\n",
       "      <td>NaN</td>\n",
       "      <td>NaN</td>\n",
       "    </tr>\n",
       "  </tbody>\n",
       "</table>\n",
       "<p>5 rows × 18 columns</p>\n",
       "</div>"
      ],
      "text/plain": [
       "    playerID  yearID  stint teamID lgID POS   G ...     E   DP  PB  WP  SB  \\\n",
       "0  abercda01    1871      1    TRO  NaN  SS   1 ...   2.0  0.0 NaN NaN NaN   \n",
       "1   addybo01    1871      1    RC1  NaN  2B  22 ...  42.0  5.0 NaN NaN NaN   \n",
       "2   addybo01    1871      1    RC1  NaN  SS   3 ...   7.0  0.0 NaN NaN NaN   \n",
       "3  allisar01    1871      1    CL1  NaN  2B   2 ...   0.0  0.0 NaN NaN NaN   \n",
       "4  allisar01    1871      1    CL1  NaN  OF  29 ...   7.0  1.0 NaN NaN NaN   \n",
       "\n",
       "   CS  ZR  \n",
       "0 NaN NaN  \n",
       "1 NaN NaN  \n",
       "2 NaN NaN  \n",
       "3 NaN NaN  \n",
       "4 NaN NaN  \n",
       "\n",
       "[5 rows x 18 columns]"
      ]
     },
     "execution_count": 24,
     "metadata": {},
     "output_type": "execute_result"
    }
   ],
   "source": [
    "fielding_df = pd.read_csv(os.path.join('..','data','baseballdatabank-master', 'core','Fielding.csv'))\n",
    "print(fielding_df.shape)\n",
    "fielding_df.head()"
   ]
  },
  {
   "cell_type": "markdown",
   "metadata": {},
   "source": [
    "#### 2.4 Fielding Table (abbreviated description)\n",
    "\n",
    "* playerID:       Player ID code\n",
    "* yearID:         Year\n",
    "* stint:          player's stint (order of appearances within a season)\n",
    "* teamID:         Team\n",
    "* lgID:           League\n",
    "* Pos:            Position"
   ]
  },
  {
   "cell_type": "code",
   "execution_count": 25,
   "metadata": {
    "collapsed": false
   },
   "outputs": [
    {
     "data": {
      "text/plain": [
       "array(['SS', '2B', 'OF', 'C', '1B', '3B', 'P', 'LF', 'RF', 'CF', 'DH'], dtype=object)"
      ]
     },
     "execution_count": 25,
     "metadata": {},
     "output_type": "execute_result"
    }
   ],
   "source": [
    "fielding_df.POS.unique()"
   ]
  },
  {
   "cell_type": "code",
   "execution_count": 26,
   "metadata": {
    "collapsed": true
   },
   "outputs": [],
   "source": [
    "# Looks like P is pitcher. Really I want to know if a player is a pitcher or not\n",
    "fielding_df['Pitcher'] = fielding_df.POS.map(lambda x: 1 if x == 'P' else 0)"
   ]
  },
  {
   "cell_type": "code",
   "execution_count": 27,
   "metadata": {
    "collapsed": false
   },
   "outputs": [
    {
     "data": {
      "text/plain": [
       "0    126385\n",
       "1     44141\n",
       "Name: Pitcher, dtype: int64"
      ]
     },
     "execution_count": 27,
     "metadata": {},
     "output_type": "execute_result"
    }
   ],
   "source": [
    "fielding_df.Pitcher.value_counts()"
   ]
  },
  {
   "cell_type": "code",
   "execution_count": 28,
   "metadata": {
    "collapsed": false
   },
   "outputs": [
    {
     "data": {
      "text/plain": [
       "<matplotlib.axes._subplots.AxesSubplot at 0x11a3bada0>"
      ]
     },
     "execution_count": 28,
     "metadata": {},
     "output_type": "execute_result"
    },
    {
     "data": {
      "image/png": "[encoded data removed]",
      "text/plain": [
       "<matplotlib.figure.Figure at 0x11a3bec88>"
      ]
     },
     "metadata": {},
     "output_type": "display_data"
    }
   ],
   "source": [
    "pitcher_by_player = fielding_df.groupby('playerID').Pitcher.mean()\n",
    "pitcher_by_player.plot(kind='hist')"
   ]
  },
  {
   "cell_type": "markdown",
   "metadata": {},
   "source": [
    "Looks like the majority of players are either always classified as a pitcher or never. So for simplicity, I will classify any player whose % pitcher assignment is over 0.8 as a pitcher, and the rest no. "
   ]
  },
  {
   "cell_type": "code",
   "execution_count": 29,
   "metadata": {
    "collapsed": true
   },
   "outputs": [],
   "source": [
    "pitcher_by_player = pd.DataFrame(pitcher_by_player.map(lambda x: 1 if x >= 0.8 else 0)) "
   ]
  },
  {
   "cell_type": "code",
   "execution_count": 30,
   "metadata": {
    "collapsed": false
   },
   "outputs": [
    {
     "data": {
      "text/plain": [
       "0    10412\n",
       "1     8053\n",
       "Name: Pitcher, dtype: int64"
      ]
     },
     "execution_count": 30,
     "metadata": {},
     "output_type": "execute_result"
    }
   ],
   "source": [
    "pitcher_by_player.Pitcher.value_counts()"
   ]
  },
  {
   "cell_type": "markdown",
   "metadata": {},
   "source": [
    "## Add new fields to new df_all, keep all features handy"
   ]
  },
  {
   "cell_type": "code",
   "execution_count": 31,
   "metadata": {
    "collapsed": true
   },
   "outputs": [],
   "source": [
    "df_all = df_full.merge(pitching_df_by_player,how='left',\n",
    "                        left_on='playerID',right_index=True)"
   ]
  },
  {
   "cell_type": "code",
   "execution_count": 32,
   "metadata": {
    "collapsed": true
   },
   "outputs": [],
   "source": [
    "df_all = df_all.merge(batting_df_by_player,how='left',\n",
    "                        left_on='playerID',right_index=True)"
   ]
  },
  {
   "cell_type": "code",
   "execution_count": 33,
   "metadata": {
    "collapsed": true
   },
   "outputs": [],
   "source": [
    "df_all = df_all.merge(pitcher_by_player,how='left',\n",
    "                        left_on='playerID',right_index=True)"
   ]
  },
  {
   "cell_type": "markdown",
   "metadata": {},
   "source": [
    "## Deal with null values"
   ]
  },
  {
   "cell_type": "code",
   "execution_count": 34,
   "metadata": {
    "collapsed": false
   },
   "outputs": [
    {
     "data": {
      "text/plain": [
       "playerID                0\n",
       "HoF_Yr                  0\n",
       "votedBy                 0\n",
       "inducted                0\n",
       "category                0\n",
       "Vote_Pct              350\n",
       "Mean_Sal             3410\n",
       "Sum_Sal              3410\n",
       "Max_Sal              3410\n",
       "AllstarGm            1620\n",
       "Prev_Nom                0\n",
       "W                      70\n",
       "Win_pct                70\n",
       "Tot_Wins               70\n",
       "Manager                 0\n",
       "Pioneer/Executive       0\n",
       "Umpire                  0\n",
       "P_Awards                0\n",
       "BAOpp                2542\n",
       "StrikeOuts           2536\n",
       "ShutOuts             2536\n",
       "R_Allowed            2536\n",
       "ba_top10               71\n",
       "avg_ba                 88\n",
       "sum_R                  72\n",
       "sum_HR                 72\n",
       "Pitcher                70\n",
       "dtype: int64"
      ]
     },
     "execution_count": 34,
     "metadata": {},
     "output_type": "execute_result"
    }
   ],
   "source": [
    "pd.set_option('display.max_rows', 40)\n",
    "df_all.isnull().sum()"
   ]
  },
  {
   "cell_type": "markdown",
   "metadata": {},
   "source": [
    "#### Null Values in feature: All Star Game Count"
   ]
  },
  {
   "cell_type": "markdown",
   "metadata": {},
   "source": [
    "Feature 'AllstarGm' has null values for 39% of data points. Looking at the data table, this information is only available for years since 1933, and since individuals must be retired for 5 years before they are eligible for nomination, likely it will be older rounds of voting that have null values for 'AllstarGm'. "
   ]
  },
  {
   "cell_type": "code",
   "execution_count": 35,
   "metadata": {
    "collapsed": false
   },
   "outputs": [
    {
     "data": {
      "text/plain": [
       "<matplotlib.axes._subplots.AxesSubplot at 0x1162d3550>"
      ]
     },
     "execution_count": 35,
     "metadata": {},
     "output_type": "execute_result"
    },
    {
     "data": {
      "image/png": "[encoded data removed]",
      "text/plain": [
       "<matplotlib.figure.Figure at 0x116c8e908>"
      ]
     },
     "metadata": {},
     "output_type": "display_data"
    }
   ],
   "source": [
    "df_all[df_all.AllstarGm.isnull()].HoF_Yr.plot(kind='hist')"
   ]
  },
  {
   "cell_type": "markdown",
   "metadata": {},
   "source": [
    "As I thought, older nominees are missing information about All Star game participation, and any later null values are likely due to the person not being in any all star games, perhaps because they were a manager or exec? "
   ]
  },
  {
   "cell_type": "code",
   "execution_count": 36,
   "metadata": {
    "collapsed": false
   },
   "outputs": [
    {
     "data": {
      "text/plain": [
       "Player               239\n",
       "Pioneer/Executive     21\n",
       "Manager               16\n",
       "Umpire                 8\n",
       "Name: category, dtype: int64"
      ]
     },
     "execution_count": 36,
     "metadata": {},
     "output_type": "execute_result"
    }
   ],
   "source": [
    "df_all[(df_all.AllstarGm.isnull())&(df_all.HoF_Yr > 1960)].category.value_counts()"
   ]
  },
  {
   "cell_type": "markdown",
   "metadata": {},
   "source": [
    "Mostly missing data is for players, even after 1960, so I will assume those players were not in any all star games and set missing vals to 0. "
   ]
  },
  {
   "cell_type": "code",
   "execution_count": 37,
   "metadata": {
    "collapsed": false
   },
   "outputs": [
    {
     "data": {
      "text/plain": [
       "0"
      ]
     },
     "execution_count": 37,
     "metadata": {},
     "output_type": "execute_result"
    }
   ],
   "source": [
    "df_all.AllstarGm = df_all.AllstarGm.map(lambda x: 0 if math.isnan(x) else x)\n",
    "df_all.AllstarGm.isnull().sum()"
   ]
  },
  {
   "cell_type": "markdown",
   "metadata": {},
   "source": [
    "#### Null Values in feature: Vote_Pct"
   ]
  },
  {
   "cell_type": "code",
   "execution_count": 38,
   "metadata": {
    "collapsed": false
   },
   "outputs": [],
   "source": [
    "df = pd.read_csv(os.path.join('..','data','baseballdatabank-master', 'core','HallOfFame.csv'))"
   ]
  },
  {
   "cell_type": "code",
   "execution_count": 39,
   "metadata": {
    "collapsed": false
   },
   "outputs": [
    {
     "name": "stdout",
     "output_type": "stream",
     "text": [
      "<class 'pandas.core.frame.DataFrame'>\n",
      "RangeIndex: 4120 entries, 0 to 4119\n",
      "Data columns (total 9 columns):\n",
      "playerID       4120 non-null object\n",
      "yearid         4120 non-null int64\n",
      "votedBy        4120 non-null object\n",
      "ballots        3927 non-null float64\n",
      "needed         3770 non-null float64\n",
      "votes          3927 non-null float64\n",
      "inducted       4120 non-null object\n",
      "category       4120 non-null object\n",
      "needed_note    157 non-null object\n",
      "dtypes: float64(3), int64(1), object(5)\n",
      "memory usage: 289.8+ KB\n"
     ]
    }
   ],
   "source": [
    "df.info()"
   ]
  },
  {
   "cell_type": "markdown",
   "metadata": {},
   "source": [
    "I realized, going back over the original data set from EDA, that the number of data points with no value for 'needed' (but that did have a value for 'votes') was 157, the exact number of data points with a non-null value for needed_note. I will explore if those seemed to follow the rule for needing votes of 75% of the number of ballots, or if there were other criteria, and what the notes are. "
   ]
  },
  {
   "cell_type": "code",
   "execution_count": 40,
   "metadata": {
    "collapsed": false
   },
   "outputs": [
    {
     "data": {
      "text/plain": [
       "1st       81\n",
       "Top 20    76\n",
       "Name: needed_note, dtype: int64"
      ]
     },
     "execution_count": 40,
     "metadata": {},
     "output_type": "execute_result"
    }
   ],
   "source": [
    "df.needed_note.value_counts()"
   ]
  },
  {
   "cell_type": "markdown",
   "metadata": {},
   "source": [
    "Looks like two alternative criteria for how a player could get voted in. "
   ]
  },
  {
   "cell_type": "code",
   "execution_count": 41,
   "metadata": {
    "collapsed": false
   },
   "outputs": [
    {
     "data": {
      "text/plain": [
       "<matplotlib.axes._subplots.AxesSubplot at 0x1163d38d0>"
      ]
     },
     "execution_count": 41,
     "metadata": {},
     "output_type": "execute_result"
    },
    {
     "data": {
      "image/png": "[encoded data removed]",
      "text/plain": [
       "<matplotlib.figure.Figure at 0x11635f978>"
      ]
     },
     "metadata": {},
     "output_type": "display_data"
    }
   ],
   "source": [
    "a = df[df.needed_note.notnull()]\n",
    "a.vot_pct_2   = a.votes / a.ballots\n",
    "a.vot_pct_2.plot(kind='hist',title = 'Frequency of Votes pct for players with needed_note field')"
   ]
  },
  {
   "cell_type": "code",
   "execution_count": 42,
   "metadata": {
    "collapsed": false
   },
   "outputs": [
    {
     "data": {
      "text/plain": [
       "N    154\n",
       "Y      3\n",
       "Name: inducted, dtype: int64"
      ]
     },
     "execution_count": 42,
     "metadata": {},
     "output_type": "execute_result"
    }
   ],
   "source": [
    "df[df.needed_note.notnull()].inducted.value_counts()"
   ]
  },
  {
   "cell_type": "code",
   "execution_count": 43,
   "metadata": {
    "collapsed": false
   },
   "outputs": [
    {
     "data": {
      "text/plain": [
       "896     0.850267\n",
       "1969    0.940299\n",
       "2114    0.869281\n",
       "dtype: float64"
      ]
     },
     "execution_count": 43,
     "metadata": {},
     "output_type": "execute_result"
    }
   ],
   "source": [
    "df[(df.needed_note.notnull()) & (df.inducted == 'Y')].votes / \\\n",
    "    df[(df.needed_note.notnull()) & (df.inducted == 'Y')].ballots"
   ]
  },
  {
   "cell_type": "markdown",
   "metadata": {},
   "source": [
    "As hoped, the players voted in still had the requisite 75% of ballots for votes, so I will fill in those null values for Vote_Pct with the number needed. "
   ]
  },
  {
   "cell_type": "code",
   "execution_count": 44,
   "metadata": {
    "collapsed": false
   },
   "outputs": [
    {
     "data": {
      "text/plain": [
       "0.91542288557213936"
      ]
     },
     "execution_count": 44,
     "metadata": {},
     "output_type": "execute_result"
    }
   ],
   "source": [
    "max(df[(df.needed_note.notnull()) & (df.inducted == 'N')].votes / \\\n",
    "    df[(df.needed_note.notnull()) & (df.inducted == 'N')].ballots)"
   ]
  },
  {
   "cell_type": "code",
   "execution_count": 45,
   "metadata": {
    "collapsed": false
   },
   "outputs": [
    {
     "data": {
      "text/plain": [
       "Player    154\n",
       "Name: category, dtype: int64"
      ]
     },
     "execution_count": 45,
     "metadata": {},
     "output_type": "execute_result"
    }
   ],
   "source": [
    "df[(df.needed_note.notnull()) & (df.inducted == 'N')].category.value_counts()"
   ]
  },
  {
   "cell_type": "code",
   "execution_count": 46,
   "metadata": {
    "collapsed": false
   },
   "outputs": [
    {
     "data": {
      "text/plain": [
       "Run Off            78\n",
       "Nominating Vote    76\n",
       "Name: votedBy, dtype: int64"
      ]
     },
     "execution_count": 46,
     "metadata": {},
     "output_type": "execute_result"
    }
   ],
   "source": [
    "df[(df.needed_note.notnull()) & (df.inducted == 'N')].votedBy.value_counts()\n",
    "# I'm going to drop these, all not inducted and special circumstances = noise"
   ]
  },
  {
   "cell_type": "markdown",
   "metadata": {},
   "source": [
    "I could drop just these, but remembering how the chance of induction varied wildly depending on the 'votedOn' field, I will drop all that aren't 'votedOn' by 'BBWAA'."
   ]
  },
  {
   "cell_type": "code",
   "execution_count": 47,
   "metadata": {
    "collapsed": false
   },
   "outputs": [
    {
     "data": {
      "text/html": [
       "<div>\n",
       "<table border=\"1\" class=\"dataframe\">\n",
       "  <thead>\n",
       "    <tr style=\"text-align: right;\">\n",
       "      <th>inducted</th>\n",
       "      <th>N</th>\n",
       "      <th>Y</th>\n",
       "      <th>success_rate</th>\n",
       "    </tr>\n",
       "    <tr>\n",
       "      <th>votedBy</th>\n",
       "      <th></th>\n",
       "      <th></th>\n",
       "      <th></th>\n",
       "    </tr>\n",
       "  </thead>\n",
       "  <tbody>\n",
       "    <tr>\n",
       "      <th>BBWAA</th>\n",
       "      <td>3573</td>\n",
       "      <td>116</td>\n",
       "      <td>0.031445</td>\n",
       "    </tr>\n",
       "    <tr>\n",
       "      <th>Centennial</th>\n",
       "      <td>0</td>\n",
       "      <td>6</td>\n",
       "      <td>1.000000</td>\n",
       "    </tr>\n",
       "    <tr>\n",
       "      <th>Final Ballot</th>\n",
       "      <td>21</td>\n",
       "      <td>0</td>\n",
       "      <td>0.000000</td>\n",
       "    </tr>\n",
       "    <tr>\n",
       "      <th>Negro League</th>\n",
       "      <td>0</td>\n",
       "      <td>26</td>\n",
       "      <td>1.000000</td>\n",
       "    </tr>\n",
       "    <tr>\n",
       "      <th>Nominating Vote</th>\n",
       "      <td>76</td>\n",
       "      <td>0</td>\n",
       "      <td>0.000000</td>\n",
       "    </tr>\n",
       "    <tr>\n",
       "      <th>Old Timers</th>\n",
       "      <td>0</td>\n",
       "      <td>30</td>\n",
       "      <td>1.000000</td>\n",
       "    </tr>\n",
       "    <tr>\n",
       "      <th>Run Off</th>\n",
       "      <td>78</td>\n",
       "      <td>3</td>\n",
       "      <td>0.037037</td>\n",
       "    </tr>\n",
       "    <tr>\n",
       "      <th>Special Election</th>\n",
       "      <td>0</td>\n",
       "      <td>2</td>\n",
       "      <td>1.000000</td>\n",
       "    </tr>\n",
       "    <tr>\n",
       "      <th>Veterans</th>\n",
       "      <td>60</td>\n",
       "      <td>129</td>\n",
       "      <td>0.682540</td>\n",
       "    </tr>\n",
       "  </tbody>\n",
       "</table>\n",
       "</div>"
      ],
      "text/plain": [
       "inducted             N    Y  success_rate\n",
       "votedBy                                  \n",
       "BBWAA             3573  116      0.031445\n",
       "Centennial           0    6      1.000000\n",
       "Final Ballot        21    0      0.000000\n",
       "Negro League         0   26      1.000000\n",
       "Nominating Vote     76    0      0.000000\n",
       "Old Timers           0   30      1.000000\n",
       "Run Off             78    3      0.037037\n",
       "Special Election     0    2      1.000000\n",
       "Veterans            60  129      0.682540"
      ]
     },
     "execution_count": 47,
     "metadata": {},
     "output_type": "execute_result"
    }
   ],
   "source": [
    "ct_vb = pd.crosstab(df.votedBy, df.inducted)\n",
    "ct_vb['success_rate'] = ct_vb.apply(lambda x: x[1] / (x[0] + x[1]) ,axis=1)\n",
    "ct_vb"
   ]
  },
  {
   "cell_type": "code",
   "execution_count": 48,
   "metadata": {
    "collapsed": false
   },
   "outputs": [],
   "source": [
    "# df_clean will be clean version, df_all has all features still in it\n",
    "df_clean = df_all.drop(df[df.votedBy != 'BBWAA'].index)"
   ]
  },
  {
   "cell_type": "code",
   "execution_count": 49,
   "metadata": {
    "collapsed": false
   },
   "outputs": [
    {
     "data": {
      "text/plain": [
       "0"
      ]
     },
     "execution_count": 49,
     "metadata": {},
     "output_type": "execute_result"
    }
   ],
   "source": [
    "df_clean.Vote_Pct.isnull().sum()"
   ]
  },
  {
   "cell_type": "markdown",
   "metadata": {},
   "source": [
    "#### Null values in feature: Pitcher"
   ]
  },
  {
   "cell_type": "code",
   "execution_count": 50,
   "metadata": {
    "collapsed": false
   },
   "outputs": [
    {
     "data": {
      "text/plain": [
       "6"
      ]
     },
     "execution_count": 50,
     "metadata": {},
     "output_type": "execute_result"
    }
   ],
   "source": [
    "df_clean.Pitcher.isnull().sum()"
   ]
  },
  {
   "cell_type": "code",
   "execution_count": 51,
   "metadata": {
    "collapsed": false
   },
   "outputs": [
    {
     "data": {
      "text/plain": [
       "Manager    5\n",
       "Player     1\n",
       "Name: category, dtype: int64"
      ]
     },
     "execution_count": 51,
     "metadata": {},
     "output_type": "execute_result"
    }
   ],
   "source": [
    "df_clean[df_clean.Pitcher.isnull()].category.value_counts()"
   ]
  },
  {
   "cell_type": "code",
   "execution_count": 52,
   "metadata": {
    "collapsed": false
   },
   "outputs": [],
   "source": [
    "# set Pitcher to 0 if the inductee is anything but a player\n",
    "df_clean.Pitcher = df_clean.apply(lambda x: 0 if x['category'] != 'Player' else x['Pitcher'], axis=1)"
   ]
  },
  {
   "cell_type": "code",
   "execution_count": 53,
   "metadata": {
    "collapsed": false
   },
   "outputs": [
    {
     "data": {
      "text/plain": [
       "Player    1\n",
       "Name: category, dtype: int64"
      ]
     },
     "execution_count": 53,
     "metadata": {},
     "output_type": "execute_result"
    }
   ],
   "source": [
    "df_clean[df_clean.Pitcher.isnull()].category.value_counts()"
   ]
  },
  {
   "cell_type": "code",
   "execution_count": 54,
   "metadata": {
    "collapsed": false
   },
   "outputs": [
    {
     "data": {
      "text/plain": [
       "0"
      ]
     },
     "execution_count": 54,
     "metadata": {},
     "output_type": "execute_result"
    }
   ],
   "source": [
    "# check if remaining players with null for pitcher have pitching data\n",
    "df_clean[df_clean.Pitcher.isnull()].R_Allowed.notnull().sum()"
   ]
  },
  {
   "cell_type": "code",
   "execution_count": 55,
   "metadata": {
    "collapsed": true
   },
   "outputs": [],
   "source": [
    "# none of remaining players have pitching data, so I'll say that none of them are pitchers\n",
    "df_clean.Pitcher = df_clean.Pitcher.map(lambda x: x if x == 1 else 0)"
   ]
  },
  {
   "cell_type": "code",
   "execution_count": 56,
   "metadata": {
    "collapsed": false
   },
   "outputs": [
    {
     "data": {
      "text/html": [
       "<div>\n",
       "<table border=\"1\" class=\"dataframe\">\n",
       "  <thead>\n",
       "    <tr style=\"text-align: right;\">\n",
       "      <th>inducted</th>\n",
       "      <th>0</th>\n",
       "      <th>1</th>\n",
       "      <th>success_rate</th>\n",
       "    </tr>\n",
       "    <tr>\n",
       "      <th>Pitcher</th>\n",
       "      <th></th>\n",
       "      <th></th>\n",
       "      <th></th>\n",
       "    </tr>\n",
       "  </thead>\n",
       "  <tbody>\n",
       "    <tr>\n",
       "      <th>0.0</th>\n",
       "      <td>2519</td>\n",
       "      <td>77</td>\n",
       "      <td>0.029661</td>\n",
       "    </tr>\n",
       "    <tr>\n",
       "      <th>1.0</th>\n",
       "      <td>1054</td>\n",
       "      <td>39</td>\n",
       "      <td>0.035682</td>\n",
       "    </tr>\n",
       "  </tbody>\n",
       "</table>\n",
       "</div>"
      ],
      "text/plain": [
       "inducted     0   1  success_rate\n",
       "Pitcher                         \n",
       "0.0       2519  77      0.029661\n",
       "1.0       1054  39      0.035682"
      ]
     },
     "execution_count": 56,
     "metadata": {},
     "output_type": "execute_result"
    }
   ],
   "source": [
    "ct_Pitcher = pd.crosstab(df_clean.Pitcher, df_clean.inducted)\n",
    "ct_Pitcher['success_rate'] = ct_Pitcher.apply(lambda x: x[1] / (x[0] + x[1]) ,axis=1)\n",
    "ct_Pitcher"
   ]
  },
  {
   "cell_type": "markdown",
   "metadata": {},
   "source": [
    "#### Null values in features: BAOpp, StrikeOuts, ShutOuts, R_Allowed ( all pitcher stats)"
   ]
  },
  {
   "cell_type": "code",
   "execution_count": 57,
   "metadata": {
    "collapsed": false
   },
   "outputs": [
    {
     "data": {
      "text/plain": [
       "0.0    2265\n",
       "Name: Pitcher, dtype: int64"
      ]
     },
     "execution_count": 57,
     "metadata": {},
     "output_type": "execute_result"
    }
   ],
   "source": [
    "df_clean[df_clean.R_Allowed.isnull()].Pitcher.value_counts()"
   ]
  },
  {
   "cell_type": "code",
   "execution_count": 58,
   "metadata": {
    "collapsed": true
   },
   "outputs": [],
   "source": [
    "# if not a pitcher and runs allowed field ('R_Allowed') is null, set to zero\n",
    "df_clean.R_Allowed = df_clean.apply(lambda x: 0 if (x['Pitcher'] == 0 and \\\n",
    "                                                  math.isnan(x['R_Allowed'])) else x['R_Allowed'] , axis=1)"
   ]
  },
  {
   "cell_type": "code",
   "execution_count": 59,
   "metadata": {
    "collapsed": false
   },
   "outputs": [
    {
     "name": "stdout",
     "output_type": "stream",
     "text": [
      "0\n"
     ]
    }
   ],
   "source": [
    "# did it work? \n",
    "print(df_clean.R_Allowed.isnull().sum())"
   ]
  },
  {
   "cell_type": "code",
   "execution_count": 60,
   "metadata": {
    "collapsed": true
   },
   "outputs": [],
   "source": [
    "# Same with other three variables listed above\n",
    "\n",
    "# if not a pitcher and StrikeOuts field is null, set to zero\n",
    "df_clean.StrikeOuts = df_clean.apply(lambda x: 0 if (x['Pitcher'] == 0 and \\\n",
    "                                                  math.isnan(x['StrikeOuts'])) else x['StrikeOuts'] , axis=1)\n",
    "# if not a pitcher and ShutOuts field is null, set to zero\n",
    "df_clean.ShutOuts = df_clean.apply(lambda x: 0 if (x['Pitcher'] == 0 and \\\n",
    "                                                  math.isnan(x['ShutOuts'])) else x['ShutOuts'] , axis=1)\n",
    "# if not a pitcher and batting avg of opponent field ('BAOpp') is null, set to zero\n",
    "df_clean.BAOpp = df_clean.apply(lambda x: 0 if (x['Pitcher'] == 0 and \\\n",
    "                                                  math.isnan(x['BAOpp'])) else x['BAOpp'] , axis=1)"
   ]
  },
  {
   "cell_type": "code",
   "execution_count": 61,
   "metadata": {
    "collapsed": false
   },
   "outputs": [
    {
     "name": "stdout",
     "output_type": "stream",
     "text": [
      "Number of null values remaining in \"R_Allowed\" field: 0\n",
      "Number of null values remaining in \"StrikeOuts\" field: 0\n",
      "Number of null values remaining in \"ShutOuts\" field: 0\n",
      "Number of null values remaining in \"BAOpp\" field: 0\n"
     ]
    }
   ],
   "source": [
    "# results\n",
    "print('Number of null values remaining in \"R_Allowed\" field: {}'.format(df_clean.R_Allowed.isnull().sum()))\n",
    "print('Number of null values remaining in \"StrikeOuts\" field: {}'.format(df_clean.StrikeOuts.isnull().sum()))\n",
    "print('Number of null values remaining in \"ShutOuts\" field: {}'.format(df_clean.ShutOuts.isnull().sum()))\n",
    "print('Number of null values remaining in \"BAOpp\" field: {}'.format(df_clean.BAOpp.isnull().sum()))"
   ]
  },
  {
   "cell_type": "markdown",
   "metadata": {},
   "source": [
    "#### Null values in features: avg_ba, sum_R, sum_HR"
   ]
  },
  {
   "cell_type": "markdown",
   "metadata": {},
   "source": [
    "What are the characteristics of individuals with null values for batting statistics?"
   ]
  },
  {
   "cell_type": "code",
   "execution_count": 62,
   "metadata": {
    "collapsed": false
   },
   "outputs": [
    {
     "data": {
      "text/plain": [
       "0.0    15\n",
       "1.0     8\n",
       "Name: Pitcher, dtype: int64"
      ]
     },
     "execution_count": 62,
     "metadata": {},
     "output_type": "execute_result"
    }
   ],
   "source": [
    "df_clean[df_clean.avg_ba.isnull()].Pitcher.value_counts()"
   ]
  },
  {
   "cell_type": "code",
   "execution_count": 63,
   "metadata": {
    "collapsed": false
   },
   "outputs": [
    {
     "data": {
      "text/plain": [
       "Player     18\n",
       "Manager     5\n",
       "Name: category, dtype: int64"
      ]
     },
     "execution_count": 63,
     "metadata": {},
     "output_type": "execute_result"
    }
   ],
   "source": [
    "df_clean[df_clean.avg_ba.isnull()].category.value_counts()"
   ]
  },
  {
   "cell_type": "code",
   "execution_count": 64,
   "metadata": {
    "collapsed": false
   },
   "outputs": [
    {
     "data": {
      "text/plain": [
       "0.272256    9\n",
       "0.273598    8\n",
       "0.262965    7\n",
       "0.267780    7\n",
       "0.247004    6\n",
       "0.272636    5\n",
       "0.238999    3\n",
       "0.316841    1\n",
       "Name: avg_ba, dtype: int64"
      ]
     },
     "execution_count": 64,
     "metadata": {},
     "output_type": "execute_result"
    }
   ],
   "source": [
    "df_clean[df_clean.category == 'Manager'].avg_ba.value_counts()"
   ]
  },
  {
   "cell_type": "code",
   "execution_count": 65,
   "metadata": {
    "collapsed": false
   },
   "outputs": [
    {
     "data": {
      "text/plain": [
       "guidrro01    9\n",
       "mccarjo99    5\n",
       "boddimi01    1\n",
       "leonade01    1\n",
       "Name: playerID, dtype: int64"
      ]
     },
     "execution_count": 65,
     "metadata": {},
     "output_type": "execute_result"
    }
   ],
   "source": [
    "df_clean[df_clean.avg_ba.isnull()].playerID.value_counts()[:4]"
   ]
  },
  {
   "cell_type": "code",
   "execution_count": 66,
   "metadata": {
    "collapsed": false
   },
   "outputs": [
    {
     "data": {
      "text/plain": [
       "mccarjo99    5\n",
       "mcdowja01    1\n",
       "nomohid01    1\n",
       "Name: playerID, dtype: int64"
      ]
     },
     "execution_count": 66,
     "metadata": {},
     "output_type": "execute_result"
    }
   ],
   "source": [
    "df_clean[df_clean.sum_R.isnull()].playerID.value_counts()[:4]"
   ]
  },
  {
   "cell_type": "markdown",
   "metadata": {},
   "source": [
    "Not very many missing, not sure what to do for now. "
   ]
  },
  {
   "cell_type": "markdown",
   "metadata": {},
   "source": [
    "#### Null values in features: Salary info"
   ]
  },
  {
   "cell_type": "code",
   "execution_count": 67,
   "metadata": {
    "collapsed": false
   },
   "outputs": [
    {
     "data": {
      "text/plain": [
       "2979"
      ]
     },
     "execution_count": 67,
     "metadata": {},
     "output_type": "execute_result"
    }
   ],
   "source": [
    "df_clean.Mean_Sal.isnull().sum()"
   ]
  },
  {
   "cell_type": "markdown",
   "metadata": {},
   "source": [
    "Going to drop salary info, as it was missing in  majority of data points. "
   ]
  },
  {
   "cell_type": "code",
   "execution_count": 68,
   "metadata": {
    "collapsed": false
   },
   "outputs": [
    {
     "data": {
      "text/plain": [
       "playerID              0\n",
       "HoF_Yr                0\n",
       "votedBy               0\n",
       "inducted              0\n",
       "category              0\n",
       "Vote_Pct              0\n",
       "AllstarGm             0\n",
       "Prev_Nom              0\n",
       "W                     6\n",
       "Win_pct               6\n",
       "Tot_Wins              6\n",
       "Manager               0\n",
       "Pioneer/Executive     0\n",
       "Umpire                0\n",
       "P_Awards              0\n",
       "BAOpp                 0\n",
       "StrikeOuts            0\n",
       "ShutOuts              0\n",
       "R_Allowed             0\n",
       "ba_top10              6\n",
       "avg_ba               23\n",
       "sum_R                 7\n",
       "sum_HR                7\n",
       "Pitcher               0\n",
       "dtype: int64"
      ]
     },
     "execution_count": 68,
     "metadata": {},
     "output_type": "execute_result"
    }
   ],
   "source": [
    "df_clean = df_clean.drop(['Mean_Sal','Sum_Sal','Max_Sal'],axis=1)\n",
    "df_clean.isnull().sum()"
   ]
  },
  {
   "cell_type": "code",
   "execution_count": 69,
   "metadata": {
    "collapsed": false
   },
   "outputs": [
    {
     "data": {
      "text/plain": [
       "0    23\n",
       "Name: inducted, dtype: int64"
      ]
     },
     "execution_count": 69,
     "metadata": {},
     "output_type": "execute_result"
    }
   ],
   "source": [
    "df_clean[df_clean.isnull().sum(axis=1) > 0].inducted.value_counts()"
   ]
  },
  {
   "cell_type": "markdown",
   "metadata": {},
   "source": [
    "While I would normally think harder about dropping data points, since all are 0 for inducted, and I am going to need to downsample inducted == 0  anyways, I will drop all remaining data points with null values in order to be able to continue with clean data. "
   ]
  },
  {
   "cell_type": "code",
   "execution_count": 70,
   "metadata": {
    "collapsed": false
   },
   "outputs": [],
   "source": [
    "df_clean = df_clean.dropna()\n"
   ]
  },
  {
   "cell_type": "code",
   "execution_count": 71,
   "metadata": {
    "collapsed": false
   },
   "outputs": [
    {
     "data": {
      "text/plain": [
       "Player               3613\n",
       "Manager                46\n",
       "Pioneer/Executive       7\n",
       "Name: category, dtype: int64"
      ]
     },
     "execution_count": 71,
     "metadata": {},
     "output_type": "execute_result"
    }
   ],
   "source": [
    "df_clean.category.value_counts()"
   ]
  },
  {
   "cell_type": "markdown",
   "metadata": {},
   "source": [
    "Finally, for linear regression, I will drop all data points that aren't Players. "
   ]
  },
  {
   "cell_type": "code",
   "execution_count": 72,
   "metadata": {
    "collapsed": false
   },
   "outputs": [],
   "source": [
    "df_clean = df_clean[df_clean.category == 'Player']"
   ]
  },
  {
   "cell_type": "code",
   "execution_count": 73,
   "metadata": {
    "collapsed": false
   },
   "outputs": [
    {
     "data": {
      "text/plain": [
       "Index(['playerID', 'HoF_Yr', 'votedBy', 'inducted', 'category', 'Vote_Pct',\n",
       "       'AllstarGm', 'Prev_Nom', 'W', 'Win_pct', 'Tot_Wins', 'Manager',\n",
       "       'Pioneer/Executive', 'Umpire', 'P_Awards', 'BAOpp', 'StrikeOuts',\n",
       "       'ShutOuts', 'R_Allowed', 'ba_top10', 'avg_ba', 'sum_R', 'sum_HR',\n",
       "       'Pitcher'],\n",
       "      dtype='object')"
      ]
     },
     "execution_count": 73,
     "metadata": {},
     "output_type": "execute_result"
    }
   ],
   "source": [
    "df_clean.columns"
   ]
  },
  {
   "cell_type": "code",
   "execution_count": 74,
   "metadata": {
    "collapsed": false
   },
   "outputs": [
    {
     "name": "stdout",
     "output_type": "stream",
     "text": [
      "(3613, 20)\n",
      "0\n"
     ]
    }
   ],
   "source": [
    "df_clean = df_clean[['playerID', 'HoF_Yr', 'votedBy', 'inducted', 'Vote_Pct',\n",
    "       'AllstarGm', 'Prev_Nom', 'W', 'Win_pct', 'Tot_Wins', 'P_Awards', 'BAOpp', 'StrikeOuts',\n",
    "       'ShutOuts', 'R_Allowed', 'ba_top10', 'avg_ba', 'sum_R', 'sum_HR',\n",
    "       'Pitcher']]\n",
    "print(df_clean.shape)\n",
    "print(df_clean.isnull().sum().sum())"
   ]
  },
  {
   "cell_type": "markdown",
   "metadata": {},
   "source": [
    "# Data Summary\n",
    "How many total data points do we have, and how many of each outcome (inducted vs not) do we have?"
   ]
  },
  {
   "cell_type": "code",
   "execution_count": 75,
   "metadata": {
    "collapsed": false
   },
   "outputs": [
    {
     "data": {
      "text/plain": [
       "3613"
      ]
     },
     "execution_count": 75,
     "metadata": {},
     "output_type": "execute_result"
    }
   ],
   "source": [
    "len(df_clean)"
   ]
  },
  {
   "cell_type": "code",
   "execution_count": 76,
   "metadata": {
    "collapsed": false
   },
   "outputs": [
    {
     "data": {
      "text/html": [
       "<div>\n",
       "<table border=\"1\" class=\"dataframe\">\n",
       "  <thead>\n",
       "    <tr style=\"text-align: right;\">\n",
       "      <th></th>\n",
       "      <th>0</th>\n",
       "      <th>1</th>\n",
       "      <th>success_rate</th>\n",
       "    </tr>\n",
       "  </thead>\n",
       "  <tbody>\n",
       "    <tr>\n",
       "      <th>inducted</th>\n",
       "      <td>3497</td>\n",
       "      <td>116</td>\n",
       "      <td>0.032106</td>\n",
       "    </tr>\n",
       "  </tbody>\n",
       "</table>\n",
       "</div>"
      ],
      "text/plain": [
       "             0    1  success_rate\n",
       "inducted  3497  116      0.032106"
      ]
     },
     "execution_count": 76,
     "metadata": {},
     "output_type": "execute_result"
    }
   ],
   "source": [
    "df_inducted = pd.DataFrame(df_clean.inducted.value_counts()).transpose()\n",
    "df_inducted['success_rate'] = df_inducted.apply(lambda x: x[1] / (x[0] + x[1]) ,axis=1)\n",
    "df_inducted"
   ]
  },
  {
   "cell_type": "code",
   "execution_count": 77,
   "metadata": {
    "collapsed": false
   },
   "outputs": [
    {
     "data": {
      "text/plain": [
       "Index(['playerID', 'HoF_Yr', 'votedBy', 'inducted', 'Vote_Pct', 'AllstarGm',\n",
       "       'Prev_Nom', 'W', 'Win_pct', 'Tot_Wins', 'P_Awards', 'BAOpp',\n",
       "       'StrikeOuts', 'ShutOuts', 'R_Allowed', 'ba_top10', 'avg_ba', 'sum_R',\n",
       "       'sum_HR', 'Pitcher'],\n",
       "      dtype='object')"
      ]
     },
     "execution_count": 77,
     "metadata": {},
     "output_type": "execute_result"
    }
   ],
   "source": [
    "df_clean.columns"
   ]
  },
  {
   "cell_type": "code",
   "execution_count": 78,
   "metadata": {
    "collapsed": false
   },
   "outputs": [
    {
     "data": {
      "text/plain": [
       "inducted\n",
       "0    Axes(0.125,0.125;0.775x0.775)\n",
       "1    Axes(0.125,0.125;0.775x0.775)\n",
       "Name: HoF_Yr, dtype: object"
      ]
     },
     "execution_count": 78,
     "metadata": {},
     "output_type": "execute_result"
    },
    {
     "data": {
      "image/png": "[encoded data removed]",
      "text/plain": [
       "<matplotlib.figure.Figure at 0x1163edfd0>"
      ]
     },
     "metadata": {},
     "output_type": "display_data"
    }
   ],
   "source": [
    "df_clean.groupby('inducted').HoF_Yr.plot(kind='hist',figsize = (6, 6),bins=20,\n",
    "                                   sharex=True, sharey=True,legend=True,\n",
    "                                title='Histogram of Voting Year\\n by Induction Decision')"
   ]
  },
  {
   "cell_type": "code",
   "execution_count": 79,
   "metadata": {
    "collapsed": false
   },
   "outputs": [
    {
     "data": {
      "text/plain": [
       "<seaborn.axisgrid.FacetGrid at 0x116359780>"
      ]
     },
     "execution_count": 79,
     "metadata": {},
     "output_type": "execute_result"
    },
    {
     "data": {
      "image/png": "[encoded data removed]",
      "text/plain": [
       "<matplotlib.figure.Figure at 0x1162e5828>"
      ]
     },
     "metadata": {},
     "output_type": "display_data"
    }
   ],
   "source": [
    "sns.factorplot(col = 'category',\n",
    "              x = 'inducted',\n",
    "              y = 'Vote_Pct',\n",
    "              data = df_all,\n",
    "              kind = 'box')"
   ]
  },
  {
   "cell_type": "markdown",
   "metadata": {},
   "source": [
    "# Test/Train Split"
   ]
  },
  {
   "cell_type": "markdown",
   "metadata": {},
   "source": [
    "I will use 80% of the data for training, and save 20% to test the accuracy of the resulting models. Out of the 80% for train data, I will split into a training and a validation set for each of my models to pick the hyper parameters. "
   ]
  },
  {
   "cell_type": "code",
   "execution_count": 80,
   "metadata": {
    "collapsed": false
   },
   "outputs": [],
   "source": [
    "train_df = df_clean.sample(frac = .8, random_state = 0).sort_index()\n",
    "test_df = df_clean.drop(train_df.index)"
   ]
  },
  {
   "cell_type": "markdown",
   "metadata": {},
   "source": [
    "Just to see what happened with the random split, I'll check out how many of each "
   ]
  },
  {
   "cell_type": "code",
   "execution_count": 81,
   "metadata": {
    "collapsed": false
   },
   "outputs": [
    {
     "data": {
      "text/html": [
       "<div>\n",
       "<table border=\"1\" class=\"dataframe\">\n",
       "  <thead>\n",
       "    <tr style=\"text-align: right;\">\n",
       "      <th></th>\n",
       "      <th>0</th>\n",
       "      <th>1</th>\n",
       "      <th>success_rate</th>\n",
       "    </tr>\n",
       "  </thead>\n",
       "  <tbody>\n",
       "    <tr>\n",
       "      <th>inducted</th>\n",
       "      <td>2797</td>\n",
       "      <td>93</td>\n",
       "      <td>0.03218</td>\n",
       "    </tr>\n",
       "  </tbody>\n",
       "</table>\n",
       "</div>"
      ],
      "text/plain": [
       "             0   1  success_rate\n",
       "inducted  2797  93       0.03218"
      ]
     },
     "execution_count": 81,
     "metadata": {},
     "output_type": "execute_result"
    }
   ],
   "source": [
    "df_train_inducted = pd.DataFrame(train_df.inducted.value_counts()).transpose()\n",
    "df_train_inducted['success_rate'] = df_train_inducted.apply(lambda x: x[1] / (x[0] + x[1]) ,axis=1)\n",
    "df_train_inducted"
   ]
  },
  {
   "cell_type": "code",
   "execution_count": 82,
   "metadata": {
    "collapsed": false
   },
   "outputs": [
    {
     "data": {
      "text/html": [
       "<div>\n",
       "<table border=\"1\" class=\"dataframe\">\n",
       "  <thead>\n",
       "    <tr style=\"text-align: right;\">\n",
       "      <th></th>\n",
       "      <th>0</th>\n",
       "      <th>1</th>\n",
       "      <th>success_rate</th>\n",
       "    </tr>\n",
       "  </thead>\n",
       "  <tbody>\n",
       "    <tr>\n",
       "      <th>inducted</th>\n",
       "      <td>700</td>\n",
       "      <td>23</td>\n",
       "      <td>0.031812</td>\n",
       "    </tr>\n",
       "  </tbody>\n",
       "</table>\n",
       "</div>"
      ],
      "text/plain": [
       "            0   1  success_rate\n",
       "inducted  700  23      0.031812"
      ]
     },
     "execution_count": 82,
     "metadata": {},
     "output_type": "execute_result"
    }
   ],
   "source": [
    "df_test_inducted = pd.DataFrame(test_df.inducted.value_counts()).transpose()\n",
    "df_test_inducted['success_rate'] = df_test_inducted.apply(lambda x: x[1] / (x[0] + x[1]) ,axis=1)\n",
    "df_test_inducted"
   ]
  },
  {
   "cell_type": "code",
   "execution_count": 83,
   "metadata": {
    "collapsed": false
   },
   "outputs": [
    {
     "data": {
      "text/html": [
       "<div>\n",
       "<table border=\"1\" class=\"dataframe\">\n",
       "  <thead>\n",
       "    <tr style=\"text-align: right;\">\n",
       "      <th></th>\n",
       "      <th>HoF_Yr</th>\n",
       "      <th>inducted</th>\n",
       "      <th>Vote_Pct</th>\n",
       "      <th>AllstarGm</th>\n",
       "      <th>Prev_Nom</th>\n",
       "      <th>W</th>\n",
       "      <th>Win_pct</th>\n",
       "      <th>...</th>\n",
       "      <th>ShutOuts</th>\n",
       "      <th>R_Allowed</th>\n",
       "      <th>ba_top10</th>\n",
       "      <th>avg_ba</th>\n",
       "      <th>sum_R</th>\n",
       "      <th>sum_HR</th>\n",
       "      <th>Pitcher</th>\n",
       "    </tr>\n",
       "  </thead>\n",
       "  <tbody>\n",
       "    <tr>\n",
       "      <th>HoF_Yr</th>\n",
       "      <td>1.000000</td>\n",
       "      <td>0.068966</td>\n",
       "      <td>0.187495</td>\n",
       "      <td>0.455396</td>\n",
       "      <td>0.038214</td>\n",
       "      <td>0.235069</td>\n",
       "      <td>-0.120453</td>\n",
       "      <td>...</td>\n",
       "      <td>-0.068761</td>\n",
       "      <td>-0.012002</td>\n",
       "      <td>-0.180874</td>\n",
       "      <td>-0.215536</td>\n",
       "      <td>0.030445</td>\n",
       "      <td>0.351362</td>\n",
       "      <td>0.074803</td>\n",
       "    </tr>\n",
       "    <tr>\n",
       "      <th>inducted</th>\n",
       "      <td>0.068966</td>\n",
       "      <td>1.000000</td>\n",
       "      <td>0.599123</td>\n",
       "      <td>0.231320</td>\n",
       "      <td>-0.014371</td>\n",
       "      <td>0.161452</td>\n",
       "      <td>0.029580</td>\n",
       "      <td>...</td>\n",
       "      <td>0.073788</td>\n",
       "      <td>0.040421</td>\n",
       "      <td>0.103309</td>\n",
       "      <td>0.013647</td>\n",
       "      <td>0.111705</td>\n",
       "      <td>0.141768</td>\n",
       "      <td>0.014265</td>\n",
       "    </tr>\n",
       "    <tr>\n",
       "      <th>Vote_Pct</th>\n",
       "      <td>0.187495</td>\n",
       "      <td>0.599123</td>\n",
       "      <td>1.000000</td>\n",
       "      <td>0.494594</td>\n",
       "      <td>0.311366</td>\n",
       "      <td>0.335370</td>\n",
       "      <td>0.088083</td>\n",
       "      <td>...</td>\n",
       "      <td>0.113230</td>\n",
       "      <td>0.056358</td>\n",
       "      <td>0.194150</td>\n",
       "      <td>0.017422</td>\n",
       "      <td>0.222031</td>\n",
       "      <td>0.267715</td>\n",
       "      <td>0.004108</td>\n",
       "    </tr>\n",
       "    <tr>\n",
       "      <th>AllstarGm</th>\n",
       "      <td>0.455396</td>\n",
       "      <td>0.231320</td>\n",
       "      <td>0.494594</td>\n",
       "      <td>1.000000</td>\n",
       "      <td>0.163685</td>\n",
       "      <td>0.265495</td>\n",
       "      <td>0.137136</td>\n",
       "      <td>...</td>\n",
       "      <td>-0.099369</td>\n",
       "      <td>-0.136721</td>\n",
       "      <td>0.112881</td>\n",
       "      <td>0.095693</td>\n",
       "      <td>0.303958</td>\n",
       "      <td>0.472479</td>\n",
       "      <td>-0.129826</td>\n",
       "    </tr>\n",
       "    <tr>\n",
       "      <th>Prev_Nom</th>\n",
       "      <td>0.038214</td>\n",
       "      <td>-0.014371</td>\n",
       "      <td>0.311366</td>\n",
       "      <td>0.163685</td>\n",
       "      <td>1.000000</td>\n",
       "      <td>0.125102</td>\n",
       "      <td>0.086444</td>\n",
       "      <td>...</td>\n",
       "      <td>0.042810</td>\n",
       "      <td>0.028804</td>\n",
       "      <td>0.122692</td>\n",
       "      <td>0.086177</td>\n",
       "      <td>0.087530</td>\n",
       "      <td>0.041084</td>\n",
       "      <td>-0.028206</td>\n",
       "    </tr>\n",
       "    <tr>\n",
       "      <th>W</th>\n",
       "      <td>0.235069</td>\n",
       "      <td>0.161452</td>\n",
       "      <td>0.335370</td>\n",
       "      <td>0.265495</td>\n",
       "      <td>0.125102</td>\n",
       "      <td>1.000000</td>\n",
       "      <td>0.087241</td>\n",
       "      <td>...</td>\n",
       "      <td>0.210665</td>\n",
       "      <td>0.276886</td>\n",
       "      <td>0.134078</td>\n",
       "      <td>-0.083496</td>\n",
       "      <td>0.160482</td>\n",
       "      <td>0.127904</td>\n",
       "      <td>0.116846</td>\n",
       "    </tr>\n",
       "    <tr>\n",
       "      <th>Win_pct</th>\n",
       "      <td>-0.120453</td>\n",
       "      <td>0.029580</td>\n",
       "      <td>0.088083</td>\n",
       "      <td>0.137136</td>\n",
       "      <td>0.086444</td>\n",
       "      <td>0.087241</td>\n",
       "      <td>1.000000</td>\n",
       "      <td>...</td>\n",
       "      <td>0.036859</td>\n",
       "      <td>-0.022802</td>\n",
       "      <td>0.013961</td>\n",
       "      <td>0.085914</td>\n",
       "      <td>0.041088</td>\n",
       "      <td>-0.025526</td>\n",
       "      <td>-0.028693</td>\n",
       "    </tr>\n",
       "    <tr>\n",
       "      <th>Tot_Wins</th>\n",
       "      <td>0.176128</td>\n",
       "      <td>0.082705</td>\n",
       "      <td>0.140911</td>\n",
       "      <td>0.166969</td>\n",
       "      <td>0.016757</td>\n",
       "      <td>0.321468</td>\n",
       "      <td>0.610637</td>\n",
       "      <td>...</td>\n",
       "      <td>0.082021</td>\n",
       "      <td>0.085571</td>\n",
       "      <td>-0.079079</td>\n",
       "      <td>-0.069813</td>\n",
       "      <td>-0.026629</td>\n",
       "      <td>0.051375</td>\n",
       "      <td>0.069724</td>\n",
       "    </tr>\n",
       "    <tr>\n",
       "      <th>P_Awards</th>\n",
       "      <td>0.129947</td>\n",
       "      <td>0.285740</td>\n",
       "      <td>0.480330</td>\n",
       "      <td>0.518201</td>\n",
       "      <td>0.165843</td>\n",
       "      <td>0.254793</td>\n",
       "      <td>0.139483</td>\n",
       "      <td>...</td>\n",
       "      <td>-0.064112</td>\n",
       "      <td>-0.109203</td>\n",
       "      <td>0.363274</td>\n",
       "      <td>0.240149</td>\n",
       "      <td>0.369450</td>\n",
       "      <td>0.417420</td>\n",
       "      <td>-0.149810</td>\n",
       "    </tr>\n",
       "    <tr>\n",
       "      <th>BAOpp</th>\n",
       "      <td>-0.110838</td>\n",
       "      <td>-0.013072</td>\n",
       "      <td>-0.051227</td>\n",
       "      <td>-0.204214</td>\n",
       "      <td>-0.032125</td>\n",
       "      <td>0.058404</td>\n",
       "      <td>0.016585</td>\n",
       "      <td>...</td>\n",
       "      <td>0.591214</td>\n",
       "      <td>0.607215</td>\n",
       "      <td>-0.321752</td>\n",
       "      <td>-0.498330</td>\n",
       "      <td>-0.548985</td>\n",
       "      <td>-0.415742</td>\n",
       "      <td>0.568154</td>\n",
       "    </tr>\n",
       "    <tr>\n",
       "      <th>StrikeOuts</th>\n",
       "      <td>0.124906</td>\n",
       "      <td>0.094834</td>\n",
       "      <td>0.168944</td>\n",
       "      <td>-0.035172</td>\n",
       "      <td>0.013530</td>\n",
       "      <td>0.280220</td>\n",
       "      <td>-0.010944</td>\n",
       "      <td>...</td>\n",
       "      <td>0.880458</td>\n",
       "      <td>0.903364</td>\n",
       "      <td>-0.406702</td>\n",
       "      <td>-0.723038</td>\n",
       "      <td>-0.697997</td>\n",
       "      <td>-0.465440</td>\n",
       "      <td>0.811559</td>\n",
       "    </tr>\n",
       "    <tr>\n",
       "      <th>ShutOuts</th>\n",
       "      <td>-0.068761</td>\n",
       "      <td>0.073788</td>\n",
       "      <td>0.113230</td>\n",
       "      <td>-0.099369</td>\n",
       "      <td>0.042810</td>\n",
       "      <td>0.210665</td>\n",
       "      <td>0.036859</td>\n",
       "      <td>...</td>\n",
       "      <td>1.000000</td>\n",
       "      <td>0.895817</td>\n",
       "      <td>-0.392343</td>\n",
       "      <td>-0.577416</td>\n",
       "      <td>-0.651664</td>\n",
       "      <td>-0.439680</td>\n",
       "      <td>0.727037</td>\n",
       "    </tr>\n",
       "    <tr>\n",
       "      <th>R_Allowed</th>\n",
       "      <td>-0.012002</td>\n",
       "      <td>0.040421</td>\n",
       "      <td>0.056358</td>\n",
       "      <td>-0.136721</td>\n",
       "      <td>0.028804</td>\n",
       "      <td>0.276886</td>\n",
       "      <td>-0.022802</td>\n",
       "      <td>...</td>\n",
       "      <td>0.895817</td>\n",
       "      <td>1.000000</td>\n",
       "      <td>-0.418420</td>\n",
       "      <td>-0.675523</td>\n",
       "      <td>-0.722119</td>\n",
       "      <td>-0.489967</td>\n",
       "      <td>0.837097</td>\n",
       "    </tr>\n",
       "    <tr>\n",
       "      <th>ba_top10</th>\n",
       "      <td>-0.180874</td>\n",
       "      <td>0.103309</td>\n",
       "      <td>0.194150</td>\n",
       "      <td>0.112881</td>\n",
       "      <td>0.122692</td>\n",
       "      <td>0.134078</td>\n",
       "      <td>0.013961</td>\n",
       "      <td>...</td>\n",
       "      <td>-0.392343</td>\n",
       "      <td>-0.418420</td>\n",
       "      <td>1.000000</td>\n",
       "      <td>0.653038</td>\n",
       "      <td>0.647888</td>\n",
       "      <td>0.321545</td>\n",
       "      <td>-0.448013</td>\n",
       "    </tr>\n",
       "    <tr>\n",
       "      <th>avg_ba</th>\n",
       "      <td>-0.215536</td>\n",
       "      <td>0.013647</td>\n",
       "      <td>0.017422</td>\n",
       "      <td>0.095693</td>\n",
       "      <td>0.086177</td>\n",
       "      <td>-0.083496</td>\n",
       "      <td>0.085914</td>\n",
       "      <td>...</td>\n",
       "      <td>-0.577416</td>\n",
       "      <td>-0.675523</td>\n",
       "      <td>0.653038</td>\n",
       "      <td>1.000000</td>\n",
       "      <td>0.767099</td>\n",
       "      <td>0.468882</td>\n",
       "      <td>-0.786357</td>\n",
       "    </tr>\n",
       "    <tr>\n",
       "      <th>sum_R</th>\n",
       "      <td>0.030445</td>\n",
       "      <td>0.111705</td>\n",
       "      <td>0.222031</td>\n",
       "      <td>0.303958</td>\n",
       "      <td>0.087530</td>\n",
       "      <td>0.160482</td>\n",
       "      <td>0.041088</td>\n",
       "      <td>...</td>\n",
       "      <td>-0.651664</td>\n",
       "      <td>-0.722119</td>\n",
       "      <td>0.647888</td>\n",
       "      <td>0.767099</td>\n",
       "      <td>1.000000</td>\n",
       "      <td>0.675262</td>\n",
       "      <td>-0.782866</td>\n",
       "    </tr>\n",
       "    <tr>\n",
       "      <th>sum_HR</th>\n",
       "      <td>0.351362</td>\n",
       "      <td>0.141768</td>\n",
       "      <td>0.267715</td>\n",
       "      <td>0.472479</td>\n",
       "      <td>0.041084</td>\n",
       "      <td>0.127904</td>\n",
       "      <td>-0.025526</td>\n",
       "      <td>...</td>\n",
       "      <td>-0.439680</td>\n",
       "      <td>-0.489967</td>\n",
       "      <td>0.321545</td>\n",
       "      <td>0.468882</td>\n",
       "      <td>0.675262</td>\n",
       "      <td>1.000000</td>\n",
       "      <td>-0.518082</td>\n",
       "    </tr>\n",
       "    <tr>\n",
       "      <th>Pitcher</th>\n",
       "      <td>0.074803</td>\n",
       "      <td>0.014265</td>\n",
       "      <td>0.004108</td>\n",
       "      <td>-0.129826</td>\n",
       "      <td>-0.028206</td>\n",
       "      <td>0.116846</td>\n",
       "      <td>-0.028693</td>\n",
       "      <td>...</td>\n",
       "      <td>0.727037</td>\n",
       "      <td>0.837097</td>\n",
       "      <td>-0.448013</td>\n",
       "      <td>-0.786357</td>\n",
       "      <td>-0.782866</td>\n",
       "      <td>-0.518082</td>\n",
       "      <td>1.000000</td>\n",
       "    </tr>\n",
       "  </tbody>\n",
       "</table>\n",
       "<p>18 rows × 18 columns</p>\n",
       "</div>"
      ],
      "text/plain": [
       "              HoF_Yr  inducted  Vote_Pct  AllstarGm  Prev_Nom         W  \\\n",
       "HoF_Yr      1.000000  0.068966  0.187495   0.455396  0.038214  0.235069   \n",
       "inducted    0.068966  1.000000  0.599123   0.231320 -0.014371  0.161452   \n",
       "Vote_Pct    0.187495  0.599123  1.000000   0.494594  0.311366  0.335370   \n",
       "AllstarGm   0.455396  0.231320  0.494594   1.000000  0.163685  0.265495   \n",
       "Prev_Nom    0.038214 -0.014371  0.311366   0.163685  1.000000  0.125102   \n",
       "W           0.235069  0.161452  0.335370   0.265495  0.125102  1.000000   \n",
       "Win_pct    -0.120453  0.029580  0.088083   0.137136  0.086444  0.087241   \n",
       "Tot_Wins    0.176128  0.082705  0.140911   0.166969  0.016757  0.321468   \n",
       "P_Awards    0.129947  0.285740  0.480330   0.518201  0.165843  0.254793   \n",
       "BAOpp      -0.110838 -0.013072 -0.051227  -0.204214 -0.032125  0.058404   \n",
       "StrikeOuts  0.124906  0.094834  0.168944  -0.035172  0.013530  0.280220   \n",
       "ShutOuts   -0.068761  0.073788  0.113230  -0.099369  0.042810  0.210665   \n",
       "R_Allowed  -0.012002  0.040421  0.056358  -0.136721  0.028804  0.276886   \n",
       "ba_top10   -0.180874  0.103309  0.194150   0.112881  0.122692  0.134078   \n",
       "avg_ba     -0.215536  0.013647  0.017422   0.095693  0.086177 -0.083496   \n",
       "sum_R       0.030445  0.111705  0.222031   0.303958  0.087530  0.160482   \n",
       "sum_HR      0.351362  0.141768  0.267715   0.472479  0.041084  0.127904   \n",
       "Pitcher     0.074803  0.014265  0.004108  -0.129826 -0.028206  0.116846   \n",
       "\n",
       "             Win_pct    ...     ShutOuts  R_Allowed  ba_top10    avg_ba  \\\n",
       "HoF_Yr     -0.120453    ...    -0.068761  -0.012002 -0.180874 -0.215536   \n",
       "inducted    0.029580    ...     0.073788   0.040421  0.103309  0.013647   \n",
       "Vote_Pct    0.088083    ...     0.113230   0.056358  0.194150  0.017422   \n",
       "AllstarGm   0.137136    ...    -0.099369  -0.136721  0.112881  0.095693   \n",
       "Prev_Nom    0.086444    ...     0.042810   0.028804  0.122692  0.086177   \n",
       "W           0.087241    ...     0.210665   0.276886  0.134078 -0.083496   \n",
       "Win_pct     1.000000    ...     0.036859  -0.022802  0.013961  0.085914   \n",
       "Tot_Wins    0.610637    ...     0.082021   0.085571 -0.079079 -0.069813   \n",
       "P_Awards    0.139483    ...    -0.064112  -0.109203  0.363274  0.240149   \n",
       "BAOpp       0.016585    ...     0.591214   0.607215 -0.321752 -0.498330   \n",
       "StrikeOuts -0.010944    ...     0.880458   0.903364 -0.406702 -0.723038   \n",
       "ShutOuts    0.036859    ...     1.000000   0.895817 -0.392343 -0.577416   \n",
       "R_Allowed  -0.022802    ...     0.895817   1.000000 -0.418420 -0.675523   \n",
       "ba_top10    0.013961    ...    -0.392343  -0.418420  1.000000  0.653038   \n",
       "avg_ba      0.085914    ...    -0.577416  -0.675523  0.653038  1.000000   \n",
       "sum_R       0.041088    ...    -0.651664  -0.722119  0.647888  0.767099   \n",
       "sum_HR     -0.025526    ...    -0.439680  -0.489967  0.321545  0.468882   \n",
       "Pitcher    -0.028693    ...     0.727037   0.837097 -0.448013 -0.786357   \n",
       "\n",
       "               sum_R    sum_HR   Pitcher  \n",
       "HoF_Yr      0.030445  0.351362  0.074803  \n",
       "inducted    0.111705  0.141768  0.014265  \n",
       "Vote_Pct    0.222031  0.267715  0.004108  \n",
       "AllstarGm   0.303958  0.472479 -0.129826  \n",
       "Prev_Nom    0.087530  0.041084 -0.028206  \n",
       "W           0.160482  0.127904  0.116846  \n",
       "Win_pct     0.041088 -0.025526 -0.028693  \n",
       "Tot_Wins   -0.026629  0.051375  0.069724  \n",
       "P_Awards    0.369450  0.417420 -0.149810  \n",
       "BAOpp      -0.548985 -0.415742  0.568154  \n",
       "StrikeOuts -0.697997 -0.465440  0.811559  \n",
       "ShutOuts   -0.651664 -0.439680  0.727037  \n",
       "R_Allowed  -0.722119 -0.489967  0.837097  \n",
       "ba_top10    0.647888  0.321545 -0.448013  \n",
       "avg_ba      0.767099  0.468882 -0.786357  \n",
       "sum_R       1.000000  0.675262 -0.782866  \n",
       "sum_HR      0.675262  1.000000 -0.518082  \n",
       "Pitcher    -0.782866 -0.518082  1.000000  \n",
       "\n",
       "[18 rows x 18 columns]"
      ]
     },
     "execution_count": 83,
     "metadata": {},
     "output_type": "execute_result"
    }
   ],
   "source": [
    "df_clean.corr()"
   ]
  },
  {
   "cell_type": "markdown",
   "metadata": {},
   "source": [
    "# First Model: Linear Regression"
   ]
  },
  {
   "cell_type": "markdown",
   "metadata": {},
   "source": [
    "## Baseline Model"
   ]
  },
  {
   "cell_type": "markdown",
   "metadata": {},
   "source": [
    "As a way to see what the starting point is for my model's ability to predict the induction outcome, I will make a preliminary model with the simplest features so that I can compare the success rate with future iterations. "
   ]
  },
  {
   "cell_type": "code",
   "execution_count": 84,
   "metadata": {
    "collapsed": true
   },
   "outputs": [],
   "source": [
    "X = train_df\n",
    "\n",
    "y = train_df.Vote_Pct\n",
    "\n",
    "train_X, val_X, train_y, val_y = cross_validation.train_test_split(X, y, train_size = .6, random_state = 0)"
   ]
  },
  {
   "cell_type": "code",
   "execution_count": 85,
   "metadata": {
    "collapsed": false
   },
   "outputs": [
    {
     "data": {
      "text/html": [
       "<table class=\"simpletable\">\n",
       "<caption>OLS Regression Results</caption>\n",
       "<tr>\n",
       "  <th>Dep. Variable:</th>        <td>Vote_Pct</td>     <th>  R-squared:         </th> <td>   0.484</td> \n",
       "</tr>\n",
       "<tr>\n",
       "  <th>Model:</th>                   <td>OLS</td>       <th>  Adj. R-squared:    </th> <td>   0.480</td> \n",
       "</tr>\n",
       "<tr>\n",
       "  <th>Method:</th>             <td>Least Squares</td>  <th>  F-statistic:       </th> <td>   100.8</td> \n",
       "</tr>\n",
       "<tr>\n",
       "  <th>Date:</th>             <td>Tue, 21 Feb 2017</td> <th>  Prob (F-statistic):</th> <td>4.26e-233</td>\n",
       "</tr>\n",
       "<tr>\n",
       "  <th>Time:</th>                 <td>14:25:58</td>     <th>  Log-Likelihood:    </th> <td>  245.44</td> \n",
       "</tr>\n",
       "<tr>\n",
       "  <th>No. Observations:</th>      <td>  1734</td>      <th>  AIC:               </th> <td>  -456.9</td> \n",
       "</tr>\n",
       "<tr>\n",
       "  <th>Df Residuals:</th>          <td>  1717</td>      <th>  BIC:               </th> <td>  -364.1</td> \n",
       "</tr>\n",
       "<tr>\n",
       "  <th>Df Model:</th>              <td>    16</td>      <th>                     </th>     <td> </td>    \n",
       "</tr>\n",
       "<tr>\n",
       "  <th>Covariance Type:</th>      <td>nonrobust</td>    <th>                     </th>     <td> </td>    \n",
       "</tr>\n",
       "</table>\n",
       "<table class=\"simpletable\">\n",
       "<tr>\n",
       "       <td></td>         <th>coef</th>     <th>std err</th>      <th>t</th>      <th>P>|t|</th> <th>[95.0% Conf. Int.]</th> \n",
       "</tr>\n",
       "<tr>\n",
       "  <th>Intercept</th>  <td>    3.2778</td> <td>    0.656</td> <td>    4.994</td> <td> 0.000</td> <td>    1.990     4.565</td>\n",
       "</tr>\n",
       "<tr>\n",
       "  <th>HoF_Yr</th>     <td>   -0.0016</td> <td>    0.000</td> <td>   -5.127</td> <td> 0.000</td> <td>   -0.002    -0.001</td>\n",
       "</tr>\n",
       "<tr>\n",
       "  <th>AllstarGm</th>  <td>    0.0201</td> <td>    0.002</td> <td>   10.840</td> <td> 0.000</td> <td>    0.016     0.024</td>\n",
       "</tr>\n",
       "<tr>\n",
       "  <th>Prev_Nom</th>   <td>    0.0153</td> <td>    0.001</td> <td>   11.902</td> <td> 0.000</td> <td>    0.013     0.018</td>\n",
       "</tr>\n",
       "<tr>\n",
       "  <th>Tot_Wins</th>   <td>    0.0042</td> <td>    0.002</td> <td>    2.382</td> <td> 0.017</td> <td>    0.001     0.008</td>\n",
       "</tr>\n",
       "<tr>\n",
       "  <th>Win_pct</th>    <td>   -0.2896</td> <td>    0.178</td> <td>   -1.626</td> <td> 0.104</td> <td>   -0.639     0.060</td>\n",
       "</tr>\n",
       "<tr>\n",
       "  <th>W</th>          <td> 3.859e-05</td> <td>  2.2e-05</td> <td>    1.757</td> <td> 0.079</td> <td>-4.49e-06  8.17e-05</td>\n",
       "</tr>\n",
       "<tr>\n",
       "  <th>P_Awards</th>   <td>    0.0087</td> <td>    0.001</td> <td>    7.908</td> <td> 0.000</td> <td>    0.007     0.011</td>\n",
       "</tr>\n",
       "<tr>\n",
       "  <th>BAOpp</th>      <td>    0.0083</td> <td>    0.035</td> <td>    0.236</td> <td> 0.813</td> <td>   -0.061     0.077</td>\n",
       "</tr>\n",
       "<tr>\n",
       "  <th>StrikeOuts</th> <td>    0.0002</td> <td> 1.87e-05</td> <td>   10.742</td> <td> 0.000</td> <td>    0.000     0.000</td>\n",
       "</tr>\n",
       "<tr>\n",
       "  <th>ShutOuts</th>   <td>    0.0015</td> <td>    0.001</td> <td>    1.666</td> <td> 0.096</td> <td>   -0.000     0.003</td>\n",
       "</tr>\n",
       "<tr>\n",
       "  <th>R_Allowed</th>  <td>   -0.0002</td> <td> 2.51e-05</td> <td>   -6.050</td> <td> 0.000</td> <td>   -0.000    -0.000</td>\n",
       "</tr>\n",
       "<tr>\n",
       "  <th>ba_top10</th>   <td>    0.0023</td> <td>    0.002</td> <td>    0.981</td> <td> 0.327</td> <td>   -0.002     0.007</td>\n",
       "</tr>\n",
       "<tr>\n",
       "  <th>avg_ba</th>     <td>   -0.6243</td> <td>    0.165</td> <td>   -3.783</td> <td> 0.000</td> <td>   -0.948    -0.301</td>\n",
       "</tr>\n",
       "<tr>\n",
       "  <th>sum_R</th>      <td>    0.0002</td> <td>  2.5e-05</td> <td>    6.504</td> <td> 0.000</td> <td>    0.000     0.000</td>\n",
       "</tr>\n",
       "<tr>\n",
       "  <th>sum_HR</th>     <td>    0.0003</td> <td> 6.24e-05</td> <td>    4.691</td> <td> 0.000</td> <td>    0.000     0.000</td>\n",
       "</tr>\n",
       "<tr>\n",
       "  <th>Pitcher</th>    <td>    0.0126</td> <td>    0.025</td> <td>    0.496</td> <td> 0.620</td> <td>   -0.037     0.063</td>\n",
       "</tr>\n",
       "</table>\n",
       "<table class=\"simpletable\">\n",
       "<tr>\n",
       "  <th>Omnibus:</th>       <td>330.168</td> <th>  Durbin-Watson:     </th> <td>   2.021</td> \n",
       "</tr>\n",
       "<tr>\n",
       "  <th>Prob(Omnibus):</th> <td> 0.000</td>  <th>  Jarque-Bera (JB):  </th> <td> 713.912</td> \n",
       "</tr>\n",
       "<tr>\n",
       "  <th>Skew:</th>          <td> 1.084</td>  <th>  Prob(JB):          </th> <td>9.46e-156</td>\n",
       "</tr>\n",
       "<tr>\n",
       "  <th>Kurtosis:</th>      <td> 5.276</td>  <th>  Cond. No.          </th> <td>3.37e+05</td> \n",
       "</tr>\n",
       "</table>"
      ],
      "text/plain": [
       "<class 'statsmodels.iolib.summary.Summary'>\n",
       "\"\"\"\n",
       "                            OLS Regression Results                            \n",
       "==============================================================================\n",
       "Dep. Variable:               Vote_Pct   R-squared:                       0.484\n",
       "Model:                            OLS   Adj. R-squared:                  0.480\n",
       "Method:                 Least Squares   F-statistic:                     100.8\n",
       "Date:                Tue, 21 Feb 2017   Prob (F-statistic):          4.26e-233\n",
       "Time:                        14:25:58   Log-Likelihood:                 245.44\n",
       "No. Observations:                1734   AIC:                            -456.9\n",
       "Df Residuals:                    1717   BIC:                            -364.1\n",
       "Df Model:                          16                                         \n",
       "Covariance Type:            nonrobust                                         \n",
       "==============================================================================\n",
       "                 coef    std err          t      P>|t|      [95.0% Conf. Int.]\n",
       "------------------------------------------------------------------------------\n",
       "Intercept      3.2778      0.656      4.994      0.000         1.990     4.565\n",
       "HoF_Yr        -0.0016      0.000     -5.127      0.000        -0.002    -0.001\n",
       "AllstarGm      0.0201      0.002     10.840      0.000         0.016     0.024\n",
       "Prev_Nom       0.0153      0.001     11.902      0.000         0.013     0.018\n",
       "Tot_Wins       0.0042      0.002      2.382      0.017         0.001     0.008\n",
       "Win_pct       -0.2896      0.178     -1.626      0.104        -0.639     0.060\n",
       "W           3.859e-05    2.2e-05      1.757      0.079     -4.49e-06  8.17e-05\n",
       "P_Awards       0.0087      0.001      7.908      0.000         0.007     0.011\n",
       "BAOpp          0.0083      0.035      0.236      0.813        -0.061     0.077\n",
       "StrikeOuts     0.0002   1.87e-05     10.742      0.000         0.000     0.000\n",
       "ShutOuts       0.0015      0.001      1.666      0.096        -0.000     0.003\n",
       "R_Allowed     -0.0002   2.51e-05     -6.050      0.000        -0.000    -0.000\n",
       "ba_top10       0.0023      0.002      0.981      0.327        -0.002     0.007\n",
       "avg_ba        -0.6243      0.165     -3.783      0.000        -0.948    -0.301\n",
       "sum_R          0.0002    2.5e-05      6.504      0.000         0.000     0.000\n",
       "sum_HR         0.0003   6.24e-05      4.691      0.000         0.000     0.000\n",
       "Pitcher        0.0126      0.025      0.496      0.620        -0.037     0.063\n",
       "==============================================================================\n",
       "Omnibus:                      330.168   Durbin-Watson:                   2.021\n",
       "Prob(Omnibus):                  0.000   Jarque-Bera (JB):              713.912\n",
       "Skew:                           1.084   Prob(JB):                    9.46e-156\n",
       "Kurtosis:                       5.276   Cond. No.                     3.37e+05\n",
       "==============================================================================\n",
       "\n",
       "Warnings:\n",
       "[1] Standard Errors assume that the covariance matrix of the errors is correctly specified.\n",
       "[2] The condition number is large, 3.37e+05. This might indicate that there are\n",
       "strong multicollinearity or other numerical problems.\n",
       "\"\"\""
      ]
     },
     "execution_count": 85,
     "metadata": {},
     "output_type": "execute_result"
    }
   ],
   "source": [
    "smf.ols(formula = 'Vote_Pct ~ HoF_Yr + AllstarGm + Prev_Nom + Tot_Wins + Win_pct + W + P_Awards + BAOpp +StrikeOuts+ ShutOuts + R_Allowed + ba_top10 + avg_ba + sum_R + sum_HR + Pitcher', \n",
    "        data = train_X).fit().summary()"
   ]
  },
  {
   "cell_type": "code",
   "execution_count": 86,
   "metadata": {
    "collapsed": false
   },
   "outputs": [
    {
     "data": {
      "text/html": [
       "<table class=\"simpletable\">\n",
       "<caption>OLS Regression Results</caption>\n",
       "<tr>\n",
       "  <th>Dep. Variable:</th>        <td>Vote_Pct</td>     <th>  R-squared:         </th> <td>   0.398</td> \n",
       "</tr>\n",
       "<tr>\n",
       "  <th>Model:</th>                   <td>OLS</td>       <th>  Adj. R-squared:    </th> <td>   0.396</td> \n",
       "</tr>\n",
       "<tr>\n",
       "  <th>Method:</th>             <td>Least Squares</td>  <th>  F-statistic:       </th> <td>   190.6</td> \n",
       "</tr>\n",
       "<tr>\n",
       "  <th>Date:</th>             <td>Tue, 21 Feb 2017</td> <th>  Prob (F-statistic):</th> <td>1.52e-186</td>\n",
       "</tr>\n",
       "<tr>\n",
       "  <th>Time:</th>                 <td>14:25:58</td>     <th>  Log-Likelihood:    </th> <td>  111.66</td> \n",
       "</tr>\n",
       "<tr>\n",
       "  <th>No. Observations:</th>      <td>  1734</td>      <th>  AIC:               </th> <td>  -209.3</td> \n",
       "</tr>\n",
       "<tr>\n",
       "  <th>Df Residuals:</th>          <td>  1727</td>      <th>  BIC:               </th> <td>  -171.1</td> \n",
       "</tr>\n",
       "<tr>\n",
       "  <th>Df Model:</th>              <td>     6</td>      <th>                     </th>     <td> </td>    \n",
       "</tr>\n",
       "<tr>\n",
       "  <th>Covariance Type:</th>      <td>nonrobust</td>    <th>                     </th>     <td> </td>    \n",
       "</tr>\n",
       "</table>\n",
       "<table class=\"simpletable\">\n",
       "<tr>\n",
       "      <td></td>         <th>coef</th>     <th>std err</th>      <th>t</th>      <th>P>|t|</th> <th>[95.0% Conf. Int.]</th> \n",
       "</tr>\n",
       "<tr>\n",
       "  <th>Intercept</th> <td>    1.5224</td> <td>    0.568</td> <td>    2.679</td> <td> 0.007</td> <td>    0.408     2.637</td>\n",
       "</tr>\n",
       "<tr>\n",
       "  <th>HoF_Yr</th>    <td>   -0.0007</td> <td>    0.000</td> <td>   -2.335</td> <td> 0.020</td> <td>   -0.001    -0.000</td>\n",
       "</tr>\n",
       "<tr>\n",
       "  <th>AllstarGm</th> <td>    0.0235</td> <td>    0.002</td> <td>   12.274</td> <td> 0.000</td> <td>    0.020     0.027</td>\n",
       "</tr>\n",
       "<tr>\n",
       "  <th>Prev_Nom</th>  <td>    0.0155</td> <td>    0.001</td> <td>   11.470</td> <td> 0.000</td> <td>    0.013     0.018</td>\n",
       "</tr>\n",
       "<tr>\n",
       "  <th>P_Awards</th>  <td>    0.0128</td> <td>    0.001</td> <td>   11.632</td> <td> 0.000</td> <td>    0.011     0.015</td>\n",
       "</tr>\n",
       "<tr>\n",
       "  <th>avg_ba</th>    <td>   -1.3184</td> <td>    0.140</td> <td>   -9.445</td> <td> 0.000</td> <td>   -1.592    -1.045</td>\n",
       "</tr>\n",
       "<tr>\n",
       "  <th>sum_R</th>     <td>    0.0001</td> <td> 1.79e-05</td> <td>    7.756</td> <td> 0.000</td> <td>    0.000     0.000</td>\n",
       "</tr>\n",
       "</table>\n",
       "<table class=\"simpletable\">\n",
       "<tr>\n",
       "  <th>Omnibus:</th>       <td>492.948</td> <th>  Durbin-Watson:     </th> <td>   2.046</td> \n",
       "</tr>\n",
       "<tr>\n",
       "  <th>Prob(Omnibus):</th> <td> 0.000</td>  <th>  Jarque-Bera (JB):  </th> <td>1354.710</td> \n",
       "</tr>\n",
       "<tr>\n",
       "  <th>Skew:</th>          <td> 1.480</td>  <th>  Prob(JB):          </th> <td>6.74e-295</td>\n",
       "</tr>\n",
       "<tr>\n",
       "  <th>Kurtosis:</th>      <td> 6.160</td>  <th>  Cond. No.          </th> <td>2.18e+05</td> \n",
       "</tr>\n",
       "</table>"
      ],
      "text/plain": [
       "<class 'statsmodels.iolib.summary.Summary'>\n",
       "\"\"\"\n",
       "                            OLS Regression Results                            \n",
       "==============================================================================\n",
       "Dep. Variable:               Vote_Pct   R-squared:                       0.398\n",
       "Model:                            OLS   Adj. R-squared:                  0.396\n",
       "Method:                 Least Squares   F-statistic:                     190.6\n",
       "Date:                Tue, 21 Feb 2017   Prob (F-statistic):          1.52e-186\n",
       "Time:                        14:25:58   Log-Likelihood:                 111.66\n",
       "No. Observations:                1734   AIC:                            -209.3\n",
       "Df Residuals:                    1727   BIC:                            -171.1\n",
       "Df Model:                           6                                         \n",
       "Covariance Type:            nonrobust                                         \n",
       "==============================================================================\n",
       "                 coef    std err          t      P>|t|      [95.0% Conf. Int.]\n",
       "------------------------------------------------------------------------------\n",
       "Intercept      1.5224      0.568      2.679      0.007         0.408     2.637\n",
       "HoF_Yr        -0.0007      0.000     -2.335      0.020        -0.001    -0.000\n",
       "AllstarGm      0.0235      0.002     12.274      0.000         0.020     0.027\n",
       "Prev_Nom       0.0155      0.001     11.470      0.000         0.013     0.018\n",
       "P_Awards       0.0128      0.001     11.632      0.000         0.011     0.015\n",
       "avg_ba        -1.3184      0.140     -9.445      0.000        -1.592    -1.045\n",
       "sum_R          0.0001   1.79e-05      7.756      0.000         0.000     0.000\n",
       "==============================================================================\n",
       "Omnibus:                      492.948   Durbin-Watson:                   2.046\n",
       "Prob(Omnibus):                  0.000   Jarque-Bera (JB):             1354.710\n",
       "Skew:                           1.480   Prob(JB):                    6.74e-295\n",
       "Kurtosis:                       6.160   Cond. No.                     2.18e+05\n",
       "==============================================================================\n",
       "\n",
       "Warnings:\n",
       "[1] Standard Errors assume that the covariance matrix of the errors is correctly specified.\n",
       "[2] The condition number is large, 2.18e+05. This might indicate that there are\n",
       "strong multicollinearity or other numerical problems.\n",
       "\"\"\""
      ]
     },
     "execution_count": 86,
     "metadata": {},
     "output_type": "execute_result"
    }
   ],
   "source": [
    "model = smf.ols(formula = 'Vote_Pct ~ HoF_Yr + AllstarGm + Prev_Nom + P_Awards + avg_ba + sum_R', \n",
    "        data = train_X).fit()\n",
    "model.summary()"
   ]
  },
  {
   "cell_type": "code",
   "execution_count": 87,
   "metadata": {
    "collapsed": true
   },
   "outputs": [],
   "source": [
    "# Many issues with this model,need to upsample"
   ]
  },
  {
   "cell_type": "markdown",
   "metadata": {},
   "source": [
    "# Upsampling"
   ]
  },
  {
   "cell_type": "code",
   "execution_count": 88,
   "metadata": {
    "collapsed": true
   },
   "outputs": [],
   "source": [
    "def return_sampled_df(df):\n",
    "    print(df.inducted.value_counts())\n",
    "    inducted_counts = df.inducted.value_counts()\n",
    "    \n",
    "    df_new = df.copy()\n",
    "    \n",
    "    for induction in [0, 1]:\n",
    "        n = inducted_counts[induction] - inducted_counts.min()\n",
    "        index = df[df.inducted == induction].sample(n = n).index\n",
    "        df_new.drop(index,inplace=True)\n",
    "    \n",
    "    print(df_new.inducted.value_counts())\n",
    "    return df_new"
   ]
  },
  {
   "cell_type": "code",
   "execution_count": 89,
   "metadata": {
    "collapsed": false
   },
   "outputs": [
    {
     "name": "stdout",
     "output_type": "stream",
     "text": [
      "0    2797\n",
      "1      93\n",
      "Name: inducted, dtype: int64\n",
      "1    93\n",
      "0    93\n",
      "Name: inducted, dtype: int64\n"
     ]
    }
   ],
   "source": [
    "sampled_df = return_sampled_df(train_df)"
   ]
  },
  {
   "cell_type": "code",
   "execution_count": 90,
   "metadata": {
    "collapsed": false
   },
   "outputs": [
    {
     "data": {
      "text/html": [
       "<table class=\"simpletable\">\n",
       "<caption>OLS Regression Results</caption>\n",
       "<tr>\n",
       "  <th>Dep. Variable:</th>        <td>Vote_Pct</td>     <th>  R-squared:         </th> <td>   0.539</td>\n",
       "</tr>\n",
       "<tr>\n",
       "  <th>Model:</th>                   <td>OLS</td>       <th>  Adj. R-squared:    </th> <td>   0.523</td>\n",
       "</tr>\n",
       "<tr>\n",
       "  <th>Method:</th>             <td>Least Squares</td>  <th>  F-statistic:       </th> <td>   34.87</td>\n",
       "</tr>\n",
       "<tr>\n",
       "  <th>Date:</th>             <td>Tue, 21 Feb 2017</td> <th>  Prob (F-statistic):</th> <td>9.89e-28</td>\n",
       "</tr>\n",
       "<tr>\n",
       "  <th>Time:</th>                 <td>14:25:58</td>     <th>  Log-Likelihood:    </th> <td> -66.839</td>\n",
       "</tr>\n",
       "<tr>\n",
       "  <th>No. Observations:</th>      <td>   186</td>      <th>  AIC:               </th> <td>   147.7</td>\n",
       "</tr>\n",
       "<tr>\n",
       "  <th>Df Residuals:</th>          <td>   179</td>      <th>  BIC:               </th> <td>   170.3</td>\n",
       "</tr>\n",
       "<tr>\n",
       "  <th>Df Model:</th>              <td>     6</td>      <th>                     </th>     <td> </td>   \n",
       "</tr>\n",
       "<tr>\n",
       "  <th>Covariance Type:</th>      <td>nonrobust</td>    <th>                     </th>     <td> </td>   \n",
       "</tr>\n",
       "</table>\n",
       "<table class=\"simpletable\">\n",
       "<tr>\n",
       "      <td></td>         <th>coef</th>     <th>std err</th>      <th>t</th>      <th>P>|t|</th> <th>[95.0% Conf. Int.]</th> \n",
       "</tr>\n",
       "<tr>\n",
       "  <th>Intercept</th> <td>    3.8439</td> <td>    2.706</td> <td>    1.421</td> <td> 0.157</td> <td>   -1.495     9.183</td>\n",
       "</tr>\n",
       "<tr>\n",
       "  <th>HoF_Yr</th>    <td>   -0.0016</td> <td>    0.001</td> <td>   -1.182</td> <td> 0.239</td> <td>   -0.004     0.001</td>\n",
       "</tr>\n",
       "<tr>\n",
       "  <th>AllstarGm</th> <td>    0.0308</td> <td>    0.007</td> <td>    4.345</td> <td> 0.000</td> <td>    0.017     0.045</td>\n",
       "</tr>\n",
       "<tr>\n",
       "  <th>Prev_Nom</th>  <td>    0.0101</td> <td>    0.006</td> <td>    1.602</td> <td> 0.111</td> <td>   -0.002     0.022</td>\n",
       "</tr>\n",
       "<tr>\n",
       "  <th>P_Awards</th>  <td>    0.0232</td> <td>    0.004</td> <td>    6.439</td> <td> 0.000</td> <td>    0.016     0.030</td>\n",
       "</tr>\n",
       "<tr>\n",
       "  <th>avg_ba</th>    <td>   -3.1966</td> <td>    0.729</td> <td>   -4.385</td> <td> 0.000</td> <td>   -4.635    -1.758</td>\n",
       "</tr>\n",
       "<tr>\n",
       "  <th>sum_R</th>     <td>    0.0003</td> <td> 8.26e-05</td> <td>    4.211</td> <td> 0.000</td> <td>    0.000     0.001</td>\n",
       "</tr>\n",
       "</table>\n",
       "<table class=\"simpletable\">\n",
       "<tr>\n",
       "  <th>Omnibus:</th>       <td> 4.713</td> <th>  Durbin-Watson:     </th> <td>   1.766</td>\n",
       "</tr>\n",
       "<tr>\n",
       "  <th>Prob(Omnibus):</th> <td> 0.095</td> <th>  Jarque-Bera (JB):  </th> <td>   3.714</td>\n",
       "</tr>\n",
       "<tr>\n",
       "  <th>Skew:</th>          <td> 0.232</td> <th>  Prob(JB):          </th> <td>   0.156</td>\n",
       "</tr>\n",
       "<tr>\n",
       "  <th>Kurtosis:</th>      <td> 2.487</td> <th>  Cond. No.          </th> <td>2.27e+05</td>\n",
       "</tr>\n",
       "</table>"
      ],
      "text/plain": [
       "<class 'statsmodels.iolib.summary.Summary'>\n",
       "\"\"\"\n",
       "                            OLS Regression Results                            \n",
       "==============================================================================\n",
       "Dep. Variable:               Vote_Pct   R-squared:                       0.539\n",
       "Model:                            OLS   Adj. R-squared:                  0.523\n",
       "Method:                 Least Squares   F-statistic:                     34.87\n",
       "Date:                Tue, 21 Feb 2017   Prob (F-statistic):           9.89e-28\n",
       "Time:                        14:25:58   Log-Likelihood:                -66.839\n",
       "No. Observations:                 186   AIC:                             147.7\n",
       "Df Residuals:                     179   BIC:                             170.3\n",
       "Df Model:                           6                                         \n",
       "Covariance Type:            nonrobust                                         \n",
       "==============================================================================\n",
       "                 coef    std err          t      P>|t|      [95.0% Conf. Int.]\n",
       "------------------------------------------------------------------------------\n",
       "Intercept      3.8439      2.706      1.421      0.157        -1.495     9.183\n",
       "HoF_Yr        -0.0016      0.001     -1.182      0.239        -0.004     0.001\n",
       "AllstarGm      0.0308      0.007      4.345      0.000         0.017     0.045\n",
       "Prev_Nom       0.0101      0.006      1.602      0.111        -0.002     0.022\n",
       "P_Awards       0.0232      0.004      6.439      0.000         0.016     0.030\n",
       "avg_ba        -3.1966      0.729     -4.385      0.000        -4.635    -1.758\n",
       "sum_R          0.0003   8.26e-05      4.211      0.000         0.000     0.001\n",
       "==============================================================================\n",
       "Omnibus:                        4.713   Durbin-Watson:                   1.766\n",
       "Prob(Omnibus):                  0.095   Jarque-Bera (JB):                3.714\n",
       "Skew:                           0.232   Prob(JB):                        0.156\n",
       "Kurtosis:                       2.487   Cond. No.                     2.27e+05\n",
       "==============================================================================\n",
       "\n",
       "Warnings:\n",
       "[1] Standard Errors assume that the covariance matrix of the errors is correctly specified.\n",
       "[2] The condition number is large, 2.27e+05. This might indicate that there are\n",
       "strong multicollinearity or other numerical problems.\n",
       "\"\"\""
      ]
     },
     "execution_count": 90,
     "metadata": {},
     "output_type": "execute_result"
    }
   ],
   "source": [
    "model_2 = smf.ols(formula = 'Vote_Pct ~ HoF_Yr + AllstarGm + Prev_Nom + P_Awards + avg_ba + sum_R', \n",
    "        data = sampled_df).fit()\n",
    "model_2.summary()"
   ]
  },
  {
   "cell_type": "code",
   "execution_count": 91,
   "metadata": {
    "collapsed": false
   },
   "outputs": [
    {
     "data": {
      "text/html": [
       "<table class=\"simpletable\">\n",
       "<caption>OLS Regression Results</caption>\n",
       "<tr>\n",
       "  <th>Dep. Variable:</th>        <td>Vote_Pct</td>     <th>  R-squared:         </th> <td>   0.797</td>\n",
       "</tr>\n",
       "<tr>\n",
       "  <th>Model:</th>                   <td>OLS</td>       <th>  Adj. R-squared:    </th> <td>   0.793</td>\n",
       "</tr>\n",
       "<tr>\n",
       "  <th>Method:</th>             <td>Least Squares</td>  <th>  F-statistic:       </th> <td>   238.9</td>\n",
       "</tr>\n",
       "<tr>\n",
       "  <th>Date:</th>             <td>Tue, 21 Feb 2017</td> <th>  Prob (F-statistic):</th> <td>4.97e-63</td>\n",
       "</tr>\n",
       "<tr>\n",
       "  <th>Time:</th>                 <td>14:25:58</td>     <th>  Log-Likelihood:    </th> <td> -81.319</td>\n",
       "</tr>\n",
       "<tr>\n",
       "  <th>No. Observations:</th>      <td>   186</td>      <th>  AIC:               </th> <td>   168.6</td>\n",
       "</tr>\n",
       "<tr>\n",
       "  <th>Df Residuals:</th>          <td>   183</td>      <th>  BIC:               </th> <td>   178.3</td>\n",
       "</tr>\n",
       "<tr>\n",
       "  <th>Df Model:</th>              <td>     3</td>      <th>                     </th>     <td> </td>   \n",
       "</tr>\n",
       "<tr>\n",
       "  <th>Covariance Type:</th>      <td>nonrobust</td>    <th>                     </th>     <td> </td>   \n",
       "</tr>\n",
       "</table>\n",
       "<table class=\"simpletable\">\n",
       "<tr>\n",
       "      <td></td>         <th>coef</th>     <th>std err</th>      <th>t</th>      <th>P>|t|</th> <th>[95.0% Conf. Int.]</th> \n",
       "</tr>\n",
       "<tr>\n",
       "  <th>AllstarGm</th> <td>    0.0450</td> <td>    0.006</td> <td>    7.591</td> <td> 0.000</td> <td>    0.033     0.057</td>\n",
       "</tr>\n",
       "<tr>\n",
       "  <th>Prev_Nom</th>  <td>    0.0191</td> <td>    0.005</td> <td>    3.583</td> <td> 0.000</td> <td>    0.009     0.030</td>\n",
       "</tr>\n",
       "<tr>\n",
       "  <th>P_Awards</th>  <td>    0.0268</td> <td>    0.004</td> <td>    7.651</td> <td> 0.000</td> <td>    0.020     0.034</td>\n",
       "</tr>\n",
       "</table>\n",
       "<table class=\"simpletable\">\n",
       "<tr>\n",
       "  <th>Omnibus:</th>       <td> 2.481</td> <th>  Durbin-Watson:     </th> <td>   1.667</td>\n",
       "</tr>\n",
       "<tr>\n",
       "  <th>Prob(Omnibus):</th> <td> 0.289</td> <th>  Jarque-Bera (JB):  </th> <td>   2.443</td>\n",
       "</tr>\n",
       "<tr>\n",
       "  <th>Skew:</th>          <td> 0.277</td> <th>  Prob(JB):          </th> <td>   0.295</td>\n",
       "</tr>\n",
       "<tr>\n",
       "  <th>Kurtosis:</th>      <td> 2.913</td> <th>  Cond. No.          </th> <td>    3.68</td>\n",
       "</tr>\n",
       "</table>"
      ],
      "text/plain": [
       "<class 'statsmodels.iolib.summary.Summary'>\n",
       "\"\"\"\n",
       "                            OLS Regression Results                            \n",
       "==============================================================================\n",
       "Dep. Variable:               Vote_Pct   R-squared:                       0.797\n",
       "Model:                            OLS   Adj. R-squared:                  0.793\n",
       "Method:                 Least Squares   F-statistic:                     238.9\n",
       "Date:                Tue, 21 Feb 2017   Prob (F-statistic):           4.97e-63\n",
       "Time:                        14:25:58   Log-Likelihood:                -81.319\n",
       "No. Observations:                 186   AIC:                             168.6\n",
       "Df Residuals:                     183   BIC:                             178.3\n",
       "Df Model:                           3                                         \n",
       "Covariance Type:            nonrobust                                         \n",
       "==============================================================================\n",
       "                 coef    std err          t      P>|t|      [95.0% Conf. Int.]\n",
       "------------------------------------------------------------------------------\n",
       "AllstarGm      0.0450      0.006      7.591      0.000         0.033     0.057\n",
       "Prev_Nom       0.0191      0.005      3.583      0.000         0.009     0.030\n",
       "P_Awards       0.0268      0.004      7.651      0.000         0.020     0.034\n",
       "==============================================================================\n",
       "Omnibus:                        2.481   Durbin-Watson:                   1.667\n",
       "Prob(Omnibus):                  0.289   Jarque-Bera (JB):                2.443\n",
       "Skew:                           0.277   Prob(JB):                        0.295\n",
       "Kurtosis:                       2.913   Cond. No.                         3.68\n",
       "==============================================================================\n",
       "\n",
       "Warnings:\n",
       "[1] Standard Errors assume that the covariance matrix of the errors is correctly specified.\n",
       "\"\"\""
      ]
     },
     "execution_count": 91,
     "metadata": {},
     "output_type": "execute_result"
    }
   ],
   "source": [
    "model_2 = smf.ols(formula = ' Vote_Pct ~ 0 + AllstarGm + Prev_Nom + P_Awards ', \n",
    "        data = sampled_df).fit()\n",
    "model_2.summary()"
   ]
  },
  {
   "cell_type": "code",
   "execution_count": 92,
   "metadata": {
    "collapsed": false
   },
   "outputs": [
    {
     "data": {
      "text/plain": [
       "<matplotlib.axes._subplots.AxesSubplot at 0x117c36828>"
      ]
     },
     "execution_count": 92,
     "metadata": {},
     "output_type": "execute_result"
    },
    {
     "data": {
      "image/png": "[encoded data removed]",
      "text/plain": [
       "<matplotlib.figure.Figure at 0x117c36160>"
      ]
     },
     "metadata": {},
     "output_type": "display_data"
    }
   ],
   "source": [
    "model_2.resid.plot(kind = 'hist', bins = 250, figsize = (5, 5),title='Dist of Residuals of Linear Model')"
   ]
  },
  {
   "cell_type": "code",
   "execution_count": 93,
   "metadata": {
    "collapsed": false
   },
   "outputs": [
    {
     "data": {
      "image/png": "[encoded data removed]",
      "text/plain": [
       "<matplotlib.figure.Figure at 0x1169c5e80>"
      ]
     },
     "metadata": {},
     "output_type": "display_data"
    }
   ],
   "source": [
    "sm.qqplot(model_2.resid, line = 's')\n",
    "\n",
    "pass"
   ]
  },
  {
   "cell_type": "code",
   "execution_count": 94,
   "metadata": {
    "collapsed": true
   },
   "outputs": [],
   "source": [
    "# that worked better but now I want to try lasso Regression"
   ]
  },
  {
   "cell_type": "markdown",
   "metadata": {},
   "source": [
    "# Lasso Regression "
   ]
  },
  {
   "cell_type": "code",
   "execution_count": 95,
   "metadata": {
    "collapsed": false
   },
   "outputs": [
    {
     "name": "stdout",
     "output_type": "stream",
     "text": [
      "0    2797\n",
      "1      93\n",
      "Name: inducted, dtype: int64\n",
      "1    93\n",
      "0    93\n",
      "Name: inducted, dtype: int64\n"
     ]
    }
   ],
   "source": [
    "sampled_df_2 = return_sampled_df(train_df)\n",
    "sampled_2_X = sampled_df_2[['HoF_Yr', 'AllstarGm',\n",
    "       'Prev_Nom', 'W', 'Win_pct', 'Tot_Wins', 'P_Awards', 'BAOpp',\n",
    "       'StrikeOuts', 'ShutOuts', 'R_Allowed', 'ba_top10', 'avg_ba', 'sum_R',\n",
    "       'sum_HR', 'Pitcher']]\n",
    "sampled_2_y = sampled_df_2.Vote_Pct"
   ]
  },
  {
   "cell_type": "code",
   "execution_count": 96,
   "metadata": {
    "collapsed": true
   },
   "outputs": [],
   "source": [
    "model_lasso_1 = linear_model.LassoCV(alphas = [1, 0.1, 0.001, 0.0005, 0.00001]).fit(sampled_2_X, sampled_2_y)"
   ]
  },
  {
   "cell_type": "code",
   "execution_count": 97,
   "metadata": {
    "collapsed": false
   },
   "outputs": [
    {
     "data": {
      "text/plain": [
       "array([ 0.33680134,  0.34366755,  0.35186173,  0.35162238,  0.36209893])"
      ]
     },
     "execution_count": 97,
     "metadata": {},
     "output_type": "execute_result"
    }
   ],
   "source": [
    "np.sqrt(-cross_validation.cross_val_score(model_lasso_1, sampled_2_X, sampled_2_y, scoring=\"mean_squared_error\", cv = 5))"
   ]
  },
  {
   "cell_type": "code",
   "execution_count": 98,
   "metadata": {
    "collapsed": false
   },
   "outputs": [
    {
     "data": {
      "text/plain": [
       "<matplotlib.axes._subplots.AxesSubplot at 0x118888208>"
      ]
     },
     "execution_count": 98,
     "metadata": {},
     "output_type": "execute_result"
    },
    {
     "data": {
      "image/png": "[encoded data removed]",
      "text/plain": [
       "<matplotlib.figure.Figure at 0x118597048>"
      ]
     },
     "metadata": {},
     "output_type": "display_data"
    }
   ],
   "source": [
    "coef = pd.Series(model_lasso_1.coef_, index = sampled_2_X.columns)\n",
    "important_coef = pd.concat([coef.sort_values().head(10), coef.sort_values().tail(10)])\n",
    "important_coef.plot(kind = \"barh\")"
   ]
  },
  {
   "cell_type": "markdown",
   "metadata": {},
   "source": [
    "  Similar to the model in Statsmodels, where I used P values to whittle down the features to include, previous nominations, individual awards ('P-Awards'), and allstar games seem to be important features. "
   ]
  },
  {
   "cell_type": "code",
   "execution_count": 99,
   "metadata": {
    "collapsed": false
   },
   "outputs": [
    {
     "name": "stdout",
     "output_type": "stream",
     "text": [
      "0    1125\n",
      "1      31\n",
      "Name: inducted, dtype: int64\n",
      "1    31\n",
      "0    31\n",
      "Name: inducted, dtype: int64\n",
      "Train RMSE: 0.320639595285\n",
      "Test RMSE: 0.403389820585\n"
     ]
    }
   ],
   "source": [
    "#predict\n",
    "val_X_2 = return_sampled_df(val_X)\n",
    "\n",
    "val_y_2 = val_X_2.Vote_Pct\n",
    "val_X_2 = val_X_2[['HoF_Yr', 'AllstarGm',\n",
    "       'Prev_Nom', 'W', 'Win_pct', 'Tot_Wins', 'P_Awards', 'BAOpp',\n",
    "       'StrikeOuts', 'ShutOuts', 'R_Allowed', 'ba_top10', 'avg_ba', 'sum_R',\n",
    "       'sum_HR', 'Pitcher']]\n",
    "\n",
    "pred_train = model_lasso_1.predict(sampled_2_X)\n",
    "pred_test = model_lasso_1.predict(val_X_2)\n",
    "\n",
    "print(\"Train RMSE:\", np.sqrt(metrics.mean_squared_error(sampled_2_y,pred_train)))\n",
    "print(\"Test RMSE:\", np.sqrt(metrics.mean_squared_error(val_y_2,pred_test)))"
   ]
  },
  {
   "cell_type": "code",
   "execution_count": 100,
   "metadata": {
    "collapsed": false
   },
   "outputs": [
    {
     "data": {
      "text/plain": [
       "<matplotlib.axes._subplots.AxesSubplot at 0x11a119a58>"
      ]
     },
     "execution_count": 100,
     "metadata": {},
     "output_type": "execute_result"
    },
    {
     "data": {
      "image/png": "[encoded data removed]",
      "text/plain": [
       "<matplotlib.figure.Figure at 0x11a0b8c88>"
      ]
     },
     "metadata": {},
     "output_type": "display_data"
    }
   ],
   "source": [
    "predictions = model_lasso_1.predict(sampled_2_X)\n",
    "predict = pd.DataFrame({\n",
    "        \"predictions\": predictions,\n",
    "        \"correct\": sampled_2_y,\n",
    "        \"residual\": sampled_2_y - predictions\n",
    "})\n",
    "predict.plot(x = \"predictions\", y = \"correct\",kind = \"scatter\",title='Actual vs Predicted Vote_Pct for HoF Inductees')"
   ]
  },
  {
   "cell_type": "markdown",
   "metadata": {},
   "source": [
    "# Binary Classification"
   ]
  },
  {
   "cell_type": "code",
   "execution_count": 101,
   "metadata": {
    "collapsed": true
   },
   "outputs": [],
   "source": [
    "X = train_df\n",
    "\n",
    "y = train_df.Vote_Pct\n",
    "\n",
    "train_X, val_X, train_y, val_y = cross_validation.train_test_split(X, y, train_size = .6, random_state = 0)"
   ]
  },
  {
   "cell_type": "code",
   "execution_count": 102,
   "metadata": {
    "collapsed": false
   },
   "outputs": [
    {
     "name": "stdout",
     "output_type": "stream",
     "text": [
      "0    1672\n",
      "1      62\n",
      "Name: inducted, dtype: int64\n",
      "1    62\n",
      "0    62\n",
      "Name: inducted, dtype: int64\n"
     ]
    }
   ],
   "source": [
    "# downsample, and first use all variables\n",
    "train_X_bc = return_sampled_df(train_X)\n",
    "train_y_bc = train_X_bc.inducted\n",
    "train_X_bc = train_X_bc[['HoF_Yr', 'AllstarGm',\n",
    "       'Prev_Nom', 'W', 'Win_pct', 'Tot_Wins', 'P_Awards', 'BAOpp',\n",
    "       'StrikeOuts', 'ShutOuts', 'R_Allowed', 'ba_top10', 'avg_ba', 'sum_R',\n",
    "       'sum_HR', 'Pitcher']]\n"
   ]
  },
  {
   "cell_type": "code",
   "execution_count": 103,
   "metadata": {
    "collapsed": true
   },
   "outputs": [],
   "source": [
    "X = train_X_bc\n",
    "c = train_y_bc\n",
    "\n",
    "model = linear_model.LogisticRegression().\\\n",
    "    fit(X, c)"
   ]
  },
  {
   "cell_type": "code",
   "execution_count": 104,
   "metadata": {
    "collapsed": false
   },
   "outputs": [
    {
     "data": {
      "text/plain": [
       "0.88709677419354838"
      ]
     },
     "execution_count": 104,
     "metadata": {},
     "output_type": "execute_result"
    }
   ],
   "source": [
    "model.score(X, c)"
   ]
  },
  {
   "cell_type": "code",
   "execution_count": 105,
   "metadata": {
    "collapsed": false
   },
   "outputs": [
    {
     "data": {
      "text/html": [
       "<div>\n",
       "<table border=\"1\" class=\"dataframe\">\n",
       "  <thead>\n",
       "    <tr style=\"text-align: right;\">\n",
       "      <th>True Inducted</th>\n",
       "      <th>0</th>\n",
       "      <th>1</th>\n",
       "    </tr>\n",
       "    <tr>\n",
       "      <th>Hypothesized Inducted</th>\n",
       "      <th></th>\n",
       "      <th></th>\n",
       "    </tr>\n",
       "  </thead>\n",
       "  <tbody>\n",
       "    <tr>\n",
       "      <th>0</th>\n",
       "      <td>54</td>\n",
       "      <td>6</td>\n",
       "    </tr>\n",
       "    <tr>\n",
       "      <th>1</th>\n",
       "      <td>8</td>\n",
       "      <td>56</td>\n",
       "    </tr>\n",
       "  </tbody>\n",
       "</table>\n",
       "</div>"
      ],
      "text/plain": [
       "True Inducted           0   1\n",
       "Hypothesized Inducted        \n",
       "0                      54   6\n",
       "1                       8  56"
      ]
     },
     "execution_count": 105,
     "metadata": {},
     "output_type": "execute_result"
    }
   ],
   "source": [
    "c_hat = model.predict(X)\n",
    "\n",
    "pd.crosstab(c_hat,\n",
    "    c,\n",
    "    rownames = ['Hypothesized Inducted'],\n",
    "    colnames = ['True Inducted'])"
   ]
  },
  {
   "cell_type": "code",
   "execution_count": 106,
   "metadata": {
    "collapsed": true
   },
   "outputs": [],
   "source": [
    "# test\n",
    "test_c_hat = model.predict(val_X[['HoF_Yr', 'AllstarGm',\n",
    "       'Prev_Nom', 'W', 'Win_pct', 'Tot_Wins', 'P_Awards', 'BAOpp',\n",
    "       'StrikeOuts', 'ShutOuts', 'R_Allowed', 'ba_top10', 'avg_ba', 'sum_R',\n",
    "       'sum_HR', 'Pitcher']])\n",
    "test_c = val_X.inducted"
   ]
  },
  {
   "cell_type": "code",
   "execution_count": 107,
   "metadata": {
    "collapsed": false
   },
   "outputs": [
    {
     "data": {
      "text/html": [
       "<div>\n",
       "<table border=\"1\" class=\"dataframe\">\n",
       "  <thead>\n",
       "    <tr style=\"text-align: right;\">\n",
       "      <th>True Inducted</th>\n",
       "      <th>0</th>\n",
       "      <th>1</th>\n",
       "    </tr>\n",
       "    <tr>\n",
       "      <th>Hypothesized Inducted</th>\n",
       "      <th></th>\n",
       "      <th></th>\n",
       "    </tr>\n",
       "  </thead>\n",
       "  <tbody>\n",
       "    <tr>\n",
       "      <th>0</th>\n",
       "      <td>908</td>\n",
       "      <td>9</td>\n",
       "    </tr>\n",
       "    <tr>\n",
       "      <th>1</th>\n",
       "      <td>217</td>\n",
       "      <td>22</td>\n",
       "    </tr>\n",
       "  </tbody>\n",
       "</table>\n",
       "</div>"
      ],
      "text/plain": [
       "True Inducted            0   1\n",
       "Hypothesized Inducted         \n",
       "0                      908   9\n",
       "1                      217  22"
      ]
     },
     "execution_count": 107,
     "metadata": {},
     "output_type": "execute_result"
    }
   ],
   "source": [
    "pd.crosstab(test_c_hat,\n",
    "    test_c,\n",
    "    rownames = ['Hypothesized Inducted'],\n",
    "    colnames = ['True Inducted'])"
   ]
  },
  {
   "cell_type": "code",
   "execution_count": 108,
   "metadata": {
    "collapsed": false
   },
   "outputs": [
    {
     "data": {
      "text/plain": [
       "0.80449826989619377"
      ]
     },
     "execution_count": 108,
     "metadata": {},
     "output_type": "execute_result"
    }
   ],
   "source": [
    "model.score(val_X[['HoF_Yr', 'AllstarGm',\n",
    "       'Prev_Nom', 'W', 'Win_pct', 'Tot_Wins', 'P_Awards', 'BAOpp',\n",
    "       'StrikeOuts', 'ShutOuts', 'R_Allowed', 'ba_top10', 'avg_ba', 'sum_R',\n",
    "       'sum_HR', 'Pitcher']], test_c)"
   ]
  },
  {
   "cell_type": "code",
   "execution_count": 109,
   "metadata": {
    "collapsed": false
   },
   "outputs": [
    {
     "data": {
      "text/plain": [
       "0.82157676348547715"
      ]
     },
     "execution_count": 109,
     "metadata": {},
     "output_type": "execute_result"
    }
   ],
   "source": [
    "# test data!!! (put aside)\n",
    "model.score(test_df[['HoF_Yr', 'AllstarGm',\n",
    "       'Prev_Nom', 'W', 'Win_pct', 'Tot_Wins', 'P_Awards', 'BAOpp',\n",
    "       'StrikeOuts', 'ShutOuts', 'R_Allowed', 'ba_top10', 'avg_ba', 'sum_R',\n",
    "       'sum_HR', 'Pitcher']], test_df.inducted)"
   ]
  },
  {
   "cell_type": "markdown",
   "metadata": {},
   "source": [
    "### Removing features"
   ]
  },
  {
   "cell_type": "code",
   "execution_count": 110,
   "metadata": {
    "collapsed": false
   },
   "outputs": [
    {
     "name": "stdout",
     "output_type": "stream",
     "text": [
      "0    1672\n",
      "1      62\n",
      "Name: inducted, dtype: int64\n",
      "1    62\n",
      "0    62\n",
      "Name: inducted, dtype: int64\n"
     ]
    }
   ],
   "source": [
    "train_X_bc = return_sampled_df(train_X)\n",
    "train_y_bc = train_X_bc.inducted\n",
    "train_X_bc = train_X_bc[[ 'P_Awards',\n",
    "       'StrikeOuts','ba_top10', 'sum_R']]\n",
    "\n",
    "X = train_X_bc\n",
    "c = train_y_bc\n",
    "\n",
    "model = linear_model.LogisticRegression().\\\n",
    "    fit(X, c)"
   ]
  },
  {
   "cell_type": "code",
   "execution_count": 111,
   "metadata": {
    "collapsed": false
   },
   "outputs": [
    {
     "data": {
      "text/plain": [
       "0.88709677419354838"
      ]
     },
     "execution_count": 111,
     "metadata": {},
     "output_type": "execute_result"
    }
   ],
   "source": [
    "model.score(X, c)"
   ]
  },
  {
   "cell_type": "code",
   "execution_count": 112,
   "metadata": {
    "collapsed": false
   },
   "outputs": [
    {
     "data": {
      "text/html": [
       "<div>\n",
       "<table border=\"1\" class=\"dataframe\">\n",
       "  <thead>\n",
       "    <tr style=\"text-align: right;\">\n",
       "      <th>True Inducted</th>\n",
       "      <th>0</th>\n",
       "      <th>1</th>\n",
       "    </tr>\n",
       "    <tr>\n",
       "      <th>Hypothesized Inducted</th>\n",
       "      <th></th>\n",
       "      <th></th>\n",
       "    </tr>\n",
       "  </thead>\n",
       "  <tbody>\n",
       "    <tr>\n",
       "      <th>0</th>\n",
       "      <td>53</td>\n",
       "      <td>5</td>\n",
       "    </tr>\n",
       "    <tr>\n",
       "      <th>1</th>\n",
       "      <td>9</td>\n",
       "      <td>57</td>\n",
       "    </tr>\n",
       "  </tbody>\n",
       "</table>\n",
       "</div>"
      ],
      "text/plain": [
       "True Inducted           0   1\n",
       "Hypothesized Inducted        \n",
       "0                      53   5\n",
       "1                       9  57"
      ]
     },
     "execution_count": 112,
     "metadata": {},
     "output_type": "execute_result"
    }
   ],
   "source": [
    "c_hat = model.predict(X)\n",
    "\n",
    "pd.crosstab(c_hat,\n",
    "    c,\n",
    "    rownames = ['Hypothesized Inducted'],\n",
    "    colnames = ['True Inducted'])"
   ]
  },
  {
   "cell_type": "code",
   "execution_count": 113,
   "metadata": {
    "collapsed": false
   },
   "outputs": [],
   "source": [
    "# test\n",
    "test_c_hat = model.predict(val_X[['P_Awards',\n",
    "       'StrikeOuts','ba_top10', 'sum_R']])\n",
    "test_c = val_X.inducted"
   ]
  },
  {
   "cell_type": "code",
   "execution_count": 114,
   "metadata": {
    "collapsed": false
   },
   "outputs": [
    {
     "data": {
      "text/html": [
       "<div>\n",
       "<table border=\"1\" class=\"dataframe\">\n",
       "  <thead>\n",
       "    <tr style=\"text-align: right;\">\n",
       "      <th>True Inducted</th>\n",
       "      <th>0</th>\n",
       "      <th>1</th>\n",
       "    </tr>\n",
       "    <tr>\n",
       "      <th>Hypothesized Inducted</th>\n",
       "      <th></th>\n",
       "      <th></th>\n",
       "    </tr>\n",
       "  </thead>\n",
       "  <tbody>\n",
       "    <tr>\n",
       "      <th>0</th>\n",
       "      <td>938</td>\n",
       "      <td>10</td>\n",
       "    </tr>\n",
       "    <tr>\n",
       "      <th>1</th>\n",
       "      <td>187</td>\n",
       "      <td>21</td>\n",
       "    </tr>\n",
       "  </tbody>\n",
       "</table>\n",
       "</div>"
      ],
      "text/plain": [
       "True Inducted            0   1\n",
       "Hypothesized Inducted         \n",
       "0                      938  10\n",
       "1                      187  21"
      ]
     },
     "execution_count": 114,
     "metadata": {},
     "output_type": "execute_result"
    }
   ],
   "source": [
    "pd.crosstab(test_c_hat,\n",
    "    test_c,\n",
    "    rownames = ['Hypothesized Inducted'],\n",
    "    colnames = ['True Inducted'])"
   ]
  },
  {
   "cell_type": "code",
   "execution_count": 115,
   "metadata": {
    "collapsed": false
   },
   "outputs": [
    {
     "data": {
      "text/plain": [
       "0.82958477508650519"
      ]
     },
     "execution_count": 115,
     "metadata": {},
     "output_type": "execute_result"
    }
   ],
   "source": [
    "model.score(val_X[['P_Awards',\n",
    "       'StrikeOuts','ba_top10', 'sum_R']], test_c)"
   ]
  },
  {
   "cell_type": "code",
   "execution_count": 116,
   "metadata": {
    "collapsed": false
   },
   "outputs": [
    {
     "data": {
      "text/plain": [
       "0.83264177040110654"
      ]
     },
     "execution_count": 116,
     "metadata": {},
     "output_type": "execute_result"
    }
   ],
   "source": [
    "# test data!!! (put aside)\n",
    "model.score(test_df[['P_Awards',\n",
    "       'StrikeOuts','ba_top10', 'sum_R']], test_df.inducted)"
   ]
  },
  {
   "cell_type": "markdown",
   "metadata": {},
   "source": [
    "# Random Forest"
   ]
  },
  {
   "cell_type": "code",
   "execution_count": 117,
   "metadata": {
    "collapsed": false
   },
   "outputs": [
    {
     "name": "stdout",
     "output_type": "stream",
     "text": [
      "0    1672\n",
      "1      62\n",
      "Name: inducted, dtype: int64\n",
      "1    62\n",
      "0    62\n",
      "Name: inducted, dtype: int64\n"
     ]
    }
   ],
   "source": [
    "# downsample, and first use all variables\n",
    "train_X_bc = return_sampled_df(train_X)\n",
    "train_y_bc = train_X_bc.inducted\n",
    "train_X_bc = train_X_bc[['HoF_Yr', 'AllstarGm',\n",
    "       'Prev_Nom', 'W', 'Win_pct', 'Tot_Wins', 'P_Awards', 'BAOpp',\n",
    "       'StrikeOuts', 'ShutOuts', 'R_Allowed', 'ba_top10', 'avg_ba', 'sum_R',\n",
    "       'sum_HR', 'Pitcher']]\n",
    "\n",
    "X = train_X_bc\n",
    "c = train_y_bc\n",
    "\n",
    "model = tree.DecisionTreeClassifier(max_depth = 4,\n",
    "    random_state = 0).\\\n",
    "        fit(X,c)"
   ]
  },
  {
   "cell_type": "code",
   "execution_count": 118,
   "metadata": {
    "collapsed": false
   },
   "outputs": [
    {
     "data": {
      "text/plain": [
       "0.74761904761904752"
      ]
     },
     "execution_count": 118,
     "metadata": {},
     "output_type": "execute_result"
    }
   ],
   "source": [
    "cross_validation.cross_val_score(model, X,c, cv = 10).mean()"
   ]
  },
  {
   "cell_type": "code",
   "execution_count": 119,
   "metadata": {
    "collapsed": false
   },
   "outputs": [
    {
     "data": {
      "text/plain": [
       "[(0.4354287885359468, 'W'),\n",
       " (0.12881829023827046, 'P_Awards'),\n",
       " (0.11552150200682262, 'AllstarGm'),\n",
       " (0.1089078142543087, 'Tot_Wins'),\n",
       " (0.097874669672989842, 'ba_top10'),\n",
       " (0.063252741067453447, 'Prev_Nom'),\n",
       " (0.050196194224208117, 'R_Allowed'),\n",
       " (0.0, 'sum_R'),\n",
       " (0.0, 'sum_HR'),\n",
       " (0.0, 'avg_ba'),\n",
       " (0.0, 'Win_pct'),\n",
       " (0.0, 'StrikeOuts'),\n",
       " (0.0, 'ShutOuts'),\n",
       " (0.0, 'Pitcher'),\n",
       " (0.0, 'HoF_Yr'),\n",
       " (0.0, 'BAOpp')]"
      ]
     },
     "execution_count": 119,
     "metadata": {},
     "output_type": "execute_result"
    }
   ],
   "source": [
    "sorted(zip(model.feature_importances_, X.columns.values), reverse = True)"
   ]
  },
  {
   "cell_type": "code",
   "execution_count": 120,
   "metadata": {
    "collapsed": false
   },
   "outputs": [
    {
     "data": {
      "text/plain": [
       "0.72199170124481327"
      ]
     },
     "execution_count": 120,
     "metadata": {},
     "output_type": "execute_result"
    }
   ],
   "source": [
    "# test data!!! (put aside)\n",
    "model.score(test_df[['HoF_Yr', 'AllstarGm',\n",
    "       'Prev_Nom', 'W', 'Win_pct', 'Tot_Wins', 'P_Awards', 'BAOpp',\n",
    "       'StrikeOuts', 'ShutOuts', 'R_Allowed', 'ba_top10', 'avg_ba', 'sum_R',\n",
    "       'sum_HR', 'Pitcher']], test_df.inducted)"
   ]
  },
  {
   "cell_type": "markdown",
   "metadata": {},
   "source": [
    "# Best Test accuracy of the Logistic regression/decision tree for binary classification: "
   ]
  },
  {
   "cell_type": "markdown",
   "metadata": {},
   "source": [
    "Logistic Regression with features: 'P_Awards',\n",
    "       'StrikeOuts','ba_top10', 'sum_R'"
   ]
  },
  {
   "cell_type": "code",
   "execution_count": 121,
   "metadata": {
    "collapsed": false
   },
   "outputs": [
    {
     "name": "stdout",
     "output_type": "stream",
     "text": [
      "0    3497\n",
      "1     116\n",
      "Name: inducted, dtype: int64\n",
      "1    116\n",
      "0    116\n",
      "Name: inducted, dtype: int64\n"
     ]
    }
   ],
   "source": [
    "# Make final model with all data\n",
    "train_X_all = return_sampled_df(df_clean)\n",
    "train_y_all = train_X_all.inducted\n",
    "train_X_all = train_X_all[[ 'P_Awards',\n",
    "       'StrikeOuts','ba_top10', 'sum_R']]\n",
    "\n",
    "X = train_X_all\n",
    "c = train_y_all\n",
    "\n",
    "model = linear_model.LogisticRegression().\\\n",
    "    fit(X, c)"
   ]
  },
  {
   "cell_type": "code",
   "execution_count": 122,
   "metadata": {
    "collapsed": false
   },
   "outputs": [
    {
     "data": {
      "text/plain": [
       "0.81465517241379315"
      ]
     },
     "execution_count": 122,
     "metadata": {},
     "output_type": "execute_result"
    }
   ],
   "source": [
    "model.score(X, c)"
   ]
  },
  {
   "cell_type": "code",
   "execution_count": 123,
   "metadata": {
    "collapsed": false
   },
   "outputs": [
    {
     "data": {
      "text/html": [
       "<div>\n",
       "<table border=\"1\" class=\"dataframe\">\n",
       "  <thead>\n",
       "    <tr style=\"text-align: right;\">\n",
       "      <th>True Inducted</th>\n",
       "      <th>0</th>\n",
       "      <th>1</th>\n",
       "    </tr>\n",
       "    <tr>\n",
       "      <th>Hypothesized Inducted</th>\n",
       "      <th></th>\n",
       "      <th></th>\n",
       "    </tr>\n",
       "  </thead>\n",
       "  <tbody>\n",
       "    <tr>\n",
       "      <th>0</th>\n",
       "      <td>92</td>\n",
       "      <td>19</td>\n",
       "    </tr>\n",
       "    <tr>\n",
       "      <th>1</th>\n",
       "      <td>24</td>\n",
       "      <td>97</td>\n",
       "    </tr>\n",
       "  </tbody>\n",
       "</table>\n",
       "</div>"
      ],
      "text/plain": [
       "True Inducted           0   1\n",
       "Hypothesized Inducted        \n",
       "0                      92  19\n",
       "1                      24  97"
      ]
     },
     "execution_count": 123,
     "metadata": {},
     "output_type": "execute_result"
    }
   ],
   "source": [
    "c_hat = model.predict(X)\n",
    "\n",
    "pd.crosstab(c_hat,\n",
    "    c,\n",
    "    rownames = ['Hypothesized Inducted'],\n",
    "    colnames = ['True Inducted'])"
   ]
  }
 ],
 "metadata": {
  "anaconda-cloud": {},
  "kernelspec": {
   "display_name": "Python [conda root]",
   "language": "python",
   "name": "conda-root-py"
  },
  "language_info": {
   "codemirror_mode": {
    "name": "ipython",
    "version": 3
   },
   "file_extension": ".py",
   "mimetype": "text/x-python",
   "name": "python",
   "nbconvert_exporter": "python",
   "pygments_lexer": "ipython3",
   "version": "3.5.2"
  }
 },
 "nbformat": 4,
 "nbformat_minor": 1
}
