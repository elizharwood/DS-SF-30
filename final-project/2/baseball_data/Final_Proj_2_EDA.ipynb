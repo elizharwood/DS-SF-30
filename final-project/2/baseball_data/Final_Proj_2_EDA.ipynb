{
 "cells": [
  {
   "cell_type": "markdown",
   "metadata": {},
   "source": [
    "# DS-SF-30 | Final Project 2: Project Design and Exploratory Data Analysis\n",
    "### Elizabeth Harwood\n",
    "## Baseball Hall of Fame Prediction"
   ]
  },
  {
   "cell_type": "markdown",
   "metadata": {},
   "source": [
    "### Project Topic changes: \n",
    "As a quick aside, I will describe my efforts in two previous project topics and my reasons for deciding not to proceed after preliminary EDA. \n",
    "\n",
    "1) My first project idea was predicting support of presidential candidates based on tweet data collected on Election Day. That project involved much more NLP than anticipated, and tweets often contain more hashtags than proper sentences, making analysis difficult. Additionally, My preliminary models were making predictions in an entierely one-sided way, because all tweets contained similar features, so the majority was predicted, and no other features seemed likely to provide better correlation with outcome (support for candidate a or b).\n",
    "\n",
    "2) My second topic was exploration of data from the TV Shows The Bachelor and The Bachelorette (sort of like sports data, right?). I was able to scrape data from most seasons of the shows from Wikipedia, but the features available and the features I engineered (age of contestant, age differeential, hometown of contestant, profession of contestant) did not seem to provide much predictive power. Additionally, the data from one show did not seem to be related to that of the other, and since the winner pool is sparse, the model was predicting the majority (lost) and getting a 97% accuracy rate, so I decided to change my topic again. "
   ]
  },
  {
   "cell_type": "markdown",
   "metadata": {},
   "source": [
    "\n",
    "# Project Design"
   ]
  },
  {
   "cell_type": "markdown",
   "metadata": {},
   "source": [
    "## Problem Statement:\n",
    "Induction to the Baseball Hall of Fame is a great honor and is decided by votes, primarily from the Baseball Writers Association of America. Many factors may influence members' votes, consciously or subconsciously. Determining which factors tend to predict induction of nominees would allow more accurate prediction of future inductees. \n",
    "\n",
    "## Hypothesis: \n",
    "Features such as cumulative wins, salary, and number of player awards will be predictive of induction to the Baseball Hall of Fame. \n",
    "\n",
    "## Methods and Models: \n",
    "Data will primarily be from the Baseball Databank, as described below. Methods will include adding data from tables, assessing potential for correlation with outcome variable, and additional feature engineering (if applicable), iterating multiple times. Potential models include both linear regression models and logistic regression, since either binary outcome of vote ('inducted' or not) or proportion of votes necessary (greater than 1 = 'inducted', otherwise not) could be predicted. \n",
    "\n",
    "## Available Data:\n",
    "Data Source: Baseball Databank\n",
    "http://www.seanlahman.com/baseball-archive/statistics/\n",
    "Detailed information of the tables and fields included with the documentation: \n",
    "http://seanlahman.com/files/database/readme2014.txt\n",
    "\n",
    "Person identification and demographics data are provided by\n",
    "Chadwick Baseball Bureau (http://www.chadwick-bureau.com),\n",
    "from its Register of baseball personnel.\n",
    "\n",
    "Player performance data for 1871 through 2014 is based on the\n",
    "Lahman Baseball Database, version 2015-01-24, which is \n",
    "Copyright (C) 1996-2015 by Sean Lahman.\n",
    "\n",
    "The tables Parks.csv and HomeGames.csv are based on the game logs\n",
    "and park code table published by Retrosheet.\n",
    "This information is available free of charge from and is copyrighted\n",
    "by Retrosheet.  Interested parties may contact Retrosheet at \n",
    "http://www.retrosheet.org.\n",
    "\n",
    "## Questions, Assumptions, Risks, Caveats\n",
    "##### Questions: \n",
    "Are the 'expected' factors, like wins and player statistics, most predictive for induction in to the hall of fame, or are other features, like Awards, Team wins, or other unexpected features more predictive? \n",
    "\n",
    "##### Assumptions: \n",
    "The database is assumed to be accurate to the extent that data is filled in. Assumptions are that the predictive power of features holds across multiple factors, like the category of the nominee (player, ump, etc), which might not be true in practice. \n",
    "\n",
    "##### Risks: \n",
    "Risks include removing data that has some values missing and removing a disproportionate amount of one outcome or the other, thus reducing the model's ability to predict the outcome. Other risks include not being able to engineer the proper features, or finding many features that are redundant, reducing each feature's contribution to the predictive model. \n",
    "\n",
    "##### Caveats: \n",
    "I attempted to make sure all data used in prediction was data from prior to the year of voting, so that it would be 'predictive'. This was easy for most information, as there is a mandatory 5 year waiting time after retirement before nomination to the HoF for any individual, and other information with year given (such as player awards) were checked for the date being before the voting year. The database is vast, so not all possible data will be able to be included for possible features for the model, due to time constraints. \n",
    "\n",
    "## Goals and Criteria: \n",
    "Goals include finding or engineering 4-8 features for the dataset, and using those as a starting point for my models for Final Project 3. \n",
    "\n",
    "Understanding the features available (as well as the extent to which any features have missing values), and the correlations with the outcome and each other, is another key goal. \n",
    "\n",
    "Criteria for success include engineering, plotting, and exploring 5-10 features for possible use, and evaluating their probable usefulness in the model. Success will be finding 3-4 potential featues that don't seem to be highly correlated with each other but might contain predictive power for the model. "
   ]
  },
  {
   "cell_type": "markdown",
   "metadata": {},
   "source": [
    "# Exploratory Data Analysis"
   ]
  },
  {
   "cell_type": "code",
   "execution_count": 1,
   "metadata": {
    "collapsed": true
   },
   "outputs": [],
   "source": [
    "import os\n",
    "import pandas as pd\n",
    "import matplotlib.pyplot as plt\n",
    "import seaborn as sns\n",
    "import statsmodels.api as sm\n",
    "from collections import defaultdict\n",
    "\n",
    "pd.set_option('display.max_rows', 10)\n",
    "pd.set_option('display.max_columns', 10)\n",
    "pd.set_option('display.notebook_repr_html', True)\n",
    "\n",
    "%matplotlib inline\n",
    "plt.style.use('ggplot')"
   ]
  },
  {
   "cell_type": "markdown",
   "metadata": {},
   "source": [
    "## Reading in the dataset"
   ]
  },
  {
   "cell_type": "code",
   "execution_count": 2,
   "metadata": {
    "collapsed": false
   },
   "outputs": [
    {
     "data": {
      "text/html": [
       "<div>\n",
       "<table border=\"1\" class=\"dataframe\">\n",
       "  <thead>\n",
       "    <tr style=\"text-align: right;\">\n",
       "      <th></th>\n",
       "      <th>playerID</th>\n",
       "      <th>yearid</th>\n",
       "      <th>votedBy</th>\n",
       "      <th>ballots</th>\n",
       "      <th>needed</th>\n",
       "      <th>votes</th>\n",
       "      <th>inducted</th>\n",
       "      <th>category</th>\n",
       "      <th>needed_note</th>\n",
       "    </tr>\n",
       "  </thead>\n",
       "  <tbody>\n",
       "    <tr>\n",
       "      <th>0</th>\n",
       "      <td>cobbty01</td>\n",
       "      <td>1936</td>\n",
       "      <td>BBWAA</td>\n",
       "      <td>226.0</td>\n",
       "      <td>170.0</td>\n",
       "      <td>222.0</td>\n",
       "      <td>Y</td>\n",
       "      <td>Player</td>\n",
       "      <td>NaN</td>\n",
       "    </tr>\n",
       "    <tr>\n",
       "      <th>1</th>\n",
       "      <td>ruthba01</td>\n",
       "      <td>1936</td>\n",
       "      <td>BBWAA</td>\n",
       "      <td>226.0</td>\n",
       "      <td>170.0</td>\n",
       "      <td>215.0</td>\n",
       "      <td>Y</td>\n",
       "      <td>Player</td>\n",
       "      <td>NaN</td>\n",
       "    </tr>\n",
       "    <tr>\n",
       "      <th>2</th>\n",
       "      <td>wagneho01</td>\n",
       "      <td>1936</td>\n",
       "      <td>BBWAA</td>\n",
       "      <td>226.0</td>\n",
       "      <td>170.0</td>\n",
       "      <td>215.0</td>\n",
       "      <td>Y</td>\n",
       "      <td>Player</td>\n",
       "      <td>NaN</td>\n",
       "    </tr>\n",
       "    <tr>\n",
       "      <th>3</th>\n",
       "      <td>mathech01</td>\n",
       "      <td>1936</td>\n",
       "      <td>BBWAA</td>\n",
       "      <td>226.0</td>\n",
       "      <td>170.0</td>\n",
       "      <td>205.0</td>\n",
       "      <td>Y</td>\n",
       "      <td>Player</td>\n",
       "      <td>NaN</td>\n",
       "    </tr>\n",
       "    <tr>\n",
       "      <th>4</th>\n",
       "      <td>johnswa01</td>\n",
       "      <td>1936</td>\n",
       "      <td>BBWAA</td>\n",
       "      <td>226.0</td>\n",
       "      <td>170.0</td>\n",
       "      <td>189.0</td>\n",
       "      <td>Y</td>\n",
       "      <td>Player</td>\n",
       "      <td>NaN</td>\n",
       "    </tr>\n",
       "  </tbody>\n",
       "</table>\n",
       "</div>"
      ],
      "text/plain": [
       "    playerID  yearid votedBy  ballots  needed  votes inducted category  \\\n",
       "0   cobbty01    1936   BBWAA    226.0   170.0  222.0        Y   Player   \n",
       "1   ruthba01    1936   BBWAA    226.0   170.0  215.0        Y   Player   \n",
       "2  wagneho01    1936   BBWAA    226.0   170.0  215.0        Y   Player   \n",
       "3  mathech01    1936   BBWAA    226.0   170.0  205.0        Y   Player   \n",
       "4  johnswa01    1936   BBWAA    226.0   170.0  189.0        Y   Player   \n",
       "\n",
       "  needed_note  \n",
       "0         NaN  \n",
       "1         NaN  \n",
       "2         NaN  \n",
       "3         NaN  \n",
       "4         NaN  "
      ]
     },
     "execution_count": 2,
     "metadata": {},
     "output_type": "execute_result"
    }
   ],
   "source": [
    "df = pd.read_csv(os.path.join('baseballdatabank-master', 'core','HallOfFame.csv'))\n",
    "\n",
    "df.head()"
   ]
  },
  {
   "cell_type": "markdown",
   "metadata": {},
   "source": [
    "2.6  HallOfFame table information (from database documentation)\n",
    "\n",
    "* playerID:      Player ID code\n",
    "* yearID:        Year of ballot\n",
    "* votedBy:       Method by which player was voted upon\n",
    "* ballots:       Total ballots cast in that year\n",
    "* needed:        Number of votes needed for selection in that year\n",
    "* votes:         Total votes received\n",
    "* inducted:      Whether player was inducted by that vote or not (Y or N)\n",
    "* category:      Category in which candidate was honored\n",
    "* needed_note:   Explanation of qualifiers for special elections"
   ]
  },
  {
   "cell_type": "markdown",
   "metadata": {},
   "source": [
    "## How many total observations? "
   ]
  },
  {
   "cell_type": "code",
   "execution_count": 3,
   "metadata": {
    "collapsed": false
   },
   "outputs": [
    {
     "data": {
      "text/plain": [
       "4120"
      ]
     },
     "execution_count": 3,
     "metadata": {},
     "output_type": "execute_result"
    }
   ],
   "source": [
    "df.inducted.notnull().sum()"
   ]
  },
  {
   "cell_type": "markdown",
   "metadata": {},
   "source": [
    "## How many people have been inducted out of all nominees? "
   ]
  },
  {
   "cell_type": "code",
   "execution_count": 4,
   "metadata": {
    "collapsed": false
   },
   "outputs": [
    {
     "data": {
      "text/plain": [
       "N    3808\n",
       "Y     312\n",
       "Name: inducted, dtype: int64"
      ]
     },
     "execution_count": 4,
     "metadata": {},
     "output_type": "execute_result"
    }
   ],
   "source": [
    "df.inducted.value_counts()"
   ]
  },
  {
   "cell_type": "markdown",
   "metadata": {},
   "source": [
    "Approximately 10% induction rate, enough for a reasonable model. "
   ]
  },
  {
   "cell_type": "markdown",
   "metadata": {},
   "source": [
    "## Summary table of Hall of Fame data"
   ]
  },
  {
   "cell_type": "code",
   "execution_count": 5,
   "metadata": {
    "collapsed": false
   },
   "outputs": [
    {
     "name": "stderr",
     "output_type": "stream",
     "text": [
      "/Users/Elizabeth/anaconda3/lib/python3.5/site-packages/numpy/lib/function_base.py:3834: RuntimeWarning: Invalid value encountered in percentile\n",
      "  RuntimeWarning)\n"
     ]
    },
    {
     "data": {
      "text/html": [
       "<div>\n",
       "<table border=\"1\" class=\"dataframe\">\n",
       "  <thead>\n",
       "    <tr style=\"text-align: right;\">\n",
       "      <th></th>\n",
       "      <th>yearid</th>\n",
       "      <th>ballots</th>\n",
       "      <th>needed</th>\n",
       "      <th>votes</th>\n",
       "    </tr>\n",
       "  </thead>\n",
       "  <tbody>\n",
       "    <tr>\n",
       "      <th>count</th>\n",
       "      <td>4120.000000</td>\n",
       "      <td>3927.000000</td>\n",
       "      <td>3770.000000</td>\n",
       "      <td>3927.000000</td>\n",
       "    </tr>\n",
       "    <tr>\n",
       "      <th>mean</th>\n",
       "      <td>1968.889563</td>\n",
       "      <td>320.705373</td>\n",
       "      <td>243.989920</td>\n",
       "      <td>50.995926</td>\n",
       "    </tr>\n",
       "    <tr>\n",
       "      <th>std</th>\n",
       "      <td>22.899162</td>\n",
       "      <td>125.495156</td>\n",
       "      <td>94.557016</td>\n",
       "      <td>84.845195</td>\n",
       "    </tr>\n",
       "    <tr>\n",
       "      <th>min</th>\n",
       "      <td>1936.000000</td>\n",
       "      <td>78.000000</td>\n",
       "      <td>59.000000</td>\n",
       "      <td>0.000000</td>\n",
       "    </tr>\n",
       "    <tr>\n",
       "      <th>25%</th>\n",
       "      <td>1950.000000</td>\n",
       "      <td>NaN</td>\n",
       "      <td>NaN</td>\n",
       "      <td>NaN</td>\n",
       "    </tr>\n",
       "    <tr>\n",
       "      <th>50%</th>\n",
       "      <td>1964.000000</td>\n",
       "      <td>NaN</td>\n",
       "      <td>NaN</td>\n",
       "      <td>NaN</td>\n",
       "    </tr>\n",
       "    <tr>\n",
       "      <th>75%</th>\n",
       "      <td>1987.000000</td>\n",
       "      <td>NaN</td>\n",
       "      <td>NaN</td>\n",
       "      <td>NaN</td>\n",
       "    </tr>\n",
       "    <tr>\n",
       "      <th>max</th>\n",
       "      <td>2016.000000</td>\n",
       "      <td>581.000000</td>\n",
       "      <td>436.000000</td>\n",
       "      <td>555.000000</td>\n",
       "    </tr>\n",
       "  </tbody>\n",
       "</table>\n",
       "</div>"
      ],
      "text/plain": [
       "            yearid      ballots       needed        votes\n",
       "count  4120.000000  3927.000000  3770.000000  3927.000000\n",
       "mean   1968.889563   320.705373   243.989920    50.995926\n",
       "std      22.899162   125.495156    94.557016    84.845195\n",
       "min    1936.000000    78.000000    59.000000     0.000000\n",
       "25%    1950.000000          NaN          NaN          NaN\n",
       "50%    1964.000000          NaN          NaN          NaN\n",
       "75%    1987.000000          NaN          NaN          NaN\n",
       "max    2016.000000   581.000000   436.000000   555.000000"
      ]
     },
     "execution_count": 5,
     "metadata": {},
     "output_type": "execute_result"
    }
   ],
   "source": [
    "df.describe()"
   ]
  },
  {
   "cell_type": "code",
   "execution_count": 6,
   "metadata": {
    "collapsed": false
   },
   "outputs": [
    {
     "name": "stdout",
     "output_type": "stream",
     "text": [
      "<class 'pandas.core.frame.DataFrame'>\n",
      "RangeIndex: 4120 entries, 0 to 4119\n",
      "Data columns (total 9 columns):\n",
      "playerID       4120 non-null object\n",
      "yearid         4120 non-null int64\n",
      "votedBy        4120 non-null object\n",
      "ballots        3927 non-null float64\n",
      "needed         3770 non-null float64\n",
      "votes          3927 non-null float64\n",
      "inducted       4120 non-null object\n",
      "category       4120 non-null object\n",
      "needed_note    157 non-null object\n",
      "dtypes: float64(3), int64(1), object(5)\n",
      "memory usage: 289.8+ KB\n"
     ]
    }
   ],
   "source": [
    "df.info()"
   ]
  },
  {
   "cell_type": "code",
   "execution_count": 7,
   "metadata": {
    "collapsed": false
   },
   "outputs": [
    {
     "data": {
      "text/html": [
       "<div>\n",
       "<table border=\"1\" class=\"dataframe\">\n",
       "  <thead>\n",
       "    <tr style=\"text-align: right;\">\n",
       "      <th>inducted</th>\n",
       "      <th>N</th>\n",
       "      <th>Y</th>\n",
       "      <th>success_rate</th>\n",
       "    </tr>\n",
       "    <tr>\n",
       "      <th>category</th>\n",
       "      <th></th>\n",
       "      <th></th>\n",
       "      <th></th>\n",
       "    </tr>\n",
       "  </thead>\n",
       "  <tbody>\n",
       "    <tr>\n",
       "      <th>Manager</th>\n",
       "      <td>51</td>\n",
       "      <td>23</td>\n",
       "      <td>0.310811</td>\n",
       "    </tr>\n",
       "    <tr>\n",
       "      <th>Pioneer/Executive</th>\n",
       "      <td>7</td>\n",
       "      <td>32</td>\n",
       "      <td>0.820513</td>\n",
       "    </tr>\n",
       "    <tr>\n",
       "      <th>Player</th>\n",
       "      <td>3750</td>\n",
       "      <td>247</td>\n",
       "      <td>0.061796</td>\n",
       "    </tr>\n",
       "    <tr>\n",
       "      <th>Umpire</th>\n",
       "      <td>0</td>\n",
       "      <td>10</td>\n",
       "      <td>1.000000</td>\n",
       "    </tr>\n",
       "  </tbody>\n",
       "</table>\n",
       "</div>"
      ],
      "text/plain": [
       "inducted              N    Y  success_rate\n",
       "category                                  \n",
       "Manager              51   23      0.310811\n",
       "Pioneer/Executive     7   32      0.820513\n",
       "Player             3750  247      0.061796\n",
       "Umpire                0   10      1.000000"
      ]
     },
     "execution_count": 7,
     "metadata": {},
     "output_type": "execute_result"
    }
   ],
   "source": [
    "ct_0 = pd.crosstab(df.category, df.inducted)\n",
    "ct_0['success_rate'] = ct_0.apply(lambda x: x[1] / (x[0] + x[1]) ,axis=1)\n",
    "ct_0\n",
    "\n",
    "# Table of Induction rate by Nominee Category"
   ]
  },
  {
   "cell_type": "markdown",
   "metadata": {},
   "source": [
    "Might be worth making dummy variables for these categories"
   ]
  },
  {
   "cell_type": "code",
   "execution_count": 8,
   "metadata": {
    "collapsed": false
   },
   "outputs": [
    {
     "data": {
      "text/html": [
       "<div>\n",
       "<table border=\"1\" class=\"dataframe\">\n",
       "  <thead>\n",
       "    <tr style=\"text-align: right;\">\n",
       "      <th>inducted</th>\n",
       "      <th>N</th>\n",
       "      <th>Y</th>\n",
       "      <th>success_rate</th>\n",
       "    </tr>\n",
       "    <tr>\n",
       "      <th>votedBy</th>\n",
       "      <th></th>\n",
       "      <th></th>\n",
       "      <th></th>\n",
       "    </tr>\n",
       "  </thead>\n",
       "  <tbody>\n",
       "    <tr>\n",
       "      <th>BBWAA</th>\n",
       "      <td>3573</td>\n",
       "      <td>116</td>\n",
       "      <td>0.031445</td>\n",
       "    </tr>\n",
       "    <tr>\n",
       "      <th>Centennial</th>\n",
       "      <td>0</td>\n",
       "      <td>6</td>\n",
       "      <td>1.000000</td>\n",
       "    </tr>\n",
       "    <tr>\n",
       "      <th>Final Ballot</th>\n",
       "      <td>21</td>\n",
       "      <td>0</td>\n",
       "      <td>0.000000</td>\n",
       "    </tr>\n",
       "    <tr>\n",
       "      <th>Negro League</th>\n",
       "      <td>0</td>\n",
       "      <td>26</td>\n",
       "      <td>1.000000</td>\n",
       "    </tr>\n",
       "    <tr>\n",
       "      <th>Nominating Vote</th>\n",
       "      <td>76</td>\n",
       "      <td>0</td>\n",
       "      <td>0.000000</td>\n",
       "    </tr>\n",
       "    <tr>\n",
       "      <th>Old Timers</th>\n",
       "      <td>0</td>\n",
       "      <td>30</td>\n",
       "      <td>1.000000</td>\n",
       "    </tr>\n",
       "    <tr>\n",
       "      <th>Run Off</th>\n",
       "      <td>78</td>\n",
       "      <td>3</td>\n",
       "      <td>0.037037</td>\n",
       "    </tr>\n",
       "    <tr>\n",
       "      <th>Special Election</th>\n",
       "      <td>0</td>\n",
       "      <td>2</td>\n",
       "      <td>1.000000</td>\n",
       "    </tr>\n",
       "    <tr>\n",
       "      <th>Veterans</th>\n",
       "      <td>60</td>\n",
       "      <td>129</td>\n",
       "      <td>0.682540</td>\n",
       "    </tr>\n",
       "  </tbody>\n",
       "</table>\n",
       "</div>"
      ],
      "text/plain": [
       "inducted             N    Y  success_rate\n",
       "votedBy                                  \n",
       "BBWAA             3573  116      0.031445\n",
       "Centennial           0    6      1.000000\n",
       "Final Ballot        21    0      0.000000\n",
       "Negro League         0   26      1.000000\n",
       "Nominating Vote     76    0      0.000000\n",
       "Old Timers           0   30      1.000000\n",
       "Run Off             78    3      0.037037\n",
       "Special Election     0    2      1.000000\n",
       "Veterans            60  129      0.682540"
      ]
     },
     "execution_count": 8,
     "metadata": {},
     "output_type": "execute_result"
    }
   ],
   "source": [
    "ct_vb = pd.crosstab(df.votedBy, df.inducted)\n",
    "ct_vb['success_rate'] = ct_vb.apply(lambda x: x[1] / (x[0] + x[1]) ,axis=1)\n",
    "ct_vb"
   ]
  },
  {
   "cell_type": "markdown",
   "metadata": {},
   "source": [
    "### Lessons from first look at data:\n",
    "* PlayerID needs to be kept to merge with other tables, will not be a feature\n",
    "* yearid seems to just be year, could be interesting\n",
    "* votedBy is mostly BBWAA, so I will probably ignore it unless I decide to make dummy variables for it. \n",
    "* Category is mostly 'player', so will probably ignore or else make dummy variable\n",
    "* Ballots, needed, and votes can be used to create some sort of quantitative result instead of a binary output of Yes or No, if needed. Unclear thus far, but will keep\n",
    "* Inducted will be turned to binary variable with 'N' (the majority answer) as the default (value 0), and Y as 1. \n",
    "* Needed_note is for special elections, won't use that (text field)"
   ]
  },
  {
   "cell_type": "markdown",
   "metadata": {},
   "source": [
    "# Data cleaning"
   ]
  },
  {
   "cell_type": "markdown",
   "metadata": {},
   "source": [
    "## 'inducted' field to binary:"
   ]
  },
  {
   "cell_type": "code",
   "execution_count": 9,
   "metadata": {
    "collapsed": true
   },
   "outputs": [],
   "source": [
    "df['inducted'] = df['inducted'].map(lambda x: 0 if x == 'N' else 1)"
   ]
  },
  {
   "cell_type": "code",
   "execution_count": 10,
   "metadata": {
    "collapsed": false
   },
   "outputs": [
    {
     "data": {
      "text/plain": [
       "0    3808\n",
       "1     312\n",
       "Name: inducted, dtype: int64"
      ]
     },
     "execution_count": 10,
     "metadata": {},
     "output_type": "execute_result"
    }
   ],
   "source": [
    "df.inducted.value_counts()"
   ]
  },
  {
   "cell_type": "markdown",
   "metadata": {},
   "source": [
    "## Create field 'votes_percent'\n",
    "Nominees need to be included on 75% of ballots for a given year. \n",
    "\n",
    "'votes_percent' field will show the proportion of the needed votes that an individual received. Over 1 means inducted, under 1 means not inducted"
   ]
  },
  {
   "cell_type": "code",
   "execution_count": 11,
   "metadata": {
    "collapsed": true
   },
   "outputs": [],
   "source": [
    "df['votes_percent'] = df.apply(lambda x: x['votes'] / x['needed'],axis=1)"
   ]
  },
  {
   "cell_type": "markdown",
   "metadata": {},
   "source": [
    "## Drop Unneeded Columns"
   ]
  },
  {
   "cell_type": "markdown",
   "metadata": {},
   "source": [
    "Drop 'needed_note', 'ballots', 'needed', and 'votes' columns"
   ]
  },
  {
   "cell_type": "code",
   "execution_count": 12,
   "metadata": {
    "collapsed": false
   },
   "outputs": [],
   "source": [
    "df = df.drop(['needed_note','ballots','needed','votes'],axis=1)"
   ]
  },
  {
   "cell_type": "markdown",
   "metadata": {},
   "source": [
    "## Drop rows with nan values"
   ]
  },
  {
   "cell_type": "code",
   "execution_count": 13,
   "metadata": {
    "collapsed": true
   },
   "outputs": [],
   "source": [
    "df_no_nan = df.dropna(how='any',axis=0)"
   ]
  },
  {
   "cell_type": "code",
   "execution_count": 14,
   "metadata": {
    "collapsed": false
   },
   "outputs": [
    {
     "data": {
      "text/plain": [
       "0    3654\n",
       "1     116\n",
       "Name: inducted, dtype: int64"
      ]
     },
     "execution_count": 14,
     "metadata": {},
     "output_type": "execute_result"
    }
   ],
   "source": [
    "df_no_nan.inducted.value_counts()"
   ]
  },
  {
   "cell_type": "markdown",
   "metadata": {},
   "source": [
    "Unfortunately, a lot of the inductees (inducted == 1) had rows with NaN values in the 'ballots' or 'needed' or 'votes' row, so they were dropped from the df_no_nan dataframe."
   ]
  },
  {
   "cell_type": "markdown",
   "metadata": {},
   "source": [
    "## Rename year column"
   ]
  },
  {
   "cell_type": "code",
   "execution_count": 15,
   "metadata": {
    "collapsed": true
   },
   "outputs": [],
   "source": [
    "df = df.rename(columns={'yearid':'HoF_Year'})"
   ]
  },
  {
   "cell_type": "markdown",
   "metadata": {},
   "source": [
    "# Statistics"
   ]
  },
  {
   "cell_type": "code",
   "execution_count": 16,
   "metadata": {
    "collapsed": false
   },
   "outputs": [
    {
     "name": "stderr",
     "output_type": "stream",
     "text": [
      "/Users/Elizabeth/anaconda3/lib/python3.5/site-packages/numpy/lib/function_base.py:3834: RuntimeWarning: Invalid value encountered in percentile\n",
      "  RuntimeWarning)\n"
     ]
    },
    {
     "data": {
      "text/html": [
       "<div>\n",
       "<table border=\"1\" class=\"dataframe\">\n",
       "  <thead>\n",
       "    <tr style=\"text-align: right;\">\n",
       "      <th></th>\n",
       "      <th>HoF_Year</th>\n",
       "      <th>inducted</th>\n",
       "      <th>votes_percent</th>\n",
       "    </tr>\n",
       "  </thead>\n",
       "  <tbody>\n",
       "    <tr>\n",
       "      <th>count</th>\n",
       "      <td>4120.000000</td>\n",
       "      <td>4120.000000</td>\n",
       "      <td>3770.000000</td>\n",
       "    </tr>\n",
       "    <tr>\n",
       "      <th>mean</th>\n",
       "      <td>1968.889563</td>\n",
       "      <td>0.075728</td>\n",
       "      <td>0.191951</td>\n",
       "    </tr>\n",
       "    <tr>\n",
       "      <th>std</th>\n",
       "      <td>22.899162</td>\n",
       "      <td>0.264595</td>\n",
       "      <td>0.281730</td>\n",
       "    </tr>\n",
       "    <tr>\n",
       "      <th>min</th>\n",
       "      <td>1936.000000</td>\n",
       "      <td>0.000000</td>\n",
       "      <td>0.000000</td>\n",
       "    </tr>\n",
       "    <tr>\n",
       "      <th>25%</th>\n",
       "      <td>1950.000000</td>\n",
       "      <td>0.000000</td>\n",
       "      <td>NaN</td>\n",
       "    </tr>\n",
       "    <tr>\n",
       "      <th>50%</th>\n",
       "      <td>1964.000000</td>\n",
       "      <td>0.000000</td>\n",
       "      <td>NaN</td>\n",
       "    </tr>\n",
       "    <tr>\n",
       "      <th>75%</th>\n",
       "      <td>1987.000000</td>\n",
       "      <td>0.000000</td>\n",
       "      <td>NaN</td>\n",
       "    </tr>\n",
       "    <tr>\n",
       "      <th>max</th>\n",
       "      <td>2016.000000</td>\n",
       "      <td>1.000000</td>\n",
       "      <td>1.324242</td>\n",
       "    </tr>\n",
       "  </tbody>\n",
       "</table>\n",
       "</div>"
      ],
      "text/plain": [
       "          HoF_Year     inducted  votes_percent\n",
       "count  4120.000000  4120.000000    3770.000000\n",
       "mean   1968.889563     0.075728       0.191951\n",
       "std      22.899162     0.264595       0.281730\n",
       "min    1936.000000     0.000000       0.000000\n",
       "25%    1950.000000     0.000000            NaN\n",
       "50%    1964.000000     0.000000            NaN\n",
       "75%    1987.000000     0.000000            NaN\n",
       "max    2016.000000     1.000000       1.324242"
      ]
     },
     "execution_count": 16,
     "metadata": {},
     "output_type": "execute_result"
    }
   ],
   "source": [
    "df.describe()"
   ]
  },
  {
   "cell_type": "code",
   "execution_count": 17,
   "metadata": {
    "collapsed": false
   },
   "outputs": [
    {
     "data": {
      "text/html": [
       "<div>\n",
       "<table border=\"1\" class=\"dataframe\">\n",
       "  <thead>\n",
       "    <tr style=\"text-align: right;\">\n",
       "      <th></th>\n",
       "      <th>HoF_Year</th>\n",
       "      <th>inducted</th>\n",
       "      <th>votes_percent</th>\n",
       "    </tr>\n",
       "  </thead>\n",
       "  <tbody>\n",
       "    <tr>\n",
       "      <th>HoF_Year</th>\n",
       "      <td>1.000000</td>\n",
       "      <td>0.098868</td>\n",
       "      <td>0.184892</td>\n",
       "    </tr>\n",
       "    <tr>\n",
       "      <th>inducted</th>\n",
       "      <td>0.098868</td>\n",
       "      <td>1.000000</td>\n",
       "      <td>0.594872</td>\n",
       "    </tr>\n",
       "    <tr>\n",
       "      <th>votes_percent</th>\n",
       "      <td>0.184892</td>\n",
       "      <td>0.594872</td>\n",
       "      <td>1.000000</td>\n",
       "    </tr>\n",
       "  </tbody>\n",
       "</table>\n",
       "</div>"
      ],
      "text/plain": [
       "               HoF_Year  inducted  votes_percent\n",
       "HoF_Year       1.000000  0.098868       0.184892\n",
       "inducted       0.098868  1.000000       0.594872\n",
       "votes_percent  0.184892  0.594872       1.000000"
      ]
     },
     "execution_count": 17,
     "metadata": {},
     "output_type": "execute_result"
    }
   ],
   "source": [
    "df.corr()"
   ]
  },
  {
   "cell_type": "markdown",
   "metadata": {},
   "source": [
    "# Data Visualizations"
   ]
  },
  {
   "cell_type": "markdown",
   "metadata": {},
   "source": [
    "#### Hist of votes_percent \n",
    "###### (proportion of votes needed that individual received)\n"
   ]
  },
  {
   "cell_type": "code",
   "execution_count": 18,
   "metadata": {
    "collapsed": false
   },
   "outputs": [
    {
     "data": {
      "text/plain": [
       "<matplotlib.text.Text at 0x115acb668>"
      ]
     },
     "execution_count": 18,
     "metadata": {},
     "output_type": "execute_result"
    },
    {
     "data": {
      "image/png": "[encoded data removed]",
      "text/plain": [
       "<matplotlib.figure.Figure at 0x115a38588>"
      ]
     },
     "metadata": {},
     "output_type": "display_data"
    }
   ],
   "source": [
    "plt.figure(figsize=(8,8))\n",
    "plt.hist(df_no_nan.votes_percent)\n",
    "plt.title(\"Histogram of 'votes_percent'\")\n",
    "plt.ylabel('percent of votes needed that were received')"
   ]
  },
  {
   "cell_type": "markdown",
   "metadata": {},
   "source": [
    "'Votes_percent' field would make a good alternative to 'inducted' as an outcome for logistic regression, as it provides more variability than a binary (since we know the indiction threshold is 1.00), but fewer of the data points contain information about votes needed and received than for 'inducted', which is full for each data point. "
   ]
  },
  {
   "cell_type": "code",
   "execution_count": 19,
   "metadata": {
    "collapsed": false
   },
   "outputs": [
    {
     "data": {
      "text/plain": [
       "inducted\n",
       "0    Axes(0.125,0.125;0.775x0.775)\n",
       "1    Axes(0.125,0.125;0.775x0.775)\n",
       "Name: yearid, dtype: object"
      ]
     },
     "execution_count": 19,
     "metadata": {},
     "output_type": "execute_result"
    },
    {
     "data": {
      "image/png": "[encoded data removed]",
      "text/plain": [
       "<matplotlib.figure.Figure at 0x115ae61d0>"
      ]
     },
     "metadata": {},
     "output_type": "display_data"
    }
   ],
   "source": [
    "df_no_nan.groupby('inducted').yearid.plot(kind='hist',figsize = (6, 6),bins=20,\n",
    "                                   sharex=True, sharey=True,legend=True,\n",
    "                                title='Histogram of Voting Year\\n by Induction Decision')"
   ]
  },
  {
   "cell_type": "markdown",
   "metadata": {},
   "source": [
    "Success over time appears to increase, since fewer nominations are shown in recent years and the number of successful nominations looks approximately constant. "
   ]
  },
  {
   "cell_type": "code",
   "execution_count": 20,
   "metadata": {
    "collapsed": false,
    "scrolled": false
   },
   "outputs": [
    {
     "data": {
      "text/plain": [
       "<matplotlib.axes._subplots.AxesSubplot at 0x115b9fc18>"
      ]
     },
     "execution_count": 20,
     "metadata": {},
     "output_type": "execute_result"
    },
    {
     "data": {
      "image/png": "[encoded data removed]",
      "text/plain": [
       "<matplotlib.figure.Figure at 0x115a456d8>"
      ]
     },
     "metadata": {},
     "output_type": "display_data"
    }
   ],
   "source": [
    "df[df.inducted==1].category.value_counts().plot(kind='bar',\n",
    "                                title='Bar graph of Category of Hall of Fame Inductees')"
   ]
  },
  {
   "cell_type": "markdown",
   "metadata": {},
   "source": [
    "Many fewer nominees for categories besides Player; might make sense to stick with trying to predict only using Player data to reduce potential for noise from other categories. "
   ]
  },
  {
   "cell_type": "markdown",
   "metadata": {},
   "source": [
    "# Add more data"
   ]
  },
  {
   "cell_type": "markdown",
   "metadata": {},
   "source": [
    "Need to add data from the following tables: \n",
    "* MASTER - Player names, DOB, and biographical info\n",
    "* Fielding - Player teams, positions\n",
    "* Salaries - player salary data\n",
    "* AllStarFull - All-Star appearances\n",
    "* Teams - yearly stats and standings\n",
    "* PlayerAwards - awards given to individual players"
   ]
  },
  {
   "cell_type": "markdown",
   "metadata": {},
   "source": [
    "## Master Player Dataframe"
   ]
  },
  {
   "cell_type": "code",
   "execution_count": 21,
   "metadata": {
    "collapsed": false
   },
   "outputs": [
    {
     "data": {
      "text/html": [
       "<div>\n",
       "<table border=\"1\" class=\"dataframe\">\n",
       "  <thead>\n",
       "    <tr style=\"text-align: right;\">\n",
       "      <th></th>\n",
       "      <th>playerID</th>\n",
       "      <th>birthYear</th>\n",
       "      <th>birthMonth</th>\n",
       "      <th>birthDay</th>\n",
       "      <th>birthCountry</th>\n",
       "      <th>...</th>\n",
       "      <th>throws</th>\n",
       "      <th>debut</th>\n",
       "      <th>finalGame</th>\n",
       "      <th>retroID</th>\n",
       "      <th>bbrefID</th>\n",
       "    </tr>\n",
       "  </thead>\n",
       "  <tbody>\n",
       "    <tr>\n",
       "      <th>0</th>\n",
       "      <td>aardsda01</td>\n",
       "      <td>1981.0</td>\n",
       "      <td>12.0</td>\n",
       "      <td>27.0</td>\n",
       "      <td>USA</td>\n",
       "      <td>...</td>\n",
       "      <td>R</td>\n",
       "      <td>2004-04-06</td>\n",
       "      <td>2015-08-23</td>\n",
       "      <td>aardd001</td>\n",
       "      <td>aardsda01</td>\n",
       "    </tr>\n",
       "    <tr>\n",
       "      <th>1</th>\n",
       "      <td>aaronha01</td>\n",
       "      <td>1934.0</td>\n",
       "      <td>2.0</td>\n",
       "      <td>5.0</td>\n",
       "      <td>USA</td>\n",
       "      <td>...</td>\n",
       "      <td>R</td>\n",
       "      <td>1954-04-13</td>\n",
       "      <td>1976-10-03</td>\n",
       "      <td>aaroh101</td>\n",
       "      <td>aaronha01</td>\n",
       "    </tr>\n",
       "    <tr>\n",
       "      <th>2</th>\n",
       "      <td>aaronto01</td>\n",
       "      <td>1939.0</td>\n",
       "      <td>8.0</td>\n",
       "      <td>5.0</td>\n",
       "      <td>USA</td>\n",
       "      <td>...</td>\n",
       "      <td>R</td>\n",
       "      <td>1962-04-10</td>\n",
       "      <td>1971-09-26</td>\n",
       "      <td>aarot101</td>\n",
       "      <td>aaronto01</td>\n",
       "    </tr>\n",
       "    <tr>\n",
       "      <th>3</th>\n",
       "      <td>aasedo01</td>\n",
       "      <td>1954.0</td>\n",
       "      <td>9.0</td>\n",
       "      <td>8.0</td>\n",
       "      <td>USA</td>\n",
       "      <td>...</td>\n",
       "      <td>R</td>\n",
       "      <td>1977-07-26</td>\n",
       "      <td>1990-10-03</td>\n",
       "      <td>aased001</td>\n",
       "      <td>aasedo01</td>\n",
       "    </tr>\n",
       "    <tr>\n",
       "      <th>4</th>\n",
       "      <td>abadan01</td>\n",
       "      <td>1972.0</td>\n",
       "      <td>8.0</td>\n",
       "      <td>25.0</td>\n",
       "      <td>USA</td>\n",
       "      <td>...</td>\n",
       "      <td>L</td>\n",
       "      <td>2001-09-10</td>\n",
       "      <td>2006-04-13</td>\n",
       "      <td>abada001</td>\n",
       "      <td>abadan01</td>\n",
       "    </tr>\n",
       "  </tbody>\n",
       "</table>\n",
       "<p>5 rows × 24 columns</p>\n",
       "</div>"
      ],
      "text/plain": [
       "    playerID  birthYear  birthMonth  birthDay birthCountry    ...     throws  \\\n",
       "0  aardsda01     1981.0        12.0      27.0          USA    ...          R   \n",
       "1  aaronha01     1934.0         2.0       5.0          USA    ...          R   \n",
       "2  aaronto01     1939.0         8.0       5.0          USA    ...          R   \n",
       "3   aasedo01     1954.0         9.0       8.0          USA    ...          R   \n",
       "4   abadan01     1972.0         8.0      25.0          USA    ...          L   \n",
       "\n",
       "        debut   finalGame   retroID    bbrefID  \n",
       "0  2004-04-06  2015-08-23  aardd001  aardsda01  \n",
       "1  1954-04-13  1976-10-03  aaroh101  aaronha01  \n",
       "2  1962-04-10  1971-09-26  aarot101  aaronto01  \n",
       "3  1977-07-26  1990-10-03  aased001   aasedo01  \n",
       "4  2001-09-10  2006-04-13  abada001   abadan01  \n",
       "\n",
       "[5 rows x 24 columns]"
      ]
     },
     "execution_count": 21,
     "metadata": {},
     "output_type": "execute_result"
    }
   ],
   "source": [
    "player_df = pd.read_csv(os.path.join('baseballdatabank-master', 'core','Master.csv'))\n",
    "player_df.head()"
   ]
  },
  {
   "cell_type": "code",
   "execution_count": 22,
   "metadata": {
    "collapsed": false
   },
   "outputs": [
    {
     "name": "stdout",
     "output_type": "stream",
     "text": [
      "18846\n",
      "playerID, birthYear, birthMonth, birthDay, birthCountry, birthState, birthCity, deathYear, deathMonth, deathDay, deathCountry, deathState, deathCity, nameFirst, nameLast, nameGiven, weight, height, bats, throws, debut, finalGame, retroID, bbrefID\n"
     ]
    }
   ],
   "source": [
    "print(len(player_df))\n",
    "print(', '.join(player_df.columns.tolist()))"
   ]
  },
  {
   "cell_type": "code",
   "execution_count": 23,
   "metadata": {
    "collapsed": false
   },
   "outputs": [
    {
     "data": {
      "text/plain": [
       "USA          16504\n",
       "D.R.           643\n",
       "Venezuela      341\n",
       "P.R.           253\n",
       "CAN            244\n",
       "Cuba           198\n",
       "Name: birthCountry, dtype: int64"
      ]
     },
     "execution_count": 23,
     "metadata": {},
     "output_type": "execute_result"
    }
   ],
   "source": [
    "player_df.birthCountry.value_counts().iloc[:6]"
   ]
  },
  {
   "cell_type": "markdown",
   "metadata": {},
   "source": [
    "## Fielding Dataframe"
   ]
  },
  {
   "cell_type": "code",
   "execution_count": 24,
   "metadata": {
    "collapsed": false
   },
   "outputs": [
    {
     "data": {
      "text/html": [
       "<div>\n",
       "<table border=\"1\" class=\"dataframe\">\n",
       "  <thead>\n",
       "    <tr style=\"text-align: right;\">\n",
       "      <th></th>\n",
       "      <th>playerID</th>\n",
       "      <th>yearID</th>\n",
       "      <th>teamID</th>\n",
       "    </tr>\n",
       "  </thead>\n",
       "  <tbody>\n",
       "    <tr>\n",
       "      <th>0</th>\n",
       "      <td>abercda01</td>\n",
       "      <td>1871</td>\n",
       "      <td>TRO</td>\n",
       "    </tr>\n",
       "    <tr>\n",
       "      <th>1</th>\n",
       "      <td>addybo01</td>\n",
       "      <td>1871</td>\n",
       "      <td>RC1</td>\n",
       "    </tr>\n",
       "    <tr>\n",
       "      <th>2</th>\n",
       "      <td>addybo01</td>\n",
       "      <td>1871</td>\n",
       "      <td>RC1</td>\n",
       "    </tr>\n",
       "    <tr>\n",
       "      <th>3</th>\n",
       "      <td>allisar01</td>\n",
       "      <td>1871</td>\n",
       "      <td>CL1</td>\n",
       "    </tr>\n",
       "    <tr>\n",
       "      <th>4</th>\n",
       "      <td>allisar01</td>\n",
       "      <td>1871</td>\n",
       "      <td>CL1</td>\n",
       "    </tr>\n",
       "  </tbody>\n",
       "</table>\n",
       "</div>"
      ],
      "text/plain": [
       "    playerID  yearID teamID\n",
       "0  abercda01    1871    TRO\n",
       "1   addybo01    1871    RC1\n",
       "2   addybo01    1871    RC1\n",
       "3  allisar01    1871    CL1\n",
       "4  allisar01    1871    CL1"
      ]
     },
     "execution_count": 24,
     "metadata": {},
     "output_type": "execute_result"
    }
   ],
   "source": [
    "fielding_df = pd.read_csv(os.path.join('baseballdatabank-master', 'core','Fielding.csv'))\n",
    "fielding_df = fielding_df[['playerID','yearID','teamID']]\n",
    "fielding_df.head()"
   ]
  },
  {
   "cell_type": "markdown",
   "metadata": {},
   "source": [
    "2.4 Fielding Table\n",
    "\n",
    "* playerID: Player ID code\n",
    "* yearID: Year\n",
    "* stint: player's stint (order of appearances within a season)\n",
    "* teamID: Team"
   ]
  },
  {
   "cell_type": "markdown",
   "metadata": {},
   "source": [
    "Using this data to match up players to their teams for each year so I can aggregate team information like Wins "
   ]
  },
  {
   "cell_type": "markdown",
   "metadata": {},
   "source": [
    "## Salaries Dataframe"
   ]
  },
  {
   "cell_type": "markdown",
   "metadata": {},
   "source": [
    "Salary information will be used as a potential feature."
   ]
  },
  {
   "cell_type": "code",
   "execution_count": 25,
   "metadata": {
    "collapsed": false
   },
   "outputs": [
    {
     "data": {
      "text/html": [
       "<div>\n",
       "<table border=\"1\" class=\"dataframe\">\n",
       "  <thead>\n",
       "    <tr style=\"text-align: right;\">\n",
       "      <th></th>\n",
       "      <th>salaryYear</th>\n",
       "      <th>teamID</th>\n",
       "      <th>lgID</th>\n",
       "      <th>playerID</th>\n",
       "      <th>salary</th>\n",
       "    </tr>\n",
       "  </thead>\n",
       "  <tbody>\n",
       "    <tr>\n",
       "      <th>0</th>\n",
       "      <td>1985</td>\n",
       "      <td>ATL</td>\n",
       "      <td>NL</td>\n",
       "      <td>barkele01</td>\n",
       "      <td>870000</td>\n",
       "    </tr>\n",
       "    <tr>\n",
       "      <th>1</th>\n",
       "      <td>1985</td>\n",
       "      <td>ATL</td>\n",
       "      <td>NL</td>\n",
       "      <td>bedrost01</td>\n",
       "      <td>550000</td>\n",
       "    </tr>\n",
       "    <tr>\n",
       "      <th>2</th>\n",
       "      <td>1985</td>\n",
       "      <td>ATL</td>\n",
       "      <td>NL</td>\n",
       "      <td>benedbr01</td>\n",
       "      <td>545000</td>\n",
       "    </tr>\n",
       "    <tr>\n",
       "      <th>3</th>\n",
       "      <td>1985</td>\n",
       "      <td>ATL</td>\n",
       "      <td>NL</td>\n",
       "      <td>campri01</td>\n",
       "      <td>633333</td>\n",
       "    </tr>\n",
       "    <tr>\n",
       "      <th>4</th>\n",
       "      <td>1985</td>\n",
       "      <td>ATL</td>\n",
       "      <td>NL</td>\n",
       "      <td>ceronri01</td>\n",
       "      <td>625000</td>\n",
       "    </tr>\n",
       "  </tbody>\n",
       "</table>\n",
       "</div>"
      ],
      "text/plain": [
       "   salaryYear teamID lgID   playerID  salary\n",
       "0        1985    ATL   NL  barkele01  870000\n",
       "1        1985    ATL   NL  bedrost01  550000\n",
       "2        1985    ATL   NL  benedbr01  545000\n",
       "3        1985    ATL   NL   campri01  633333\n",
       "4        1985    ATL   NL  ceronri01  625000"
      ]
     },
     "execution_count": 25,
     "metadata": {},
     "output_type": "execute_result"
    }
   ],
   "source": [
    "salaries_df = pd.read_csv(os.path.join('baseballdatabank-master', 'core','Salaries.csv'))\n",
    "salaries_df = salaries_df.rename(columns={'yearID': 'salaryYear'})\n",
    "salaries_df.head()"
   ]
  },
  {
   "cell_type": "markdown",
   "metadata": {},
   "source": [
    "2.15 Salaries table\n",
    "\n",
    "* yearID:         Year\n",
    "* teamID:         Team\n",
    "* lgID:           League\n",
    "* playerID:       Player ID code\n",
    "* salary:         Salary"
   ]
  },
  {
   "cell_type": "code",
   "execution_count": 26,
   "metadata": {
    "collapsed": false
   },
   "outputs": [
    {
     "name": "stdout",
     "output_type": "stream",
     "text": [
      "25575\n",
      "salaryYear, teamID, lgID, playerID, salary\n"
     ]
    }
   ],
   "source": [
    "print(len(salaries_df))\n",
    "print(', '.join(salaries_df.columns.tolist()))"
   ]
  },
  {
   "cell_type": "code",
   "execution_count": 27,
   "metadata": {
    "collapsed": false
   },
   "outputs": [
    {
     "data": {
      "text/plain": [
       "playerID\n",
       "aardsda01    1322821\n",
       "aasedo01      575000\n",
       "abadan01      327000\n",
       "abadfe01      629100\n",
       "abbotje01     246250\n",
       "              ...   \n",
       "zuletju01     200000\n",
       "zumayjo01     701166\n",
       "zuninmi01     513800\n",
       "zupcibo01     143666\n",
       "zuvelpa01     145000\n",
       "Name: mean_salary, dtype: int64"
      ]
     },
     "execution_count": 27,
     "metadata": {},
     "output_type": "execute_result"
    }
   ],
   "source": [
    "# Features mean_salary, max_salary, and sum_salary were all engineered, one of which \n",
    "# will be ultimately chosen as a potential feature\n",
    "mean_salary_series = salaries_df.groupby('playerID').salary.mean()\n",
    "mean_salary_series = mean_salary_series.rename('mean_salary')\n",
    "mean_salary_series"
   ]
  },
  {
   "cell_type": "code",
   "execution_count": 28,
   "metadata": {
    "collapsed": true
   },
   "outputs": [],
   "source": [
    "sum_salary_series = salaries_df.groupby('playerID').salary.sum()\n",
    "sum_salary_series = sum_salary_series.rename('sum_salary')\n",
    "\n",
    "max_salary_series = salaries_df.groupby('playerID').salary.max()\n",
    "max_salary_series = max_salary_series.rename('max_salary')"
   ]
  },
  {
   "cell_type": "markdown",
   "metadata": {},
   "source": [
    "## Teams Dataframe"
   ]
  },
  {
   "cell_type": "markdown",
   "metadata": {},
   "source": [
    "Information about a Team's season record will be used as a potential feature, must be organized by Team and year and joined with fielding table to aggregate for individual players"
   ]
  },
  {
   "cell_type": "code",
   "execution_count": 29,
   "metadata": {
    "collapsed": false
   },
   "outputs": [
    {
     "data": {
      "text/html": [
       "<div>\n",
       "<table border=\"1\" class=\"dataframe\">\n",
       "  <thead>\n",
       "    <tr style=\"text-align: right;\">\n",
       "      <th></th>\n",
       "      <th>yearID</th>\n",
       "      <th>lgID</th>\n",
       "      <th>teamID</th>\n",
       "      <th>franchID</th>\n",
       "      <th>divID</th>\n",
       "      <th>...</th>\n",
       "      <th>BPF</th>\n",
       "      <th>PPF</th>\n",
       "      <th>teamIDBR</th>\n",
       "      <th>teamIDlahman45</th>\n",
       "      <th>teamIDretro</th>\n",
       "    </tr>\n",
       "  </thead>\n",
       "  <tbody>\n",
       "    <tr>\n",
       "      <th>0</th>\n",
       "      <td>1871</td>\n",
       "      <td>NaN</td>\n",
       "      <td>BS1</td>\n",
       "      <td>BNA</td>\n",
       "      <td>NaN</td>\n",
       "      <td>...</td>\n",
       "      <td>103</td>\n",
       "      <td>98</td>\n",
       "      <td>BOS</td>\n",
       "      <td>BS1</td>\n",
       "      <td>BS1</td>\n",
       "    </tr>\n",
       "    <tr>\n",
       "      <th>1</th>\n",
       "      <td>1871</td>\n",
       "      <td>NaN</td>\n",
       "      <td>CH1</td>\n",
       "      <td>CNA</td>\n",
       "      <td>NaN</td>\n",
       "      <td>...</td>\n",
       "      <td>104</td>\n",
       "      <td>102</td>\n",
       "      <td>CHI</td>\n",
       "      <td>CH1</td>\n",
       "      <td>CH1</td>\n",
       "    </tr>\n",
       "    <tr>\n",
       "      <th>2</th>\n",
       "      <td>1871</td>\n",
       "      <td>NaN</td>\n",
       "      <td>CL1</td>\n",
       "      <td>CFC</td>\n",
       "      <td>NaN</td>\n",
       "      <td>...</td>\n",
       "      <td>96</td>\n",
       "      <td>100</td>\n",
       "      <td>CLE</td>\n",
       "      <td>CL1</td>\n",
       "      <td>CL1</td>\n",
       "    </tr>\n",
       "    <tr>\n",
       "      <th>3</th>\n",
       "      <td>1871</td>\n",
       "      <td>NaN</td>\n",
       "      <td>FW1</td>\n",
       "      <td>KEK</td>\n",
       "      <td>NaN</td>\n",
       "      <td>...</td>\n",
       "      <td>101</td>\n",
       "      <td>107</td>\n",
       "      <td>KEK</td>\n",
       "      <td>FW1</td>\n",
       "      <td>FW1</td>\n",
       "    </tr>\n",
       "    <tr>\n",
       "      <th>4</th>\n",
       "      <td>1871</td>\n",
       "      <td>NaN</td>\n",
       "      <td>NY2</td>\n",
       "      <td>NNA</td>\n",
       "      <td>NaN</td>\n",
       "      <td>...</td>\n",
       "      <td>90</td>\n",
       "      <td>88</td>\n",
       "      <td>NYU</td>\n",
       "      <td>NY2</td>\n",
       "      <td>NY2</td>\n",
       "    </tr>\n",
       "  </tbody>\n",
       "</table>\n",
       "<p>5 rows × 48 columns</p>\n",
       "</div>"
      ],
      "text/plain": [
       "   yearID lgID teamID franchID divID     ...       BPF  PPF  teamIDBR  \\\n",
       "0    1871  NaN    BS1      BNA   NaN     ...       103   98       BOS   \n",
       "1    1871  NaN    CH1      CNA   NaN     ...       104  102       CHI   \n",
       "2    1871  NaN    CL1      CFC   NaN     ...        96  100       CLE   \n",
       "3    1871  NaN    FW1      KEK   NaN     ...       101  107       KEK   \n",
       "4    1871  NaN    NY2      NNA   NaN     ...        90   88       NYU   \n",
       "\n",
       "   teamIDlahman45  teamIDretro  \n",
       "0             BS1          BS1  \n",
       "1             CH1          CH1  \n",
       "2             CL1          CL1  \n",
       "3             FW1          FW1  \n",
       "4             NY2          NY2  \n",
       "\n",
       "[5 rows x 48 columns]"
      ]
     },
     "execution_count": 29,
     "metadata": {},
     "output_type": "execute_result"
    }
   ],
   "source": [
    "teams_df = pd.read_csv(os.path.join('baseballdatabank-master', 'core','Teams.csv'))\n",
    "teams_df.head()"
   ]
  },
  {
   "cell_type": "code",
   "execution_count": 30,
   "metadata": {
    "collapsed": false
   },
   "outputs": [
    {
     "name": "stdout",
     "output_type": "stream",
     "text": [
      "2805\n",
      "yearID, lgID, teamID, franchID, divID, Rank, G, Ghome, W, L, DivWin, WCWin, LgWin, WSWin, R, AB, H, 2B, 3B, HR, BB, SO, SB, CS, HBP, SF, RA, ER, ERA, CG, SHO, SV, IPouts, HA, HRA, BBA, SOA, E, DP, FP, name, park, attendance, BPF, PPF, teamIDBR, teamIDlahman45, teamIDretro\n"
     ]
    }
   ],
   "source": [
    "print(len(teams_df))\n",
    "print(', '.join(teams_df.columns.tolist()))"
   ]
  },
  {
   "cell_type": "markdown",
   "metadata": {},
   "source": [
    "2.8  Teams table (abbreviated)\n",
    "\n",
    "* yearID:         Year\n",
    "* lgID:           League\n",
    "* teamID:         Team\n",
    "* franchID:       Franchise (links to TeamsFranchise table)\n",
    "* divID:          Team's division\n",
    "* Rank:           Position in final standings\n",
    "* G:              Games played\n",
    "* GHome:          Games played at home\n",
    "* W:              Wins\n",
    "* L:              Losses\n",
    "* DivWin:         Division Winner (Y or N)\n",
    "* WCWin:          Wild Card Winner (Y or N)\n",
    "* LgWin:          League Champion(Y or N)\n",
    "* WSWin:          World Series Winner (Y or N)\n",
    "* R:              Runs scored"
   ]
  },
  {
   "cell_type": "code",
   "execution_count": 31,
   "metadata": {
    "collapsed": true
   },
   "outputs": [],
   "source": [
    "# Keep only columns I want\n",
    "team_stats_by_year = teams_df[['yearID','teamID','W','L','G','DivWin','WCWin','LgWin','WSWin']]"
   ]
  },
  {
   "cell_type": "code",
   "execution_count": 32,
   "metadata": {
    "collapsed": false
   },
   "outputs": [
    {
     "data": {
      "text/html": [
       "<div>\n",
       "<table border=\"1\" class=\"dataframe\">\n",
       "  <thead>\n",
       "    <tr style=\"text-align: right;\">\n",
       "      <th></th>\n",
       "      <th>yearID</th>\n",
       "      <th>teamID</th>\n",
       "      <th>W</th>\n",
       "      <th>L</th>\n",
       "      <th>G</th>\n",
       "      <th>DivWin</th>\n",
       "      <th>WCWin</th>\n",
       "      <th>LgWin</th>\n",
       "      <th>WSWin</th>\n",
       "    </tr>\n",
       "  </thead>\n",
       "  <tbody>\n",
       "    <tr>\n",
       "      <th>147</th>\n",
       "      <td>1884</td>\n",
       "      <td>PRO</td>\n",
       "      <td>84</td>\n",
       "      <td>28</td>\n",
       "      <td>114</td>\n",
       "      <td>NaN</td>\n",
       "      <td>NaN</td>\n",
       "      <td>Y</td>\n",
       "      <td>Y</td>\n",
       "    </tr>\n",
       "    <tr>\n",
       "      <th>186</th>\n",
       "      <td>1886</td>\n",
       "      <td>SL4</td>\n",
       "      <td>93</td>\n",
       "      <td>46</td>\n",
       "      <td>139</td>\n",
       "      <td>NaN</td>\n",
       "      <td>NaN</td>\n",
       "      <td>Y</td>\n",
       "      <td>Y</td>\n",
       "    </tr>\n",
       "    <tr>\n",
       "      <th>195</th>\n",
       "      <td>1887</td>\n",
       "      <td>DTN</td>\n",
       "      <td>79</td>\n",
       "      <td>45</td>\n",
       "      <td>127</td>\n",
       "      <td>NaN</td>\n",
       "      <td>NaN</td>\n",
       "      <td>Y</td>\n",
       "      <td>Y</td>\n",
       "    </tr>\n",
       "    <tr>\n",
       "      <th>215</th>\n",
       "      <td>1888</td>\n",
       "      <td>NY1</td>\n",
       "      <td>84</td>\n",
       "      <td>47</td>\n",
       "      <td>138</td>\n",
       "      <td>NaN</td>\n",
       "      <td>NaN</td>\n",
       "      <td>Y</td>\n",
       "      <td>Y</td>\n",
       "    </tr>\n",
       "    <tr>\n",
       "      <th>231</th>\n",
       "      <td>1889</td>\n",
       "      <td>NY1</td>\n",
       "      <td>83</td>\n",
       "      <td>43</td>\n",
       "      <td>131</td>\n",
       "      <td>NaN</td>\n",
       "      <td>NaN</td>\n",
       "      <td>Y</td>\n",
       "      <td>Y</td>\n",
       "    </tr>\n",
       "    <tr>\n",
       "      <th>...</th>\n",
       "      <td>...</td>\n",
       "      <td>...</td>\n",
       "      <td>...</td>\n",
       "      <td>...</td>\n",
       "      <td>...</td>\n",
       "      <td>...</td>\n",
       "      <td>...</td>\n",
       "      <td>...</td>\n",
       "      <td>...</td>\n",
       "    </tr>\n",
       "    <tr>\n",
       "      <th>2680</th>\n",
       "      <td>2011</td>\n",
       "      <td>SLN</td>\n",
       "      <td>90</td>\n",
       "      <td>72</td>\n",
       "      <td>162</td>\n",
       "      <td>N</td>\n",
       "      <td>Y</td>\n",
       "      <td>Y</td>\n",
       "      <td>Y</td>\n",
       "    </tr>\n",
       "    <tr>\n",
       "      <th>2709</th>\n",
       "      <td>2012</td>\n",
       "      <td>SFN</td>\n",
       "      <td>94</td>\n",
       "      <td>68</td>\n",
       "      <td>162</td>\n",
       "      <td>Y</td>\n",
       "      <td>N</td>\n",
       "      <td>Y</td>\n",
       "      <td>Y</td>\n",
       "    </tr>\n",
       "    <tr>\n",
       "      <th>2718</th>\n",
       "      <td>2013</td>\n",
       "      <td>BOS</td>\n",
       "      <td>97</td>\n",
       "      <td>65</td>\n",
       "      <td>162</td>\n",
       "      <td>Y</td>\n",
       "      <td>N</td>\n",
       "      <td>Y</td>\n",
       "      <td>Y</td>\n",
       "    </tr>\n",
       "    <tr>\n",
       "      <th>2769</th>\n",
       "      <td>2014</td>\n",
       "      <td>SFN</td>\n",
       "      <td>88</td>\n",
       "      <td>74</td>\n",
       "      <td>162</td>\n",
       "      <td>N</td>\n",
       "      <td>Y</td>\n",
       "      <td>Y</td>\n",
       "      <td>Y</td>\n",
       "    </tr>\n",
       "    <tr>\n",
       "      <th>2775</th>\n",
       "      <td>2015</td>\n",
       "      <td>KCA</td>\n",
       "      <td>95</td>\n",
       "      <td>67</td>\n",
       "      <td>162</td>\n",
       "      <td>Y</td>\n",
       "      <td>N</td>\n",
       "      <td>Y</td>\n",
       "      <td>Y</td>\n",
       "    </tr>\n",
       "  </tbody>\n",
       "</table>\n",
       "<p>116 rows × 9 columns</p>\n",
       "</div>"
      ],
      "text/plain": [
       "      yearID teamID   W   L    G DivWin WCWin LgWin WSWin\n",
       "147     1884    PRO  84  28  114    NaN   NaN     Y     Y\n",
       "186     1886    SL4  93  46  139    NaN   NaN     Y     Y\n",
       "195     1887    DTN  79  45  127    NaN   NaN     Y     Y\n",
       "215     1888    NY1  84  47  138    NaN   NaN     Y     Y\n",
       "231     1889    NY1  83  43  131    NaN   NaN     Y     Y\n",
       "...      ...    ...  ..  ..  ...    ...   ...   ...   ...\n",
       "2680    2011    SLN  90  72  162      N     Y     Y     Y\n",
       "2709    2012    SFN  94  68  162      Y     N     Y     Y\n",
       "2718    2013    BOS  97  65  162      Y     N     Y     Y\n",
       "2769    2014    SFN  88  74  162      N     Y     Y     Y\n",
       "2775    2015    KCA  95  67  162      Y     N     Y     Y\n",
       "\n",
       "[116 rows x 9 columns]"
      ]
     },
     "execution_count": 32,
     "metadata": {},
     "output_type": "execute_result"
    }
   ],
   "source": [
    "team_stats_by_year[team_stats_by_year.WSWin == 'Y']"
   ]
  },
  {
   "cell_type": "markdown",
   "metadata": {},
   "source": [
    "## Feature engineering - Postseason wins"
   ]
  },
  {
   "cell_type": "code",
   "execution_count": 33,
   "metadata": {
    "collapsed": false
   },
   "outputs": [
    {
     "name": "stderr",
     "output_type": "stream",
     "text": [
      "/Users/Elizabeth/anaconda3/lib/python3.5/site-packages/pandas/core/indexing.py:288: SettingWithCopyWarning: \n",
      "A value is trying to be set on a copy of a slice from a DataFrame.\n",
      "Try using .loc[row_indexer,col_indexer] = value instead\n",
      "\n",
      "See the caveats in the documentation: http://pandas.pydata.org/pandas-docs/stable/indexing.html#indexing-view-versus-copy\n",
      "  self.obj[key] = _infer_fill_value(value)\n",
      "/Users/Elizabeth/anaconda3/lib/python3.5/site-packages/pandas/core/indexing.py:465: SettingWithCopyWarning: \n",
      "A value is trying to be set on a copy of a slice from a DataFrame.\n",
      "Try using .loc[row_indexer,col_indexer] = value instead\n",
      "\n",
      "See the caveats in the documentation: http://pandas.pydata.org/pandas-docs/stable/indexing.html#indexing-view-versus-copy\n",
      "  self.obj[item] = s\n"
     ]
    }
   ],
   "source": [
    "# First make a new feature 'Win_pct' of the win percentage of each team that year\n",
    "team_stats_by_year.loc[:,'Win_pct'] = team_stats_by_year.apply(lambda x: x['W'] / float(x['G']),axis=1)\n",
    "\n",
    "# change 'y' or 'n' variables to binary\n",
    "team_stats_by_year.loc[:,'DivWin'] = team_stats_by_year['DivWin'].map(lambda x: 1 if x =='Y' else 0)\n",
    "team_stats_by_year.loc[:,'WCWin'] = team_stats_by_year['WCWin'].map(lambda x: 1 if x =='Y' else 0)\n",
    "team_stats_by_year.loc[:,'LgWin'] = team_stats_by_year['LgWin'].map(lambda x: 1 if x =='Y' else 0)\n",
    "team_stats_by_year.loc[:,'WSWin'] = team_stats_by_year['WSWin'].map(lambda x: 1 if x =='Y' else 0)\n",
    "\n"
   ]
  },
  {
   "cell_type": "code",
   "execution_count": 34,
   "metadata": {
    "collapsed": false
   },
   "outputs": [
    {
     "name": "stderr",
     "output_type": "stream",
     "text": [
      "/Users/Elizabeth/anaconda3/lib/python3.5/site-packages/pandas/core/indexing.py:288: SettingWithCopyWarning: \n",
      "A value is trying to be set on a copy of a slice from a DataFrame.\n",
      "Try using .loc[row_indexer,col_indexer] = value instead\n",
      "\n",
      "See the caveats in the documentation: http://pandas.pydata.org/pandas-docs/stable/indexing.html#indexing-view-versus-copy\n",
      "  self.obj[key] = _infer_fill_value(value)\n",
      "/Users/Elizabeth/anaconda3/lib/python3.5/site-packages/pandas/core/indexing.py:465: SettingWithCopyWarning: \n",
      "A value is trying to be set on a copy of a slice from a DataFrame.\n",
      "Try using .loc[row_indexer,col_indexer] = value instead\n",
      "\n",
      "See the caveats in the documentation: http://pandas.pydata.org/pandas-docs/stable/indexing.html#indexing-view-versus-copy\n",
      "  self.obj[item] = s\n"
     ]
    },
    {
     "data": {
      "text/html": [
       "<div>\n",
       "<table border=\"1\" class=\"dataframe\">\n",
       "  <thead>\n",
       "    <tr style=\"text-align: right;\">\n",
       "      <th></th>\n",
       "      <th>yearID</th>\n",
       "      <th>teamID</th>\n",
       "      <th>W</th>\n",
       "      <th>L</th>\n",
       "      <th>G</th>\n",
       "      <th>...</th>\n",
       "      <th>WCWin</th>\n",
       "      <th>LgWin</th>\n",
       "      <th>WSWin</th>\n",
       "      <th>Win_pct</th>\n",
       "      <th>Tot_Wins</th>\n",
       "    </tr>\n",
       "  </thead>\n",
       "  <tbody>\n",
       "    <tr>\n",
       "      <th>0</th>\n",
       "      <td>1871</td>\n",
       "      <td>BS1</td>\n",
       "      <td>20</td>\n",
       "      <td>10</td>\n",
       "      <td>31</td>\n",
       "      <td>...</td>\n",
       "      <td>0</td>\n",
       "      <td>0</td>\n",
       "      <td>0</td>\n",
       "      <td>0.645161</td>\n",
       "      <td>0</td>\n",
       "    </tr>\n",
       "    <tr>\n",
       "      <th>1</th>\n",
       "      <td>1871</td>\n",
       "      <td>CH1</td>\n",
       "      <td>19</td>\n",
       "      <td>9</td>\n",
       "      <td>28</td>\n",
       "      <td>...</td>\n",
       "      <td>0</td>\n",
       "      <td>0</td>\n",
       "      <td>0</td>\n",
       "      <td>0.678571</td>\n",
       "      <td>0</td>\n",
       "    </tr>\n",
       "    <tr>\n",
       "      <th>2</th>\n",
       "      <td>1871</td>\n",
       "      <td>CL1</td>\n",
       "      <td>10</td>\n",
       "      <td>19</td>\n",
       "      <td>29</td>\n",
       "      <td>...</td>\n",
       "      <td>0</td>\n",
       "      <td>0</td>\n",
       "      <td>0</td>\n",
       "      <td>0.344828</td>\n",
       "      <td>0</td>\n",
       "    </tr>\n",
       "    <tr>\n",
       "      <th>3</th>\n",
       "      <td>1871</td>\n",
       "      <td>FW1</td>\n",
       "      <td>7</td>\n",
       "      <td>12</td>\n",
       "      <td>19</td>\n",
       "      <td>...</td>\n",
       "      <td>0</td>\n",
       "      <td>0</td>\n",
       "      <td>0</td>\n",
       "      <td>0.368421</td>\n",
       "      <td>0</td>\n",
       "    </tr>\n",
       "    <tr>\n",
       "      <th>4</th>\n",
       "      <td>1871</td>\n",
       "      <td>NY2</td>\n",
       "      <td>16</td>\n",
       "      <td>17</td>\n",
       "      <td>33</td>\n",
       "      <td>...</td>\n",
       "      <td>0</td>\n",
       "      <td>0</td>\n",
       "      <td>0</td>\n",
       "      <td>0.484848</td>\n",
       "      <td>0</td>\n",
       "    </tr>\n",
       "    <tr>\n",
       "      <th>...</th>\n",
       "      <td>...</td>\n",
       "      <td>...</td>\n",
       "      <td>...</td>\n",
       "      <td>...</td>\n",
       "      <td>...</td>\n",
       "      <td>...</td>\n",
       "      <td>...</td>\n",
       "      <td>...</td>\n",
       "      <td>...</td>\n",
       "      <td>...</td>\n",
       "      <td>...</td>\n",
       "    </tr>\n",
       "    <tr>\n",
       "      <th>2800</th>\n",
       "      <td>2015</td>\n",
       "      <td>LAN</td>\n",
       "      <td>92</td>\n",
       "      <td>70</td>\n",
       "      <td>162</td>\n",
       "      <td>...</td>\n",
       "      <td>0</td>\n",
       "      <td>0</td>\n",
       "      <td>0</td>\n",
       "      <td>0.567901</td>\n",
       "      <td>1</td>\n",
       "    </tr>\n",
       "    <tr>\n",
       "      <th>2801</th>\n",
       "      <td>2015</td>\n",
       "      <td>SFN</td>\n",
       "      <td>84</td>\n",
       "      <td>78</td>\n",
       "      <td>162</td>\n",
       "      <td>...</td>\n",
       "      <td>0</td>\n",
       "      <td>0</td>\n",
       "      <td>0</td>\n",
       "      <td>0.518519</td>\n",
       "      <td>0</td>\n",
       "    </tr>\n",
       "    <tr>\n",
       "      <th>2802</th>\n",
       "      <td>2015</td>\n",
       "      <td>ARI</td>\n",
       "      <td>79</td>\n",
       "      <td>83</td>\n",
       "      <td>162</td>\n",
       "      <td>...</td>\n",
       "      <td>0</td>\n",
       "      <td>0</td>\n",
       "      <td>0</td>\n",
       "      <td>0.487654</td>\n",
       "      <td>0</td>\n",
       "    </tr>\n",
       "    <tr>\n",
       "      <th>2803</th>\n",
       "      <td>2015</td>\n",
       "      <td>SDN</td>\n",
       "      <td>74</td>\n",
       "      <td>88</td>\n",
       "      <td>162</td>\n",
       "      <td>...</td>\n",
       "      <td>0</td>\n",
       "      <td>0</td>\n",
       "      <td>0</td>\n",
       "      <td>0.456790</td>\n",
       "      <td>0</td>\n",
       "    </tr>\n",
       "    <tr>\n",
       "      <th>2804</th>\n",
       "      <td>2015</td>\n",
       "      <td>COL</td>\n",
       "      <td>68</td>\n",
       "      <td>94</td>\n",
       "      <td>162</td>\n",
       "      <td>...</td>\n",
       "      <td>0</td>\n",
       "      <td>0</td>\n",
       "      <td>0</td>\n",
       "      <td>0.419753</td>\n",
       "      <td>0</td>\n",
       "    </tr>\n",
       "  </tbody>\n",
       "</table>\n",
       "<p>2805 rows × 11 columns</p>\n",
       "</div>"
      ],
      "text/plain": [
       "      yearID teamID   W   L    G    ...     WCWin  LgWin  WSWin   Win_pct  \\\n",
       "0       1871    BS1  20  10   31    ...         0      0      0  0.645161   \n",
       "1       1871    CH1  19   9   28    ...         0      0      0  0.678571   \n",
       "2       1871    CL1  10  19   29    ...         0      0      0  0.344828   \n",
       "3       1871    FW1   7  12   19    ...         0      0      0  0.368421   \n",
       "4       1871    NY2  16  17   33    ...         0      0      0  0.484848   \n",
       "...      ...    ...  ..  ..  ...    ...       ...    ...    ...       ...   \n",
       "2800    2015    LAN  92  70  162    ...         0      0      0  0.567901   \n",
       "2801    2015    SFN  84  78  162    ...         0      0      0  0.518519   \n",
       "2802    2015    ARI  79  83  162    ...         0      0      0  0.487654   \n",
       "2803    2015    SDN  74  88  162    ...         0      0      0  0.456790   \n",
       "2804    2015    COL  68  94  162    ...         0      0      0  0.419753   \n",
       "\n",
       "      Tot_Wins  \n",
       "0            0  \n",
       "1            0  \n",
       "2            0  \n",
       "3            0  \n",
       "4            0  \n",
       "...        ...  \n",
       "2800         1  \n",
       "2801         0  \n",
       "2802         0  \n",
       "2803         0  \n",
       "2804         0  \n",
       "\n",
       "[2805 rows x 11 columns]"
      ]
     },
     "execution_count": 34,
     "metadata": {},
     "output_type": "execute_result"
    }
   ],
   "source": [
    "# make new feature of if teams won in the post season in that year\n",
    "team_stats_by_year.loc[:,'Tot_Wins'] = team_stats_by_year.apply(lambda x: \\\n",
    "                                        x[['DivWin','WCWin','LgWin','WSWin']].sum(),axis=1)\n",
    "team_stats_by_year"
   ]
  },
  {
   "cell_type": "code",
   "execution_count": 35,
   "metadata": {
    "collapsed": false
   },
   "outputs": [
    {
     "data": {
      "text/plain": [
       "DivWin      230\n",
       "WCWin        50\n",
       "LgWin       272\n",
       "WSWin       116\n",
       "Tot_Wins    668\n",
       "dtype: int64"
      ]
     },
     "execution_count": 35,
     "metadata": {},
     "output_type": "execute_result"
    }
   ],
   "source": [
    "team_stats_by_year[['DivWin','WCWin','LgWin','WSWin','Tot_Wins']].sum(axis=0)"
   ]
  },
  {
   "cell_type": "markdown",
   "metadata": {},
   "source": [
    "## All-star Dataframe"
   ]
  },
  {
   "cell_type": "markdown",
   "metadata": {},
   "source": [
    "Number of all-star game appearances is a good potential feature"
   ]
  },
  {
   "cell_type": "code",
   "execution_count": 36,
   "metadata": {
    "collapsed": false
   },
   "outputs": [
    {
     "data": {
      "text/html": [
       "<div>\n",
       "<table border=\"1\" class=\"dataframe\">\n",
       "  <thead>\n",
       "    <tr style=\"text-align: right;\">\n",
       "      <th></th>\n",
       "      <th>playerID</th>\n",
       "      <th>yearID</th>\n",
       "      <th>gameNum</th>\n",
       "      <th>gameID</th>\n",
       "      <th>teamID</th>\n",
       "      <th>lgID</th>\n",
       "      <th>GP</th>\n",
       "      <th>startingPos</th>\n",
       "    </tr>\n",
       "  </thead>\n",
       "  <tbody>\n",
       "    <tr>\n",
       "      <th>0</th>\n",
       "      <td>gomezle01</td>\n",
       "      <td>1933</td>\n",
       "      <td>0</td>\n",
       "      <td>ALS193307060</td>\n",
       "      <td>NYA</td>\n",
       "      <td>AL</td>\n",
       "      <td>1.0</td>\n",
       "      <td>1.0</td>\n",
       "    </tr>\n",
       "    <tr>\n",
       "      <th>1</th>\n",
       "      <td>ferreri01</td>\n",
       "      <td>1933</td>\n",
       "      <td>0</td>\n",
       "      <td>ALS193307060</td>\n",
       "      <td>BOS</td>\n",
       "      <td>AL</td>\n",
       "      <td>1.0</td>\n",
       "      <td>2.0</td>\n",
       "    </tr>\n",
       "    <tr>\n",
       "      <th>2</th>\n",
       "      <td>gehrilo01</td>\n",
       "      <td>1933</td>\n",
       "      <td>0</td>\n",
       "      <td>ALS193307060</td>\n",
       "      <td>NYA</td>\n",
       "      <td>AL</td>\n",
       "      <td>1.0</td>\n",
       "      <td>3.0</td>\n",
       "    </tr>\n",
       "    <tr>\n",
       "      <th>3</th>\n",
       "      <td>gehrich01</td>\n",
       "      <td>1933</td>\n",
       "      <td>0</td>\n",
       "      <td>ALS193307060</td>\n",
       "      <td>DET</td>\n",
       "      <td>AL</td>\n",
       "      <td>1.0</td>\n",
       "      <td>4.0</td>\n",
       "    </tr>\n",
       "    <tr>\n",
       "      <th>4</th>\n",
       "      <td>dykesji01</td>\n",
       "      <td>1933</td>\n",
       "      <td>0</td>\n",
       "      <td>ALS193307060</td>\n",
       "      <td>CHA</td>\n",
       "      <td>AL</td>\n",
       "      <td>1.0</td>\n",
       "      <td>5.0</td>\n",
       "    </tr>\n",
       "  </tbody>\n",
       "</table>\n",
       "</div>"
      ],
      "text/plain": [
       "    playerID  yearID  gameNum        gameID teamID lgID   GP  startingPos\n",
       "0  gomezle01    1933        0  ALS193307060    NYA   AL  1.0          1.0\n",
       "1  ferreri01    1933        0  ALS193307060    BOS   AL  1.0          2.0\n",
       "2  gehrilo01    1933        0  ALS193307060    NYA   AL  1.0          3.0\n",
       "3  gehrich01    1933        0  ALS193307060    DET   AL  1.0          4.0\n",
       "4  dykesji01    1933        0  ALS193307060    CHA   AL  1.0          5.0"
      ]
     },
     "execution_count": 36,
     "metadata": {},
     "output_type": "execute_result"
    }
   ],
   "source": [
    "allstar_df = pd.read_csv(os.path.join('baseballdatabank-master', 'core','AllstarFull.csv'))\n",
    "allstar_df.head()"
   ]
  },
  {
   "cell_type": "code",
   "execution_count": 37,
   "metadata": {
    "collapsed": false
   },
   "outputs": [
    {
     "name": "stdout",
     "output_type": "stream",
     "text": [
      "playerID, yearID, gameNum, gameID, teamID, lgID, GP, startingPos\n"
     ]
    }
   ],
   "source": [
    "print(', '.join(allstar_df.columns.tolist()))"
   ]
  },
  {
   "cell_type": "markdown",
   "metadata": {
    "collapsed": true
   },
   "source": [
    "2.5  AllstarFull table\n",
    "\n",
    "* playerID:       Player ID code\n",
    "* YearID:         Year\n",
    "* gameNum:        Game number (zero if only one All-Star game played that season)\n",
    "* gameID:         Retrosheet ID for the game idea\n",
    "* teamID:         Team\n",
    "* lgID:           League\n",
    "* GP:             1 if Played in the game\n",
    "* startingPos:    If player was game starter, the position played"
   ]
  },
  {
   "cell_type": "code",
   "execution_count": 38,
   "metadata": {
    "collapsed": false,
    "scrolled": false
   },
   "outputs": [],
   "source": [
    "n_allstar_games = pd.DataFrame(allstar_df.groupby(['playerID']).gameNum.count())\n",
    "n_allstar_games = n_allstar_games.rename(columns={'gameNum':'allstarGameCount'})"
   ]
  },
  {
   "cell_type": "markdown",
   "metadata": {
    "collapsed": true
   },
   "source": [
    "## Player Awards Table"
   ]
  },
  {
   "cell_type": "markdown",
   "metadata": {},
   "source": [
    "Individual player awards, a good proxy for overall fame and prestige of players, is likely to be a good predictive feature"
   ]
  },
  {
   "cell_type": "code",
   "execution_count": 39,
   "metadata": {
    "collapsed": false
   },
   "outputs": [
    {
     "data": {
      "text/html": [
       "<div>\n",
       "<table border=\"1\" class=\"dataframe\">\n",
       "  <thead>\n",
       "    <tr style=\"text-align: right;\">\n",
       "      <th></th>\n",
       "      <th>yearID</th>\n",
       "      <th>awardID</th>\n",
       "      <th>playerID</th>\n",
       "    </tr>\n",
       "  </thead>\n",
       "  <tbody>\n",
       "    <tr>\n",
       "      <th>0</th>\n",
       "      <td>1877</td>\n",
       "      <td>Pitching Triple Crown</td>\n",
       "      <td>bondto01</td>\n",
       "    </tr>\n",
       "    <tr>\n",
       "      <th>1</th>\n",
       "      <td>1878</td>\n",
       "      <td>Triple Crown</td>\n",
       "      <td>hinespa01</td>\n",
       "    </tr>\n",
       "    <tr>\n",
       "      <th>2</th>\n",
       "      <td>1884</td>\n",
       "      <td>Pitching Triple Crown</td>\n",
       "      <td>heckegu01</td>\n",
       "    </tr>\n",
       "    <tr>\n",
       "      <th>3</th>\n",
       "      <td>1884</td>\n",
       "      <td>Pitching Triple Crown</td>\n",
       "      <td>radboch01</td>\n",
       "    </tr>\n",
       "    <tr>\n",
       "      <th>4</th>\n",
       "      <td>1887</td>\n",
       "      <td>Triple Crown</td>\n",
       "      <td>oneilti01</td>\n",
       "    </tr>\n",
       "  </tbody>\n",
       "</table>\n",
       "</div>"
      ],
      "text/plain": [
       "   yearID                awardID   playerID\n",
       "0    1877  Pitching Triple Crown   bondto01\n",
       "1    1878           Triple Crown  hinespa01\n",
       "2    1884  Pitching Triple Crown  heckegu01\n",
       "3    1884  Pitching Triple Crown  radboch01\n",
       "4    1887           Triple Crown  oneilti01"
      ]
     },
     "execution_count": 39,
     "metadata": {},
     "output_type": "execute_result"
    }
   ],
   "source": [
    "p_awards_df = pd.read_csv(os.path.join('baseballdatabank-master', 'core','AwardsPlayers.csv'))\n",
    "p_awards_df = p_awards_df[['yearID','awardID','playerID']]\n",
    "p_awards_df.head()"
   ]
  },
  {
   "cell_type": "markdown",
   "metadata": {},
   "source": [
    "2.18 AwardsPlayers table\n",
    "\n",
    "* playerID:       Player ID code\n",
    "* awardID:        Name of award won\n",
    "* yearID:         Year\n",
    "* lgID:           League\n",
    "* tie:            Award was a tie (Y or N)\n",
    "* notes:          Notes about the award"
   ]
  },
  {
   "cell_type": "markdown",
   "metadata": {},
   "source": [
    "# Combine DFs "
   ]
  },
  {
   "cell_type": "code",
   "execution_count": 40,
   "metadata": {
    "collapsed": false
   },
   "outputs": [],
   "source": [
    "# merge the three types of salary information into our df_full\n",
    "df_full = df.merge(pd.DataFrame(mean_salary_series),how='left',left_on='playerID',\n",
    "                   right_index=True)\n",
    "df_full = df_full.merge(pd.DataFrame(sum_salary_series),how='left',left_on='playerID',\n",
    "                   right_index=True)\n",
    "df_full = df_full.merge(pd.DataFrame(max_salary_series),how='left',left_on='playerID',\n",
    "                   right_index=True)"
   ]
  },
  {
   "cell_type": "code",
   "execution_count": 41,
   "metadata": {
    "collapsed": true
   },
   "outputs": [],
   "source": [
    "# add in all-star game data\n",
    "df_full = df_full.merge(pd.DataFrame(n_allstar_games),how='left',left_on='playerID',\n",
    "                   right_index=True)"
   ]
  },
  {
   "cell_type": "code",
   "execution_count": 42,
   "metadata": {
    "collapsed": false
   },
   "outputs": [
    {
     "data": {
      "text/html": [
       "<div>\n",
       "<table border=\"1\" class=\"dataframe\">\n",
       "  <thead>\n",
       "    <tr style=\"text-align: right;\">\n",
       "      <th></th>\n",
       "      <th>HoF_Year</th>\n",
       "      <th>inducted</th>\n",
       "      <th>votes_percent</th>\n",
       "      <th>mean_salary</th>\n",
       "      <th>sum_salary</th>\n",
       "      <th>max_salary</th>\n",
       "      <th>allstarGameCount</th>\n",
       "    </tr>\n",
       "  </thead>\n",
       "  <tbody>\n",
       "    <tr>\n",
       "      <th>HoF_Year</th>\n",
       "      <td>1.000000</td>\n",
       "      <td>0.098868</td>\n",
       "      <td>0.184892</td>\n",
       "      <td>0.697194</td>\n",
       "      <td>0.701015</td>\n",
       "      <td>0.710352</td>\n",
       "      <td>0.099289</td>\n",
       "    </tr>\n",
       "    <tr>\n",
       "      <th>inducted</th>\n",
       "      <td>0.098868</td>\n",
       "      <td>1.000000</td>\n",
       "      <td>0.594872</td>\n",
       "      <td>0.092500</td>\n",
       "      <td>0.109638</td>\n",
       "      <td>0.056231</td>\n",
       "      <td>0.237289</td>\n",
       "    </tr>\n",
       "    <tr>\n",
       "      <th>votes_percent</th>\n",
       "      <td>0.184892</td>\n",
       "      <td>0.594872</td>\n",
       "      <td>1.000000</td>\n",
       "      <td>0.122508</td>\n",
       "      <td>0.132421</td>\n",
       "      <td>0.082904</td>\n",
       "      <td>0.519250</td>\n",
       "    </tr>\n",
       "    <tr>\n",
       "      <th>mean_salary</th>\n",
       "      <td>0.697194</td>\n",
       "      <td>0.092500</td>\n",
       "      <td>0.122508</td>\n",
       "      <td>1.000000</td>\n",
       "      <td>0.967237</td>\n",
       "      <td>0.969690</td>\n",
       "      <td>0.138644</td>\n",
       "    </tr>\n",
       "    <tr>\n",
       "      <th>sum_salary</th>\n",
       "      <td>0.701015</td>\n",
       "      <td>0.109638</td>\n",
       "      <td>0.132421</td>\n",
       "      <td>0.967237</td>\n",
       "      <td>1.000000</td>\n",
       "      <td>0.961698</td>\n",
       "      <td>0.162474</td>\n",
       "    </tr>\n",
       "    <tr>\n",
       "      <th>max_salary</th>\n",
       "      <td>0.710352</td>\n",
       "      <td>0.056231</td>\n",
       "      <td>0.082904</td>\n",
       "      <td>0.969690</td>\n",
       "      <td>0.961698</td>\n",
       "      <td>1.000000</td>\n",
       "      <td>0.102658</td>\n",
       "    </tr>\n",
       "    <tr>\n",
       "      <th>allstarGameCount</th>\n",
       "      <td>0.099289</td>\n",
       "      <td>0.237289</td>\n",
       "      <td>0.519250</td>\n",
       "      <td>0.138644</td>\n",
       "      <td>0.162474</td>\n",
       "      <td>0.102658</td>\n",
       "      <td>1.000000</td>\n",
       "    </tr>\n",
       "  </tbody>\n",
       "</table>\n",
       "</div>"
      ],
      "text/plain": [
       "                  HoF_Year  inducted  votes_percent  mean_salary  sum_salary  \\\n",
       "HoF_Year          1.000000  0.098868       0.184892     0.697194    0.701015   \n",
       "inducted          0.098868  1.000000       0.594872     0.092500    0.109638   \n",
       "votes_percent     0.184892  0.594872       1.000000     0.122508    0.132421   \n",
       "mean_salary       0.697194  0.092500       0.122508     1.000000    0.967237   \n",
       "sum_salary        0.701015  0.109638       0.132421     0.967237    1.000000   \n",
       "max_salary        0.710352  0.056231       0.082904     0.969690    0.961698   \n",
       "allstarGameCount  0.099289  0.237289       0.519250     0.138644    0.162474   \n",
       "\n",
       "                  max_salary  allstarGameCount  \n",
       "HoF_Year            0.710352          0.099289  \n",
       "inducted            0.056231          0.237289  \n",
       "votes_percent       0.082904          0.519250  \n",
       "mean_salary         0.969690          0.138644  \n",
       "sum_salary          0.961698          0.162474  \n",
       "max_salary          1.000000          0.102658  \n",
       "allstarGameCount    0.102658          1.000000  "
      ]
     },
     "execution_count": 42,
     "metadata": {},
     "output_type": "execute_result"
    }
   ],
   "source": [
    "df_full.corr()"
   ]
  },
  {
   "cell_type": "markdown",
   "metadata": {
    "collapsed": true
   },
   "source": [
    "Looks like sum_salary should be the variable used, since it's the highest correlated with \n",
    "votes_percent, but I shouldn't include more than one of the salary fields since they are highly correlated with each other. I will leave them all in just in case. "
   ]
  },
  {
   "cell_type": "code",
   "execution_count": 43,
   "metadata": {
    "collapsed": false
   },
   "outputs": [
    {
     "name": "stderr",
     "output_type": "stream",
     "text": [
      "/Users/Elizabeth/anaconda3/lib/python3.5/site-packages/numpy/lib/function_base.py:3834: RuntimeWarning: Invalid value encountered in percentile\n",
      "  RuntimeWarning)\n"
     ]
    },
    {
     "data": {
      "text/html": [
       "<div>\n",
       "<table border=\"1\" class=\"dataframe\">\n",
       "  <thead>\n",
       "    <tr style=\"text-align: right;\">\n",
       "      <th></th>\n",
       "      <th>HoF_Year</th>\n",
       "      <th>inducted</th>\n",
       "      <th>votes_percent</th>\n",
       "      <th>mean_salary</th>\n",
       "      <th>sum_salary</th>\n",
       "      <th>max_salary</th>\n",
       "      <th>allstarGameCount</th>\n",
       "    </tr>\n",
       "  </thead>\n",
       "  <tbody>\n",
       "    <tr>\n",
       "      <th>count</th>\n",
       "      <td>4120.000000</td>\n",
       "      <td>4120.000000</td>\n",
       "      <td>3770.000000</td>\n",
       "      <td>7.100000e+02</td>\n",
       "      <td>7.100000e+02</td>\n",
       "      <td>7.100000e+02</td>\n",
       "      <td>2500.000000</td>\n",
       "    </tr>\n",
       "    <tr>\n",
       "      <th>mean</th>\n",
       "      <td>1968.889563</td>\n",
       "      <td>0.075728</td>\n",
       "      <td>0.191951</td>\n",
       "      <td>2.301759e+06</td>\n",
       "      <td>3.076823e+07</td>\n",
       "      <td>4.643881e+06</td>\n",
       "      <td>5.462800</td>\n",
       "    </tr>\n",
       "    <tr>\n",
       "      <th>std</th>\n",
       "      <td>22.899162</td>\n",
       "      <td>0.264595</td>\n",
       "      <td>0.281730</td>\n",
       "      <td>1.928411e+06</td>\n",
       "      <td>3.633078e+07</td>\n",
       "      <td>4.534788e+06</td>\n",
       "      <td>3.396768</td>\n",
       "    </tr>\n",
       "    <tr>\n",
       "      <th>min</th>\n",
       "      <td>1936.000000</td>\n",
       "      <td>0.000000</td>\n",
       "      <td>0.000000</td>\n",
       "      <td>1.600000e+05</td>\n",
       "      <td>1.600000e+05</td>\n",
       "      <td>1.600000e+05</td>\n",
       "      <td>1.000000</td>\n",
       "    </tr>\n",
       "    <tr>\n",
       "      <th>25%</th>\n",
       "      <td>1950.000000</td>\n",
       "      <td>0.000000</td>\n",
       "      <td>NaN</td>\n",
       "      <td>NaN</td>\n",
       "      <td>NaN</td>\n",
       "      <td>NaN</td>\n",
       "      <td>NaN</td>\n",
       "    </tr>\n",
       "    <tr>\n",
       "      <th>50%</th>\n",
       "      <td>1964.000000</td>\n",
       "      <td>0.000000</td>\n",
       "      <td>NaN</td>\n",
       "      <td>NaN</td>\n",
       "      <td>NaN</td>\n",
       "      <td>NaN</td>\n",
       "      <td>NaN</td>\n",
       "    </tr>\n",
       "    <tr>\n",
       "      <th>75%</th>\n",
       "      <td>1987.000000</td>\n",
       "      <td>0.000000</td>\n",
       "      <td>NaN</td>\n",
       "      <td>NaN</td>\n",
       "      <td>NaN</td>\n",
       "      <td>NaN</td>\n",
       "      <td>NaN</td>\n",
       "    </tr>\n",
       "    <tr>\n",
       "      <th>max</th>\n",
       "      <td>2016.000000</td>\n",
       "      <td>1.000000</td>\n",
       "      <td>1.324242</td>\n",
       "      <td>9.753266e+06</td>\n",
       "      <td>1.882453e+08</td>\n",
       "      <td>2.200000e+07</td>\n",
       "      <td>25.000000</td>\n",
       "    </tr>\n",
       "  </tbody>\n",
       "</table>\n",
       "</div>"
      ],
      "text/plain": [
       "          HoF_Year     inducted  votes_percent   mean_salary    sum_salary  \\\n",
       "count  4120.000000  4120.000000    3770.000000  7.100000e+02  7.100000e+02   \n",
       "mean   1968.889563     0.075728       0.191951  2.301759e+06  3.076823e+07   \n",
       "std      22.899162     0.264595       0.281730  1.928411e+06  3.633078e+07   \n",
       "min    1936.000000     0.000000       0.000000  1.600000e+05  1.600000e+05   \n",
       "25%    1950.000000     0.000000            NaN           NaN           NaN   \n",
       "50%    1964.000000     0.000000            NaN           NaN           NaN   \n",
       "75%    1987.000000     0.000000            NaN           NaN           NaN   \n",
       "max    2016.000000     1.000000       1.324242  9.753266e+06  1.882453e+08   \n",
       "\n",
       "         max_salary  allstarGameCount  \n",
       "count  7.100000e+02       2500.000000  \n",
       "mean   4.643881e+06          5.462800  \n",
       "std    4.534788e+06          3.396768  \n",
       "min    1.600000e+05          1.000000  \n",
       "25%             NaN               NaN  \n",
       "50%             NaN               NaN  \n",
       "75%             NaN               NaN  \n",
       "max    2.200000e+07         25.000000  "
      ]
     },
     "execution_count": 43,
     "metadata": {},
     "output_type": "execute_result"
    }
   ],
   "source": [
    "df_full.describe()"
   ]
  },
  {
   "cell_type": "code",
   "execution_count": 44,
   "metadata": {
    "collapsed": false
   },
   "outputs": [
    {
     "data": {
      "text/html": [
       "<div>\n",
       "<table border=\"1\" class=\"dataframe\">\n",
       "  <thead>\n",
       "    <tr style=\"text-align: right;\">\n",
       "      <th></th>\n",
       "      <th>HoF_Year</th>\n",
       "      <th>inducted</th>\n",
       "      <th>votes_percent</th>\n",
       "      <th>mean_salary</th>\n",
       "      <th>sum_salary</th>\n",
       "      <th>max_salary</th>\n",
       "      <th>allstarGameCount</th>\n",
       "    </tr>\n",
       "  </thead>\n",
       "  <tbody>\n",
       "    <tr>\n",
       "      <th>HoF_Year</th>\n",
       "      <td>1.000000</td>\n",
       "      <td>0.009201</td>\n",
       "      <td>0.083714</td>\n",
       "      <td>0.700607</td>\n",
       "      <td>0.707918</td>\n",
       "      <td>0.713097</td>\n",
       "      <td>0.051165</td>\n",
       "    </tr>\n",
       "    <tr>\n",
       "      <th>inducted</th>\n",
       "      <td>0.009201</td>\n",
       "      <td>1.000000</td>\n",
       "      <td>0.646504</td>\n",
       "      <td>0.087654</td>\n",
       "      <td>0.104598</td>\n",
       "      <td>0.051435</td>\n",
       "      <td>0.345242</td>\n",
       "    </tr>\n",
       "    <tr>\n",
       "      <th>votes_percent</th>\n",
       "      <td>0.083714</td>\n",
       "      <td>0.646504</td>\n",
       "      <td>1.000000</td>\n",
       "      <td>0.105977</td>\n",
       "      <td>0.115902</td>\n",
       "      <td>0.067709</td>\n",
       "      <td>0.591436</td>\n",
       "    </tr>\n",
       "    <tr>\n",
       "      <th>mean_salary</th>\n",
       "      <td>0.700607</td>\n",
       "      <td>0.087654</td>\n",
       "      <td>0.105977</td>\n",
       "      <td>1.000000</td>\n",
       "      <td>0.969504</td>\n",
       "      <td>0.970296</td>\n",
       "      <td>0.138644</td>\n",
       "    </tr>\n",
       "    <tr>\n",
       "      <th>sum_salary</th>\n",
       "      <td>0.707918</td>\n",
       "      <td>0.104598</td>\n",
       "      <td>0.115902</td>\n",
       "      <td>0.969504</td>\n",
       "      <td>1.000000</td>\n",
       "      <td>0.962181</td>\n",
       "      <td>0.162474</td>\n",
       "    </tr>\n",
       "    <tr>\n",
       "      <th>max_salary</th>\n",
       "      <td>0.713097</td>\n",
       "      <td>0.051435</td>\n",
       "      <td>0.067709</td>\n",
       "      <td>0.970296</td>\n",
       "      <td>0.962181</td>\n",
       "      <td>1.000000</td>\n",
       "      <td>0.102658</td>\n",
       "    </tr>\n",
       "    <tr>\n",
       "      <th>allstarGameCount</th>\n",
       "      <td>0.051165</td>\n",
       "      <td>0.345242</td>\n",
       "      <td>0.591436</td>\n",
       "      <td>0.138644</td>\n",
       "      <td>0.162474</td>\n",
       "      <td>0.102658</td>\n",
       "      <td>1.000000</td>\n",
       "    </tr>\n",
       "  </tbody>\n",
       "</table>\n",
       "</div>"
      ],
      "text/plain": [
       "                  HoF_Year  inducted  votes_percent  mean_salary  sum_salary  \\\n",
       "HoF_Year          1.000000  0.009201       0.083714     0.700607    0.707918   \n",
       "inducted          0.009201  1.000000       0.646504     0.087654    0.104598   \n",
       "votes_percent     0.083714  0.646504       1.000000     0.105977    0.115902   \n",
       "mean_salary       0.700607  0.087654       0.105977     1.000000    0.969504   \n",
       "sum_salary        0.707918  0.104598       0.115902     0.969504    1.000000   \n",
       "max_salary        0.713097  0.051435       0.067709     0.970296    0.962181   \n",
       "allstarGameCount  0.051165  0.345242       0.591436     0.138644    0.162474   \n",
       "\n",
       "                  max_salary  allstarGameCount  \n",
       "HoF_Year            0.713097          0.051165  \n",
       "inducted            0.051435          0.345242  \n",
       "votes_percent       0.067709          0.591436  \n",
       "mean_salary         0.970296          0.138644  \n",
       "sum_salary          0.962181          0.162474  \n",
       "max_salary          1.000000          0.102658  \n",
       "allstarGameCount    0.102658          1.000000  "
      ]
     },
     "execution_count": 44,
     "metadata": {},
     "output_type": "execute_result"
    }
   ],
   "source": [
    "df_full.dropna(how='any',axis=0).corr()"
   ]
  },
  {
   "cell_type": "code",
   "execution_count": 45,
   "metadata": {
    "collapsed": true
   },
   "outputs": [],
   "source": [
    "df_no_na = df_full.dropna(how='any',axis=0)"
   ]
  },
  {
   "cell_type": "code",
   "execution_count": 46,
   "metadata": {
    "collapsed": false
   },
   "outputs": [
    {
     "data": {
      "text/plain": [
       "<matplotlib.axes._subplots.AxesSubplot at 0x119447eb8>"
      ]
     },
     "execution_count": 46,
     "metadata": {},
     "output_type": "execute_result"
    },
    {
     "data": {
      "image/png": "[encoded data removed]",
      "text/plain": [
       "<matplotlib.figure.Figure at 0x119447be0>"
      ]
     },
     "metadata": {},
     "output_type": "display_data"
    }
   ],
   "source": [
    "df_no_na[['mean_salary','max_salary']].plot(kind='box',\n",
    "                               title='Boxplot of Career Mean and Max Salary for HoF Nominees')\n"
   ]
  },
  {
   "cell_type": "code",
   "execution_count": 47,
   "metadata": {
    "collapsed": false
   },
   "outputs": [
    {
     "data": {
      "text/plain": [
       "<matplotlib.axes._subplots.AxesSubplot at 0x112903f98>"
      ]
     },
     "execution_count": 47,
     "metadata": {},
     "output_type": "execute_result"
    },
    {
     "data": {
      "image/png": "[encoded data removed]",
      "text/plain": [
       "<matplotlib.figure.Figure at 0x11927dcf8>"
      ]
     },
     "metadata": {},
     "output_type": "display_data"
    }
   ],
   "source": [
    "df_no_na[['sum_salary']].plot(kind='box',\n",
    "                               title='Boxplot of Career Total Salary for HoF Nominees')"
   ]
  },
  {
   "cell_type": "markdown",
   "metadata": {},
   "source": [
    "## Year"
   ]
  },
  {
   "cell_type": "code",
   "execution_count": 48,
   "metadata": {
    "collapsed": false
   },
   "outputs": [
    {
     "data": {
      "text/plain": [
       "playerID            935\n",
       "HoF_Year            935\n",
       "votedBy             935\n",
       "inducted            935\n",
       "category            935\n",
       "votes_percent       872\n",
       "mean_salary         708\n",
       "sum_salary          708\n",
       "max_salary          708\n",
       "allstarGameCount    828\n",
       "dtype: int64"
      ]
     },
     "execution_count": 48,
     "metadata": {},
     "output_type": "execute_result"
    }
   ],
   "source": [
    "df_full[df_full.HoF_Year > 1989].count()"
   ]
  },
  {
   "cell_type": "markdown",
   "metadata": {},
   "source": [
    "Most of the fields have large value counts, excepting salary information, which is not available until 1985 (and thus not until much later will salary info be available for hall of fame inductees, as they must have been retired for at least 5 years, or dead for at least 6 months, in order to be eligible). "
   ]
  },
  {
   "cell_type": "code",
   "execution_count": 49,
   "metadata": {
    "collapsed": false
   },
   "outputs": [
    {
     "data": {
      "text/plain": [
       "roushed01    20\n",
       "youngro01    19\n",
       "schalra01    18\n",
       "ruffire01    18\n",
       "rixeyep01    17\n",
       "reesepe01    17\n",
       "vanceda01    17\n",
       "rizzuph01    17\n",
       "wheatza01    17\n",
       "wilsoha01    17\n",
       "Name: playerID, dtype: int64"
      ]
     },
     "execution_count": 49,
     "metadata": {},
     "output_type": "execute_result"
    }
   ],
   "source": [
    "df_full.playerID.value_counts().iloc[:10]"
   ]
  },
  {
   "cell_type": "code",
   "execution_count": 50,
   "metadata": {
    "collapsed": false
   },
   "outputs": [
    {
     "data": {
      "text/plain": [
       "1239"
      ]
     },
     "execution_count": 50,
     "metadata": {},
     "output_type": "execute_result"
    }
   ],
   "source": [
    "len(df_full.playerID.unique())"
   ]
  },
  {
   "cell_type": "markdown",
   "metadata": {},
   "source": [
    "# More Feature Engineering"
   ]
  },
  {
   "cell_type": "markdown",
   "metadata": {},
   "source": [
    "## Number of Previous Nominations"
   ]
  },
  {
   "cell_type": "markdown",
   "metadata": {},
   "source": [
    "Clearly, some of the individuals were nominated multiple times (and also clearly, each that was nominated multiple times was only successful the final time they were nominated), so I need to make a function to add the number of previous nominations for each player for each year. "
   ]
  },
  {
   "cell_type": "code",
   "execution_count": 51,
   "metadata": {
    "collapsed": false
   },
   "outputs": [
    {
     "data": {
      "text/html": [
       "<div>\n",
       "<table border=\"1\" class=\"dataframe\">\n",
       "  <thead>\n",
       "    <tr style=\"text-align: right;\">\n",
       "      <th></th>\n",
       "      <th>playerID</th>\n",
       "      <th>HoF_Year</th>\n",
       "      <th>votedBy</th>\n",
       "      <th>inducted</th>\n",
       "      <th>category</th>\n",
       "      <th>votes_percent</th>\n",
       "      <th>mean_salary</th>\n",
       "      <th>sum_salary</th>\n",
       "      <th>max_salary</th>\n",
       "      <th>allstarGameCount</th>\n",
       "    </tr>\n",
       "  </thead>\n",
       "  <tbody>\n",
       "    <tr>\n",
       "      <th>0</th>\n",
       "      <td>cobbty01</td>\n",
       "      <td>1936</td>\n",
       "      <td>BBWAA</td>\n",
       "      <td>1</td>\n",
       "      <td>Player</td>\n",
       "      <td>1.305882</td>\n",
       "      <td>NaN</td>\n",
       "      <td>NaN</td>\n",
       "      <td>NaN</td>\n",
       "      <td>NaN</td>\n",
       "    </tr>\n",
       "    <tr>\n",
       "      <th>1</th>\n",
       "      <td>ruthba01</td>\n",
       "      <td>1936</td>\n",
       "      <td>BBWAA</td>\n",
       "      <td>1</td>\n",
       "      <td>Player</td>\n",
       "      <td>1.264706</td>\n",
       "      <td>NaN</td>\n",
       "      <td>NaN</td>\n",
       "      <td>NaN</td>\n",
       "      <td>2.0</td>\n",
       "    </tr>\n",
       "    <tr>\n",
       "      <th>2</th>\n",
       "      <td>wagneho01</td>\n",
       "      <td>1936</td>\n",
       "      <td>BBWAA</td>\n",
       "      <td>1</td>\n",
       "      <td>Player</td>\n",
       "      <td>1.264706</td>\n",
       "      <td>NaN</td>\n",
       "      <td>NaN</td>\n",
       "      <td>NaN</td>\n",
       "      <td>NaN</td>\n",
       "    </tr>\n",
       "    <tr>\n",
       "      <th>3</th>\n",
       "      <td>mathech01</td>\n",
       "      <td>1936</td>\n",
       "      <td>BBWAA</td>\n",
       "      <td>1</td>\n",
       "      <td>Player</td>\n",
       "      <td>1.205882</td>\n",
       "      <td>NaN</td>\n",
       "      <td>NaN</td>\n",
       "      <td>NaN</td>\n",
       "      <td>NaN</td>\n",
       "    </tr>\n",
       "    <tr>\n",
       "      <th>4</th>\n",
       "      <td>johnswa01</td>\n",
       "      <td>1936</td>\n",
       "      <td>BBWAA</td>\n",
       "      <td>1</td>\n",
       "      <td>Player</td>\n",
       "      <td>1.111765</td>\n",
       "      <td>NaN</td>\n",
       "      <td>NaN</td>\n",
       "      <td>NaN</td>\n",
       "      <td>NaN</td>\n",
       "    </tr>\n",
       "    <tr>\n",
       "      <th>...</th>\n",
       "      <td>...</td>\n",
       "      <td>...</td>\n",
       "      <td>...</td>\n",
       "      <td>...</td>\n",
       "      <td>...</td>\n",
       "      <td>...</td>\n",
       "      <td>...</td>\n",
       "      <td>...</td>\n",
       "      <td>...</td>\n",
       "      <td>...</td>\n",
       "    </tr>\n",
       "    <tr>\n",
       "      <th>4115</th>\n",
       "      <td>grudzma01</td>\n",
       "      <td>2016</td>\n",
       "      <td>BBWAA</td>\n",
       "      <td>0</td>\n",
       "      <td>Player</td>\n",
       "      <td>0.000000</td>\n",
       "      <td>2454266.0</td>\n",
       "      <td>36814000.0</td>\n",
       "      <td>5500000.0</td>\n",
       "      <td>1.0</td>\n",
       "    </tr>\n",
       "    <tr>\n",
       "      <th>4116</th>\n",
       "      <td>ausmubr01</td>\n",
       "      <td>2016</td>\n",
       "      <td>BBWAA</td>\n",
       "      <td>0</td>\n",
       "      <td>Player</td>\n",
       "      <td>0.000000</td>\n",
       "      <td>2133205.0</td>\n",
       "      <td>36264500.0</td>\n",
       "      <td>5500000.0</td>\n",
       "      <td>1.0</td>\n",
       "    </tr>\n",
       "    <tr>\n",
       "      <th>4117</th>\n",
       "      <td>hamptmi01</td>\n",
       "      <td>2016</td>\n",
       "      <td>BBWAA</td>\n",
       "      <td>0</td>\n",
       "      <td>Player</td>\n",
       "      <td>0.000000</td>\n",
       "      <td>7326486.0</td>\n",
       "      <td>124550270.0</td>\n",
       "      <td>15975184.0</td>\n",
       "      <td>2.0</td>\n",
       "    </tr>\n",
       "    <tr>\n",
       "      <th>4118</th>\n",
       "      <td>castilu01</td>\n",
       "      <td>2016</td>\n",
       "      <td>BBWAA</td>\n",
       "      <td>0</td>\n",
       "      <td>Player</td>\n",
       "      <td>0.000000</td>\n",
       "      <td>3390522.0</td>\n",
       "      <td>50857840.0</td>\n",
       "      <td>6250000.0</td>\n",
       "      <td>3.0</td>\n",
       "    </tr>\n",
       "    <tr>\n",
       "      <th>4119</th>\n",
       "      <td>lowelmi01</td>\n",
       "      <td>2016</td>\n",
       "      <td>BBWAA</td>\n",
       "      <td>0</td>\n",
       "      <td>Player</td>\n",
       "      <td>0.000000</td>\n",
       "      <td>6371333.0</td>\n",
       "      <td>76456000.0</td>\n",
       "      <td>12500000.0</td>\n",
       "      <td>4.0</td>\n",
       "    </tr>\n",
       "  </tbody>\n",
       "</table>\n",
       "<p>4120 rows × 10 columns</p>\n",
       "</div>"
      ],
      "text/plain": [
       "       playerID  HoF_Year votedBy  inducted category  votes_percent  \\\n",
       "0      cobbty01      1936   BBWAA         1   Player       1.305882   \n",
       "1      ruthba01      1936   BBWAA         1   Player       1.264706   \n",
       "2     wagneho01      1936   BBWAA         1   Player       1.264706   \n",
       "3     mathech01      1936   BBWAA         1   Player       1.205882   \n",
       "4     johnswa01      1936   BBWAA         1   Player       1.111765   \n",
       "...         ...       ...     ...       ...      ...            ...   \n",
       "4115  grudzma01      2016   BBWAA         0   Player       0.000000   \n",
       "4116  ausmubr01      2016   BBWAA         0   Player       0.000000   \n",
       "4117  hamptmi01      2016   BBWAA         0   Player       0.000000   \n",
       "4118  castilu01      2016   BBWAA         0   Player       0.000000   \n",
       "4119  lowelmi01      2016   BBWAA         0   Player       0.000000   \n",
       "\n",
       "      mean_salary   sum_salary  max_salary  allstarGameCount  \n",
       "0             NaN          NaN         NaN               NaN  \n",
       "1             NaN          NaN         NaN               2.0  \n",
       "2             NaN          NaN         NaN               NaN  \n",
       "3             NaN          NaN         NaN               NaN  \n",
       "4             NaN          NaN         NaN               NaN  \n",
       "...           ...          ...         ...               ...  \n",
       "4115    2454266.0   36814000.0   5500000.0               1.0  \n",
       "4116    2133205.0   36264500.0   5500000.0               1.0  \n",
       "4117    7326486.0  124550270.0  15975184.0               2.0  \n",
       "4118    3390522.0   50857840.0   6250000.0               3.0  \n",
       "4119    6371333.0   76456000.0  12500000.0               4.0  \n",
       "\n",
       "[4120 rows x 10 columns]"
      ]
     },
     "execution_count": 51,
     "metadata": {},
     "output_type": "execute_result"
    }
   ],
   "source": [
    "df_full"
   ]
  },
  {
   "cell_type": "code",
   "execution_count": 52,
   "metadata": {
    "collapsed": false
   },
   "outputs": [],
   "source": [
    "previous_nominations = [0]*len(df_full)\n",
    "playerList = df_full.playerID.tolist()\n",
    "\n",
    "for idx, playerID in enumerate(playerList):\n",
    "    previous_nominations[idx] = playerList[:idx].count(playerID)"
   ]
  },
  {
   "cell_type": "code",
   "execution_count": 53,
   "metadata": {
    "collapsed": false
   },
   "outputs": [],
   "source": [
    "previous_nominations = pd.Series(previous_nominations)"
   ]
  },
  {
   "cell_type": "code",
   "execution_count": 54,
   "metadata": {
    "collapsed": true
   },
   "outputs": [],
   "source": [
    "df_full['n_prev_noms'] = previous_nominations"
   ]
  },
  {
   "cell_type": "code",
   "execution_count": 55,
   "metadata": {
    "collapsed": false
   },
   "outputs": [
    {
     "data": {
      "text/html": [
       "<div>\n",
       "<table border=\"1\" class=\"dataframe\">\n",
       "  <thead>\n",
       "    <tr style=\"text-align: right;\">\n",
       "      <th></th>\n",
       "      <th>HoF_Year</th>\n",
       "      <th>inducted</th>\n",
       "      <th>votes_percent</th>\n",
       "      <th>mean_salary</th>\n",
       "      <th>sum_salary</th>\n",
       "      <th>max_salary</th>\n",
       "      <th>allstarGameCount</th>\n",
       "      <th>n_prev_noms</th>\n",
       "    </tr>\n",
       "  </thead>\n",
       "  <tbody>\n",
       "    <tr>\n",
       "      <th>HoF_Year</th>\n",
       "      <td>1.000000</td>\n",
       "      <td>0.098868</td>\n",
       "      <td>0.184892</td>\n",
       "      <td>0.697194</td>\n",
       "      <td>0.701015</td>\n",
       "      <td>0.710352</td>\n",
       "      <td>0.099289</td>\n",
       "      <td>0.045735</td>\n",
       "    </tr>\n",
       "    <tr>\n",
       "      <th>inducted</th>\n",
       "      <td>0.098868</td>\n",
       "      <td>1.000000</td>\n",
       "      <td>0.594872</td>\n",
       "      <td>0.092500</td>\n",
       "      <td>0.109638</td>\n",
       "      <td>0.056231</td>\n",
       "      <td>0.237289</td>\n",
       "      <td>0.038025</td>\n",
       "    </tr>\n",
       "    <tr>\n",
       "      <th>votes_percent</th>\n",
       "      <td>0.184892</td>\n",
       "      <td>0.594872</td>\n",
       "      <td>1.000000</td>\n",
       "      <td>0.122508</td>\n",
       "      <td>0.132421</td>\n",
       "      <td>0.082904</td>\n",
       "      <td>0.519250</td>\n",
       "      <td>0.314405</td>\n",
       "    </tr>\n",
       "    <tr>\n",
       "      <th>mean_salary</th>\n",
       "      <td>0.697194</td>\n",
       "      <td>0.092500</td>\n",
       "      <td>0.122508</td>\n",
       "      <td>1.000000</td>\n",
       "      <td>0.967237</td>\n",
       "      <td>0.969690</td>\n",
       "      <td>0.138644</td>\n",
       "      <td>-0.157562</td>\n",
       "    </tr>\n",
       "    <tr>\n",
       "      <th>sum_salary</th>\n",
       "      <td>0.701015</td>\n",
       "      <td>0.109638</td>\n",
       "      <td>0.132421</td>\n",
       "      <td>0.967237</td>\n",
       "      <td>1.000000</td>\n",
       "      <td>0.961698</td>\n",
       "      <td>0.162474</td>\n",
       "      <td>-0.184610</td>\n",
       "    </tr>\n",
       "    <tr>\n",
       "      <th>max_salary</th>\n",
       "      <td>0.710352</td>\n",
       "      <td>0.056231</td>\n",
       "      <td>0.082904</td>\n",
       "      <td>0.969690</td>\n",
       "      <td>0.961698</td>\n",
       "      <td>1.000000</td>\n",
       "      <td>0.102658</td>\n",
       "      <td>-0.192530</td>\n",
       "    </tr>\n",
       "    <tr>\n",
       "      <th>allstarGameCount</th>\n",
       "      <td>0.099289</td>\n",
       "      <td>0.237289</td>\n",
       "      <td>0.519250</td>\n",
       "      <td>0.138644</td>\n",
       "      <td>0.162474</td>\n",
       "      <td>0.102658</td>\n",
       "      <td>1.000000</td>\n",
       "      <td>0.202230</td>\n",
       "    </tr>\n",
       "    <tr>\n",
       "      <th>n_prev_noms</th>\n",
       "      <td>0.045735</td>\n",
       "      <td>0.038025</td>\n",
       "      <td>0.314405</td>\n",
       "      <td>-0.157562</td>\n",
       "      <td>-0.184610</td>\n",
       "      <td>-0.192530</td>\n",
       "      <td>0.202230</td>\n",
       "      <td>1.000000</td>\n",
       "    </tr>\n",
       "  </tbody>\n",
       "</table>\n",
       "</div>"
      ],
      "text/plain": [
       "                  HoF_Year  inducted  votes_percent  mean_salary  sum_salary  \\\n",
       "HoF_Year          1.000000  0.098868       0.184892     0.697194    0.701015   \n",
       "inducted          0.098868  1.000000       0.594872     0.092500    0.109638   \n",
       "votes_percent     0.184892  0.594872       1.000000     0.122508    0.132421   \n",
       "mean_salary       0.697194  0.092500       0.122508     1.000000    0.967237   \n",
       "sum_salary        0.701015  0.109638       0.132421     0.967237    1.000000   \n",
       "max_salary        0.710352  0.056231       0.082904     0.969690    0.961698   \n",
       "allstarGameCount  0.099289  0.237289       0.519250     0.138644    0.162474   \n",
       "n_prev_noms       0.045735  0.038025       0.314405    -0.157562   -0.184610   \n",
       "\n",
       "                  max_salary  allstarGameCount  n_prev_noms  \n",
       "HoF_Year            0.710352          0.099289     0.045735  \n",
       "inducted            0.056231          0.237289     0.038025  \n",
       "votes_percent       0.082904          0.519250     0.314405  \n",
       "mean_salary         0.969690          0.138644    -0.157562  \n",
       "sum_salary          0.961698          0.162474    -0.184610  \n",
       "max_salary          1.000000          0.102658    -0.192530  \n",
       "allstarGameCount    0.102658          1.000000     0.202230  \n",
       "n_prev_noms        -0.192530          0.202230     1.000000  "
      ]
     },
     "execution_count": 55,
     "metadata": {},
     "output_type": "execute_result"
    }
   ],
   "source": [
    "df_full.corr()"
   ]
  },
  {
   "cell_type": "markdown",
   "metadata": {},
   "source": [
    "N_prev_noms field is highly correlated with HoF_Year, and HoF_Year is slightly more correlated with 'votes_percent' and 'inducted' than 'n_prev_noms' feature, so it likely won't be used. "
   ]
  },
  {
   "cell_type": "code",
   "execution_count": 56,
   "metadata": {
    "collapsed": false
   },
   "outputs": [
    {
     "data": {
      "text/html": [
       "<div>\n",
       "<table border=\"1\" class=\"dataframe\">\n",
       "  <thead>\n",
       "    <tr style=\"text-align: right;\">\n",
       "      <th>inducted</th>\n",
       "      <th>0</th>\n",
       "      <th>1</th>\n",
       "      <th>All</th>\n",
       "      <th>success_rate</th>\n",
       "    </tr>\n",
       "    <tr>\n",
       "      <th>n_prev_noms</th>\n",
       "      <th></th>\n",
       "      <th></th>\n",
       "      <th></th>\n",
       "      <th></th>\n",
       "    </tr>\n",
       "  </thead>\n",
       "  <tbody>\n",
       "    <tr>\n",
       "      <th>0</th>\n",
       "      <td>1104</td>\n",
       "      <td>135</td>\n",
       "      <td>1239</td>\n",
       "      <td>0.108959</td>\n",
       "    </tr>\n",
       "    <tr>\n",
       "      <th>1</th>\n",
       "      <td>459</td>\n",
       "      <td>23</td>\n",
       "      <td>482</td>\n",
       "      <td>0.047718</td>\n",
       "    </tr>\n",
       "    <tr>\n",
       "      <th>2</th>\n",
       "      <td>349</td>\n",
       "      <td>16</td>\n",
       "      <td>365</td>\n",
       "      <td>0.043836</td>\n",
       "    </tr>\n",
       "    <tr>\n",
       "      <th>3</th>\n",
       "      <td>307</td>\n",
       "      <td>12</td>\n",
       "      <td>319</td>\n",
       "      <td>0.037618</td>\n",
       "    </tr>\n",
       "  </tbody>\n",
       "</table>\n",
       "</div>"
      ],
      "text/plain": [
       "inducted        0    1   All  success_rate\n",
       "n_prev_noms                               \n",
       "0            1104  135  1239      0.108959\n",
       "1             459   23   482      0.047718\n",
       "2             349   16   365      0.043836\n",
       "3             307   12   319      0.037618"
      ]
     },
     "execution_count": 56,
     "metadata": {},
     "output_type": "execute_result"
    }
   ],
   "source": [
    "pd.set_option('display.max_rows', 22)\n",
    "ct = pd.crosstab(df_full.n_prev_noms,df_full.inducted,margins=True)\n",
    "ct['success_rate'] = ct.apply(lambda x: x[1] / (x[0] + x[1]) ,axis=1)\n",
    "ct.head(4)"
   ]
  },
  {
   "cell_type": "code",
   "execution_count": 57,
   "metadata": {
    "collapsed": false
   },
   "outputs": [
    {
     "data": {
      "text/html": [
       "<div>\n",
       "<table border=\"1\" class=\"dataframe\">\n",
       "  <thead>\n",
       "    <tr style=\"text-align: right;\">\n",
       "      <th></th>\n",
       "      <th>inducted</th>\n",
       "    </tr>\n",
       "    <tr>\n",
       "      <th>n_prev_noms</th>\n",
       "      <th></th>\n",
       "    </tr>\n",
       "  </thead>\n",
       "  <tbody>\n",
       "    <tr>\n",
       "      <th>0</th>\n",
       "      <td>0.108959</td>\n",
       "    </tr>\n",
       "    <tr>\n",
       "      <th>1</th>\n",
       "      <td>0.047718</td>\n",
       "    </tr>\n",
       "    <tr>\n",
       "      <th>2</th>\n",
       "      <td>0.043836</td>\n",
       "    </tr>\n",
       "    <tr>\n",
       "      <th>3</th>\n",
       "      <td>0.037618</td>\n",
       "    </tr>\n",
       "    <tr>\n",
       "      <th>4</th>\n",
       "      <td>0.033333</td>\n",
       "    </tr>\n",
       "    <tr>\n",
       "      <th>5</th>\n",
       "      <td>0.020921</td>\n",
       "    </tr>\n",
       "    <tr>\n",
       "      <th>6</th>\n",
       "      <td>0.079812</td>\n",
       "    </tr>\n",
       "    <tr>\n",
       "      <th>7</th>\n",
       "      <td>0.071823</td>\n",
       "    </tr>\n",
       "    <tr>\n",
       "      <th>8</th>\n",
       "      <td>0.069620</td>\n",
       "    </tr>\n",
       "    <tr>\n",
       "      <th>9</th>\n",
       "      <td>0.060606</td>\n",
       "    </tr>\n",
       "    <tr>\n",
       "      <th>10</th>\n",
       "      <td>0.068376</td>\n",
       "    </tr>\n",
       "    <tr>\n",
       "      <th>11</th>\n",
       "      <td>0.019417</td>\n",
       "    </tr>\n",
       "    <tr>\n",
       "      <th>12</th>\n",
       "      <td>0.103093</td>\n",
       "    </tr>\n",
       "    <tr>\n",
       "      <th>13</th>\n",
       "      <td>0.083333</td>\n",
       "    </tr>\n",
       "    <tr>\n",
       "      <th>14</th>\n",
       "      <td>0.126761</td>\n",
       "    </tr>\n",
       "    <tr>\n",
       "      <th>15</th>\n",
       "      <td>0.516129</td>\n",
       "    </tr>\n",
       "    <tr>\n",
       "      <th>16</th>\n",
       "      <td>0.666667</td>\n",
       "    </tr>\n",
       "    <tr>\n",
       "      <th>17</th>\n",
       "      <td>0.250000</td>\n",
       "    </tr>\n",
       "    <tr>\n",
       "      <th>18</th>\n",
       "      <td>0.500000</td>\n",
       "    </tr>\n",
       "    <tr>\n",
       "      <th>19</th>\n",
       "      <td>1.000000</td>\n",
       "    </tr>\n",
       "  </tbody>\n",
       "</table>\n",
       "</div>"
      ],
      "text/plain": [
       "             inducted\n",
       "n_prev_noms          \n",
       "0            0.108959\n",
       "1            0.047718\n",
       "2            0.043836\n",
       "3            0.037618\n",
       "4            0.033333\n",
       "5            0.020921\n",
       "6            0.079812\n",
       "7            0.071823\n",
       "8            0.069620\n",
       "9            0.060606\n",
       "10           0.068376\n",
       "11           0.019417\n",
       "12           0.103093\n",
       "13           0.083333\n",
       "14           0.126761\n",
       "15           0.516129\n",
       "16           0.666667\n",
       "17           0.250000\n",
       "18           0.500000\n",
       "19           1.000000"
      ]
     },
     "execution_count": 57,
     "metadata": {},
     "output_type": "execute_result"
    }
   ],
   "source": [
    "pd.DataFrame(df_full.groupby(['n_prev_noms']).inducted.mean())\n",
    "# generally increasing until the very end"
   ]
  },
  {
   "cell_type": "code",
   "execution_count": 58,
   "metadata": {
    "collapsed": false
   },
   "outputs": [],
   "source": [
    "pd.set_option('display.max_columns', 12)\n",
    "pd.set_option('display.max_rows', 12)"
   ]
  },
  {
   "cell_type": "markdown",
   "metadata": {},
   "source": [
    "## Voted by: "
   ]
  },
  {
   "cell_type": "code",
   "execution_count": 59,
   "metadata": {
    "collapsed": false
   },
   "outputs": [
    {
     "data": {
      "text/html": [
       "<div>\n",
       "<table border=\"1\" class=\"dataframe\">\n",
       "  <thead>\n",
       "    <tr style=\"text-align: right;\">\n",
       "      <th>inducted</th>\n",
       "      <th>0</th>\n",
       "      <th>1</th>\n",
       "      <th>success_rate</th>\n",
       "    </tr>\n",
       "    <tr>\n",
       "      <th>votedBy</th>\n",
       "      <th></th>\n",
       "      <th></th>\n",
       "      <th></th>\n",
       "    </tr>\n",
       "  </thead>\n",
       "  <tbody>\n",
       "    <tr>\n",
       "      <th>BBWAA</th>\n",
       "      <td>3573</td>\n",
       "      <td>116</td>\n",
       "      <td>0.031445</td>\n",
       "    </tr>\n",
       "    <tr>\n",
       "      <th>Centennial</th>\n",
       "      <td>0</td>\n",
       "      <td>6</td>\n",
       "      <td>1.000000</td>\n",
       "    </tr>\n",
       "    <tr>\n",
       "      <th>Final Ballot</th>\n",
       "      <td>21</td>\n",
       "      <td>0</td>\n",
       "      <td>0.000000</td>\n",
       "    </tr>\n",
       "    <tr>\n",
       "      <th>Negro League</th>\n",
       "      <td>0</td>\n",
       "      <td>26</td>\n",
       "      <td>1.000000</td>\n",
       "    </tr>\n",
       "    <tr>\n",
       "      <th>Nominating Vote</th>\n",
       "      <td>76</td>\n",
       "      <td>0</td>\n",
       "      <td>0.000000</td>\n",
       "    </tr>\n",
       "    <tr>\n",
       "      <th>Old Timers</th>\n",
       "      <td>0</td>\n",
       "      <td>30</td>\n",
       "      <td>1.000000</td>\n",
       "    </tr>\n",
       "    <tr>\n",
       "      <th>Run Off</th>\n",
       "      <td>78</td>\n",
       "      <td>3</td>\n",
       "      <td>0.037037</td>\n",
       "    </tr>\n",
       "    <tr>\n",
       "      <th>Special Election</th>\n",
       "      <td>0</td>\n",
       "      <td>2</td>\n",
       "      <td>1.000000</td>\n",
       "    </tr>\n",
       "    <tr>\n",
       "      <th>Veterans</th>\n",
       "      <td>60</td>\n",
       "      <td>129</td>\n",
       "      <td>0.682540</td>\n",
       "    </tr>\n",
       "  </tbody>\n",
       "</table>\n",
       "</div>"
      ],
      "text/plain": [
       "inducted             0    1  success_rate\n",
       "votedBy                                  \n",
       "BBWAA             3573  116      0.031445\n",
       "Centennial           0    6      1.000000\n",
       "Final Ballot        21    0      0.000000\n",
       "Negro League         0   26      1.000000\n",
       "Nominating Vote     76    0      0.000000\n",
       "Old Timers           0   30      1.000000\n",
       "Run Off             78    3      0.037037\n",
       "Special Election     0    2      1.000000\n",
       "Veterans            60  129      0.682540"
      ]
     },
     "execution_count": 59,
     "metadata": {},
     "output_type": "execute_result"
    }
   ],
   "source": [
    "ct_2 = pd.crosstab(df_full.votedBy, df_full.inducted)\n",
    "ct_2['success_rate'] = ct_2.apply(lambda x: x[1] / (x[0] + x[1]) ,axis=1)\n",
    "ct_2"
   ]
  },
  {
   "cell_type": "markdown",
   "metadata": {},
   "source": [
    "Too many values for dummy variables, likely will remove all besides BBWAA (or ignore)"
   ]
  },
  {
   "cell_type": "markdown",
   "metadata": {},
   "source": [
    "# Team Stats"
   ]
  },
  {
   "cell_type": "code",
   "execution_count": 60,
   "metadata": {
    "collapsed": false
   },
   "outputs": [
    {
     "data": {
      "text/html": [
       "<div>\n",
       "<table border=\"1\" class=\"dataframe\">\n",
       "  <thead>\n",
       "    <tr style=\"text-align: right;\">\n",
       "      <th></th>\n",
       "      <th>yearID</th>\n",
       "      <th>teamID</th>\n",
       "      <th>W</th>\n",
       "      <th>L</th>\n",
       "      <th>G</th>\n",
       "      <th>DivWin</th>\n",
       "      <th>WCWin</th>\n",
       "      <th>LgWin</th>\n",
       "      <th>WSWin</th>\n",
       "      <th>Win_pct</th>\n",
       "      <th>Tot_Wins</th>\n",
       "      <th>playerID</th>\n",
       "    </tr>\n",
       "  </thead>\n",
       "  <tbody>\n",
       "    <tr>\n",
       "      <th>0</th>\n",
       "      <td>1871</td>\n",
       "      <td>BS1</td>\n",
       "      <td>20</td>\n",
       "      <td>10</td>\n",
       "      <td>31</td>\n",
       "      <td>0</td>\n",
       "      <td>0</td>\n",
       "      <td>0</td>\n",
       "      <td>0</td>\n",
       "      <td>0.645161</td>\n",
       "      <td>0</td>\n",
       "      <td>barnero01</td>\n",
       "    </tr>\n",
       "    <tr>\n",
       "      <th>1</th>\n",
       "      <td>1871</td>\n",
       "      <td>BS1</td>\n",
       "      <td>20</td>\n",
       "      <td>10</td>\n",
       "      <td>31</td>\n",
       "      <td>0</td>\n",
       "      <td>0</td>\n",
       "      <td>0</td>\n",
       "      <td>0</td>\n",
       "      <td>0.645161</td>\n",
       "      <td>0</td>\n",
       "      <td>barnero01</td>\n",
       "    </tr>\n",
       "    <tr>\n",
       "      <th>2</th>\n",
       "      <td>1871</td>\n",
       "      <td>BS1</td>\n",
       "      <td>20</td>\n",
       "      <td>10</td>\n",
       "      <td>31</td>\n",
       "      <td>0</td>\n",
       "      <td>0</td>\n",
       "      <td>0</td>\n",
       "      <td>0</td>\n",
       "      <td>0.645161</td>\n",
       "      <td>0</td>\n",
       "      <td>barrofr01</td>\n",
       "    </tr>\n",
       "    <tr>\n",
       "      <th>3</th>\n",
       "      <td>1871</td>\n",
       "      <td>BS1</td>\n",
       "      <td>20</td>\n",
       "      <td>10</td>\n",
       "      <td>31</td>\n",
       "      <td>0</td>\n",
       "      <td>0</td>\n",
       "      <td>0</td>\n",
       "      <td>0</td>\n",
       "      <td>0.645161</td>\n",
       "      <td>0</td>\n",
       "      <td>barrofr01</td>\n",
       "    </tr>\n",
       "    <tr>\n",
       "      <th>4</th>\n",
       "      <td>1871</td>\n",
       "      <td>BS1</td>\n",
       "      <td>20</td>\n",
       "      <td>10</td>\n",
       "      <td>31</td>\n",
       "      <td>0</td>\n",
       "      <td>0</td>\n",
       "      <td>0</td>\n",
       "      <td>0</td>\n",
       "      <td>0.645161</td>\n",
       "      <td>0</td>\n",
       "      <td>birdsda01</td>\n",
       "    </tr>\n",
       "    <tr>\n",
       "      <th>5</th>\n",
       "      <td>1871</td>\n",
       "      <td>BS1</td>\n",
       "      <td>20</td>\n",
       "      <td>10</td>\n",
       "      <td>31</td>\n",
       "      <td>0</td>\n",
       "      <td>0</td>\n",
       "      <td>0</td>\n",
       "      <td>0</td>\n",
       "      <td>0.645161</td>\n",
       "      <td>0</td>\n",
       "      <td>birdsda01</td>\n",
       "    </tr>\n",
       "    <tr>\n",
       "      <th>...</th>\n",
       "      <td>...</td>\n",
       "      <td>...</td>\n",
       "      <td>...</td>\n",
       "      <td>...</td>\n",
       "      <td>...</td>\n",
       "      <td>...</td>\n",
       "      <td>...</td>\n",
       "      <td>...</td>\n",
       "      <td>...</td>\n",
       "      <td>...</td>\n",
       "      <td>...</td>\n",
       "      <td>...</td>\n",
       "    </tr>\n",
       "    <tr>\n",
       "      <th>170520</th>\n",
       "      <td>2015</td>\n",
       "      <td>COL</td>\n",
       "      <td>68</td>\n",
       "      <td>94</td>\n",
       "      <td>162</td>\n",
       "      <td>0</td>\n",
       "      <td>0</td>\n",
       "      <td>0</td>\n",
       "      <td>0</td>\n",
       "      <td>0.419753</td>\n",
       "      <td>0</td>\n",
       "      <td>gurkaja01</td>\n",
       "    </tr>\n",
       "    <tr>\n",
       "      <th>170521</th>\n",
       "      <td>2015</td>\n",
       "      <td>COL</td>\n",
       "      <td>68</td>\n",
       "      <td>94</td>\n",
       "      <td>162</td>\n",
       "      <td>0</td>\n",
       "      <td>0</td>\n",
       "      <td>0</td>\n",
       "      <td>0</td>\n",
       "      <td>0.419753</td>\n",
       "      <td>0</td>\n",
       "      <td>mcbrima02</td>\n",
       "    </tr>\n",
       "    <tr>\n",
       "      <th>170522</th>\n",
       "      <td>2015</td>\n",
       "      <td>COL</td>\n",
       "      <td>68</td>\n",
       "      <td>94</td>\n",
       "      <td>162</td>\n",
       "      <td>0</td>\n",
       "      <td>0</td>\n",
       "      <td>0</td>\n",
       "      <td>0</td>\n",
       "      <td>0.419753</td>\n",
       "      <td>0</td>\n",
       "      <td>parkeky01</td>\n",
       "    </tr>\n",
       "    <tr>\n",
       "      <th>170523</th>\n",
       "      <td>2015</td>\n",
       "      <td>COL</td>\n",
       "      <td>68</td>\n",
       "      <td>94</td>\n",
       "      <td>162</td>\n",
       "      <td>0</td>\n",
       "      <td>0</td>\n",
       "      <td>0</td>\n",
       "      <td>0</td>\n",
       "      <td>0.419753</td>\n",
       "      <td>0</td>\n",
       "      <td>paulsbe01</td>\n",
       "    </tr>\n",
       "    <tr>\n",
       "      <th>170524</th>\n",
       "      <td>2015</td>\n",
       "      <td>COL</td>\n",
       "      <td>68</td>\n",
       "      <td>94</td>\n",
       "      <td>162</td>\n",
       "      <td>0</td>\n",
       "      <td>0</td>\n",
       "      <td>0</td>\n",
       "      <td>0</td>\n",
       "      <td>0.419753</td>\n",
       "      <td>0</td>\n",
       "      <td>stubbdr01</td>\n",
       "    </tr>\n",
       "    <tr>\n",
       "      <th>170525</th>\n",
       "      <td>2015</td>\n",
       "      <td>COL</td>\n",
       "      <td>68</td>\n",
       "      <td>94</td>\n",
       "      <td>162</td>\n",
       "      <td>0</td>\n",
       "      <td>0</td>\n",
       "      <td>0</td>\n",
       "      <td>0</td>\n",
       "      <td>0.419753</td>\n",
       "      <td>0</td>\n",
       "      <td>ynoara01</td>\n",
       "    </tr>\n",
       "  </tbody>\n",
       "</table>\n",
       "<p>170526 rows × 12 columns</p>\n",
       "</div>"
      ],
      "text/plain": [
       "        yearID teamID   W   L    G  DivWin  WCWin  LgWin  WSWin   Win_pct  \\\n",
       "0         1871    BS1  20  10   31       0      0      0      0  0.645161   \n",
       "1         1871    BS1  20  10   31       0      0      0      0  0.645161   \n",
       "2         1871    BS1  20  10   31       0      0      0      0  0.645161   \n",
       "3         1871    BS1  20  10   31       0      0      0      0  0.645161   \n",
       "4         1871    BS1  20  10   31       0      0      0      0  0.645161   \n",
       "5         1871    BS1  20  10   31       0      0      0      0  0.645161   \n",
       "...        ...    ...  ..  ..  ...     ...    ...    ...    ...       ...   \n",
       "170520    2015    COL  68  94  162       0      0      0      0  0.419753   \n",
       "170521    2015    COL  68  94  162       0      0      0      0  0.419753   \n",
       "170522    2015    COL  68  94  162       0      0      0      0  0.419753   \n",
       "170523    2015    COL  68  94  162       0      0      0      0  0.419753   \n",
       "170524    2015    COL  68  94  162       0      0      0      0  0.419753   \n",
       "170525    2015    COL  68  94  162       0      0      0      0  0.419753   \n",
       "\n",
       "        Tot_Wins   playerID  \n",
       "0              0  barnero01  \n",
       "1              0  barnero01  \n",
       "2              0  barrofr01  \n",
       "3              0  barrofr01  \n",
       "4              0  birdsda01  \n",
       "5              0  birdsda01  \n",
       "...          ...        ...  \n",
       "170520         0  gurkaja01  \n",
       "170521         0  mcbrima02  \n",
       "170522         0  parkeky01  \n",
       "170523         0  paulsbe01  \n",
       "170524         0  stubbdr01  \n",
       "170525         0   ynoara01  \n",
       "\n",
       "[170526 rows x 12 columns]"
      ]
     },
     "execution_count": 60,
     "metadata": {},
     "output_type": "execute_result"
    }
   ],
   "source": [
    "team_year_stats = team_stats_by_year.merge(fielding_df,on=['teamID','yearID'],how='left')\n",
    "team_year_stats"
   ]
  },
  {
   "cell_type": "markdown",
   "metadata": {},
   "source": [
    "Some repeats, so I'll get rid of them"
   ]
  },
  {
   "cell_type": "code",
   "execution_count": 61,
   "metadata": {
    "collapsed": false
   },
   "outputs": [],
   "source": [
    "team_year_stats = team_year_stats.drop_duplicates()"
   ]
  },
  {
   "cell_type": "markdown",
   "metadata": {},
   "source": [
    "### Career Wins by Nominee"
   ]
  },
  {
   "cell_type": "markdown",
   "metadata": {},
   "source": [
    "Need to aggregate wins by player "
   ]
  },
  {
   "cell_type": "code",
   "execution_count": 62,
   "metadata": {
    "collapsed": false
   },
   "outputs": [
    {
     "data": {
      "text/html": [
       "<div>\n",
       "<table border=\"1\" class=\"dataframe\">\n",
       "  <thead>\n",
       "    <tr style=\"text-align: right;\">\n",
       "      <th></th>\n",
       "      <th>W</th>\n",
       "    </tr>\n",
       "    <tr>\n",
       "      <th>playerID</th>\n",
       "      <th></th>\n",
       "    </tr>\n",
       "  </thead>\n",
       "  <tbody>\n",
       "    <tr>\n",
       "      <th>aardsda01</th>\n",
       "      <td>706</td>\n",
       "    </tr>\n",
       "    <tr>\n",
       "      <th>aaronha01</th>\n",
       "      <td>1916</td>\n",
       "    </tr>\n",
       "    <tr>\n",
       "      <th>aaronto01</th>\n",
       "      <td>588</td>\n",
       "    </tr>\n",
       "    <tr>\n",
       "      <th>aasedo01</th>\n",
       "      <td>1012</td>\n",
       "    </tr>\n",
       "    <tr>\n",
       "      <th>abadan01</th>\n",
       "      <td>197</td>\n",
       "    </tr>\n",
       "  </tbody>\n",
       "</table>\n",
       "</div>"
      ],
      "text/plain": [
       "              W\n",
       "playerID       \n",
       "aardsda01   706\n",
       "aaronha01  1916\n",
       "aaronto01   588\n",
       "aasedo01   1012\n",
       "abadan01    197"
      ]
     },
     "execution_count": 62,
     "metadata": {},
     "output_type": "execute_result"
    }
   ],
   "source": [
    "df_player_wins = pd.DataFrame(team_year_stats[['W','playerID']].groupby('playerID').W.sum())\n",
    "df_player_wins.head()"
   ]
  },
  {
   "cell_type": "markdown",
   "metadata": {},
   "source": [
    "Merge with my hall of famers table"
   ]
  },
  {
   "cell_type": "code",
   "execution_count": 63,
   "metadata": {
    "collapsed": false
   },
   "outputs": [],
   "source": [
    "df_full = df_full.merge(pd.DataFrame(df_player_wins),how='left',\n",
    "                        left_on='playerID',right_index=True)"
   ]
  },
  {
   "cell_type": "markdown",
   "metadata": {},
   "source": [
    "### Next, win percentages"
   ]
  },
  {
   "cell_type": "code",
   "execution_count": 64,
   "metadata": {
    "collapsed": false
   },
   "outputs": [
    {
     "data": {
      "text/html": [
       "<div>\n",
       "<table border=\"1\" class=\"dataframe\">\n",
       "  <thead>\n",
       "    <tr style=\"text-align: right;\">\n",
       "      <th></th>\n",
       "      <th>Win_pct</th>\n",
       "    </tr>\n",
       "    <tr>\n",
       "      <th>playerID</th>\n",
       "      <th></th>\n",
       "    </tr>\n",
       "  </thead>\n",
       "  <tbody>\n",
       "    <tr>\n",
       "      <th>aardsda01</th>\n",
       "      <td>0.484225</td>\n",
       "    </tr>\n",
       "    <tr>\n",
       "      <th>aaronha01</th>\n",
       "      <td>0.523569</td>\n",
       "    </tr>\n",
       "    <tr>\n",
       "      <th>aaronto01</th>\n",
       "      <td>0.517626</td>\n",
       "    </tr>\n",
       "    <tr>\n",
       "      <th>aasedo01</th>\n",
       "      <td>0.493056</td>\n",
       "    </tr>\n",
       "  </tbody>\n",
       "</table>\n",
       "</div>"
      ],
      "text/plain": [
       "            Win_pct\n",
       "playerID           \n",
       "aardsda01  0.484225\n",
       "aaronha01  0.523569\n",
       "aaronto01  0.517626\n",
       "aasedo01   0.493056"
      ]
     },
     "execution_count": 64,
     "metadata": {},
     "output_type": "execute_result"
    }
   ],
   "source": [
    "df_player_win_pct = pd.DataFrame(team_year_stats[['playerID','Win_pct']]\\\n",
    "                                 .groupby('playerID').Win_pct.mean())\n",
    "df_player_win_pct.head(4)"
   ]
  },
  {
   "cell_type": "code",
   "execution_count": 65,
   "metadata": {
    "collapsed": false
   },
   "outputs": [
    {
     "data": {
      "text/html": [
       "<div>\n",
       "<table border=\"1\" class=\"dataframe\">\n",
       "  <thead>\n",
       "    <tr style=\"text-align: right;\">\n",
       "      <th></th>\n",
       "      <th>HoF_Year</th>\n",
       "      <th>inducted</th>\n",
       "      <th>votes_percent</th>\n",
       "      <th>mean_salary</th>\n",
       "      <th>sum_salary</th>\n",
       "      <th>max_salary</th>\n",
       "      <th>allstarGameCount</th>\n",
       "      <th>n_prev_noms</th>\n",
       "      <th>W</th>\n",
       "      <th>Win_pct</th>\n",
       "    </tr>\n",
       "  </thead>\n",
       "  <tbody>\n",
       "    <tr>\n",
       "      <th>HoF_Year</th>\n",
       "      <td>1.000000</td>\n",
       "      <td>0.098868</td>\n",
       "      <td>0.184892</td>\n",
       "      <td>0.697194</td>\n",
       "      <td>0.701015</td>\n",
       "      <td>0.710352</td>\n",
       "      <td>0.099289</td>\n",
       "      <td>0.045735</td>\n",
       "      <td>0.223882</td>\n",
       "      <td>-0.115564</td>\n",
       "    </tr>\n",
       "    <tr>\n",
       "      <th>inducted</th>\n",
       "      <td>0.098868</td>\n",
       "      <td>1.000000</td>\n",
       "      <td>0.594872</td>\n",
       "      <td>0.092500</td>\n",
       "      <td>0.109638</td>\n",
       "      <td>0.056231</td>\n",
       "      <td>0.237289</td>\n",
       "      <td>0.038025</td>\n",
       "      <td>0.044109</td>\n",
       "      <td>0.037435</td>\n",
       "    </tr>\n",
       "    <tr>\n",
       "      <th>votes_percent</th>\n",
       "      <td>0.184892</td>\n",
       "      <td>0.594872</td>\n",
       "      <td>1.000000</td>\n",
       "      <td>0.122508</td>\n",
       "      <td>0.132421</td>\n",
       "      <td>0.082904</td>\n",
       "      <td>0.519250</td>\n",
       "      <td>0.314405</td>\n",
       "      <td>0.333486</td>\n",
       "      <td>0.087688</td>\n",
       "    </tr>\n",
       "    <tr>\n",
       "      <th>mean_salary</th>\n",
       "      <td>0.697194</td>\n",
       "      <td>0.092500</td>\n",
       "      <td>0.122508</td>\n",
       "      <td>1.000000</td>\n",
       "      <td>0.967237</td>\n",
       "      <td>0.969690</td>\n",
       "      <td>0.138644</td>\n",
       "      <td>-0.157562</td>\n",
       "      <td>-0.151534</td>\n",
       "      <td>-0.010561</td>\n",
       "    </tr>\n",
       "    <tr>\n",
       "      <th>sum_salary</th>\n",
       "      <td>0.701015</td>\n",
       "      <td>0.109638</td>\n",
       "      <td>0.132421</td>\n",
       "      <td>0.967237</td>\n",
       "      <td>1.000000</td>\n",
       "      <td>0.961698</td>\n",
       "      <td>0.162474</td>\n",
       "      <td>-0.184610</td>\n",
       "      <td>-0.024896</td>\n",
       "      <td>-0.000575</td>\n",
       "    </tr>\n",
       "    <tr>\n",
       "      <th>max_salary</th>\n",
       "      <td>0.710352</td>\n",
       "      <td>0.056231</td>\n",
       "      <td>0.082904</td>\n",
       "      <td>0.969690</td>\n",
       "      <td>0.961698</td>\n",
       "      <td>1.000000</td>\n",
       "      <td>0.102658</td>\n",
       "      <td>-0.192530</td>\n",
       "      <td>-0.121079</td>\n",
       "      <td>-0.012967</td>\n",
       "    </tr>\n",
       "    <tr>\n",
       "      <th>allstarGameCount</th>\n",
       "      <td>0.099289</td>\n",
       "      <td>0.237289</td>\n",
       "      <td>0.519250</td>\n",
       "      <td>0.138644</td>\n",
       "      <td>0.162474</td>\n",
       "      <td>0.102658</td>\n",
       "      <td>1.000000</td>\n",
       "      <td>0.202230</td>\n",
       "      <td>0.215138</td>\n",
       "      <td>0.144222</td>\n",
       "    </tr>\n",
       "    <tr>\n",
       "      <th>n_prev_noms</th>\n",
       "      <td>0.045735</td>\n",
       "      <td>0.038025</td>\n",
       "      <td>0.314405</td>\n",
       "      <td>-0.157562</td>\n",
       "      <td>-0.184610</td>\n",
       "      <td>-0.192530</td>\n",
       "      <td>0.202230</td>\n",
       "      <td>1.000000</td>\n",
       "      <td>0.143258</td>\n",
       "      <td>0.080647</td>\n",
       "    </tr>\n",
       "    <tr>\n",
       "      <th>W</th>\n",
       "      <td>0.223882</td>\n",
       "      <td>0.044109</td>\n",
       "      <td>0.333486</td>\n",
       "      <td>-0.151534</td>\n",
       "      <td>-0.024896</td>\n",
       "      <td>-0.121079</td>\n",
       "      <td>0.215138</td>\n",
       "      <td>0.143258</td>\n",
       "      <td>1.000000</td>\n",
       "      <td>0.100091</td>\n",
       "    </tr>\n",
       "    <tr>\n",
       "      <th>Win_pct</th>\n",
       "      <td>-0.115564</td>\n",
       "      <td>0.037435</td>\n",
       "      <td>0.087688</td>\n",
       "      <td>-0.010561</td>\n",
       "      <td>-0.000575</td>\n",
       "      <td>-0.012967</td>\n",
       "      <td>0.144222</td>\n",
       "      <td>0.080647</td>\n",
       "      <td>0.100091</td>\n",
       "      <td>1.000000</td>\n",
       "    </tr>\n",
       "  </tbody>\n",
       "</table>\n",
       "</div>"
      ],
      "text/plain": [
       "                  HoF_Year  inducted  votes_percent  mean_salary  sum_salary  \\\n",
       "HoF_Year          1.000000  0.098868       0.184892     0.697194    0.701015   \n",
       "inducted          0.098868  1.000000       0.594872     0.092500    0.109638   \n",
       "votes_percent     0.184892  0.594872       1.000000     0.122508    0.132421   \n",
       "mean_salary       0.697194  0.092500       0.122508     1.000000    0.967237   \n",
       "sum_salary        0.701015  0.109638       0.132421     0.967237    1.000000   \n",
       "max_salary        0.710352  0.056231       0.082904     0.969690    0.961698   \n",
       "allstarGameCount  0.099289  0.237289       0.519250     0.138644    0.162474   \n",
       "n_prev_noms       0.045735  0.038025       0.314405    -0.157562   -0.184610   \n",
       "W                 0.223882  0.044109       0.333486    -0.151534   -0.024896   \n",
       "Win_pct          -0.115564  0.037435       0.087688    -0.010561   -0.000575   \n",
       "\n",
       "                  max_salary  allstarGameCount  n_prev_noms         W  \\\n",
       "HoF_Year            0.710352          0.099289     0.045735  0.223882   \n",
       "inducted            0.056231          0.237289     0.038025  0.044109   \n",
       "votes_percent       0.082904          0.519250     0.314405  0.333486   \n",
       "mean_salary         0.969690          0.138644    -0.157562 -0.151534   \n",
       "sum_salary          0.961698          0.162474    -0.184610 -0.024896   \n",
       "max_salary          1.000000          0.102658    -0.192530 -0.121079   \n",
       "allstarGameCount    0.102658          1.000000     0.202230  0.215138   \n",
       "n_prev_noms        -0.192530          0.202230     1.000000  0.143258   \n",
       "W                  -0.121079          0.215138     0.143258  1.000000   \n",
       "Win_pct            -0.012967          0.144222     0.080647  0.100091   \n",
       "\n",
       "                   Win_pct  \n",
       "HoF_Year         -0.115564  \n",
       "inducted          0.037435  \n",
       "votes_percent     0.087688  \n",
       "mean_salary      -0.010561  \n",
       "sum_salary       -0.000575  \n",
       "max_salary       -0.012967  \n",
       "allstarGameCount  0.144222  \n",
       "n_prev_noms       0.080647  \n",
       "W                 0.100091  \n",
       "Win_pct           1.000000  "
      ]
     },
     "execution_count": 65,
     "metadata": {},
     "output_type": "execute_result"
    }
   ],
   "source": [
    "df_full = df_full.merge(df_player_win_pct,how='left',\n",
    "                        left_on='playerID',right_index=True)\n",
    "df_full.corr()\n"
   ]
  },
  {
   "cell_type": "code",
   "execution_count": 66,
   "metadata": {
    "collapsed": false
   },
   "outputs": [
    {
     "data": {
      "text/plain": [
       "<matplotlib.axes._subplots.AxesSubplot at 0x119439518>"
      ]
     },
     "execution_count": 66,
     "metadata": {},
     "output_type": "execute_result"
    },
    {
     "data": {
      "image/png": "[encoded data removed]",
      "text/plain": [
       "<matplotlib.figure.Figure at 0x1129073c8>"
      ]
     },
     "metadata": {},
     "output_type": "display_data"
    }
   ],
   "source": [
    "df_full[['Win_pct']].plot(kind='box',\n",
    "                               title='Boxplot of Career Average Win % for HoF Nominees')"
   ]
  },
  {
   "cell_type": "markdown",
   "metadata": {},
   "source": [
    "## Postseason Wins"
   ]
  },
  {
   "cell_type": "markdown",
   "metadata": {},
   "source": [
    "Add to dataframe, assess corr()"
   ]
  },
  {
   "cell_type": "code",
   "execution_count": 67,
   "metadata": {
    "collapsed": false
   },
   "outputs": [
    {
     "data": {
      "text/html": [
       "<div>\n",
       "<table border=\"1\" class=\"dataframe\">\n",
       "  <thead>\n",
       "    <tr style=\"text-align: right;\">\n",
       "      <th></th>\n",
       "      <th>Tot_Wins</th>\n",
       "    </tr>\n",
       "    <tr>\n",
       "      <th>playerID</th>\n",
       "      <th></th>\n",
       "    </tr>\n",
       "  </thead>\n",
       "  <tbody>\n",
       "    <tr>\n",
       "      <th>aardsda01</th>\n",
       "      <td>2</td>\n",
       "    </tr>\n",
       "    <tr>\n",
       "      <th>aaronha01</th>\n",
       "      <td>4</td>\n",
       "    </tr>\n",
       "    <tr>\n",
       "      <th>aaronto01</th>\n",
       "      <td>1</td>\n",
       "    </tr>\n",
       "    <tr>\n",
       "      <th>aasedo01</th>\n",
       "      <td>2</td>\n",
       "    </tr>\n",
       "  </tbody>\n",
       "</table>\n",
       "</div>"
      ],
      "text/plain": [
       "           Tot_Wins\n",
       "playerID           \n",
       "aardsda01         2\n",
       "aaronha01         4\n",
       "aaronto01         1\n",
       "aasedo01          2"
      ]
     },
     "execution_count": 67,
     "metadata": {},
     "output_type": "execute_result"
    }
   ],
   "source": [
    "df_ps_wins = pd.DataFrame(team_year_stats[['playerID','Tot_Wins']].groupby('playerID').Tot_Wins.sum())\n",
    "df_ps_wins.head(4)"
   ]
  },
  {
   "cell_type": "code",
   "execution_count": 68,
   "metadata": {
    "collapsed": false
   },
   "outputs": [
    {
     "data": {
      "text/html": [
       "<div>\n",
       "<table border=\"1\" class=\"dataframe\">\n",
       "  <thead>\n",
       "    <tr style=\"text-align: right;\">\n",
       "      <th></th>\n",
       "      <th>HoF_Year</th>\n",
       "      <th>inducted</th>\n",
       "      <th>votes_percent</th>\n",
       "      <th>mean_salary</th>\n",
       "      <th>sum_salary</th>\n",
       "      <th>max_salary</th>\n",
       "      <th>allstarGameCount</th>\n",
       "      <th>n_prev_noms</th>\n",
       "      <th>W</th>\n",
       "      <th>Win_pct</th>\n",
       "      <th>Tot_Wins</th>\n",
       "    </tr>\n",
       "  </thead>\n",
       "  <tbody>\n",
       "    <tr>\n",
       "      <th>HoF_Year</th>\n",
       "      <td>1.000000</td>\n",
       "      <td>0.098868</td>\n",
       "      <td>0.184892</td>\n",
       "      <td>0.697194</td>\n",
       "      <td>0.701015</td>\n",
       "      <td>0.710352</td>\n",
       "      <td>0.099289</td>\n",
       "      <td>0.045735</td>\n",
       "      <td>0.223882</td>\n",
       "      <td>-0.115564</td>\n",
       "      <td>0.175761</td>\n",
       "    </tr>\n",
       "    <tr>\n",
       "      <th>inducted</th>\n",
       "      <td>0.098868</td>\n",
       "      <td>1.000000</td>\n",
       "      <td>0.594872</td>\n",
       "      <td>0.092500</td>\n",
       "      <td>0.109638</td>\n",
       "      <td>0.056231</td>\n",
       "      <td>0.237289</td>\n",
       "      <td>0.038025</td>\n",
       "      <td>0.044109</td>\n",
       "      <td>0.037435</td>\n",
       "      <td>0.026692</td>\n",
       "    </tr>\n",
       "    <tr>\n",
       "      <th>votes_percent</th>\n",
       "      <td>0.184892</td>\n",
       "      <td>0.594872</td>\n",
       "      <td>1.000000</td>\n",
       "      <td>0.122508</td>\n",
       "      <td>0.132421</td>\n",
       "      <td>0.082904</td>\n",
       "      <td>0.519250</td>\n",
       "      <td>0.314405</td>\n",
       "      <td>0.333486</td>\n",
       "      <td>0.087688</td>\n",
       "      <td>0.140105</td>\n",
       "    </tr>\n",
       "    <tr>\n",
       "      <th>mean_salary</th>\n",
       "      <td>0.697194</td>\n",
       "      <td>0.092500</td>\n",
       "      <td>0.122508</td>\n",
       "      <td>1.000000</td>\n",
       "      <td>0.967237</td>\n",
       "      <td>0.969690</td>\n",
       "      <td>0.138644</td>\n",
       "      <td>-0.157562</td>\n",
       "      <td>-0.151534</td>\n",
       "      <td>-0.010561</td>\n",
       "      <td>0.017408</td>\n",
       "    </tr>\n",
       "    <tr>\n",
       "      <th>sum_salary</th>\n",
       "      <td>0.701015</td>\n",
       "      <td>0.109638</td>\n",
       "      <td>0.132421</td>\n",
       "      <td>0.967237</td>\n",
       "      <td>1.000000</td>\n",
       "      <td>0.961698</td>\n",
       "      <td>0.162474</td>\n",
       "      <td>-0.184610</td>\n",
       "      <td>-0.024896</td>\n",
       "      <td>-0.000575</td>\n",
       "      <td>0.069795</td>\n",
       "    </tr>\n",
       "    <tr>\n",
       "      <th>max_salary</th>\n",
       "      <td>0.710352</td>\n",
       "      <td>0.056231</td>\n",
       "      <td>0.082904</td>\n",
       "      <td>0.969690</td>\n",
       "      <td>0.961698</td>\n",
       "      <td>1.000000</td>\n",
       "      <td>0.102658</td>\n",
       "      <td>-0.192530</td>\n",
       "      <td>-0.121079</td>\n",
       "      <td>-0.012967</td>\n",
       "      <td>0.049204</td>\n",
       "    </tr>\n",
       "    <tr>\n",
       "      <th>allstarGameCount</th>\n",
       "      <td>0.099289</td>\n",
       "      <td>0.237289</td>\n",
       "      <td>0.519250</td>\n",
       "      <td>0.138644</td>\n",
       "      <td>0.162474</td>\n",
       "      <td>0.102658</td>\n",
       "      <td>1.000000</td>\n",
       "      <td>0.202230</td>\n",
       "      <td>0.215138</td>\n",
       "      <td>0.144222</td>\n",
       "      <td>0.073338</td>\n",
       "    </tr>\n",
       "    <tr>\n",
       "      <th>n_prev_noms</th>\n",
       "      <td>0.045735</td>\n",
       "      <td>0.038025</td>\n",
       "      <td>0.314405</td>\n",
       "      <td>-0.157562</td>\n",
       "      <td>-0.184610</td>\n",
       "      <td>-0.192530</td>\n",
       "      <td>0.202230</td>\n",
       "      <td>1.000000</td>\n",
       "      <td>0.143258</td>\n",
       "      <td>0.080647</td>\n",
       "      <td>0.023723</td>\n",
       "    </tr>\n",
       "    <tr>\n",
       "      <th>W</th>\n",
       "      <td>0.223882</td>\n",
       "      <td>0.044109</td>\n",
       "      <td>0.333486</td>\n",
       "      <td>-0.151534</td>\n",
       "      <td>-0.024896</td>\n",
       "      <td>-0.121079</td>\n",
       "      <td>0.215138</td>\n",
       "      <td>0.143258</td>\n",
       "      <td>1.000000</td>\n",
       "      <td>0.100091</td>\n",
       "      <td>0.326720</td>\n",
       "    </tr>\n",
       "    <tr>\n",
       "      <th>Win_pct</th>\n",
       "      <td>-0.115564</td>\n",
       "      <td>0.037435</td>\n",
       "      <td>0.087688</td>\n",
       "      <td>-0.010561</td>\n",
       "      <td>-0.000575</td>\n",
       "      <td>-0.012967</td>\n",
       "      <td>0.144222</td>\n",
       "      <td>0.080647</td>\n",
       "      <td>0.100091</td>\n",
       "      <td>1.000000</td>\n",
       "      <td>0.607219</td>\n",
       "    </tr>\n",
       "    <tr>\n",
       "      <th>Tot_Wins</th>\n",
       "      <td>0.175761</td>\n",
       "      <td>0.026692</td>\n",
       "      <td>0.140105</td>\n",
       "      <td>0.017408</td>\n",
       "      <td>0.069795</td>\n",
       "      <td>0.049204</td>\n",
       "      <td>0.073338</td>\n",
       "      <td>0.023723</td>\n",
       "      <td>0.326720</td>\n",
       "      <td>0.607219</td>\n",
       "      <td>1.000000</td>\n",
       "    </tr>\n",
       "  </tbody>\n",
       "</table>\n",
       "</div>"
      ],
      "text/plain": [
       "                  HoF_Year  inducted  votes_percent  mean_salary  sum_salary  \\\n",
       "HoF_Year          1.000000  0.098868       0.184892     0.697194    0.701015   \n",
       "inducted          0.098868  1.000000       0.594872     0.092500    0.109638   \n",
       "votes_percent     0.184892  0.594872       1.000000     0.122508    0.132421   \n",
       "mean_salary       0.697194  0.092500       0.122508     1.000000    0.967237   \n",
       "sum_salary        0.701015  0.109638       0.132421     0.967237    1.000000   \n",
       "max_salary        0.710352  0.056231       0.082904     0.969690    0.961698   \n",
       "allstarGameCount  0.099289  0.237289       0.519250     0.138644    0.162474   \n",
       "n_prev_noms       0.045735  0.038025       0.314405    -0.157562   -0.184610   \n",
       "W                 0.223882  0.044109       0.333486    -0.151534   -0.024896   \n",
       "Win_pct          -0.115564  0.037435       0.087688    -0.010561   -0.000575   \n",
       "Tot_Wins          0.175761  0.026692       0.140105     0.017408    0.069795   \n",
       "\n",
       "                  max_salary  allstarGameCount  n_prev_noms         W  \\\n",
       "HoF_Year            0.710352          0.099289     0.045735  0.223882   \n",
       "inducted            0.056231          0.237289     0.038025  0.044109   \n",
       "votes_percent       0.082904          0.519250     0.314405  0.333486   \n",
       "mean_salary         0.969690          0.138644    -0.157562 -0.151534   \n",
       "sum_salary          0.961698          0.162474    -0.184610 -0.024896   \n",
       "max_salary          1.000000          0.102658    -0.192530 -0.121079   \n",
       "allstarGameCount    0.102658          1.000000     0.202230  0.215138   \n",
       "n_prev_noms        -0.192530          0.202230     1.000000  0.143258   \n",
       "W                  -0.121079          0.215138     0.143258  1.000000   \n",
       "Win_pct            -0.012967          0.144222     0.080647  0.100091   \n",
       "Tot_Wins            0.049204          0.073338     0.023723  0.326720   \n",
       "\n",
       "                   Win_pct  Tot_Wins  \n",
       "HoF_Year         -0.115564  0.175761  \n",
       "inducted          0.037435  0.026692  \n",
       "votes_percent     0.087688  0.140105  \n",
       "mean_salary      -0.010561  0.017408  \n",
       "sum_salary       -0.000575  0.069795  \n",
       "max_salary       -0.012967  0.049204  \n",
       "allstarGameCount  0.144222  0.073338  \n",
       "n_prev_noms       0.080647  0.023723  \n",
       "W                 0.100091  0.326720  \n",
       "Win_pct           1.000000  0.607219  \n",
       "Tot_Wins          0.607219  1.000000  "
      ]
     },
     "execution_count": 68,
     "metadata": {},
     "output_type": "execute_result"
    }
   ],
   "source": [
    "df_full = df_full.merge(df_ps_wins,how='left',\n",
    "                        left_on='playerID',right_index=True)\n",
    "df_full.corr()"
   ]
  },
  {
   "cell_type": "code",
   "execution_count": 69,
   "metadata": {
    "collapsed": false
   },
   "outputs": [
    {
     "data": {
      "text/plain": [
       "inducted\n",
       "0    Axes(0.125,0.125;0.775x0.775)\n",
       "1    Axes(0.125,0.125;0.775x0.775)\n",
       "Name: Tot_Wins, dtype: object"
      ]
     },
     "execution_count": 69,
     "metadata": {},
     "output_type": "execute_result"
    },
    {
     "data": {
      "image/png": "[encoded data removed]",
      "text/plain": [
       "<matplotlib.figure.Figure at 0x119673358>"
      ]
     },
     "metadata": {},
     "output_type": "display_data"
    }
   ],
   "source": [
    "df_full.groupby('inducted').Tot_Wins.plot(kind='hist',figsize = (6, 6),bins=20,\n",
    "                                   sharex=True, sharey=True,legend=True,\n",
    "                                title='Histogram of Postseason Wins\\n by Induction Decision')"
   ]
  },
  {
   "cell_type": "markdown",
   "metadata": {},
   "source": [
    "Postseason Wins ('Tot_Wins') not as good a predictor as career wins ('W') but better than win percentage ('Win_pct')."
   ]
  },
  {
   "cell_type": "markdown",
   "metadata": {},
   "source": [
    "## Dummy Variables for Category"
   ]
  },
  {
   "cell_type": "markdown",
   "metadata": {},
   "source": [
    "Drop 'Player' as it's the overwhelming majority of nominees. "
   ]
  },
  {
   "cell_type": "code",
   "execution_count": 70,
   "metadata": {
    "collapsed": false
   },
   "outputs": [],
   "source": [
    "dummies_cat = pd.get_dummies(df_full.category)\n",
    "dummies_cat = dummies_cat.drop(['Player'],axis=1)\n",
    "df_full['Manager'] = dummies_cat['Manager']\n",
    "df_full['Pioneer/Executive'] = dummies_cat['Pioneer/Executive']\n",
    "df_full['Umpire'] = dummies_cat['Umpire']"
   ]
  },
  {
   "cell_type": "markdown",
   "metadata": {},
   "source": [
    "## Player Award Data"
   ]
  },
  {
   "cell_type": "markdown",
   "metadata": {},
   "source": [
    "Add to dataframe, perform feature engineering so only one entry per nomination. "
   ]
  },
  {
   "cell_type": "code",
   "execution_count": 71,
   "metadata": {
    "collapsed": false
   },
   "outputs": [
    {
     "data": {
      "text/html": [
       "<div>\n",
       "<table border=\"1\" class=\"dataframe\">\n",
       "  <thead>\n",
       "    <tr style=\"text-align: right;\">\n",
       "      <th></th>\n",
       "      <th>yearID</th>\n",
       "      <th>awardID</th>\n",
       "      <th>playerID</th>\n",
       "    </tr>\n",
       "  </thead>\n",
       "  <tbody>\n",
       "    <tr>\n",
       "      <th>0</th>\n",
       "      <td>1877</td>\n",
       "      <td>Pitching Triple Crown</td>\n",
       "      <td>bondto01</td>\n",
       "    </tr>\n",
       "    <tr>\n",
       "      <th>1</th>\n",
       "      <td>1878</td>\n",
       "      <td>Triple Crown</td>\n",
       "      <td>hinespa01</td>\n",
       "    </tr>\n",
       "    <tr>\n",
       "      <th>2</th>\n",
       "      <td>1884</td>\n",
       "      <td>Pitching Triple Crown</td>\n",
       "      <td>heckegu01</td>\n",
       "    </tr>\n",
       "    <tr>\n",
       "      <th>3</th>\n",
       "      <td>1884</td>\n",
       "      <td>Pitching Triple Crown</td>\n",
       "      <td>radboch01</td>\n",
       "    </tr>\n",
       "    <tr>\n",
       "      <th>4</th>\n",
       "      <td>1887</td>\n",
       "      <td>Triple Crown</td>\n",
       "      <td>oneilti01</td>\n",
       "    </tr>\n",
       "  </tbody>\n",
       "</table>\n",
       "</div>"
      ],
      "text/plain": [
       "   yearID                awardID   playerID\n",
       "0    1877  Pitching Triple Crown   bondto01\n",
       "1    1878           Triple Crown  hinespa01\n",
       "2    1884  Pitching Triple Crown  heckegu01\n",
       "3    1884  Pitching Triple Crown  radboch01\n",
       "4    1887           Triple Crown  oneilti01"
      ]
     },
     "execution_count": 71,
     "metadata": {},
     "output_type": "execute_result"
    }
   ],
   "source": [
    "p_awards_df.head()"
   ]
  },
  {
   "cell_type": "code",
   "execution_count": 72,
   "metadata": {
    "collapsed": false
   },
   "outputs": [
    {
     "data": {
      "text/plain": [
       "array(['Pitching Triple Crown', 'Triple Crown',\n",
       "       'Baseball Magazine All-Star', 'Most Valuable Player',\n",
       "       'TSN All-Star', 'TSN Guide MVP',\n",
       "       'TSN Major League Player of the Year', 'TSN Pitcher of the Year',\n",
       "       'TSN Player of the Year', 'Rookie of the Year', 'Babe Ruth Award',\n",
       "       'Lou Gehrig Memorial Award', 'World Series MVP', 'Cy Young Award',\n",
       "       'Gold Glove', 'TSN Fireman of the Year', 'All-Star Game MVP',\n",
       "       'Hutch Award', 'Roberto Clemente Award', 'Rolaids Relief Man Award',\n",
       "       'NLCS MVP', 'ALCS MVP', 'Silver Slugger', 'Branch Rickey Award',\n",
       "       'Hank Aaron Award', 'TSN Reliever of the Year',\n",
       "       'Comeback Player of the Year'], dtype=object)"
      ]
     },
     "execution_count": 72,
     "metadata": {},
     "output_type": "execute_result"
    }
   ],
   "source": [
    "p_awards_df.awardID.unique()"
   ]
  },
  {
   "cell_type": "markdown",
   "metadata": {},
   "source": [
    "#### Want to only include awards prior to the voting year of the HoF nomination"
   ]
  },
  {
   "cell_type": "code",
   "execution_count": 73,
   "metadata": {
    "collapsed": true
   },
   "outputs": [],
   "source": [
    "award_dict = defaultdict(list)\n",
    "for year, player in zip(p_awards_df.yearID.tolist(), p_awards_df.playerID.tolist()):\n",
    "    award_dict[player].append(year)"
   ]
  },
  {
   "cell_type": "code",
   "execution_count": 74,
   "metadata": {
    "collapsed": false
   },
   "outputs": [],
   "source": [
    "df_full['P_Awards'] = df_full.apply(lambda x: \\\n",
    "                        len([y <= x['HoF_Year'] for y in award_dict[x['playerID']]]),axis=1)"
   ]
  },
  {
   "cell_type": "code",
   "execution_count": 75,
   "metadata": {
    "collapsed": false
   },
   "outputs": [
    {
     "data": {
      "text/html": [
       "<div>\n",
       "<table border=\"1\" class=\"dataframe\">\n",
       "  <thead>\n",
       "    <tr style=\"text-align: right;\">\n",
       "      <th></th>\n",
       "      <th>playerID</th>\n",
       "      <th>HoF_Year</th>\n",
       "      <th>votedBy</th>\n",
       "      <th>inducted</th>\n",
       "      <th>category</th>\n",
       "      <th>votes_percent</th>\n",
       "      <th>...</th>\n",
       "      <th>Win_pct</th>\n",
       "      <th>Tot_Wins</th>\n",
       "      <th>Manager</th>\n",
       "      <th>Pioneer/Executive</th>\n",
       "      <th>Umpire</th>\n",
       "      <th>P_Awards</th>\n",
       "    </tr>\n",
       "  </thead>\n",
       "  <tbody>\n",
       "    <tr>\n",
       "      <th>0</th>\n",
       "      <td>cobbty01</td>\n",
       "      <td>1936</td>\n",
       "      <td>BBWAA</td>\n",
       "      <td>1</td>\n",
       "      <td>Player</td>\n",
       "      <td>1.305882</td>\n",
       "      <td>...</td>\n",
       "      <td>0.530079</td>\n",
       "      <td>3.0</td>\n",
       "      <td>0.0</td>\n",
       "      <td>0.0</td>\n",
       "      <td>0.0</td>\n",
       "      <td>31</td>\n",
       "    </tr>\n",
       "    <tr>\n",
       "      <th>1</th>\n",
       "      <td>ruthba01</td>\n",
       "      <td>1936</td>\n",
       "      <td>BBWAA</td>\n",
       "      <td>1</td>\n",
       "      <td>Player</td>\n",
       "      <td>1.264706</td>\n",
       "      <td>...</td>\n",
       "      <td>0.582856</td>\n",
       "      <td>17.0</td>\n",
       "      <td>0.0</td>\n",
       "      <td>0.0</td>\n",
       "      <td>0.0</td>\n",
       "      <td>33</td>\n",
       "    </tr>\n",
       "    <tr>\n",
       "      <th>2</th>\n",
       "      <td>wagneho01</td>\n",
       "      <td>1936</td>\n",
       "      <td>BBWAA</td>\n",
       "      <td>1</td>\n",
       "      <td>Player</td>\n",
       "      <td>1.264706</td>\n",
       "      <td>...</td>\n",
       "      <td>0.546518</td>\n",
       "      <td>5.0</td>\n",
       "      <td>0.0</td>\n",
       "      <td>0.0</td>\n",
       "      <td>0.0</td>\n",
       "      <td>12</td>\n",
       "    </tr>\n",
       "    <tr>\n",
       "      <th>3</th>\n",
       "      <td>mathech01</td>\n",
       "      <td>1936</td>\n",
       "      <td>BBWAA</td>\n",
       "      <td>1</td>\n",
       "      <td>Player</td>\n",
       "      <td>1.205882</td>\n",
       "      <td>...</td>\n",
       "      <td>0.550792</td>\n",
       "      <td>6.0</td>\n",
       "      <td>0.0</td>\n",
       "      <td>0.0</td>\n",
       "      <td>0.0</td>\n",
       "      <td>15</td>\n",
       "    </tr>\n",
       "    <tr>\n",
       "      <th>4</th>\n",
       "      <td>johnswa01</td>\n",
       "      <td>1936</td>\n",
       "      <td>BBWAA</td>\n",
       "      <td>1</td>\n",
       "      <td>Player</td>\n",
       "      <td>1.111765</td>\n",
       "      <td>...</td>\n",
       "      <td>0.484631</td>\n",
       "      <td>3.0</td>\n",
       "      <td>0.0</td>\n",
       "      <td>0.0</td>\n",
       "      <td>0.0</td>\n",
       "      <td>33</td>\n",
       "    </tr>\n",
       "  </tbody>\n",
       "</table>\n",
       "<p>5 rows × 18 columns</p>\n",
       "</div>"
      ],
      "text/plain": [
       "    playerID  HoF_Year votedBy  inducted category  votes_percent    ...     \\\n",
       "0   cobbty01      1936   BBWAA         1   Player       1.305882    ...      \n",
       "1   ruthba01      1936   BBWAA         1   Player       1.264706    ...      \n",
       "2  wagneho01      1936   BBWAA         1   Player       1.264706    ...      \n",
       "3  mathech01      1936   BBWAA         1   Player       1.205882    ...      \n",
       "4  johnswa01      1936   BBWAA         1   Player       1.111765    ...      \n",
       "\n",
       "    Win_pct  Tot_Wins  Manager  Pioneer/Executive  Umpire  P_Awards  \n",
       "0  0.530079       3.0      0.0                0.0     0.0        31  \n",
       "1  0.582856      17.0      0.0                0.0     0.0        33  \n",
       "2  0.546518       5.0      0.0                0.0     0.0        12  \n",
       "3  0.550792       6.0      0.0                0.0     0.0        15  \n",
       "4  0.484631       3.0      0.0                0.0     0.0        33  \n",
       "\n",
       "[5 rows x 18 columns]"
      ]
     },
     "execution_count": 75,
     "metadata": {},
     "output_type": "execute_result"
    }
   ],
   "source": [
    "df_full.head()"
   ]
  },
  {
   "cell_type": "code",
   "execution_count": 76,
   "metadata": {
    "collapsed": false
   },
   "outputs": [
    {
     "data": {
      "text/html": [
       "<div>\n",
       "<table border=\"1\" class=\"dataframe\">\n",
       "  <thead>\n",
       "    <tr style=\"text-align: right;\">\n",
       "      <th></th>\n",
       "      <th>HoF_Year</th>\n",
       "      <th>inducted</th>\n",
       "      <th>votes_percent</th>\n",
       "      <th>mean_salary</th>\n",
       "      <th>sum_salary</th>\n",
       "      <th>max_salary</th>\n",
       "      <th>allstarGameCount</th>\n",
       "      <th>n_prev_noms</th>\n",
       "      <th>W</th>\n",
       "      <th>Win_pct</th>\n",
       "      <th>Tot_Wins</th>\n",
       "      <th>Manager</th>\n",
       "      <th>Pioneer/Executive</th>\n",
       "      <th>Umpire</th>\n",
       "      <th>P_Awards</th>\n",
       "    </tr>\n",
       "  </thead>\n",
       "  <tbody>\n",
       "    <tr>\n",
       "      <th>HoF_Year</th>\n",
       "      <td>1.000000</td>\n",
       "      <td>0.098868</td>\n",
       "      <td>0.184892</td>\n",
       "      <td>0.697194</td>\n",
       "      <td>0.701015</td>\n",
       "      <td>0.710352</td>\n",
       "      <td>0.099289</td>\n",
       "      <td>0.045735</td>\n",
       "      <td>0.223882</td>\n",
       "      <td>-0.115564</td>\n",
       "      <td>0.175761</td>\n",
       "      <td>-0.053066</td>\n",
       "      <td>0.001785</td>\n",
       "      <td>0.030829</td>\n",
       "      <td>0.123262</td>\n",
       "    </tr>\n",
       "    <tr>\n",
       "      <th>inducted</th>\n",
       "      <td>0.098868</td>\n",
       "      <td>1.000000</td>\n",
       "      <td>0.594872</td>\n",
       "      <td>0.092500</td>\n",
       "      <td>0.109638</td>\n",
       "      <td>0.056231</td>\n",
       "      <td>0.237289</td>\n",
       "      <td>0.038025</td>\n",
       "      <td>0.044109</td>\n",
       "      <td>0.037435</td>\n",
       "      <td>0.026692</td>\n",
       "      <td>0.120170</td>\n",
       "      <td>0.275202</td>\n",
       "      <td>0.172326</td>\n",
       "      <td>0.086483</td>\n",
       "    </tr>\n",
       "    <tr>\n",
       "      <th>votes_percent</th>\n",
       "      <td>0.184892</td>\n",
       "      <td>0.594872</td>\n",
       "      <td>1.000000</td>\n",
       "      <td>0.122508</td>\n",
       "      <td>0.132421</td>\n",
       "      <td>0.082904</td>\n",
       "      <td>0.519250</td>\n",
       "      <td>0.314405</td>\n",
       "      <td>0.333486</td>\n",
       "      <td>0.087688</td>\n",
       "      <td>0.140105</td>\n",
       "      <td>-0.030983</td>\n",
       "      <td>-0.003392</td>\n",
       "      <td>NaN</td>\n",
       "      <td>0.472738</td>\n",
       "    </tr>\n",
       "    <tr>\n",
       "      <th>mean_salary</th>\n",
       "      <td>0.697194</td>\n",
       "      <td>0.092500</td>\n",
       "      <td>0.122508</td>\n",
       "      <td>1.000000</td>\n",
       "      <td>0.967237</td>\n",
       "      <td>0.969690</td>\n",
       "      <td>0.138644</td>\n",
       "      <td>-0.157562</td>\n",
       "      <td>-0.151534</td>\n",
       "      <td>-0.010561</td>\n",
       "      <td>0.017408</td>\n",
       "      <td>NaN</td>\n",
       "      <td>NaN</td>\n",
       "      <td>NaN</td>\n",
       "      <td>0.303352</td>\n",
       "    </tr>\n",
       "    <tr>\n",
       "      <th>sum_salary</th>\n",
       "      <td>0.701015</td>\n",
       "      <td>0.109638</td>\n",
       "      <td>0.132421</td>\n",
       "      <td>0.967237</td>\n",
       "      <td>1.000000</td>\n",
       "      <td>0.961698</td>\n",
       "      <td>0.162474</td>\n",
       "      <td>-0.184610</td>\n",
       "      <td>-0.024896</td>\n",
       "      <td>-0.000575</td>\n",
       "      <td>0.069795</td>\n",
       "      <td>NaN</td>\n",
       "      <td>NaN</td>\n",
       "      <td>NaN</td>\n",
       "      <td>0.308823</td>\n",
       "    </tr>\n",
       "    <tr>\n",
       "      <th>max_salary</th>\n",
       "      <td>0.710352</td>\n",
       "      <td>0.056231</td>\n",
       "      <td>0.082904</td>\n",
       "      <td>0.969690</td>\n",
       "      <td>0.961698</td>\n",
       "      <td>1.000000</td>\n",
       "      <td>0.102658</td>\n",
       "      <td>-0.192530</td>\n",
       "      <td>-0.121079</td>\n",
       "      <td>-0.012967</td>\n",
       "      <td>0.049204</td>\n",
       "      <td>NaN</td>\n",
       "      <td>NaN</td>\n",
       "      <td>NaN</td>\n",
       "      <td>0.252402</td>\n",
       "    </tr>\n",
       "    <tr>\n",
       "      <th>allstarGameCount</th>\n",
       "      <td>0.099289</td>\n",
       "      <td>0.237289</td>\n",
       "      <td>0.519250</td>\n",
       "      <td>0.138644</td>\n",
       "      <td>0.162474</td>\n",
       "      <td>0.102658</td>\n",
       "      <td>1.000000</td>\n",
       "      <td>0.202230</td>\n",
       "      <td>0.215138</td>\n",
       "      <td>0.144222</td>\n",
       "      <td>0.073338</td>\n",
       "      <td>-0.061156</td>\n",
       "      <td>NaN</td>\n",
       "      <td>NaN</td>\n",
       "      <td>0.475442</td>\n",
       "    </tr>\n",
       "    <tr>\n",
       "      <th>n_prev_noms</th>\n",
       "      <td>0.045735</td>\n",
       "      <td>0.038025</td>\n",
       "      <td>0.314405</td>\n",
       "      <td>-0.157562</td>\n",
       "      <td>-0.184610</td>\n",
       "      <td>-0.192530</td>\n",
       "      <td>0.202230</td>\n",
       "      <td>1.000000</td>\n",
       "      <td>0.143258</td>\n",
       "      <td>0.080647</td>\n",
       "      <td>0.023723</td>\n",
       "      <td>-0.005001</td>\n",
       "      <td>-0.080172</td>\n",
       "      <td>-0.045650</td>\n",
       "      <td>0.183197</td>\n",
       "    </tr>\n",
       "    <tr>\n",
       "      <th>W</th>\n",
       "      <td>0.223882</td>\n",
       "      <td>0.044109</td>\n",
       "      <td>0.333486</td>\n",
       "      <td>-0.151534</td>\n",
       "      <td>-0.024896</td>\n",
       "      <td>-0.121079</td>\n",
       "      <td>0.215138</td>\n",
       "      <td>0.143258</td>\n",
       "      <td>1.000000</td>\n",
       "      <td>0.100091</td>\n",
       "      <td>0.326720</td>\n",
       "      <td>-0.104229</td>\n",
       "      <td>-0.082000</td>\n",
       "      <td>-0.070705</td>\n",
       "      <td>0.271470</td>\n",
       "    </tr>\n",
       "    <tr>\n",
       "      <th>Win_pct</th>\n",
       "      <td>-0.115564</td>\n",
       "      <td>0.037435</td>\n",
       "      <td>0.087688</td>\n",
       "      <td>-0.010561</td>\n",
       "      <td>-0.000575</td>\n",
       "      <td>-0.012967</td>\n",
       "      <td>0.144222</td>\n",
       "      <td>0.080647</td>\n",
       "      <td>0.100091</td>\n",
       "      <td>1.000000</td>\n",
       "      <td>0.607219</td>\n",
       "      <td>-0.090726</td>\n",
       "      <td>0.036219</td>\n",
       "      <td>-0.056072</td>\n",
       "      <td>0.150853</td>\n",
       "    </tr>\n",
       "    <tr>\n",
       "      <th>Tot_Wins</th>\n",
       "      <td>0.175761</td>\n",
       "      <td>0.026692</td>\n",
       "      <td>0.140105</td>\n",
       "      <td>0.017408</td>\n",
       "      <td>0.069795</td>\n",
       "      <td>0.049204</td>\n",
       "      <td>0.073338</td>\n",
       "      <td>0.023723</td>\n",
       "      <td>0.326720</td>\n",
       "      <td>0.607219</td>\n",
       "      <td>1.000000</td>\n",
       "      <td>-0.079340</td>\n",
       "      <td>-0.035897</td>\n",
       "      <td>-0.022047</td>\n",
       "      <td>0.184361</td>\n",
       "    </tr>\n",
       "    <tr>\n",
       "      <th>Manager</th>\n",
       "      <td>-0.053066</td>\n",
       "      <td>0.120170</td>\n",
       "      <td>-0.030983</td>\n",
       "      <td>NaN</td>\n",
       "      <td>NaN</td>\n",
       "      <td>NaN</td>\n",
       "      <td>-0.061156</td>\n",
       "      <td>-0.005001</td>\n",
       "      <td>-0.104229</td>\n",
       "      <td>-0.090726</td>\n",
       "      <td>-0.079340</td>\n",
       "      <td>1.000000</td>\n",
       "      <td>-0.013221</td>\n",
       "      <td>-0.006671</td>\n",
       "      <td>-0.109985</td>\n",
       "    </tr>\n",
       "    <tr>\n",
       "      <th>Pioneer/Executive</th>\n",
       "      <td>0.001785</td>\n",
       "      <td>0.275202</td>\n",
       "      <td>-0.003392</td>\n",
       "      <td>NaN</td>\n",
       "      <td>NaN</td>\n",
       "      <td>NaN</td>\n",
       "      <td>NaN</td>\n",
       "      <td>-0.080172</td>\n",
       "      <td>-0.082000</td>\n",
       "      <td>0.036219</td>\n",
       "      <td>-0.035897</td>\n",
       "      <td>-0.013221</td>\n",
       "      <td>1.000000</td>\n",
       "      <td>-0.004822</td>\n",
       "      <td>-0.086790</td>\n",
       "    </tr>\n",
       "    <tr>\n",
       "      <th>Umpire</th>\n",
       "      <td>0.030829</td>\n",
       "      <td>0.172326</td>\n",
       "      <td>NaN</td>\n",
       "      <td>NaN</td>\n",
       "      <td>NaN</td>\n",
       "      <td>NaN</td>\n",
       "      <td>NaN</td>\n",
       "      <td>-0.045650</td>\n",
       "      <td>-0.070705</td>\n",
       "      <td>-0.056072</td>\n",
       "      <td>-0.022047</td>\n",
       "      <td>-0.006671</td>\n",
       "      <td>-0.004822</td>\n",
       "      <td>1.000000</td>\n",
       "      <td>-0.043793</td>\n",
       "    </tr>\n",
       "    <tr>\n",
       "      <th>P_Awards</th>\n",
       "      <td>0.123262</td>\n",
       "      <td>0.086483</td>\n",
       "      <td>0.472738</td>\n",
       "      <td>0.303352</td>\n",
       "      <td>0.308823</td>\n",
       "      <td>0.252402</td>\n",
       "      <td>0.475442</td>\n",
       "      <td>0.183197</td>\n",
       "      <td>0.271470</td>\n",
       "      <td>0.150853</td>\n",
       "      <td>0.184361</td>\n",
       "      <td>-0.109985</td>\n",
       "      <td>-0.086790</td>\n",
       "      <td>-0.043793</td>\n",
       "      <td>1.000000</td>\n",
       "    </tr>\n",
       "  </tbody>\n",
       "</table>\n",
       "</div>"
      ],
      "text/plain": [
       "                   HoF_Year  inducted  votes_percent  mean_salary  sum_salary  \\\n",
       "HoF_Year           1.000000  0.098868       0.184892     0.697194    0.701015   \n",
       "inducted           0.098868  1.000000       0.594872     0.092500    0.109638   \n",
       "votes_percent      0.184892  0.594872       1.000000     0.122508    0.132421   \n",
       "mean_salary        0.697194  0.092500       0.122508     1.000000    0.967237   \n",
       "sum_salary         0.701015  0.109638       0.132421     0.967237    1.000000   \n",
       "max_salary         0.710352  0.056231       0.082904     0.969690    0.961698   \n",
       "allstarGameCount   0.099289  0.237289       0.519250     0.138644    0.162474   \n",
       "n_prev_noms        0.045735  0.038025       0.314405    -0.157562   -0.184610   \n",
       "W                  0.223882  0.044109       0.333486    -0.151534   -0.024896   \n",
       "Win_pct           -0.115564  0.037435       0.087688    -0.010561   -0.000575   \n",
       "Tot_Wins           0.175761  0.026692       0.140105     0.017408    0.069795   \n",
       "Manager           -0.053066  0.120170      -0.030983          NaN         NaN   \n",
       "Pioneer/Executive  0.001785  0.275202      -0.003392          NaN         NaN   \n",
       "Umpire             0.030829  0.172326            NaN          NaN         NaN   \n",
       "P_Awards           0.123262  0.086483       0.472738     0.303352    0.308823   \n",
       "\n",
       "                   max_salary  allstarGameCount  n_prev_noms         W  \\\n",
       "HoF_Year             0.710352          0.099289     0.045735  0.223882   \n",
       "inducted             0.056231          0.237289     0.038025  0.044109   \n",
       "votes_percent        0.082904          0.519250     0.314405  0.333486   \n",
       "mean_salary          0.969690          0.138644    -0.157562 -0.151534   \n",
       "sum_salary           0.961698          0.162474    -0.184610 -0.024896   \n",
       "max_salary           1.000000          0.102658    -0.192530 -0.121079   \n",
       "allstarGameCount     0.102658          1.000000     0.202230  0.215138   \n",
       "n_prev_noms         -0.192530          0.202230     1.000000  0.143258   \n",
       "W                   -0.121079          0.215138     0.143258  1.000000   \n",
       "Win_pct             -0.012967          0.144222     0.080647  0.100091   \n",
       "Tot_Wins             0.049204          0.073338     0.023723  0.326720   \n",
       "Manager                   NaN         -0.061156    -0.005001 -0.104229   \n",
       "Pioneer/Executive         NaN               NaN    -0.080172 -0.082000   \n",
       "Umpire                    NaN               NaN    -0.045650 -0.070705   \n",
       "P_Awards             0.252402          0.475442     0.183197  0.271470   \n",
       "\n",
       "                    Win_pct  Tot_Wins   Manager  Pioneer/Executive    Umpire  \\\n",
       "HoF_Year          -0.115564  0.175761 -0.053066           0.001785  0.030829   \n",
       "inducted           0.037435  0.026692  0.120170           0.275202  0.172326   \n",
       "votes_percent      0.087688  0.140105 -0.030983          -0.003392       NaN   \n",
       "mean_salary       -0.010561  0.017408       NaN                NaN       NaN   \n",
       "sum_salary        -0.000575  0.069795       NaN                NaN       NaN   \n",
       "max_salary        -0.012967  0.049204       NaN                NaN       NaN   \n",
       "allstarGameCount   0.144222  0.073338 -0.061156                NaN       NaN   \n",
       "n_prev_noms        0.080647  0.023723 -0.005001          -0.080172 -0.045650   \n",
       "W                  0.100091  0.326720 -0.104229          -0.082000 -0.070705   \n",
       "Win_pct            1.000000  0.607219 -0.090726           0.036219 -0.056072   \n",
       "Tot_Wins           0.607219  1.000000 -0.079340          -0.035897 -0.022047   \n",
       "Manager           -0.090726 -0.079340  1.000000          -0.013221 -0.006671   \n",
       "Pioneer/Executive  0.036219 -0.035897 -0.013221           1.000000 -0.004822   \n",
       "Umpire            -0.056072 -0.022047 -0.006671          -0.004822  1.000000   \n",
       "P_Awards           0.150853  0.184361 -0.109985          -0.086790 -0.043793   \n",
       "\n",
       "                   P_Awards  \n",
       "HoF_Year           0.123262  \n",
       "inducted           0.086483  \n",
       "votes_percent      0.472738  \n",
       "mean_salary        0.303352  \n",
       "sum_salary         0.308823  \n",
       "max_salary         0.252402  \n",
       "allstarGameCount   0.475442  \n",
       "n_prev_noms        0.183197  \n",
       "W                  0.271470  \n",
       "Win_pct            0.150853  \n",
       "Tot_Wins           0.184361  \n",
       "Manager           -0.109985  \n",
       "Pioneer/Executive -0.086790  \n",
       "Umpire            -0.043793  \n",
       "P_Awards           1.000000  "
      ]
     },
     "execution_count": 76,
     "metadata": {},
     "output_type": "execute_result"
    }
   ],
   "source": [
    "pd.set_option('display.max_columns', 19)\n",
    "pd.set_option('display.max_rows', 19)\n",
    "df_full.corr()"
   ]
  },
  {
   "cell_type": "markdown",
   "metadata": {},
   "source": [
    "# More Data Visualization"
   ]
  },
  {
   "cell_type": "code",
   "execution_count": 77,
   "metadata": {
    "collapsed": false
   },
   "outputs": [
    {
     "data": {
      "text/plain": [
       "<matplotlib.axes._subplots.AxesSubplot at 0x11a127160>"
      ]
     },
     "execution_count": 77,
     "metadata": {},
     "output_type": "execute_result"
    },
    {
     "data": {
      "image/png": "[encoded data removed]",
      "text/plain": [
       "<matplotlib.figure.Figure at 0x119673cf8>"
      ]
     },
     "metadata": {},
     "output_type": "display_data"
    }
   ],
   "source": [
    "df_full.plot(kind='scatter', x='votes_percent', y='P_Awards', alpha=0.1,\n",
    "              title='Player Awards vs. Votes Percent for Induction')"
   ]
  },
  {
   "cell_type": "code",
   "execution_count": 78,
   "metadata": {
    "collapsed": false
   },
   "outputs": [
    {
     "data": {
      "text/plain": [
       "<matplotlib.image.AxesImage at 0x11a1ab7f0>"
      ]
     },
     "execution_count": 78,
     "metadata": {},
     "output_type": "execute_result"
    },
    {
     "data": {
      "image/png": "[encoded data removed]",
      "text/plain": [
       "<matplotlib.figure.Figure at 0x119e6b5f8>"
      ]
     },
     "metadata": {},
     "output_type": "display_data"
    }
   ],
   "source": [
    "corr=df_full.corr()\n",
    "plt.matshow(corr)"
   ]
  },
  {
   "cell_type": "markdown",
   "metadata": {},
   "source": [
    " 3, 4, and 5 are all three salary info, 9 and 10 are Wins and Win_Pct, 1 and 2 are 'inducted' and vote_percent"
   ]
  },
  {
   "cell_type": "code",
   "execution_count": 79,
   "metadata": {
    "collapsed": false
   },
   "outputs": [
    {
     "data": {
      "text/plain": [
       "<matplotlib.axes._subplots.AxesSubplot at 0x119e63128>"
      ]
     },
     "execution_count": 79,
     "metadata": {},
     "output_type": "execute_result"
    },
    {
     "data": {
      "image/png": "[encoded data removed]",
      "text/plain": [
       "<matplotlib.figure.Figure at 0x119e7abe0>"
      ]
     },
     "metadata": {},
     "output_type": "display_data"
    }
   ],
   "source": [
    "df_full.plot(kind='scatter', x='votes_percent', y='allstarGameCount', alpha=0.1,\n",
    "              title='AllStar Game Count vs. Votes Percent for Induction')"
   ]
  },
  {
   "cell_type": "code",
   "execution_count": 80,
   "metadata": {
    "collapsed": false
   },
   "outputs": [
    {
     "data": {
      "text/plain": [
       "<matplotlib.axes._subplots.AxesSubplot at 0x11a68e2e8>"
      ]
     },
     "execution_count": 80,
     "metadata": {},
     "output_type": "execute_result"
    },
    {
     "data": {
      "image/png": "[encoded data removed]",
      "text/plain": [
       "<matplotlib.figure.Figure at 0x11a696208>"
      ]
     },
     "metadata": {},
     "output_type": "display_data"
    }
   ],
   "source": [
    "df_full.plot(kind='scatter', y='votes_percent', x='n_prev_noms', alpha=0.1,\n",
    "              title='Votes Percent vs. N Previous Nominations of HoF Nominees')"
   ]
  },
  {
   "cell_type": "code",
   "execution_count": 81,
   "metadata": {
    "collapsed": false
   },
   "outputs": [
    {
     "data": {
      "text/plain": [
       "<matplotlib.axes._subplots.AxesSubplot at 0x11a677400>"
      ]
     },
     "execution_count": 81,
     "metadata": {},
     "output_type": "execute_result"
    },
    {
     "data": {
      "image/png": "[encoded data removed]",
      "text/plain": [
       "<matplotlib.figure.Figure at 0x1196dfc88>"
      ]
     },
     "metadata": {},
     "output_type": "display_data"
    }
   ],
   "source": [
    "df_full.plot(kind='scatter', y='votes_percent', x='W', alpha=0.1,\n",
    "              title='Votes Percent vs. Career # of Wins of HoF Nominees')"
   ]
  },
  {
   "cell_type": "markdown",
   "metadata": {},
   "source": [
    "# Issues/Limitations/Comments from EDA"
   ]
  },
  {
   "cell_type": "markdown",
   "metadata": {},
   "source": [
    "### Success: "
   ]
  },
  {
   "cell_type": "markdown",
   "metadata": {},
   "source": [
    "Goal of finding 3-4 potential features that don't seem to be highly correlated with each other was successful, yielding features like: dummy variables for category, Career Number of Wins, Player Awards, AllStarGameCount, and total salary. "
   ]
  },
  {
   "cell_type": "markdown",
   "metadata": {},
   "source": [
    "### Issues: \n",
    "Some of the variables are correlated with both Year voted in and votes_percent, indicating that many variables increased through the years, as did the chance of a nominee being inducted. More looking into these interactions is necessary. "
   ]
  },
  {
   "cell_type": "markdown",
   "metadata": {},
   "source": [
    "### Limitations: \n",
    "It might be necessary to limit the model to one category of nominee, or only after a certain year, to make the model more accurate. For instance, salary information is only available from 1985 on, although the data for Hall of Fame voting begins in the 1930s. "
   ]
  },
  {
   "cell_type": "markdown",
   "metadata": {},
   "source": [
    "# Analysis Plan: "
   ]
  },
  {
   "cell_type": "markdown",
   "metadata": {},
   "source": [
    "For exploring the factors influencing induction of nominees into the baseball hall of fame:\n",
    "\n",
    "* Perform both Logistic Regression (y = 'inducted') and linear regression (y = 'votes_percent') to explore factors influencing both. \n",
    "\n",
    "\n",
    "* Scale data prior to modeling to ensure each feature has a similar influence on outcome\n",
    "\n",
    "\n",
    "* Perform Lasso Regression starting with lots of features and removing those whose coefficients go to 0\n",
    "\n",
    "\n",
    "* Perform Linear Regression with StatsModels to see the p-values of the coefficients and determine which should be removed from the model\n",
    "\n",
    "\n",
    "* Possibly add more features from additional baseball data, such as Manager Awards, or specific player information like batting and pitching statistics, or number of people nominated to Hall of Fame that year\n",
    "\n",
    "\n",
    "* Remove any rows in the dataframe with missing data, or else possibly decide to only model data for nominees of category 'player'\n",
    "\n",
    "\n",
    "* Split data into a test and train data set (train set to be 20% of data, test remaining)\n",
    "\n",
    "\n",
    "* Perform cross-validation for any model parameter selection\n",
    "\n",
    "\n",
    "* Train model again using all train data\n",
    "\n",
    "\n",
    "* Score model using test data to get an estimate of error rate\n",
    "\n",
    "\n",
    "* Train model one last time on all data for final model."
   ]
  }
 ],
 "metadata": {
  "anaconda-cloud": {},
  "kernelspec": {
   "display_name": "Python [conda root]",
   "language": "python",
   "name": "conda-root-py"
  },
  "language_info": {
   "codemirror_mode": {
    "name": "ipython",
    "version": 3
   },
   "file_extension": ".py",
   "mimetype": "text/x-python",
   "name": "python",
   "nbconvert_exporter": "python",
   "pygments_lexer": "ipython3",
   "version": "3.5.2"
  }
 },
 "nbformat": 4,
 "nbformat_minor": 1
}
