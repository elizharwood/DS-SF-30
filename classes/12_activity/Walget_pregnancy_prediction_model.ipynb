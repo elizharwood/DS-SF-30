{
 "cells": [
  {
   "cell_type": "markdown",
   "metadata": {},
   "source": [
    "# Walget Pregnancy Prediction Model"
   ]
  },
  {
   "cell_type": "markdown",
   "metadata": {},
   "source": [
    "Brandon, Sumeet, Elizabeth "
   ]
  },
  {
   "cell_type": "code",
   "execution_count": 1,
   "metadata": {
    "collapsed": true
   },
   "outputs": [],
   "source": [
    "import os\n",
    "\n",
    "import numpy as np\n",
    "import pandas as pd\n",
    "pd.set_option('display.max_rows', 18)\n",
    "pd.set_option('display.notebook_repr_html', True)\n",
    "pd.set_option('display.max_columns', 10)\n",
    "import seaborn as sns\n",
    "from sklearn import linear_model\n",
    "\n",
    "from sklearn import preprocessing, neighbors, grid_search, cross_validation\n",
    "\n",
    "import matplotlib.pyplot as plt\n",
    "%matplotlib inline\n",
    "plt.style.use('ggplot')"
   ]
  },
  {
   "cell_type": "code",
   "execution_count": 2,
   "metadata": {
    "collapsed": false
   },
   "outputs": [],
   "source": [
    "df = pd.read_csv('dataset-12-walget-train.csv')"
   ]
  },
  {
   "cell_type": "markdown",
   "metadata": {},
   "source": [
    "# Data Exploration"
   ]
  },
  {
   "cell_type": "code",
   "execution_count": 3,
   "metadata": {
    "collapsed": false
   },
   "outputs": [
    {
     "data": {
      "text/html": [
       "<div>\n",
       "<table border=\"1\" class=\"dataframe\">\n",
       "  <thead>\n",
       "    <tr style=\"text-align: right;\">\n",
       "      <th></th>\n",
       "      <th>AccountHolderImpliedGender</th>\n",
       "      <th>AccountHolderAddress</th>\n",
       "      <th>RecentlyPurchasedPregnancyTest</th>\n",
       "      <th>RecentlyPurchasedBirthControl</th>\n",
       "      <th>RecentlyPurchasedFeminineHygieneProducts</th>\n",
       "      <th>...</th>\n",
       "      <th>RecentlyPurchasedSmokingCessationProducts</th>\n",
       "      <th>PurchasedWineRegularlyUntilRecentlyThenStopped</th>\n",
       "      <th>RecentlyPurchasedWine</th>\n",
       "      <th>RecentlyPurchasedMaternityClothing</th>\n",
       "      <th>IsPregnant</th>\n",
       "    </tr>\n",
       "  </thead>\n",
       "  <tbody>\n",
       "    <tr>\n",
       "      <th>0</th>\n",
       "      <td>Female</td>\n",
       "      <td>Apartment</td>\n",
       "      <td>False</td>\n",
       "      <td>True</td>\n",
       "      <td>False</td>\n",
       "      <td>...</td>\n",
       "      <td>False</td>\n",
       "      <td>False</td>\n",
       "      <td>False</td>\n",
       "      <td>False</td>\n",
       "      <td>False</td>\n",
       "    </tr>\n",
       "    <tr>\n",
       "      <th>1</th>\n",
       "      <td>Male</td>\n",
       "      <td>Apartment</td>\n",
       "      <td>False</td>\n",
       "      <td>False</td>\n",
       "      <td>True</td>\n",
       "      <td>...</td>\n",
       "      <td>False</td>\n",
       "      <td>False</td>\n",
       "      <td>True</td>\n",
       "      <td>False</td>\n",
       "      <td>False</td>\n",
       "    </tr>\n",
       "    <tr>\n",
       "      <th>2</th>\n",
       "      <td>Male</td>\n",
       "      <td>Apartment</td>\n",
       "      <td>False</td>\n",
       "      <td>False</td>\n",
       "      <td>False</td>\n",
       "      <td>...</td>\n",
       "      <td>False</td>\n",
       "      <td>False</td>\n",
       "      <td>False</td>\n",
       "      <td>False</td>\n",
       "      <td>False</td>\n",
       "    </tr>\n",
       "    <tr>\n",
       "      <th>3</th>\n",
       "      <td>Male</td>\n",
       "      <td>Apartment</td>\n",
       "      <td>False</td>\n",
       "      <td>False</td>\n",
       "      <td>False</td>\n",
       "      <td>...</td>\n",
       "      <td>False</td>\n",
       "      <td>False</td>\n",
       "      <td>True</td>\n",
       "      <td>False</td>\n",
       "      <td>False</td>\n",
       "    </tr>\n",
       "    <tr>\n",
       "      <th>4</th>\n",
       "      <td>Male</td>\n",
       "      <td>Apartment</td>\n",
       "      <td>False</td>\n",
       "      <td>False</td>\n",
       "      <td>True</td>\n",
       "      <td>...</td>\n",
       "      <td>False</td>\n",
       "      <td>False</td>\n",
       "      <td>False</td>\n",
       "      <td>False</td>\n",
       "      <td>False</td>\n",
       "    </tr>\n",
       "  </tbody>\n",
       "</table>\n",
       "<p>5 rows × 18 columns</p>\n",
       "</div>"
      ],
      "text/plain": [
       "  AccountHolderImpliedGender AccountHolderAddress  \\\n",
       "0                     Female            Apartment   \n",
       "1                       Male            Apartment   \n",
       "2                       Male            Apartment   \n",
       "3                       Male            Apartment   \n",
       "4                       Male            Apartment   \n",
       "\n",
       "  RecentlyPurchasedPregnancyTest RecentlyPurchasedBirthControl  \\\n",
       "0                          False                          True   \n",
       "1                          False                         False   \n",
       "2                          False                         False   \n",
       "3                          False                         False   \n",
       "4                          False                         False   \n",
       "\n",
       "  RecentlyPurchasedFeminineHygieneProducts    ...      \\\n",
       "0                                    False    ...       \n",
       "1                                     True    ...       \n",
       "2                                    False    ...       \n",
       "3                                    False    ...       \n",
       "4                                     True    ...       \n",
       "\n",
       "  RecentlyPurchasedSmokingCessationProducts  \\\n",
       "0                                     False   \n",
       "1                                     False   \n",
       "2                                     False   \n",
       "3                                     False   \n",
       "4                                     False   \n",
       "\n",
       "  PurchasedWineRegularlyUntilRecentlyThenStopped RecentlyPurchasedWine  \\\n",
       "0                                          False                 False   \n",
       "1                                          False                  True   \n",
       "2                                          False                 False   \n",
       "3                                          False                  True   \n",
       "4                                          False                 False   \n",
       "\n",
       "  RecentlyPurchasedMaternityClothing IsPregnant  \n",
       "0                              False      False  \n",
       "1                              False      False  \n",
       "2                              False      False  \n",
       "3                              False      False  \n",
       "4                              False      False  \n",
       "\n",
       "[5 rows x 18 columns]"
      ]
     },
     "execution_count": 3,
     "metadata": {},
     "output_type": "execute_result"
    }
   ],
   "source": [
    "df.head()"
   ]
  },
  {
   "cell_type": "code",
   "execution_count": 4,
   "metadata": {
    "collapsed": false
   },
   "outputs": [
    {
     "data": {
      "text/plain": [
       "600"
      ]
     },
     "execution_count": 4,
     "metadata": {},
     "output_type": "execute_result"
    }
   ],
   "source": [
    "len(df)"
   ]
  },
  {
   "cell_type": "code",
   "execution_count": 5,
   "metadata": {
    "collapsed": false
   },
   "outputs": [
    {
     "data": {
      "text/plain": [
       "Index([u'AccountHolderImpliedGender', u'AccountHolderAddress',\n",
       "       u'RecentlyPurchasedPregnancyTest', u'RecentlyPurchasedBirthControl',\n",
       "       u'RecentlyPurchasedFeminineHygieneProducts',\n",
       "       u'RecentlyPurchasedFolicAcidSupplements',\n",
       "       u'RecentlyPurchasedPrenatalVitamins',\n",
       "       u'RecentlyPurchasedPrenatalYogaDVD', u'RecentlyPurchasedBodyPillow',\n",
       "       u'RecentlyPurchasedGingerAle', u'RecentlyPurchasedSeaBands',\n",
       "       u'PurchasedCigarettesRegularlyUntilRecentlyThenStopped',\n",
       "       u'RecentlyPurchasedCigarettes',\n",
       "       u'RecentlyPurchasedSmokingCessationProducts',\n",
       "       u'PurchasedWineRegularlyUntilRecentlyThenStopped',\n",
       "       u'RecentlyPurchasedWine', u'RecentlyPurchasedMaternityClothing',\n",
       "       u'IsPregnant'],\n",
       "      dtype='object')"
      ]
     },
     "execution_count": 5,
     "metadata": {},
     "output_type": "execute_result"
    }
   ],
   "source": [
    "df.columns"
   ]
  },
  {
   "cell_type": "code",
   "execution_count": 6,
   "metadata": {
    "collapsed": false
   },
   "outputs": [
    {
     "data": {
      "text/plain": [
       "array(['Apartment', 'Home', 'PO Box', nan], dtype=object)"
      ]
     },
     "execution_count": 6,
     "metadata": {},
     "output_type": "execute_result"
    }
   ],
   "source": [
    "df.AccountHolderAddress.unique()"
   ]
  },
  {
   "cell_type": "code",
   "execution_count": 7,
   "metadata": {
    "collapsed": false
   },
   "outputs": [
    {
     "data": {
      "text/plain": [
       "AccountHolderImpliedGender                              58\n",
       "AccountHolderAddress                                     6\n",
       "RecentlyPurchasedPregnancyTest                           6\n",
       "RecentlyPurchasedBirthControl                            7\n",
       "RecentlyPurchasedFeminineHygieneProducts                10\n",
       "RecentlyPurchasedFolicAcidSupplements                    1\n",
       "RecentlyPurchasedPrenatalVitamins                        6\n",
       "RecentlyPurchasedPrenatalYogaDVD                         6\n",
       "RecentlyPurchasedBodyPillow                              9\n",
       "RecentlyPurchasedGingerAle                               6\n",
       "RecentlyPurchasedSeaBands                               11\n",
       "PurchasedCigarettesRegularlyUntilRecentlyThenStopped     5\n",
       "RecentlyPurchasedCigarettes                              9\n",
       "RecentlyPurchasedSmokingCessationProducts               12\n",
       "PurchasedWineRegularlyUntilRecentlyThenStopped          12\n",
       "RecentlyPurchasedWine                                    8\n",
       "RecentlyPurchasedMaternityClothing                       3\n",
       "IsPregnant                                               0\n",
       "dtype: int64"
      ]
     },
     "execution_count": 7,
     "metadata": {},
     "output_type": "execute_result"
    }
   ],
   "source": [
    "df.isnull().sum()"
   ]
  },
  {
   "cell_type": "markdown",
   "metadata": {},
   "source": [
    "### Don't want true and false, want 1 and 0 for variables instead"
   ]
  },
  {
   "cell_type": "code",
   "execution_count": 8,
   "metadata": {
    "collapsed": false
   },
   "outputs": [
    {
     "data": {
      "text/plain": [
       "Female    301\n",
       "Male      241\n",
       "Name: AccountHolderImpliedGender, dtype: int64"
      ]
     },
     "execution_count": 8,
     "metadata": {},
     "output_type": "execute_result"
    }
   ],
   "source": [
    "df.AccountHolderImpliedGender.value_counts()"
   ]
  },
  {
   "cell_type": "code",
   "execution_count": 9,
   "metadata": {
    "collapsed": true
   },
   "outputs": [],
   "source": [
    "df.AccountHolderImpliedGender_Male = \\\n",
    "    df.AccountHolderImpliedGender.map(lambda x: 1 if x =='Male' else 0, na_action='ignore')"
   ]
  },
  {
   "cell_type": "code",
   "execution_count": 10,
   "metadata": {
    "collapsed": false
   },
   "outputs": [
    {
     "data": {
      "text/plain": [
       "0.0    301\n",
       "1.0    241\n",
       "Name: AccountHolderImpliedGender, dtype: int64"
      ]
     },
     "execution_count": 10,
     "metadata": {},
     "output_type": "execute_result"
    }
   ],
   "source": [
    "df.AccountHolderImpliedGender_Male.value_counts()"
   ]
  },
  {
   "cell_type": "code",
   "execution_count": null,
   "metadata": {
    "collapsed": false
   },
   "outputs": [],
   "source": []
  },
  {
   "cell_type": "code",
   "execution_count": 11,
   "metadata": {
    "collapsed": false
   },
   "outputs": [
    {
     "name": "stdout",
     "output_type": "stream",
     "text": [
      "Female    301\n",
      "Male      241\n",
      "Name: AccountHolderImpliedGender, dtype: int64\n",
      "Home         295\n",
      "Apartment    243\n",
      "PO Box        56\n",
      "Name: AccountHolderAddress, dtype: int64\n",
      "False    549\n",
      "True      45\n",
      "Name: RecentlyPurchasedPregnancyTest, dtype: int64\n",
      "False    516\n",
      "True      77\n",
      "Name: RecentlyPurchasedBirthControl, dtype: int64\n",
      "False    502\n",
      "True      88\n",
      "Name: RecentlyPurchasedFeminineHygieneProducts, dtype: int64\n",
      "False    533\n",
      "True      66\n",
      "Name: RecentlyPurchasedFolicAcidSupplements, dtype: int64\n",
      "False    512\n",
      "True      82\n",
      "Name: RecentlyPurchasedPrenatalVitamins, dtype: int64\n",
      "False    582\n",
      "True      12\n",
      "Name: RecentlyPurchasedPrenatalYogaDVD, dtype: int64\n",
      "False    582\n",
      "True       9\n",
      "Name: RecentlyPurchasedBodyPillow, dtype: int64\n",
      "False    558\n",
      "True      36\n",
      "Name: RecentlyPurchasedGingerAle, dtype: int64\n",
      "False    569\n",
      "True      20\n",
      "Name: RecentlyPurchasedSeaBands, dtype: int64\n",
      "False    538\n",
      "True      57\n",
      "Name: PurchasedCigarettesRegularlyUntilRecentlyThenStopped, dtype: int64\n",
      "False    525\n",
      "True      66\n",
      "Name: RecentlyPurchasedCigarettes, dtype: int64\n",
      "False    550\n",
      "True      38\n",
      "Name: RecentlyPurchasedSmokingCessationProducts, dtype: int64\n",
      "False    510\n",
      "True      78\n",
      "Name: PurchasedWineRegularlyUntilRecentlyThenStopped, dtype: int64\n",
      "False    528\n",
      "True      64\n",
      "Name: RecentlyPurchasedWine, dtype: int64\n",
      "False    519\n",
      "True      78\n",
      "Name: RecentlyPurchasedMaternityClothing, dtype: int64\n",
      "True     300\n",
      "False    300\n",
      "Name: IsPregnant, dtype: int64\n"
     ]
    }
   ],
   "source": [
    "# To see which of each value is the default (thus should be dropped)\n",
    "for name in df.columns:\n",
    "    print df[name].value_counts()"
   ]
  },
  {
   "cell_type": "markdown",
   "metadata": {},
   "source": [
    "Looks like the False is the most common value for each, we should drop the falses. "
   ]
  },
  {
   "cell_type": "code",
   "execution_count": 12,
   "metadata": {
    "collapsed": false
   },
   "outputs": [
    {
     "data": {
      "text/plain": [
       "Index([u'AccountHolderImpliedGender', u'AccountHolderAddress',\n",
       "       u'RecentlyPurchasedPregnancyTest', u'RecentlyPurchasedBirthControl',\n",
       "       u'RecentlyPurchasedFeminineHygieneProducts',\n",
       "       u'RecentlyPurchasedFolicAcidSupplements',\n",
       "       u'RecentlyPurchasedPrenatalVitamins',\n",
       "       u'RecentlyPurchasedPrenatalYogaDVD', u'RecentlyPurchasedBodyPillow',\n",
       "       u'RecentlyPurchasedGingerAle', u'RecentlyPurchasedSeaBands',\n",
       "       u'PurchasedCigarettesRegularlyUntilRecentlyThenStopped',\n",
       "       u'RecentlyPurchasedCigarettes',\n",
       "       u'RecentlyPurchasedSmokingCessationProducts',\n",
       "       u'PurchasedWineRegularlyUntilRecentlyThenStopped',\n",
       "       u'RecentlyPurchasedWine', u'RecentlyPurchasedMaternityClothing',\n",
       "       u'IsPregnant'],\n",
       "      dtype='object')"
      ]
     },
     "execution_count": 12,
     "metadata": {},
     "output_type": "execute_result"
    }
   ],
   "source": [
    "df.columns"
   ]
  },
  {
   "cell_type": "markdown",
   "metadata": {},
   "source": [
    "# Read in the data again and begin making the model and really cleaning the data"
   ]
  },
  {
   "cell_type": "code",
   "execution_count": 13,
   "metadata": {
    "collapsed": true
   },
   "outputs": [],
   "source": [
    "df = pd.read_csv('dataset-12-walget-train.csv')"
   ]
  },
  {
   "cell_type": "code",
   "execution_count": 14,
   "metadata": {
    "collapsed": true
   },
   "outputs": [],
   "source": [
    "def clean_df_features(df):\n",
    "    \n",
    "#     df.dropna(subset = ['AccountHolderAddress','RecentlyPurchasedPregnancyTest','RecentlyPurchasedBirthControl',\n",
    "#  'RecentlyPurchasedFeminineHygieneProducts','RecentlyPurchasedFolicAcidSupplements','RecentlyPurchasedPrenatalVitamins',\n",
    "#  'RecentlyPurchasedPrenatalYogaDVD',\n",
    "#  'RecentlyPurchasedBodyPillow',\n",
    "#  'RecentlyPurchasedGingerAle',\n",
    "#  'RecentlyPurchasedSeaBands',\n",
    "#  'PurchasedCigarettesRegularlyUntilRecentlyThenStopped',\n",
    "#  'RecentlyPurchasedCigarettes',\n",
    "#  'RecentlyPurchasedSmokingCessationProducts',\n",
    "#  'PurchasedWineRegularlyUntilRecentlyThenStopped',\n",
    "#  'RecentlyPurchasedWine',\n",
    "#  'RecentlyPurchasedMaternityClothing',\n",
    "#  'IsPregnant'],inplace=True)\n",
    "    \n",
    "    df_AccountHolderImpliedGender = pd.get_dummies(df.AccountHolderImpliedGender,dummy_na=True, prefix = 'pGen')\n",
    "    df_AccountHolderAddress = pd.get_dummies(df.AccountHolderAddress, prefix = 'PAddress')\n",
    "    df_RecentlyPurchasedPregnancyTest = pd.get_dummies(df.RecentlyPurchasedPregnancyTest, prefix = 'PPregTest')\n",
    "    df_RecentlyPurchasedBirthControl = pd.get_dummies(df.RecentlyPurchasedBirthControl, prefix = 'PBirthC')\n",
    "    df_RecentlyPurchasedFeminineHygieneProducts = pd.get_dummies(df.RecentlyPurchasedFeminineHygieneProducts, prefix = 'pHygiene')\n",
    "    df_RecentlyPurchasedFolicAcidSupplements = pd.get_dummies(df.RecentlyPurchasedFolicAcidSupplements, prefix = 'PFolic')\n",
    "    df_RecentlyPurchasedPrenatalYogaDVD = pd.get_dummies(df.RecentlyPurchasedPrenatalYogaDVD,prefix='PYogaDVD')\n",
    "    df_RecentlyPurchasedPrenatalVitamins = pd.get_dummies(df.RecentlyPurchasedPrenatalVitamins,prefix='PVitamins')\n",
    "    df_RecentlyPurchasedGingerAle = pd.get_dummies(df.RecentlyPurchasedGingerAle,prefix='PGingerAle')\n",
    "    df_RecentlyPurchasedBodyPillow = pd.get_dummies(df.RecentlyPurchasedBodyPillow, prefix='PPillow')\n",
    "    df_RecentlyPurchasedSeaBands = pd.get_dummies(df.RecentlyPurchasedSeaBands,prefix='PSeaBands')\n",
    "    df_PurchasedCigarettesRegularlyUntilRecentlyThenStopped = \\\n",
    "        pd.get_dummies(df.PurchasedCigarettesRegularlyUntilRecentlyThenStopped,prefix='PStoppedCigarettes')\n",
    "    df_RecentlyPurchasedCigarettes = pd.get_dummies(df.RecentlyPurchasedCigarettes,prefix='PCigarettes')\n",
    "    df_RecentlyPurchasedSmokingCessationProducts = pd.get_dummies(df.RecentlyPurchasedSmokingCessationProducts,prefix='PCessation')\n",
    "    df_PurchasedWineRegularlyUntilRecentlyThenStopped = pd.get_dummies(df.PurchasedWineRegularlyUntilRecentlyThenStopped,'PStoppedWine')\n",
    "    df_RecentlyPurchasedWine = pd.get_dummies(df.RecentlyPurchasedWine,prefix='PWine')\n",
    "    df_RecentlyPurchasedMaternityClothing = pd.get_dummies(df.RecentlyPurchasedMaternityClothing,prefix='PMaternity')\n",
    "    df_IsPregnant = pd.get_dummies(df.IsPregnant, prefix='PPregnant')\n",
    "    \n",
    "    \n",
    "    # joins\n",
    "    df_dummies = df_AccountHolderImpliedGender.join(df_RecentlyPurchasedPregnancyTest)\n",
    "    df_dummies = df_dummies.join(df_AccountHolderAddress)\n",
    "    df_dummies = df_dummies.join(df_RecentlyPurchasedBirthControl)\n",
    "    df_dummies = df_dummies.join(df_RecentlyPurchasedFeminineHygieneProducts)\n",
    "    df_dummies = df_dummies.join(df_RecentlyPurchasedFolicAcidSupplements)\n",
    "    df_dummies = df_dummies.join(df_RecentlyPurchasedPrenatalYogaDVD)\n",
    "    df_dummies = df_dummies.join(df_RecentlyPurchasedBodyPillow)\n",
    "    df_dummies = df_dummies.join(df_RecentlyPurchasedGingerAle)\n",
    "    df_dummies = df_dummies.join(df_RecentlyPurchasedSeaBands)\n",
    "    df_dummies = df_dummies.join(df_PurchasedCigarettesRegularlyUntilRecentlyThenStopped)\n",
    "    df_dummies = df_dummies.join(df_RecentlyPurchasedCigarettes)\n",
    "    df_dummies = df_dummies.join(df_RecentlyPurchasedSmokingCessationProducts)\n",
    "    df_dummies = df_dummies.join(df_PurchasedWineRegularlyUntilRecentlyThenStopped)\n",
    "    df_dummies = df_dummies.join(df_RecentlyPurchasedWine)\n",
    "    df_dummies = df_dummies.join(df_RecentlyPurchasedMaternityClothing)\n",
    "    df_dummies = df_dummies.join(df_IsPregnant)\n",
    "    df_dummies['Folic_acid*Maternity_clothes'] = df_dummies['PMaternity_True'] * df_dummies['PFolic_True']\n",
    "    df_dummies['RecentCigs*RecentWine'] = df_dummies['PStoppedCigarettes_True'] * df_dummies['PStoppedWine_True']\n",
    "    df_dummies.drop(['PPregTest_False','PBirthC_False','pHygiene_False','PFolic_False','PYogaDVD_False',\n",
    "         'PPillow_False','PGingerAle_False','PSeaBands_False','PStoppedCigarettes_False','PCigarettes_False',\n",
    "             'PCessation_False','PStoppedWine_False','PWine_False','PMaternity_False','PPregnant_False',\n",
    "                     'PAddress_Home','pGen_Female'], \n",
    "                    axis = 1, inplace = True)\n",
    "    \n",
    "    print(df_dummies.columns)\n",
    "    return df_dummies"
   ]
  },
  {
   "cell_type": "code",
   "execution_count": 15,
   "metadata": {
    "collapsed": false
   },
   "outputs": [
    {
     "name": "stdout",
     "output_type": "stream",
     "text": [
      "Index([u'pGen_Male', u'pGen_nan', u'PPregTest_True', u'PAddress_Apartment',\n",
      "       u'PAddress_PO Box', u'PBirthC_True', u'pHygiene_True', u'PFolic_True',\n",
      "       u'PYogaDVD_True', u'PPillow_True', u'PGingerAle_True',\n",
      "       u'PSeaBands_True', u'PStoppedCigarettes_True', u'PCigarettes_True',\n",
      "       u'PCessation_True', u'PStoppedWine_True', u'PWine_True',\n",
      "       u'PMaternity_True', u'PPregnant_True', u'Folic_acid*Maternity_clothes',\n",
      "       u'RecentCigs*RecentWine'],\n",
      "      dtype='object')\n"
     ]
    }
   ],
   "source": [
    "df_clean = clean_df_features(df)"
   ]
  },
  {
   "cell_type": "code",
   "execution_count": 16,
   "metadata": {
    "collapsed": false
   },
   "outputs": [
    {
     "data": {
      "text/plain": [
       "['pGen_Male',\n",
       " 'pGen_nan',\n",
       " 'PPregTest_True',\n",
       " 'PAddress_Apartment',\n",
       " 'PAddress_PO Box',\n",
       " 'PBirthC_True',\n",
       " 'pHygiene_True',\n",
       " 'PFolic_True',\n",
       " 'PYogaDVD_True',\n",
       " 'PPillow_True',\n",
       " 'PGingerAle_True',\n",
       " 'PSeaBands_True',\n",
       " 'PStoppedCigarettes_True',\n",
       " 'PCigarettes_True',\n",
       " 'PCessation_True',\n",
       " 'PStoppedWine_True',\n",
       " 'PWine_True',\n",
       " 'PMaternity_True',\n",
       " 'PPregnant_True',\n",
       " 'Folic_acid*Maternity_clothes',\n",
       " 'RecentCigs*RecentWine']"
      ]
     },
     "execution_count": 16,
     "metadata": {},
     "output_type": "execute_result"
    }
   ],
   "source": [
    "df_clean.columns.tolist()"
   ]
  },
  {
   "cell_type": "markdown",
   "metadata": {},
   "source": [
    "## More EDA with numerical data now"
   ]
  },
  {
   "cell_type": "code",
   "execution_count": 17,
   "metadata": {
    "collapsed": false
   },
   "outputs": [
    {
     "data": {
      "text/plain": [
       "pGen_Male                       0.401667\n",
       "pGen_nan                        0.096667\n",
       "PPregTest_True                  0.075000\n",
       "PAddress_Apartment              0.405000\n",
       "PAddress_PO Box                 0.093333\n",
       "PBirthC_True                    0.128333\n",
       "pHygiene_True                   0.146667\n",
       "PFolic_True                     0.110000\n",
       "PYogaDVD_True                   0.020000\n",
       "                                  ...   \n",
       "PStoppedCigarettes_True         0.095000\n",
       "PCigarettes_True                0.110000\n",
       "PCessation_True                 0.063333\n",
       "PStoppedWine_True               0.130000\n",
       "PWine_True                      0.106667\n",
       "PMaternity_True                 0.130000\n",
       "PPregnant_True                  0.500000\n",
       "Folic_acid*Maternity_clothes    0.020000\n",
       "RecentCigs*RecentWine           0.020000\n",
       "dtype: float64"
      ]
     },
     "execution_count": 17,
     "metadata": {},
     "output_type": "execute_result"
    }
   ],
   "source": [
    "df_clean.mean()"
   ]
  },
  {
   "cell_type": "code",
   "execution_count": 18,
   "metadata": {
    "collapsed": false
   },
   "outputs": [
    {
     "data": {
      "text/html": [
       "<div>\n",
       "<table border=\"1\" class=\"dataframe\">\n",
       "  <thead>\n",
       "    <tr style=\"text-align: right;\">\n",
       "      <th></th>\n",
       "      <th>pGen_Male</th>\n",
       "      <th>pGen_nan</th>\n",
       "      <th>PPregTest_True</th>\n",
       "      <th>PAddress_Apartment</th>\n",
       "      <th>PAddress_PO Box</th>\n",
       "      <th>...</th>\n",
       "      <th>PWine_True</th>\n",
       "      <th>PMaternity_True</th>\n",
       "      <th>PPregnant_True</th>\n",
       "      <th>Folic_acid*Maternity_clothes</th>\n",
       "      <th>RecentCigs*RecentWine</th>\n",
       "    </tr>\n",
       "  </thead>\n",
       "  <tbody>\n",
       "    <tr>\n",
       "      <th>pGen_Male</th>\n",
       "      <td>1.000000</td>\n",
       "      <td>-0.268025</td>\n",
       "      <td>-0.013876</td>\n",
       "      <td>0.030438</td>\n",
       "      <td>-2.913952e-02</td>\n",
       "      <td>...</td>\n",
       "      <td>0.058298</td>\n",
       "      <td>-0.033663</td>\n",
       "      <td>-1.189905e-01</td>\n",
       "      <td>0.077222</td>\n",
       "      <td>-0.019913</td>\n",
       "    </tr>\n",
       "    <tr>\n",
       "      <th>pGen_nan</th>\n",
       "      <td>-0.268025</td>\n",
       "      <td>1.000000</td>\n",
       "      <td>0.035332</td>\n",
       "      <td>-0.005630</td>\n",
       "      <td>-2.740241e-02</td>\n",
       "      <td>...</td>\n",
       "      <td>-0.021682</td>\n",
       "      <td>-0.042598</td>\n",
       "      <td>3.384057e-02</td>\n",
       "      <td>-0.046732</td>\n",
       "      <td>-0.006446</td>\n",
       "    </tr>\n",
       "    <tr>\n",
       "      <th>PPregTest_True</th>\n",
       "      <td>-0.013876</td>\n",
       "      <td>0.035332</td>\n",
       "      <td>1.000000</td>\n",
       "      <td>-0.054461</td>\n",
       "      <td>-2.610275e-02</td>\n",
       "      <td>...</td>\n",
       "      <td>-0.077895</td>\n",
       "      <td>0.078084</td>\n",
       "      <td>2.341256e-01</td>\n",
       "      <td>0.094916</td>\n",
       "      <td>0.140114</td>\n",
       "    </tr>\n",
       "    <tr>\n",
       "      <th>PAddress_Apartment</th>\n",
       "      <td>0.030438</td>\n",
       "      <td>-0.005630</td>\n",
       "      <td>-0.054461</td>\n",
       "      <td>1.000000</td>\n",
       "      <td>-2.647059e-01</td>\n",
       "      <td>...</td>\n",
       "      <td>0.000880</td>\n",
       "      <td>-0.005956</td>\n",
       "      <td>-9.166985e-02</td>\n",
       "      <td>-0.045107</td>\n",
       "      <td>0.003395</td>\n",
       "    </tr>\n",
       "    <tr>\n",
       "      <th>PAddress_PO Box</th>\n",
       "      <td>-0.029140</td>\n",
       "      <td>-0.027402</td>\n",
       "      <td>-0.026103</td>\n",
       "      <td>-0.264706</td>\n",
       "      <td>1.000000e+00</td>\n",
       "      <td>...</td>\n",
       "      <td>0.019055</td>\n",
       "      <td>-0.072915</td>\n",
       "      <td>1.270585e-16</td>\n",
       "      <td>0.036013</td>\n",
       "      <td>-0.045835</td>\n",
       "    </tr>\n",
       "    <tr>\n",
       "      <th>PBirthC_True</th>\n",
       "      <td>0.092212</td>\n",
       "      <td>-0.007476</td>\n",
       "      <td>-0.052501</td>\n",
       "      <td>0.059029</td>\n",
       "      <td>8.245320e-02</td>\n",
       "      <td>...</td>\n",
       "      <td>0.077271</td>\n",
       "      <td>-0.103870</td>\n",
       "      <td>-3.139383e-01</td>\n",
       "      <td>-0.054815</td>\n",
       "      <td>-0.054815</td>\n",
       "    </tr>\n",
       "    <tr>\n",
       "      <th>pHygiene_True</th>\n",
       "      <td>0.035108</td>\n",
       "      <td>-0.024020</td>\n",
       "      <td>-0.082277</td>\n",
       "      <td>0.041843</td>\n",
       "      <td>-5.204000e-02</td>\n",
       "      <td>...</td>\n",
       "      <td>0.039884</td>\n",
       "      <td>-0.048189</td>\n",
       "      <td>-2.544002e-01</td>\n",
       "      <td>-0.059225</td>\n",
       "      <td>-0.059225</td>\n",
       "    </tr>\n",
       "    <tr>\n",
       "      <th>PFolic_True</th>\n",
       "      <td>-0.005541</td>\n",
       "      <td>0.029202</td>\n",
       "      <td>0.102129</td>\n",
       "      <td>-0.073028</td>\n",
       "      <td>7.031475e-02</td>\n",
       "      <td>...</td>\n",
       "      <td>-0.086969</td>\n",
       "      <td>0.054169</td>\n",
       "      <td>3.515615e-01</td>\n",
       "      <td>0.406350</td>\n",
       "      <td>-0.050223</td>\n",
       "    </tr>\n",
       "    <tr>\n",
       "      <th>PYogaDVD_True</th>\n",
       "      <td>0.004371</td>\n",
       "      <td>-0.046732</td>\n",
       "      <td>0.004520</td>\n",
       "      <td>0.027646</td>\n",
       "      <td>-4.583492e-02</td>\n",
       "      <td>...</td>\n",
       "      <td>-0.010798</td>\n",
       "      <td>0.050974</td>\n",
       "      <td>1.190476e-01</td>\n",
       "      <td>0.064626</td>\n",
       "      <td>-0.020408</td>\n",
       "    </tr>\n",
       "    <tr>\n",
       "      <th>...</th>\n",
       "      <td>...</td>\n",
       "      <td>...</td>\n",
       "      <td>...</td>\n",
       "      <td>...</td>\n",
       "      <td>...</td>\n",
       "      <td>...</td>\n",
       "      <td>...</td>\n",
       "      <td>...</td>\n",
       "      <td>...</td>\n",
       "      <td>...</td>\n",
       "      <td>...</td>\n",
       "    </tr>\n",
       "    <tr>\n",
       "      <th>PStoppedCigarettes_True</th>\n",
       "      <td>0.001217</td>\n",
       "      <td>0.028661</td>\n",
       "      <td>0.037226</td>\n",
       "      <td>-0.024143</td>\n",
       "      <td>-6.252741e-03</td>\n",
       "      <td>...</td>\n",
       "      <td>-0.038301</td>\n",
       "      <td>0.128284</td>\n",
       "      <td>1.875757e-01</td>\n",
       "      <td>0.034917</td>\n",
       "      <td>0.440925</td>\n",
       "    </tr>\n",
       "    <tr>\n",
       "      <th>PCigarettes_True</th>\n",
       "      <td>0.037921</td>\n",
       "      <td>-0.024876</td>\n",
       "      <td>-0.039436</td>\n",
       "      <td>0.035483</td>\n",
       "      <td>-2.124091e-02</td>\n",
       "      <td>...</td>\n",
       "      <td>0.102845</td>\n",
       "      <td>0.022491</td>\n",
       "      <td>-1.811075e-01</td>\n",
       "      <td>-0.050223</td>\n",
       "      <td>-0.050223</td>\n",
       "    </tr>\n",
       "    <tr>\n",
       "      <th>PCessation_True</th>\n",
       "      <td>-0.017634</td>\n",
       "      <td>-0.038749</td>\n",
       "      <td>0.159777</td>\n",
       "      <td>-0.075135</td>\n",
       "      <td>1.047570e-01</td>\n",
       "      <td>...</td>\n",
       "      <td>-0.045517</td>\n",
       "      <td>0.062263</td>\n",
       "      <td>2.189727e-01</td>\n",
       "      <td>0.060609</td>\n",
       "      <td>0.109486</td>\n",
       "    </tr>\n",
       "    <tr>\n",
       "      <th>PStoppedWine_True</th>\n",
       "      <td>-0.023554</td>\n",
       "      <td>-0.042598</td>\n",
       "      <td>0.096900</td>\n",
       "      <td>-0.036243</td>\n",
       "      <td>-4.770164e-03</td>\n",
       "      <td>...</td>\n",
       "      <td>-0.133573</td>\n",
       "      <td>0.027409</td>\n",
       "      <td>2.775271e-01</td>\n",
       "      <td>0.015576</td>\n",
       "      <td>0.369564</td>\n",
       "    </tr>\n",
       "    <tr>\n",
       "      <th>PWine_True</th>\n",
       "      <td>0.058298</td>\n",
       "      <td>-0.021682</td>\n",
       "      <td>-0.077895</td>\n",
       "      <td>0.000880</td>\n",
       "      <td>1.905526e-02</td>\n",
       "      <td>...</td>\n",
       "      <td>1.000000</td>\n",
       "      <td>-0.053301</td>\n",
       "      <td>-2.591605e-01</td>\n",
       "      <td>0.027767</td>\n",
       "      <td>-0.049364</td>\n",
       "    </tr>\n",
       "    <tr>\n",
       "      <th>PMaternity_True</th>\n",
       "      <td>-0.033663</td>\n",
       "      <td>-0.042598</td>\n",
       "      <td>0.078084</td>\n",
       "      <td>-0.005956</td>\n",
       "      <td>-7.291536e-02</td>\n",
       "      <td>...</td>\n",
       "      <td>-0.053301</td>\n",
       "      <td>1.000000</td>\n",
       "      <td>2.676155e-01</td>\n",
       "      <td>0.369564</td>\n",
       "      <td>0.086373</td>\n",
       "    </tr>\n",
       "    <tr>\n",
       "      <th>PPregnant_True</th>\n",
       "      <td>-0.118991</td>\n",
       "      <td>0.033841</td>\n",
       "      <td>0.234126</td>\n",
       "      <td>-0.091670</td>\n",
       "      <td>1.270585e-16</td>\n",
       "      <td>...</td>\n",
       "      <td>-0.259161</td>\n",
       "      <td>0.267615</td>\n",
       "      <td>1.000000e+00</td>\n",
       "      <td>0.142857</td>\n",
       "      <td>0.142857</td>\n",
       "    </tr>\n",
       "    <tr>\n",
       "      <th>Folic_acid*Maternity_clothes</th>\n",
       "      <td>0.077222</td>\n",
       "      <td>-0.046732</td>\n",
       "      <td>0.094916</td>\n",
       "      <td>-0.045107</td>\n",
       "      <td>3.601316e-02</td>\n",
       "      <td>...</td>\n",
       "      <td>0.027767</td>\n",
       "      <td>0.369564</td>\n",
       "      <td>1.428571e-01</td>\n",
       "      <td>1.000000</td>\n",
       "      <td>-0.020408</td>\n",
       "    </tr>\n",
       "    <tr>\n",
       "      <th>RecentCigs*RecentWine</th>\n",
       "      <td>-0.019913</td>\n",
       "      <td>-0.006446</td>\n",
       "      <td>0.140114</td>\n",
       "      <td>0.003395</td>\n",
       "      <td>-4.583492e-02</td>\n",
       "      <td>...</td>\n",
       "      <td>-0.049364</td>\n",
       "      <td>0.086373</td>\n",
       "      <td>1.428571e-01</td>\n",
       "      <td>-0.020408</td>\n",
       "      <td>1.000000</td>\n",
       "    </tr>\n",
       "  </tbody>\n",
       "</table>\n",
       "<p>21 rows × 21 columns</p>\n",
       "</div>"
      ],
      "text/plain": [
       "                              pGen_Male  pGen_nan  PPregTest_True  \\\n",
       "pGen_Male                      1.000000 -0.268025       -0.013876   \n",
       "pGen_nan                      -0.268025  1.000000        0.035332   \n",
       "PPregTest_True                -0.013876  0.035332        1.000000   \n",
       "PAddress_Apartment             0.030438 -0.005630       -0.054461   \n",
       "PAddress_PO Box               -0.029140 -0.027402       -0.026103   \n",
       "PBirthC_True                   0.092212 -0.007476       -0.052501   \n",
       "pHygiene_True                  0.035108 -0.024020       -0.082277   \n",
       "PFolic_True                   -0.005541  0.029202        0.102129   \n",
       "PYogaDVD_True                  0.004371 -0.046732        0.004520   \n",
       "...                                 ...       ...             ...   \n",
       "PStoppedCigarettes_True        0.001217  0.028661        0.037226   \n",
       "PCigarettes_True               0.037921 -0.024876       -0.039436   \n",
       "PCessation_True               -0.017634 -0.038749        0.159777   \n",
       "PStoppedWine_True             -0.023554 -0.042598        0.096900   \n",
       "PWine_True                     0.058298 -0.021682       -0.077895   \n",
       "PMaternity_True               -0.033663 -0.042598        0.078084   \n",
       "PPregnant_True                -0.118991  0.033841        0.234126   \n",
       "Folic_acid*Maternity_clothes   0.077222 -0.046732        0.094916   \n",
       "RecentCigs*RecentWine         -0.019913 -0.006446        0.140114   \n",
       "\n",
       "                              PAddress_Apartment  PAddress_PO Box  \\\n",
       "pGen_Male                               0.030438    -2.913952e-02   \n",
       "pGen_nan                               -0.005630    -2.740241e-02   \n",
       "PPregTest_True                         -0.054461    -2.610275e-02   \n",
       "PAddress_Apartment                      1.000000    -2.647059e-01   \n",
       "PAddress_PO Box                        -0.264706     1.000000e+00   \n",
       "PBirthC_True                            0.059029     8.245320e-02   \n",
       "pHygiene_True                           0.041843    -5.204000e-02   \n",
       "PFolic_True                            -0.073028     7.031475e-02   \n",
       "PYogaDVD_True                           0.027646    -4.583492e-02   \n",
       "...                                          ...              ...   \n",
       "PStoppedCigarettes_True                -0.024143    -6.252741e-03   \n",
       "PCigarettes_True                        0.035483    -2.124091e-02   \n",
       "PCessation_True                        -0.075135     1.047570e-01   \n",
       "PStoppedWine_True                      -0.036243    -4.770164e-03   \n",
       "PWine_True                              0.000880     1.905526e-02   \n",
       "PMaternity_True                        -0.005956    -7.291536e-02   \n",
       "PPregnant_True                         -0.091670     1.270585e-16   \n",
       "Folic_acid*Maternity_clothes           -0.045107     3.601316e-02   \n",
       "RecentCigs*RecentWine                   0.003395    -4.583492e-02   \n",
       "\n",
       "                                      ...            PWine_True  \\\n",
       "pGen_Male                             ...              0.058298   \n",
       "pGen_nan                              ...             -0.021682   \n",
       "PPregTest_True                        ...             -0.077895   \n",
       "PAddress_Apartment                    ...              0.000880   \n",
       "PAddress_PO Box                       ...              0.019055   \n",
       "PBirthC_True                          ...              0.077271   \n",
       "pHygiene_True                         ...              0.039884   \n",
       "PFolic_True                           ...             -0.086969   \n",
       "PYogaDVD_True                         ...             -0.010798   \n",
       "...                                   ...                   ...   \n",
       "PStoppedCigarettes_True               ...             -0.038301   \n",
       "PCigarettes_True                      ...              0.102845   \n",
       "PCessation_True                       ...             -0.045517   \n",
       "PStoppedWine_True                     ...             -0.133573   \n",
       "PWine_True                            ...              1.000000   \n",
       "PMaternity_True                       ...             -0.053301   \n",
       "PPregnant_True                        ...             -0.259161   \n",
       "Folic_acid*Maternity_clothes          ...              0.027767   \n",
       "RecentCigs*RecentWine                 ...             -0.049364   \n",
       "\n",
       "                              PMaternity_True  PPregnant_True  \\\n",
       "pGen_Male                           -0.033663   -1.189905e-01   \n",
       "pGen_nan                            -0.042598    3.384057e-02   \n",
       "PPregTest_True                       0.078084    2.341256e-01   \n",
       "PAddress_Apartment                  -0.005956   -9.166985e-02   \n",
       "PAddress_PO Box                     -0.072915    1.270585e-16   \n",
       "PBirthC_True                        -0.103870   -3.139383e-01   \n",
       "pHygiene_True                       -0.048189   -2.544002e-01   \n",
       "PFolic_True                          0.054169    3.515615e-01   \n",
       "PYogaDVD_True                        0.050974    1.190476e-01   \n",
       "...                                       ...             ...   \n",
       "PStoppedCigarettes_True              0.128284    1.875757e-01   \n",
       "PCigarettes_True                     0.022491   -1.811075e-01   \n",
       "PCessation_True                      0.062263    2.189727e-01   \n",
       "PStoppedWine_True                    0.027409    2.775271e-01   \n",
       "PWine_True                          -0.053301   -2.591605e-01   \n",
       "PMaternity_True                      1.000000    2.676155e-01   \n",
       "PPregnant_True                       0.267615    1.000000e+00   \n",
       "Folic_acid*Maternity_clothes         0.369564    1.428571e-01   \n",
       "RecentCigs*RecentWine                0.086373    1.428571e-01   \n",
       "\n",
       "                              Folic_acid*Maternity_clothes  \\\n",
       "pGen_Male                                         0.077222   \n",
       "pGen_nan                                         -0.046732   \n",
       "PPregTest_True                                    0.094916   \n",
       "PAddress_Apartment                               -0.045107   \n",
       "PAddress_PO Box                                   0.036013   \n",
       "PBirthC_True                                     -0.054815   \n",
       "pHygiene_True                                    -0.059225   \n",
       "PFolic_True                                       0.406350   \n",
       "PYogaDVD_True                                     0.064626   \n",
       "...                                                    ...   \n",
       "PStoppedCigarettes_True                           0.034917   \n",
       "PCigarettes_True                                 -0.050223   \n",
       "PCessation_True                                   0.060609   \n",
       "PStoppedWine_True                                 0.015576   \n",
       "PWine_True                                        0.027767   \n",
       "PMaternity_True                                   0.369564   \n",
       "PPregnant_True                                    0.142857   \n",
       "Folic_acid*Maternity_clothes                      1.000000   \n",
       "RecentCigs*RecentWine                            -0.020408   \n",
       "\n",
       "                              RecentCigs*RecentWine  \n",
       "pGen_Male                                 -0.019913  \n",
       "pGen_nan                                  -0.006446  \n",
       "PPregTest_True                             0.140114  \n",
       "PAddress_Apartment                         0.003395  \n",
       "PAddress_PO Box                           -0.045835  \n",
       "PBirthC_True                              -0.054815  \n",
       "pHygiene_True                             -0.059225  \n",
       "PFolic_True                               -0.050223  \n",
       "PYogaDVD_True                             -0.020408  \n",
       "...                                             ...  \n",
       "PStoppedCigarettes_True                    0.440925  \n",
       "PCigarettes_True                          -0.050223  \n",
       "PCessation_True                            0.109486  \n",
       "PStoppedWine_True                          0.369564  \n",
       "PWine_True                                -0.049364  \n",
       "PMaternity_True                            0.086373  \n",
       "PPregnant_True                             0.142857  \n",
       "Folic_acid*Maternity_clothes              -0.020408  \n",
       "RecentCigs*RecentWine                      1.000000  \n",
       "\n",
       "[21 rows x 21 columns]"
      ]
     },
     "execution_count": 18,
     "metadata": {},
     "output_type": "execute_result"
    }
   ],
   "source": [
    "df_clean.corr()"
   ]
  },
  {
   "cell_type": "code",
   "execution_count": 19,
   "metadata": {
    "collapsed": false
   },
   "outputs": [
    {
     "data": {
      "image/png": "[encoded data removed]",
      "text/plain": [
       "<matplotlib.figure.Figure at 0x115a28e50>"
      ]
     },
     "metadata": {},
     "output_type": "display_data"
    }
   ],
   "source": [
    "g = sns.lmplot(x='PWine_True',y='PPregnant_True',data=df_clean)"
   ]
  },
  {
   "cell_type": "markdown",
   "metadata": {},
   "source": [
    "## Test/Train Split"
   ]
  },
  {
   "cell_type": "code",
   "execution_count": 20,
   "metadata": {
    "collapsed": true
   },
   "outputs": [],
   "source": [
    "train_df = df_clean.sample(frac = .5, random_state = 0).sort_index()\n",
    "test_df = df_clean.drop(train_df.index)"
   ]
  },
  {
   "cell_type": "markdown",
   "metadata": {},
   "source": [
    "# Logistic Regression"
   ]
  },
  {
   "cell_type": "markdown",
   "metadata": {},
   "source": [
    "For this model, we removed sample rows where account holder purchased pregnancy test as well as folic acid and maternity clothes. Our rationale to drop was because these features were popular/had high coefficients. This led to lower accuracy score"
   ]
  },
  {
   "cell_type": "code",
   "execution_count": 21,
   "metadata": {
    "collapsed": false
   },
   "outputs": [],
   "source": [
    "X = train_df.drop(['PPregnant_True','RecentCigs*RecentWine'],axis=1,inplace=False)\n",
    "c = train_df.PPregnant_True\n",
    "\n",
    "model = linear_model.LogisticRegression().\\\n",
    "    fit(X, c)"
   ]
  },
  {
   "cell_type": "code",
   "execution_count": 22,
   "metadata": {
    "collapsed": false
   },
   "outputs": [
    {
     "data": {
      "text/plain": [
       "0.80333333333333334"
      ]
     },
     "execution_count": 22,
     "metadata": {},
     "output_type": "execute_result"
    }
   ],
   "source": [
    "model.score(X, c)"
   ]
  },
  {
   "cell_type": "code",
   "execution_count": 23,
   "metadata": {
    "collapsed": false
   },
   "outputs": [
    {
     "data": {
      "text/html": [
       "<div>\n",
       "<table border=\"1\" class=\"dataframe\">\n",
       "  <thead>\n",
       "    <tr style=\"text-align: right;\">\n",
       "      <th>True Pregnancy</th>\n",
       "      <th>0.0</th>\n",
       "      <th>1.0</th>\n",
       "    </tr>\n",
       "    <tr>\n",
       "      <th>Hypothesized Pregnancy</th>\n",
       "      <th></th>\n",
       "      <th></th>\n",
       "    </tr>\n",
       "  </thead>\n",
       "  <tbody>\n",
       "    <tr>\n",
       "      <th>0.0</th>\n",
       "      <td>128</td>\n",
       "      <td>42</td>\n",
       "    </tr>\n",
       "    <tr>\n",
       "      <th>1.0</th>\n",
       "      <td>17</td>\n",
       "      <td>113</td>\n",
       "    </tr>\n",
       "  </tbody>\n",
       "</table>\n",
       "</div>"
      ],
      "text/plain": [
       "True Pregnancy          0.0  1.0\n",
       "Hypothesized Pregnancy          \n",
       "0.0                     128   42\n",
       "1.0                      17  113"
      ]
     },
     "execution_count": 23,
     "metadata": {},
     "output_type": "execute_result"
    }
   ],
   "source": [
    "c_hat = model.predict(X)\n",
    "\n",
    "pd.crosstab(c_hat,\n",
    "    c,\n",
    "    rownames = ['Hypothesized Pregnancy'],\n",
    "    colnames = ['True Pregnancy'])"
   ]
  },
  {
   "cell_type": "code",
   "execution_count": 24,
   "metadata": {
    "collapsed": false
   },
   "outputs": [
    {
     "data": {
      "text/plain": [
       "[(-0.81773638289595829, 'PBirthC_True'),\n",
       " (-0.70536504090601815, 'pHygiene_True'),\n",
       " (-0.70493979133131834, 'PWine_True'),\n",
       " (-0.6941000012506835, 'PCigarettes_True'),\n",
       " (-0.27812328337348569, 'PAddress_Apartment'),\n",
       " (-0.1781764361196404, 'pGen_Male'),\n",
       " (-0.0032939750159977077, 'PPillow_True'),\n",
       " (0.090454868698584434, 'Folic_acid*Maternity_clothes'),\n",
       " (0.35809918830272847, 'PAddress_PO Box'),\n",
       " (0.50916880560488753, 'PStoppedCigarettes_True'),\n",
       " (0.94731751669562203, 'pGen_nan'),\n",
       " (1.4817143574968332, 'PYogaDVD_True'),\n",
       " (1.489274450849766, 'PCessation_True'),\n",
       " (1.9025093227341912, 'PSeaBands_True'),\n",
       " (2.0268494243991086, 'PGingerAle_True'),\n",
       " (2.9924456166343991, 'PPregTest_True'),\n",
       " (3.3684034184146441, 'PStoppedWine_True'),\n",
       " (4.3176196580750794, 'PMaternity_True'),\n",
       " (11.211624710171384, 'PFolic_True')]"
      ]
     },
     "execution_count": 24,
     "metadata": {},
     "output_type": "execute_result"
    }
   ],
   "source": [
    "sorted(zip(np.exp(model.coef_[0]) - 1,X.columns))"
   ]
  },
  {
   "cell_type": "markdown",
   "metadata": {},
   "source": [
    "Having recently purchased a body pillow doesn't seem to have helped our model, so we will drop that feature. "
   ]
  },
  {
   "cell_type": "markdown",
   "metadata": {},
   "source": [
    "## Linear Model #2 "
   ]
  },
  {
   "cell_type": "code",
   "execution_count": 25,
   "metadata": {
    "collapsed": true
   },
   "outputs": [],
   "source": [
    "#Including the engineered feature we had the same Model score of 0.826"
   ]
  },
  {
   "cell_type": "code",
   "execution_count": 26,
   "metadata": {
    "collapsed": false
   },
   "outputs": [],
   "source": [
    "X = train_df.drop(['PPregnant_True','PPillow_True'],axis=1,inplace=False)\n",
    "c = train_df.PPregnant_True\n",
    "\n",
    "X_test = test_df.drop(['PPregnant_True','PPillow_True'],axis=1,inplace=False)\n",
    "c_test = test_df.PPregnant_True\n",
    "\n",
    "model = linear_model.LogisticRegression().\\\n",
    "    fit(X, c)"
   ]
  },
  {
   "cell_type": "code",
   "execution_count": 27,
   "metadata": {
    "collapsed": false
   },
   "outputs": [
    {
     "data": {
      "text/plain": [
       "0.80333333333333334"
      ]
     },
     "execution_count": 27,
     "metadata": {},
     "output_type": "execute_result"
    }
   ],
   "source": [
    "model.score(X, c)"
   ]
  },
  {
   "cell_type": "code",
   "execution_count": 28,
   "metadata": {
    "collapsed": false
   },
   "outputs": [
    {
     "data": {
      "text/plain": [
       "0.81000000000000005"
      ]
     },
     "execution_count": 28,
     "metadata": {},
     "output_type": "execute_result"
    }
   ],
   "source": [
    "model.score(X_test, c_test)"
   ]
  },
  {
   "cell_type": "code",
   "execution_count": 29,
   "metadata": {
    "collapsed": false
   },
   "outputs": [
    {
     "data": {
      "text/html": [
       "<div>\n",
       "<table border=\"1\" class=\"dataframe\">\n",
       "  <thead>\n",
       "    <tr style=\"text-align: right;\">\n",
       "      <th>True Pregnancy</th>\n",
       "      <th>0.0</th>\n",
       "      <th>1.0</th>\n",
       "    </tr>\n",
       "    <tr>\n",
       "      <th>Hypothesized Pregnancy</th>\n",
       "      <th></th>\n",
       "      <th></th>\n",
       "    </tr>\n",
       "  </thead>\n",
       "  <tbody>\n",
       "    <tr>\n",
       "      <th>0.0</th>\n",
       "      <td>128</td>\n",
       "      <td>42</td>\n",
       "    </tr>\n",
       "    <tr>\n",
       "      <th>1.0</th>\n",
       "      <td>17</td>\n",
       "      <td>113</td>\n",
       "    </tr>\n",
       "  </tbody>\n",
       "</table>\n",
       "</div>"
      ],
      "text/plain": [
       "True Pregnancy          0.0  1.0\n",
       "Hypothesized Pregnancy          \n",
       "0.0                     128   42\n",
       "1.0                      17  113"
      ]
     },
     "execution_count": 29,
     "metadata": {},
     "output_type": "execute_result"
    }
   ],
   "source": [
    "c_hat = model.predict(X)\n",
    "\n",
    "pd.crosstab(c_hat,\n",
    "    c,\n",
    "    rownames = ['Hypothesized Pregnancy'],\n",
    "    colnames = ['True Pregnancy'])"
   ]
  },
  {
   "cell_type": "code",
   "execution_count": 30,
   "metadata": {
    "collapsed": false
   },
   "outputs": [
    {
     "data": {
      "text/plain": [
       "[(-0.81771303017859154, 'PBirthC_True'),\n",
       " (-0.70502997647496646, 'pHygiene_True'),\n",
       " (-0.70481038433412779, 'PWine_True'),\n",
       " (-0.69373752204305095, 'PCigarettes_True'),\n",
       " (-0.27847353269762487, 'PAddress_Apartment'),\n",
       " (-0.17664931498791436, 'pGen_Male'),\n",
       " (0.089997025283479637, 'Folic_acid*Maternity_clothes'),\n",
       " (0.30987497514500451, 'RecentCigs*RecentWine'),\n",
       " (0.35939409512829146, 'PAddress_PO Box'),\n",
       " (0.48983840061154904, 'PStoppedCigarettes_True'),\n",
       " (0.94965744486700276, 'pGen_nan'),\n",
       " (1.480973705436853, 'PYogaDVD_True'),\n",
       " (1.4945384298162345, 'PCessation_True'),\n",
       " (1.9002788530838486, 'PSeaBands_True'),\n",
       " (2.0268236976968148, 'PGingerAle_True'),\n",
       " (2.987874493728826, 'PPregTest_True'),\n",
       " (3.3115939191505683, 'PStoppedWine_True'),\n",
       " (4.3145662129614903, 'PMaternity_True'),\n",
       " (11.216469081726594, 'PFolic_True')]"
      ]
     },
     "execution_count": 30,
     "metadata": {},
     "output_type": "execute_result"
    }
   ],
   "source": [
    "sorted(zip(np.exp(model.coef_[0]) - 1,X.columns))"
   ]
  },
  {
   "cell_type": "markdown",
   "metadata": {},
   "source": [
    "# Top 4? "
   ]
  },
  {
   "cell_type": "code",
   "execution_count": 31,
   "metadata": {
    "collapsed": true
   },
   "outputs": [],
   "source": [
    "#We then tried to limit the model to the top 4 most impactful variables and saw a lower score"
   ]
  },
  {
   "cell_type": "code",
   "execution_count": 32,
   "metadata": {
    "collapsed": true
   },
   "outputs": [],
   "source": [
    "x_list = ['PFolic_True','PMaternity_True','PStoppedWine_True','PPregTest_True']\n",
    "X = train_df[x_list]\n",
    "c = train_df.PPregnant_True\n",
    "\n",
    "model = linear_model.LogisticRegression().\\\n",
    "    fit(X, c)"
   ]
  },
  {
   "cell_type": "code",
   "execution_count": 33,
   "metadata": {
    "collapsed": false
   },
   "outputs": [
    {
     "data": {
      "text/plain": [
       "0.7466666666666667"
      ]
     },
     "execution_count": 33,
     "metadata": {},
     "output_type": "execute_result"
    }
   ],
   "source": [
    "model.score(X, c)"
   ]
  },
  {
   "cell_type": "code",
   "execution_count": 34,
   "metadata": {
    "collapsed": false
   },
   "outputs": [
    {
     "data": {
      "text/html": [
       "<div>\n",
       "<table border=\"1\" class=\"dataframe\">\n",
       "  <thead>\n",
       "    <tr style=\"text-align: right;\">\n",
       "      <th>True Pregnancy</th>\n",
       "      <th>0.0</th>\n",
       "      <th>1.0</th>\n",
       "    </tr>\n",
       "    <tr>\n",
       "      <th>Hypothesized Pregnancy</th>\n",
       "      <th></th>\n",
       "      <th></th>\n",
       "    </tr>\n",
       "  </thead>\n",
       "  <tbody>\n",
       "    <tr>\n",
       "      <th>0.0</th>\n",
       "      <td>134</td>\n",
       "      <td>65</td>\n",
       "    </tr>\n",
       "    <tr>\n",
       "      <th>1.0</th>\n",
       "      <td>11</td>\n",
       "      <td>90</td>\n",
       "    </tr>\n",
       "  </tbody>\n",
       "</table>\n",
       "</div>"
      ],
      "text/plain": [
       "True Pregnancy          0.0  1.0\n",
       "Hypothesized Pregnancy          \n",
       "0.0                     134   65\n",
       "1.0                      11   90"
      ]
     },
     "execution_count": 34,
     "metadata": {},
     "output_type": "execute_result"
    }
   ],
   "source": [
    "c_hat = model.predict(X)\n",
    "\n",
    "pd.crosstab(c_hat,\n",
    "    c,\n",
    "    rownames = ['Hypothesized Pregnancy'],\n",
    "    colnames = ['True Pregnancy'])"
   ]
  },
  {
   "cell_type": "markdown",
   "metadata": {},
   "source": [
    "# Top 8? (Including top 4 negative and top 4 positive)"
   ]
  },
  {
   "cell_type": "code",
   "execution_count": 35,
   "metadata": {
    "collapsed": true
   },
   "outputs": [],
   "source": [
    "x_list = ['PFolic_True','PMaternity_True','PStoppedWine_True','PPregTest_True',\n",
    "          'PBirthC_True','pHygiene_True','PWine_True','PCigarettes_True']\n",
    "X = train_df[x_list]\n",
    "c = train_df.PPregnant_True\n",
    "\n",
    "model = linear_model.LogisticRegression().\\\n",
    "    fit(X, c)"
   ]
  },
  {
   "cell_type": "code",
   "execution_count": 36,
   "metadata": {
    "collapsed": false
   },
   "outputs": [
    {
     "data": {
      "text/plain": [
       "0.76000000000000001"
      ]
     },
     "execution_count": 36,
     "metadata": {},
     "output_type": "execute_result"
    }
   ],
   "source": [
    "model.score(X, c)"
   ]
  },
  {
   "cell_type": "code",
   "execution_count": 37,
   "metadata": {
    "collapsed": false
   },
   "outputs": [
    {
     "data": {
      "text/html": [
       "<div>\n",
       "<table border=\"1\" class=\"dataframe\">\n",
       "  <thead>\n",
       "    <tr style=\"text-align: right;\">\n",
       "      <th>True Pregnancy</th>\n",
       "      <th>0.0</th>\n",
       "      <th>1.0</th>\n",
       "    </tr>\n",
       "    <tr>\n",
       "      <th>Hypothesized Pregnancy</th>\n",
       "      <th></th>\n",
       "      <th></th>\n",
       "    </tr>\n",
       "  </thead>\n",
       "  <tbody>\n",
       "    <tr>\n",
       "      <th>0.0</th>\n",
       "      <td>84</td>\n",
       "      <td>11</td>\n",
       "    </tr>\n",
       "    <tr>\n",
       "      <th>1.0</th>\n",
       "      <td>61</td>\n",
       "      <td>144</td>\n",
       "    </tr>\n",
       "  </tbody>\n",
       "</table>\n",
       "</div>"
      ],
      "text/plain": [
       "True Pregnancy          0.0  1.0\n",
       "Hypothesized Pregnancy          \n",
       "0.0                      84   11\n",
       "1.0                      61  144"
      ]
     },
     "execution_count": 37,
     "metadata": {},
     "output_type": "execute_result"
    }
   ],
   "source": [
    "c_hat = model.predict(X)\n",
    "\n",
    "pd.crosstab(c_hat,\n",
    "    c,\n",
    "    rownames = ['Hypothesized Pregnancy'],\n",
    "    colnames = ['True Pregnancy'])"
   ]
  },
  {
   "cell_type": "code",
   "execution_count": null,
   "metadata": {
    "collapsed": true
   },
   "outputs": [],
   "source": []
  },
  {
   "cell_type": "markdown",
   "metadata": {},
   "source": [
    "# Final Model"
   ]
  },
  {
   "cell_type": "markdown",
   "metadata": {},
   "source": [
    "Using all of the data for the final model in order to be able to train it with all available data. "
   ]
  },
  {
   "cell_type": "code",
   "execution_count": 38,
   "metadata": {
    "collapsed": true
   },
   "outputs": [],
   "source": [
    "X = df_clean.drop(['PPregnant_True','PPillow_True','Folic_acid*Maternity_clothes'],axis=1,inplace=False)\n",
    "c = df_clean.PPregnant_True\n",
    "\n",
    "model = linear_model.LogisticRegression().\\\n",
    "    fit(X, c)"
   ]
  },
  {
   "cell_type": "code",
   "execution_count": 39,
   "metadata": {
    "collapsed": false
   },
   "outputs": [
    {
     "data": {
      "text/plain": [
       "0.81999999999999995"
      ]
     },
     "execution_count": 39,
     "metadata": {},
     "output_type": "execute_result"
    }
   ],
   "source": [
    "model.score(X, c)"
   ]
  },
  {
   "cell_type": "code",
   "execution_count": 40,
   "metadata": {
    "collapsed": false
   },
   "outputs": [
    {
     "data": {
      "text/html": [
       "<div>\n",
       "<table border=\"1\" class=\"dataframe\">\n",
       "  <thead>\n",
       "    <tr style=\"text-align: right;\">\n",
       "      <th>True Pregnancy</th>\n",
       "      <th>0.0</th>\n",
       "      <th>1.0</th>\n",
       "    </tr>\n",
       "    <tr>\n",
       "      <th>Hypothesized Pregnancy</th>\n",
       "      <th></th>\n",
       "      <th></th>\n",
       "    </tr>\n",
       "  </thead>\n",
       "  <tbody>\n",
       "    <tr>\n",
       "      <th>0.0</th>\n",
       "      <td>276</td>\n",
       "      <td>84</td>\n",
       "    </tr>\n",
       "    <tr>\n",
       "      <th>1.0</th>\n",
       "      <td>24</td>\n",
       "      <td>216</td>\n",
       "    </tr>\n",
       "  </tbody>\n",
       "</table>\n",
       "</div>"
      ],
      "text/plain": [
       "True Pregnancy          0.0  1.0\n",
       "Hypothesized Pregnancy          \n",
       "0.0                     276   84\n",
       "1.0                      24  216"
      ]
     },
     "execution_count": 40,
     "metadata": {},
     "output_type": "execute_result"
    }
   ],
   "source": [
    "c_hat = model.predict(X)\n",
    "\n",
    "pd.crosstab(c_hat,\n",
    "    c,\n",
    "    rownames = ['Hypothesized Pregnancy'],\n",
    "    colnames = ['True Pregnancy'])"
   ]
  },
  {
   "cell_type": "code",
   "execution_count": 41,
   "metadata": {
    "collapsed": false
   },
   "outputs": [
    {
     "data": {
      "text/plain": [
       "[(-0.87655016371371974, 'PBirthC_True'),\n",
       " (-0.76842598211502045, 'PWine_True'),\n",
       " (-0.74085428271122411, 'pHygiene_True'),\n",
       " (-0.73166433316852297, 'PCigarettes_True'),\n",
       " (-0.29206903667934003, 'pGen_Male'),\n",
       " (-0.16422617440760512, 'PAddress_PO Box'),\n",
       " (-0.11219491692972483, 'PAddress_Apartment'),\n",
       " (0.021147656643149659, 'pGen_nan'),\n",
       " (0.46364783846629609, 'RecentCigs*RecentWine'),\n",
       " (1.2205476768000501, 'PStoppedCigarettes_True'),\n",
       " (2.3439234240286138, 'PSeaBands_True'),\n",
       " (2.6159772336819063, 'PYogaDVD_True'),\n",
       " (2.8423043558336194, 'PGingerAle_True'),\n",
       " (3.1183356787107437, 'PStoppedWine_True'),\n",
       " (3.9236302326460502, 'PCessation_True'),\n",
       " (4.4069818619282985, 'PMaternity_True'),\n",
       " (4.7013601394838762, 'PPregTest_True'),\n",
       " (24.019496720976896, 'PFolic_True')]"
      ]
     },
     "execution_count": 41,
     "metadata": {},
     "output_type": "execute_result"
    }
   ],
   "source": [
    "sorted(zip(np.exp(model.coef_[0]) - 1,X.columns))"
   ]
  }
 ],
 "metadata": {
  "anaconda-cloud": {},
  "kernelspec": {
   "display_name": "Python [conda env:py27]",
   "language": "python",
   "name": "conda-env-py27-py"
  },
  "language_info": {
   "codemirror_mode": {
    "name": "ipython",
    "version": 2
   },
   "file_extension": ".py",
   "mimetype": "text/x-python",
   "name": "python",
   "nbconvert_exporter": "python",
   "pygments_lexer": "ipython2",
   "version": "2.7.12"
  }
 },
 "nbformat": 4,
 "nbformat_minor": 1
}
