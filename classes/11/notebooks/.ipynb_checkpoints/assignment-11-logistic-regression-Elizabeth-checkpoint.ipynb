{
 "cells": [
  {
   "cell_type": "markdown",
   "metadata": {},
   "source": [
    "# DS-SF-30 | Assignment 11: Logistic Regression"
   ]
  },
  {
   "cell_type": "code",
   "execution_count": 3,
   "metadata": {
    "collapsed": true
   },
   "outputs": [],
   "source": [
    "import os\n",
    "\n",
    "import numpy as np\n",
    "import pandas as pd\n",
    "pd.set_option('display.max_rows', 10)\n",
    "pd.set_option('display.notebook_repr_html', True)\n",
    "pd.set_option('display.max_columns', 10)\n",
    "\n",
    "from sklearn import linear_model, cross_validation\n",
    "\n",
    "import matplotlib.pyplot as plt\n",
    "%matplotlib inline\n",
    "plt.style.use('ggplot')"
   ]
  },
  {
   "cell_type": "markdown",
   "metadata": {},
   "source": [
    "## Probability, Odds, and  Odds ratios"
   ]
  },
  {
   "cell_type": "markdown",
   "metadata": {},
   "source": [
    "**Probability:** The number of ways that an event can occur divided by the total number of possible outcomes.\n",
    "\n",
    "The probability of drawing a red card from a standard deck of cards is 26/52 (50 percent).\n",
    "The probability of drawing a club from that deck is 13/52 (25 percent)."
   ]
  },
  {
   "cell_type": "markdown",
   "metadata": {},
   "source": [
    "> ### Question 1.  What's the probability of getting heads in a fair coin flip?"
   ]
  },
  {
   "cell_type": "code",
   "execution_count": 4,
   "metadata": {
    "collapsed": false
   },
   "outputs": [
    {
     "name": "stdout",
     "output_type": "stream",
     "text": [
      "0.5\n"
     ]
    }
   ],
   "source": [
    "p = 1/2\n",
    "print(p)"
   ]
  },
  {
   "cell_type": "markdown",
   "metadata": {
    "collapsed": false
   },
   "source": [
    "Answer: 1/2 (50%)"
   ]
  },
  {
   "cell_type": "markdown",
   "metadata": {},
   "source": [
    "The odds for an event is the ratio of the number of ways the event can occur compared to the number of ways it does not occur.\n",
    "\n",
    "For example, using the same events as above, the odds for:\n",
    "- Drawing a red card from a standard deck of cards is 1:1; and\n",
    "- Drawing a club from that deck is 1:3."
   ]
  },
  {
   "cell_type": "markdown",
   "metadata": {},
   "source": [
    "> ### Question 2.  What's the odds of a fair coin flip?"
   ]
  },
  {
   "cell_type": "code",
   "execution_count": 5,
   "metadata": {
    "collapsed": false
   },
   "outputs": [
    {
     "data": {
      "text/plain": [
       "1.0"
      ]
     },
     "execution_count": 5,
     "metadata": {},
     "output_type": "execute_result"
    }
   ],
   "source": [
    "p / (1-p)"
   ]
  },
  {
   "cell_type": "markdown",
   "metadata": {},
   "source": [
    "> ### Question 3.  Suppose that 18 out of 20 patients in an experiment lost weight while using diet A, while 16 out of 20  lost weight using diet B.  What's the probability of weight loss with diet A?  What's the odds?"
   ]
  },
  {
   "cell_type": "code",
   "execution_count": 6,
   "metadata": {
    "collapsed": false
   },
   "outputs": [
    {
     "name": "stdout",
     "output_type": "stream",
     "text": [
      "Probability is 0.9\n",
      "Odds are 9.000000000000002\n"
     ]
    }
   ],
   "source": [
    "p_a = 18/20.0\n",
    "print('Probability is {}'.format(p_a))\n",
    "odds_a = p_a/(1-p_a)\n",
    "print('Odds are {}'.format(odds_a))"
   ]
  },
  {
   "cell_type": "markdown",
   "metadata": {},
   "source": [
    "> ### Question 4.  What's the probablity of weight loss with diet B?  What's the odds?"
   ]
  },
  {
   "cell_type": "code",
   "execution_count": 7,
   "metadata": {
    "collapsed": false
   },
   "outputs": [
    {
     "name": "stdout",
     "output_type": "stream",
     "text": [
      "Probability is 0.8\n",
      "Odds are 4.000000000000001\n"
     ]
    }
   ],
   "source": [
    "p_b = 16/20.0\n",
    "print('Probability is {}'.format(p_b))\n",
    "odds_b = p_b/(1-p_b)\n",
    "print('Odds are {}'.format(odds_b))"
   ]
  },
  {
   "cell_type": "markdown",
   "metadata": {},
   "source": [
    "> ### Question 5.  What's the odds ratio?"
   ]
  },
  {
   "cell_type": "code",
   "execution_count": 8,
   "metadata": {
    "collapsed": false
   },
   "outputs": [
    {
     "data": {
      "text/plain": [
       "2.25"
      ]
     },
     "execution_count": 8,
     "metadata": {},
     "output_type": "execute_result"
    }
   ],
   "source": [
    "odds_a / odds_b"
   ]
  },
  {
   "cell_type": "markdown",
   "metadata": {},
   "source": [
    "## Bank Marketing"
   ]
  },
  {
   "cell_type": "code",
   "execution_count": 9,
   "metadata": {
    "collapsed": false
   },
   "outputs": [],
   "source": [
    "df = pd.read_csv(os.path.join('..', 'datasets', 'dataset-11-bank-marketing.csv'))"
   ]
  },
  {
   "cell_type": "code",
   "execution_count": 10,
   "metadata": {
    "collapsed": false
   },
   "outputs": [
    {
     "data": {
      "text/html": [
       "<div>\n",
       "<table border=\"1\" class=\"dataframe\">\n",
       "  <thead>\n",
       "    <tr style=\"text-align: right;\">\n",
       "      <th></th>\n",
       "      <th>age</th>\n",
       "      <th>job</th>\n",
       "      <th>marital</th>\n",
       "      <th>education</th>\n",
       "      <th>default</th>\n",
       "      <th>...</th>\n",
       "      <th>campaign</th>\n",
       "      <th>pdays</th>\n",
       "      <th>previous</th>\n",
       "      <th>poutcome</th>\n",
       "      <th>c</th>\n",
       "    </tr>\n",
       "  </thead>\n",
       "  <tbody>\n",
       "    <tr>\n",
       "      <th>0</th>\n",
       "      <td>30</td>\n",
       "      <td>unemployed</td>\n",
       "      <td>married</td>\n",
       "      <td>primary</td>\n",
       "      <td>no</td>\n",
       "      <td>...</td>\n",
       "      <td>1</td>\n",
       "      <td>-1</td>\n",
       "      <td>0</td>\n",
       "      <td>unknown</td>\n",
       "      <td>no</td>\n",
       "    </tr>\n",
       "    <tr>\n",
       "      <th>1</th>\n",
       "      <td>33</td>\n",
       "      <td>services</td>\n",
       "      <td>married</td>\n",
       "      <td>secondary</td>\n",
       "      <td>no</td>\n",
       "      <td>...</td>\n",
       "      <td>1</td>\n",
       "      <td>339</td>\n",
       "      <td>4</td>\n",
       "      <td>failure</td>\n",
       "      <td>no</td>\n",
       "    </tr>\n",
       "    <tr>\n",
       "      <th>2</th>\n",
       "      <td>35</td>\n",
       "      <td>management</td>\n",
       "      <td>single</td>\n",
       "      <td>tertiary</td>\n",
       "      <td>no</td>\n",
       "      <td>...</td>\n",
       "      <td>1</td>\n",
       "      <td>330</td>\n",
       "      <td>1</td>\n",
       "      <td>failure</td>\n",
       "      <td>no</td>\n",
       "    </tr>\n",
       "    <tr>\n",
       "      <th>3</th>\n",
       "      <td>30</td>\n",
       "      <td>management</td>\n",
       "      <td>married</td>\n",
       "      <td>tertiary</td>\n",
       "      <td>no</td>\n",
       "      <td>...</td>\n",
       "      <td>4</td>\n",
       "      <td>-1</td>\n",
       "      <td>0</td>\n",
       "      <td>unknown</td>\n",
       "      <td>no</td>\n",
       "    </tr>\n",
       "    <tr>\n",
       "      <th>4</th>\n",
       "      <td>59</td>\n",
       "      <td>blue-collar</td>\n",
       "      <td>married</td>\n",
       "      <td>secondary</td>\n",
       "      <td>no</td>\n",
       "      <td>...</td>\n",
       "      <td>1</td>\n",
       "      <td>-1</td>\n",
       "      <td>0</td>\n",
       "      <td>unknown</td>\n",
       "      <td>no</td>\n",
       "    </tr>\n",
       "    <tr>\n",
       "      <th>...</th>\n",
       "      <td>...</td>\n",
       "      <td>...</td>\n",
       "      <td>...</td>\n",
       "      <td>...</td>\n",
       "      <td>...</td>\n",
       "      <td>...</td>\n",
       "      <td>...</td>\n",
       "      <td>...</td>\n",
       "      <td>...</td>\n",
       "      <td>...</td>\n",
       "      <td>...</td>\n",
       "    </tr>\n",
       "    <tr>\n",
       "      <th>4516</th>\n",
       "      <td>33</td>\n",
       "      <td>services</td>\n",
       "      <td>married</td>\n",
       "      <td>secondary</td>\n",
       "      <td>no</td>\n",
       "      <td>...</td>\n",
       "      <td>5</td>\n",
       "      <td>-1</td>\n",
       "      <td>0</td>\n",
       "      <td>unknown</td>\n",
       "      <td>no</td>\n",
       "    </tr>\n",
       "    <tr>\n",
       "      <th>4517</th>\n",
       "      <td>57</td>\n",
       "      <td>self-employed</td>\n",
       "      <td>married</td>\n",
       "      <td>tertiary</td>\n",
       "      <td>yes</td>\n",
       "      <td>...</td>\n",
       "      <td>1</td>\n",
       "      <td>-1</td>\n",
       "      <td>0</td>\n",
       "      <td>unknown</td>\n",
       "      <td>no</td>\n",
       "    </tr>\n",
       "    <tr>\n",
       "      <th>4518</th>\n",
       "      <td>57</td>\n",
       "      <td>technician</td>\n",
       "      <td>married</td>\n",
       "      <td>secondary</td>\n",
       "      <td>no</td>\n",
       "      <td>...</td>\n",
       "      <td>11</td>\n",
       "      <td>-1</td>\n",
       "      <td>0</td>\n",
       "      <td>unknown</td>\n",
       "      <td>no</td>\n",
       "    </tr>\n",
       "    <tr>\n",
       "      <th>4519</th>\n",
       "      <td>28</td>\n",
       "      <td>blue-collar</td>\n",
       "      <td>married</td>\n",
       "      <td>secondary</td>\n",
       "      <td>no</td>\n",
       "      <td>...</td>\n",
       "      <td>4</td>\n",
       "      <td>211</td>\n",
       "      <td>3</td>\n",
       "      <td>other</td>\n",
       "      <td>no</td>\n",
       "    </tr>\n",
       "    <tr>\n",
       "      <th>4520</th>\n",
       "      <td>44</td>\n",
       "      <td>entrepreneur</td>\n",
       "      <td>single</td>\n",
       "      <td>tertiary</td>\n",
       "      <td>no</td>\n",
       "      <td>...</td>\n",
       "      <td>2</td>\n",
       "      <td>249</td>\n",
       "      <td>7</td>\n",
       "      <td>other</td>\n",
       "      <td>no</td>\n",
       "    </tr>\n",
       "  </tbody>\n",
       "</table>\n",
       "<p>4521 rows × 17 columns</p>\n",
       "</div>"
      ],
      "text/plain": [
       "      age            job  marital  education default ...  campaign pdays  \\\n",
       "0      30     unemployed  married    primary      no ...         1    -1   \n",
       "1      33       services  married  secondary      no ...         1   339   \n",
       "2      35     management   single   tertiary      no ...         1   330   \n",
       "3      30     management  married   tertiary      no ...         4    -1   \n",
       "4      59    blue-collar  married  secondary      no ...         1    -1   \n",
       "...   ...            ...      ...        ...     ... ...       ...   ...   \n",
       "4516   33       services  married  secondary      no ...         5    -1   \n",
       "4517   57  self-employed  married   tertiary     yes ...         1    -1   \n",
       "4518   57     technician  married  secondary      no ...        11    -1   \n",
       "4519   28    blue-collar  married  secondary      no ...         4   211   \n",
       "4520   44   entrepreneur   single   tertiary      no ...         2   249   \n",
       "\n",
       "     previous poutcome   c  \n",
       "0           0  unknown  no  \n",
       "1           4  failure  no  \n",
       "2           1  failure  no  \n",
       "3           0  unknown  no  \n",
       "4           0  unknown  no  \n",
       "...       ...      ...  ..  \n",
       "4516        0  unknown  no  \n",
       "4517        0  unknown  no  \n",
       "4518        0  unknown  no  \n",
       "4519        3    other  no  \n",
       "4520        7    other  no  \n",
       "\n",
       "[4521 rows x 17 columns]"
      ]
     },
     "execution_count": 10,
     "metadata": {},
     "output_type": "execute_result"
    }
   ],
   "source": [
    "df"
   ]
  },
  {
   "cell_type": "code",
   "execution_count": 11,
   "metadata": {
    "collapsed": false
   },
   "outputs": [
    {
     "data": {
      "text/plain": [
       "Index(['age', 'job', 'marital', 'education', 'default', 'balance', 'housing',\n",
       "       'loan', 'contact', 'day', 'month', 'duration', 'campaign', 'pdays',\n",
       "       'previous', 'poutcome', 'c'],\n",
       "      dtype='object')"
      ]
     },
     "execution_count": 11,
     "metadata": {},
     "output_type": "execute_result"
    }
   ],
   "source": [
    "df.columns"
   ]
  },
  {
   "cell_type": "markdown",
   "metadata": {},
   "source": [
    "> The dataset is related to the direct marketing campaigns (by phone) of a Portuguese banking institution.  The classification goal is to predict if the client will subscribe a term deposit (variable y)."
   ]
  },
  {
   "cell_type": "markdown",
   "metadata": {},
   "source": [
    "Attributes Information:\n",
    "\n",
    "- Input variables:\n",
    "  - [Bank client data]\n",
    "    - `age` (numeric)\n",
    "    - `job`: type of job (categorical)\n",
    "    - `marital`: marital status (categorical)\n",
    "      - Note: `divorced` means divorced or widowed)\n",
    "    - `education` (categorical)\n",
    "    - `default`: has credit in default? (categorical)\n",
    "    - `balance`: bank account balance (\\$)\n",
    "    - `housing`: has housing loan? (categorical)\n",
    "    - `loan`: has personal loan? (categorical)\n",
    "  - [Data related with the last contact of the current campaign]\n",
    "    - `contact`: contact communication type (categorical)\n",
    "    - `month`: last contact month of year (categorical)\n",
    "    - `day_of_week`: last contact day of the week (categorical)\n",
    "    - `duration`: last contact duration, in seconds (numeric)\n",
    "      - Important note: this attribute highly affects the output target (e.g., if `duration = 0` then `y = 'no'`). Yet, the duration is not known before a call is performed.  Also, after the end of the call y is obviously known.  Thus, this input should only be included for benchmark purposes and should be discarded if the intention is to have a realistic predictive model.\n",
    "  - [Other attributes]\n",
    "    - `campaign`: number of contacts performed during this campaign and for this client (numeric)\n",
    "    - `pdays`: number of days that passed by after the client was last contacted from a previous campaign (numeric)\n",
    "      - 999 means client was not previously contacted\n",
    "    - `previous`: number of contacts performed before this campaign and for this client (numeric)\n",
    "    - `poutcome`: outcome of the previous marketing campaign (categorical)\n",
    "\n",
    "- Output variable (desired target):\n",
    "  - `y`: has the client subscribed a term deposit? (binary)"
   ]
  },
  {
   "cell_type": "markdown",
   "metadata": {},
   "source": [
    "> Our goal is to develop a model the best predicts the outcome `y`, the success of the marketing campaign."
   ]
  },
  {
   "cell_type": "markdown",
   "metadata": {},
   "source": [
    "> ## Question 6.  Remove the categorical variables with the most number of distinct values"
   ]
  },
  {
   "cell_type": "code",
   "execution_count": 12,
   "metadata": {
    "collapsed": false
   },
   "outputs": [
    {
     "name": "stdout",
     "output_type": "stream",
     "text": [
      "['unemployed' 'services' 'management' 'blue-collar' 'self-employed'\n",
      " 'technician' 'entrepreneur' 'admin.' 'student' 'housemaid' 'retired'\n",
      " 'unknown']\n",
      "['married' 'single' 'divorced']\n",
      "['primary' 'secondary' 'tertiary' 'unknown']\n",
      "['no' 'yes']\n",
      "['no' 'yes']\n",
      "['no' 'yes']\n",
      "['cellular' 'unknown' 'telephone']\n",
      "['oct' 'may' 'apr' 'jun' 'feb' 'aug' 'jan' 'jul' 'nov' 'sep' 'mar' 'dec']\n",
      "[19 11 16  3  5 23 14  6 17 20 13 30 29 27  7 18 12 21 26 22  2  4 15  8 28\n",
      "  9  1 10 31 25 24]\n",
      "['unknown' 'failure' 'other' 'success']\n"
     ]
    }
   ],
   "source": [
    "print(df.job.unique())\n",
    "print(df.marital.unique())\n",
    "print(df.education.unique())\n",
    "print(df.default.unique())\n",
    "print(df.housing.unique())\n",
    "print(df.loan.unique())\n",
    "print(df.contact.unique())\n",
    "print(df.month.unique())\n",
    "print(df.day.unique())\n",
    "print(df.poutcome.unique())"
   ]
  },
  {
   "cell_type": "code",
   "execution_count": 13,
   "metadata": {
    "collapsed": false
   },
   "outputs": [],
   "source": [
    "df.drop('job',inplace=True,axis=1)\n",
    "#df.drop('month',inplace=True)\n",
    "#df.drop('day',inplace=True)"
   ]
  },
  {
   "cell_type": "markdown",
   "metadata": {},
   "source": [
    "Answer: Job has a lot of possible values (12), same with month, and day is described as categorical in the description and has 31 possible values. "
   ]
  },
  {
   "cell_type": "markdown",
   "metadata": {},
   "source": [
    "> ## Question 7.  Recode all `yes`/`no` categorical variables with `0` as the most frequent value (then also append `\"_no\"` to the variable name), and `1` for the other (then leave the name unchanged)"
   ]
  },
  {
   "cell_type": "markdown",
   "metadata": {
    "collapsed": false
   },
   "source": [
    "First default, then housing, then loan."
   ]
  },
  {
   "cell_type": "code",
   "execution_count": 14,
   "metadata": {
    "collapsed": false
   },
   "outputs": [
    {
     "data": {
      "text/plain": [
       "no     4445\n",
       "yes      76\n",
       "Name: default, dtype: int64"
      ]
     },
     "execution_count": 14,
     "metadata": {},
     "output_type": "execute_result"
    }
   ],
   "source": [
    "df.default.value_counts()"
   ]
  },
  {
   "cell_type": "code",
   "execution_count": 15,
   "metadata": {
    "collapsed": true
   },
   "outputs": [],
   "source": [
    "df.default = df.default.apply(lambda value: 0 if value == 'no' else 1)"
   ]
  },
  {
   "cell_type": "code",
   "execution_count": 16,
   "metadata": {
    "collapsed": false
   },
   "outputs": [
    {
     "data": {
      "text/plain": [
       "0    4445\n",
       "1      76\n",
       "Name: default, dtype: int64"
      ]
     },
     "execution_count": 16,
     "metadata": {},
     "output_type": "execute_result"
    }
   ],
   "source": [
    "# check if it worked\n",
    "df.default.value_counts()"
   ]
  },
  {
   "cell_type": "markdown",
   "metadata": {},
   "source": [
    "Now housing"
   ]
  },
  {
   "cell_type": "code",
   "execution_count": 17,
   "metadata": {
    "collapsed": false
   },
   "outputs": [
    {
     "data": {
      "text/plain": [
       "yes    2559\n",
       "no     1962\n",
       "Name: housing, dtype: int64"
      ]
     },
     "execution_count": 17,
     "metadata": {},
     "output_type": "execute_result"
    }
   ],
   "source": [
    "df.housing.value_counts()"
   ]
  },
  {
   "cell_type": "code",
   "execution_count": 18,
   "metadata": {
    "collapsed": true
   },
   "outputs": [],
   "source": [
    "df['housing_no'] = df.housing.apply(lambda value: 0 if value == 'yes' else 1)"
   ]
  },
  {
   "cell_type": "code",
   "execution_count": 19,
   "metadata": {
    "collapsed": false
   },
   "outputs": [
    {
     "data": {
      "text/plain": [
       "0    2559\n",
       "1    1962\n",
       "Name: housing_no, dtype: int64"
      ]
     },
     "execution_count": 19,
     "metadata": {},
     "output_type": "execute_result"
    }
   ],
   "source": [
    "df.housing_no.value_counts()"
   ]
  },
  {
   "cell_type": "markdown",
   "metadata": {},
   "source": [
    "Now loan"
   ]
  },
  {
   "cell_type": "code",
   "execution_count": 20,
   "metadata": {
    "collapsed": false
   },
   "outputs": [
    {
     "data": {
      "text/plain": [
       "no     3830\n",
       "yes     691\n",
       "Name: loan, dtype: int64"
      ]
     },
     "execution_count": 20,
     "metadata": {},
     "output_type": "execute_result"
    }
   ],
   "source": [
    "df.loan.value_counts()"
   ]
  },
  {
   "cell_type": "code",
   "execution_count": 21,
   "metadata": {
    "collapsed": true
   },
   "outputs": [],
   "source": [
    "df.loan = df.loan.apply(lambda value: 0 if value == 'no' else 1)"
   ]
  },
  {
   "cell_type": "code",
   "execution_count": 22,
   "metadata": {
    "collapsed": false
   },
   "outputs": [
    {
     "data": {
      "text/plain": [
       "0    3830\n",
       "1     691\n",
       "Name: loan, dtype: int64"
      ]
     },
     "execution_count": 22,
     "metadata": {},
     "output_type": "execute_result"
    }
   ],
   "source": [
    "df.loan.value_counts()"
   ]
  },
  {
   "cell_type": "markdown",
   "metadata": {},
   "source": [
    "Oh, also outcome (c)"
   ]
  },
  {
   "cell_type": "code",
   "execution_count": 23,
   "metadata": {
    "collapsed": false
   },
   "outputs": [
    {
     "data": {
      "text/plain": [
       "no     4000\n",
       "yes     521\n",
       "Name: c, dtype: int64"
      ]
     },
     "execution_count": 23,
     "metadata": {},
     "output_type": "execute_result"
    }
   ],
   "source": [
    "df.c.value_counts()"
   ]
  },
  {
   "cell_type": "code",
   "execution_count": 24,
   "metadata": {
    "collapsed": true
   },
   "outputs": [],
   "source": [
    "df.c = df.c.apply(lambda value: 0 if value == 'no' else 1)"
   ]
  },
  {
   "cell_type": "code",
   "execution_count": 25,
   "metadata": {
    "collapsed": false
   },
   "outputs": [
    {
     "data": {
      "text/plain": [
       "0    4000\n",
       "1     521\n",
       "Name: c, dtype: int64"
      ]
     },
     "execution_count": 25,
     "metadata": {},
     "output_type": "execute_result"
    }
   ],
   "source": [
    "df.c.value_counts()"
   ]
  },
  {
   "cell_type": "markdown",
   "metadata": {},
   "source": [
    "> ## Question 8.  Create binary/dummy variables for the other categorical variables"
   ]
  },
  {
   "cell_type": "code",
   "execution_count": 26,
   "metadata": {
    "collapsed": false
   },
   "outputs": [],
   "source": [
    "m_df = pd.get_dummies(df.marital, prefix = 'marital')\n",
    "ed_df = pd.get_dummies(df.education, prefix = 'education')\n",
    "c_df = pd.get_dummies(df.contact, prefix = 'contact')\n",
    "\n",
    "df = df.join([m_df, ed_df, c_df])"
   ]
  },
  {
   "cell_type": "code",
   "execution_count": 27,
   "metadata": {
    "collapsed": false
   },
   "outputs": [
    {
     "data": {
      "text/html": [
       "<div>\n",
       "<table border=\"1\" class=\"dataframe\">\n",
       "  <thead>\n",
       "    <tr style=\"text-align: right;\">\n",
       "      <th></th>\n",
       "      <th>age</th>\n",
       "      <th>marital</th>\n",
       "      <th>education</th>\n",
       "      <th>default</th>\n",
       "      <th>balance</th>\n",
       "      <th>...</th>\n",
       "      <th>education_tertiary</th>\n",
       "      <th>education_unknown</th>\n",
       "      <th>contact_cellular</th>\n",
       "      <th>contact_telephone</th>\n",
       "      <th>contact_unknown</th>\n",
       "    </tr>\n",
       "  </thead>\n",
       "  <tbody>\n",
       "    <tr>\n",
       "      <th>0</th>\n",
       "      <td>30</td>\n",
       "      <td>married</td>\n",
       "      <td>primary</td>\n",
       "      <td>0</td>\n",
       "      <td>1787</td>\n",
       "      <td>...</td>\n",
       "      <td>0.0</td>\n",
       "      <td>0.0</td>\n",
       "      <td>1.0</td>\n",
       "      <td>0.0</td>\n",
       "      <td>0.0</td>\n",
       "    </tr>\n",
       "    <tr>\n",
       "      <th>1</th>\n",
       "      <td>33</td>\n",
       "      <td>married</td>\n",
       "      <td>secondary</td>\n",
       "      <td>0</td>\n",
       "      <td>4789</td>\n",
       "      <td>...</td>\n",
       "      <td>0.0</td>\n",
       "      <td>0.0</td>\n",
       "      <td>1.0</td>\n",
       "      <td>0.0</td>\n",
       "      <td>0.0</td>\n",
       "    </tr>\n",
       "    <tr>\n",
       "      <th>2</th>\n",
       "      <td>35</td>\n",
       "      <td>single</td>\n",
       "      <td>tertiary</td>\n",
       "      <td>0</td>\n",
       "      <td>1350</td>\n",
       "      <td>...</td>\n",
       "      <td>1.0</td>\n",
       "      <td>0.0</td>\n",
       "      <td>1.0</td>\n",
       "      <td>0.0</td>\n",
       "      <td>0.0</td>\n",
       "    </tr>\n",
       "    <tr>\n",
       "      <th>3</th>\n",
       "      <td>30</td>\n",
       "      <td>married</td>\n",
       "      <td>tertiary</td>\n",
       "      <td>0</td>\n",
       "      <td>1476</td>\n",
       "      <td>...</td>\n",
       "      <td>1.0</td>\n",
       "      <td>0.0</td>\n",
       "      <td>0.0</td>\n",
       "      <td>0.0</td>\n",
       "      <td>1.0</td>\n",
       "    </tr>\n",
       "    <tr>\n",
       "      <th>4</th>\n",
       "      <td>59</td>\n",
       "      <td>married</td>\n",
       "      <td>secondary</td>\n",
       "      <td>0</td>\n",
       "      <td>0</td>\n",
       "      <td>...</td>\n",
       "      <td>0.0</td>\n",
       "      <td>0.0</td>\n",
       "      <td>0.0</td>\n",
       "      <td>0.0</td>\n",
       "      <td>1.0</td>\n",
       "    </tr>\n",
       "  </tbody>\n",
       "</table>\n",
       "<p>5 rows × 27 columns</p>\n",
       "</div>"
      ],
      "text/plain": [
       "   age  marital  education  default  balance       ...        \\\n",
       "0   30  married    primary        0     1787       ...         \n",
       "1   33  married  secondary        0     4789       ...         \n",
       "2   35   single   tertiary        0     1350       ...         \n",
       "3   30  married   tertiary        0     1476       ...         \n",
       "4   59  married  secondary        0        0       ...         \n",
       "\n",
       "  education_tertiary  education_unknown contact_cellular  contact_telephone  \\\n",
       "0                0.0                0.0              1.0                0.0   \n",
       "1                0.0                0.0              1.0                0.0   \n",
       "2                1.0                0.0              1.0                0.0   \n",
       "3                1.0                0.0              0.0                0.0   \n",
       "4                0.0                0.0              0.0                0.0   \n",
       "\n",
       "  contact_unknown  \n",
       "0             0.0  \n",
       "1             0.0  \n",
       "2             0.0  \n",
       "3             1.0  \n",
       "4             1.0  \n",
       "\n",
       "[5 rows x 27 columns]"
      ]
     },
     "execution_count": 27,
     "metadata": {},
     "output_type": "execute_result"
    }
   ],
   "source": [
    "df.head()"
   ]
  },
  {
   "cell_type": "markdown",
   "metadata": {},
   "source": [
    "> ## Question 9.  What should be your baseline for these binary variables (namely, which binary variables should you not include in your model)?"
   ]
  },
  {
   "cell_type": "markdown",
   "metadata": {
    "collapsed": false
   },
   "source": [
    "Baseline values should be the most frequent ones, so which are those? "
   ]
  },
  {
   "cell_type": "code",
   "execution_count": 28,
   "metadata": {
    "collapsed": false
   },
   "outputs": [
    {
     "data": {
      "text/plain": [
       "marital_divorced     528.0\n",
       "marital_married     2797.0\n",
       "marital_single      1196.0\n",
       "dtype: float64"
      ]
     },
     "execution_count": 28,
     "metadata": {},
     "output_type": "execute_result"
    }
   ],
   "source": [
    "m_df.sum()"
   ]
  },
  {
   "cell_type": "code",
   "execution_count": 29,
   "metadata": {
    "collapsed": false
   },
   "outputs": [
    {
     "data": {
      "text/plain": [
       "education_primary       678.0\n",
       "education_secondary    2306.0\n",
       "education_tertiary     1350.0\n",
       "education_unknown       187.0\n",
       "dtype: float64"
      ]
     },
     "execution_count": 29,
     "metadata": {},
     "output_type": "execute_result"
    }
   ],
   "source": [
    "ed_df.sum()"
   ]
  },
  {
   "cell_type": "code",
   "execution_count": 30,
   "metadata": {
    "collapsed": false
   },
   "outputs": [
    {
     "data": {
      "text/plain": [
       "contact_cellular     2896.0\n",
       "contact_telephone     301.0\n",
       "contact_unknown      1324.0\n",
       "dtype: float64"
      ]
     },
     "execution_count": 30,
     "metadata": {},
     "output_type": "execute_result"
    }
   ],
   "source": [
    "c_df.sum()"
   ]
  },
  {
   "cell_type": "markdown",
   "metadata": {},
   "source": [
    "Answer: Baseline (and therefore taken out) should be marital_married, education_secondary, and contact_cellular"
   ]
  },
  {
   "cell_type": "code",
   "execution_count": 31,
   "metadata": {
    "collapsed": false
   },
   "outputs": [],
   "source": [
    "df.drop(['marital', 'education', 'contact','marital_married',\n",
    "         'education_secondary', 'contact_cellular'], axis = 1, inplace = True)"
   ]
  },
  {
   "cell_type": "raw",
   "metadata": {},
   "source": []
  },
  {
   "cell_type": "code",
   "execution_count": 32,
   "metadata": {
    "collapsed": false
   },
   "outputs": [
    {
     "data": {
      "text/html": [
       "<div>\n",
       "<table border=\"1\" class=\"dataframe\">\n",
       "  <thead>\n",
       "    <tr style=\"text-align: right;\">\n",
       "      <th></th>\n",
       "      <th>age</th>\n",
       "      <th>default</th>\n",
       "      <th>balance</th>\n",
       "      <th>housing</th>\n",
       "      <th>loan</th>\n",
       "      <th>...</th>\n",
       "      <th>education_primary</th>\n",
       "      <th>education_tertiary</th>\n",
       "      <th>education_unknown</th>\n",
       "      <th>contact_telephone</th>\n",
       "      <th>contact_unknown</th>\n",
       "    </tr>\n",
       "  </thead>\n",
       "  <tbody>\n",
       "    <tr>\n",
       "      <th>0</th>\n",
       "      <td>30</td>\n",
       "      <td>0</td>\n",
       "      <td>1787</td>\n",
       "      <td>no</td>\n",
       "      <td>0</td>\n",
       "      <td>...</td>\n",
       "      <td>1.0</td>\n",
       "      <td>0.0</td>\n",
       "      <td>0.0</td>\n",
       "      <td>0.0</td>\n",
       "      <td>0.0</td>\n",
       "    </tr>\n",
       "    <tr>\n",
       "      <th>1</th>\n",
       "      <td>33</td>\n",
       "      <td>0</td>\n",
       "      <td>4789</td>\n",
       "      <td>yes</td>\n",
       "      <td>1</td>\n",
       "      <td>...</td>\n",
       "      <td>0.0</td>\n",
       "      <td>0.0</td>\n",
       "      <td>0.0</td>\n",
       "      <td>0.0</td>\n",
       "      <td>0.0</td>\n",
       "    </tr>\n",
       "    <tr>\n",
       "      <th>2</th>\n",
       "      <td>35</td>\n",
       "      <td>0</td>\n",
       "      <td>1350</td>\n",
       "      <td>yes</td>\n",
       "      <td>0</td>\n",
       "      <td>...</td>\n",
       "      <td>0.0</td>\n",
       "      <td>1.0</td>\n",
       "      <td>0.0</td>\n",
       "      <td>0.0</td>\n",
       "      <td>0.0</td>\n",
       "    </tr>\n",
       "    <tr>\n",
       "      <th>3</th>\n",
       "      <td>30</td>\n",
       "      <td>0</td>\n",
       "      <td>1476</td>\n",
       "      <td>yes</td>\n",
       "      <td>1</td>\n",
       "      <td>...</td>\n",
       "      <td>0.0</td>\n",
       "      <td>1.0</td>\n",
       "      <td>0.0</td>\n",
       "      <td>0.0</td>\n",
       "      <td>1.0</td>\n",
       "    </tr>\n",
       "    <tr>\n",
       "      <th>4</th>\n",
       "      <td>59</td>\n",
       "      <td>0</td>\n",
       "      <td>0</td>\n",
       "      <td>yes</td>\n",
       "      <td>0</td>\n",
       "      <td>...</td>\n",
       "      <td>0.0</td>\n",
       "      <td>0.0</td>\n",
       "      <td>0.0</td>\n",
       "      <td>0.0</td>\n",
       "      <td>1.0</td>\n",
       "    </tr>\n",
       "  </tbody>\n",
       "</table>\n",
       "<p>5 rows × 21 columns</p>\n",
       "</div>"
      ],
      "text/plain": [
       "   age  default  balance housing  loan       ...         education_primary  \\\n",
       "0   30        0     1787      no     0       ...                       1.0   \n",
       "1   33        0     4789     yes     1       ...                       0.0   \n",
       "2   35        0     1350     yes     0       ...                       0.0   \n",
       "3   30        0     1476     yes     1       ...                       0.0   \n",
       "4   59        0        0     yes     0       ...                       0.0   \n",
       "\n",
       "  education_tertiary  education_unknown  contact_telephone  contact_unknown  \n",
       "0                0.0                0.0                0.0              0.0  \n",
       "1                0.0                0.0                0.0              0.0  \n",
       "2                1.0                0.0                0.0              0.0  \n",
       "3                1.0                0.0                0.0              1.0  \n",
       "4                0.0                0.0                0.0              1.0  \n",
       "\n",
       "[5 rows x 21 columns]"
      ]
     },
     "execution_count": 32,
     "metadata": {},
     "output_type": "execute_result"
    }
   ],
   "source": [
    "df.head()"
   ]
  },
  {
   "cell_type": "markdown",
   "metadata": {},
   "source": [
    "> ## Question 10.  What input variable in the dataset seems to predict the outcome quite well.  Why?"
   ]
  },
  {
   "cell_type": "code",
   "execution_count": 33,
   "metadata": {
    "collapsed": false
   },
   "outputs": [
    {
     "data": {
      "text/html": [
       "<div>\n",
       "<table border=\"1\" class=\"dataframe\">\n",
       "  <thead>\n",
       "    <tr style=\"text-align: right;\">\n",
       "      <th></th>\n",
       "      <th>age</th>\n",
       "      <th>default</th>\n",
       "      <th>balance</th>\n",
       "      <th>loan</th>\n",
       "      <th>day</th>\n",
       "      <th>duration</th>\n",
       "      <th>campaign</th>\n",
       "      <th>pdays</th>\n",
       "      <th>previous</th>\n",
       "      <th>c</th>\n",
       "      <th>housing_no</th>\n",
       "      <th>marital_divorced</th>\n",
       "      <th>marital_single</th>\n",
       "      <th>education_primary</th>\n",
       "      <th>education_tertiary</th>\n",
       "      <th>education_unknown</th>\n",
       "      <th>contact_telephone</th>\n",
       "      <th>contact_unknown</th>\n",
       "    </tr>\n",
       "  </thead>\n",
       "  <tbody>\n",
       "    <tr>\n",
       "      <th>age</th>\n",
       "      <td>1.000000</td>\n",
       "      <td>-0.017885</td>\n",
       "      <td>0.083820</td>\n",
       "      <td>-0.011250</td>\n",
       "      <td>-0.017853</td>\n",
       "      <td>-0.002367</td>\n",
       "      <td>-0.005148</td>\n",
       "      <td>-0.008894</td>\n",
       "      <td>-0.003511</td>\n",
       "      <td>0.045092</td>\n",
       "      <td>0.193888</td>\n",
       "      <td>0.148043</td>\n",
       "      <td>-0.410768</td>\n",
       "      <td>0.224938</td>\n",
       "      <td>-0.094042</td>\n",
       "      <td>0.081111</td>\n",
       "      <td>0.183060</td>\n",
       "      <td>-0.035125</td>\n",
       "    </tr>\n",
       "    <tr>\n",
       "      <th>default</th>\n",
       "      <td>-0.017885</td>\n",
       "      <td>1.000000</td>\n",
       "      <td>-0.070886</td>\n",
       "      <td>0.063994</td>\n",
       "      <td>-0.013261</td>\n",
       "      <td>-0.011615</td>\n",
       "      <td>-0.012348</td>\n",
       "      <td>-0.026317</td>\n",
       "      <td>-0.026656</td>\n",
       "      <td>0.001303</td>\n",
       "      <td>-0.006881</td>\n",
       "      <td>0.048878</td>\n",
       "      <td>0.007391</td>\n",
       "      <td>-0.006734</td>\n",
       "      <td>-0.021407</td>\n",
       "      <td>-0.001240</td>\n",
       "      <td>-0.021119</td>\n",
       "      <td>0.014151</td>\n",
       "    </tr>\n",
       "    <tr>\n",
       "      <th>balance</th>\n",
       "      <td>0.083820</td>\n",
       "      <td>-0.070886</td>\n",
       "      <td>1.000000</td>\n",
       "      <td>-0.071349</td>\n",
       "      <td>-0.008677</td>\n",
       "      <td>-0.015950</td>\n",
       "      <td>-0.009976</td>\n",
       "      <td>0.009437</td>\n",
       "      <td>0.026196</td>\n",
       "      <td>0.017905</td>\n",
       "      <td>0.050227</td>\n",
       "      <td>-0.036284</td>\n",
       "      <td>0.007525</td>\n",
       "      <td>-0.001551</td>\n",
       "      <td>0.076487</td>\n",
       "      <td>0.019230</td>\n",
       "      <td>0.034025</td>\n",
       "      <td>-0.018892</td>\n",
       "    </tr>\n",
       "    <tr>\n",
       "      <th>loan</th>\n",
       "      <td>-0.011250</td>\n",
       "      <td>0.063994</td>\n",
       "      <td>-0.071349</td>\n",
       "      <td>1.000000</td>\n",
       "      <td>-0.004879</td>\n",
       "      <td>-0.004997</td>\n",
       "      <td>0.017120</td>\n",
       "      <td>-0.031086</td>\n",
       "      <td>-0.022115</td>\n",
       "      <td>-0.070517</td>\n",
       "      <td>-0.018451</td>\n",
       "      <td>0.017798</td>\n",
       "      <td>-0.048496</td>\n",
       "      <td>-0.016574</td>\n",
       "      <td>-0.043434</td>\n",
       "      <td>-0.066621</td>\n",
       "      <td>-0.004945</td>\n",
       "      <td>-0.005894</td>\n",
       "    </tr>\n",
       "    <tr>\n",
       "      <th>day</th>\n",
       "      <td>-0.017853</td>\n",
       "      <td>-0.013261</td>\n",
       "      <td>-0.008677</td>\n",
       "      <td>-0.004879</td>\n",
       "      <td>1.000000</td>\n",
       "      <td>-0.024629</td>\n",
       "      <td>0.160706</td>\n",
       "      <td>-0.094352</td>\n",
       "      <td>-0.059114</td>\n",
       "      <td>-0.011244</td>\n",
       "      <td>0.031291</td>\n",
       "      <td>-0.007121</td>\n",
       "      <td>0.006769</td>\n",
       "      <td>-0.020851</td>\n",
       "      <td>0.007465</td>\n",
       "      <td>0.000787</td>\n",
       "      <td>0.053527</td>\n",
       "      <td>-0.048143</td>\n",
       "    </tr>\n",
       "    <tr>\n",
       "      <th>duration</th>\n",
       "      <td>-0.002367</td>\n",
       "      <td>-0.011615</td>\n",
       "      <td>-0.015950</td>\n",
       "      <td>-0.004997</td>\n",
       "      <td>-0.024629</td>\n",
       "      <td>1.000000</td>\n",
       "      <td>-0.068382</td>\n",
       "      <td>0.010380</td>\n",
       "      <td>0.018080</td>\n",
       "      <td>0.401118</td>\n",
       "      <td>-0.015740</td>\n",
       "      <td>0.021373</td>\n",
       "      <td>0.024560</td>\n",
       "      <td>-0.003640</td>\n",
       "      <td>-0.017779</td>\n",
       "      <td>-0.010802</td>\n",
       "      <td>-0.021180</td>\n",
       "      <td>-0.005469</td>\n",
       "    </tr>\n",
       "    <tr>\n",
       "      <th>campaign</th>\n",
       "      <td>-0.005148</td>\n",
       "      <td>-0.012348</td>\n",
       "      <td>-0.009976</td>\n",
       "      <td>0.017120</td>\n",
       "      <td>0.160706</td>\n",
       "      <td>-0.068382</td>\n",
       "      <td>1.000000</td>\n",
       "      <td>-0.093137</td>\n",
       "      <td>-0.067833</td>\n",
       "      <td>-0.061147</td>\n",
       "      <td>0.003574</td>\n",
       "      <td>-0.022157</td>\n",
       "      <td>-0.008093</td>\n",
       "      <td>0.009746</td>\n",
       "      <td>0.022631</td>\n",
       "      <td>-0.020508</td>\n",
       "      <td>0.026571</td>\n",
       "      <td>0.004882</td>\n",
       "    </tr>\n",
       "    <tr>\n",
       "      <th>pdays</th>\n",
       "      <td>-0.008894</td>\n",
       "      <td>-0.026317</td>\n",
       "      <td>0.009437</td>\n",
       "      <td>-0.031086</td>\n",
       "      <td>-0.094352</td>\n",
       "      <td>0.010380</td>\n",
       "      <td>-0.093137</td>\n",
       "      <td>1.000000</td>\n",
       "      <td>0.577562</td>\n",
       "      <td>0.104087</td>\n",
       "      <td>-0.116893</td>\n",
       "      <td>-0.003411</td>\n",
       "      <td>0.020693</td>\n",
       "      <td>-0.019708</td>\n",
       "      <td>0.000377</td>\n",
       "      <td>0.004601</td>\n",
       "      <td>0.019660</td>\n",
       "      <td>-0.246270</td>\n",
       "    </tr>\n",
       "    <tr>\n",
       "      <th>previous</th>\n",
       "      <td>-0.003511</td>\n",
       "      <td>-0.026656</td>\n",
       "      <td>0.026196</td>\n",
       "      <td>-0.022115</td>\n",
       "      <td>-0.059114</td>\n",
       "      <td>0.018080</td>\n",
       "      <td>-0.067833</td>\n",
       "      <td>0.577562</td>\n",
       "      <td>1.000000</td>\n",
       "      <td>0.116714</td>\n",
       "      <td>-0.038621</td>\n",
       "      <td>-0.022158</td>\n",
       "      <td>0.035558</td>\n",
       "      <td>-0.020439</td>\n",
       "      <td>0.026977</td>\n",
       "      <td>-0.004239</td>\n",
       "      <td>0.031797</td>\n",
       "      <td>-0.194142</td>\n",
       "    </tr>\n",
       "    <tr>\n",
       "      <th>c</th>\n",
       "      <td>0.045092</td>\n",
       "      <td>0.001303</td>\n",
       "      <td>0.017905</td>\n",
       "      <td>-0.070517</td>\n",
       "      <td>-0.011244</td>\n",
       "      <td>0.401118</td>\n",
       "      <td>-0.061147</td>\n",
       "      <td>0.104087</td>\n",
       "      <td>0.116714</td>\n",
       "      <td>1.000000</td>\n",
       "      <td>0.104683</td>\n",
       "      <td>0.034840</td>\n",
       "      <td>0.045815</td>\n",
       "      <td>-0.027420</td>\n",
       "      <td>0.056649</td>\n",
       "      <td>-0.008870</td>\n",
       "      <td>0.025878</td>\n",
       "      <td>-0.139399</td>\n",
       "    </tr>\n",
       "    <tr>\n",
       "      <th>housing_no</th>\n",
       "      <td>0.193888</td>\n",
       "      <td>-0.006881</td>\n",
       "      <td>0.050227</td>\n",
       "      <td>-0.018451</td>\n",
       "      <td>0.031291</td>\n",
       "      <td>-0.015740</td>\n",
       "      <td>0.003574</td>\n",
       "      <td>-0.116893</td>\n",
       "      <td>-0.038621</td>\n",
       "      <td>0.104683</td>\n",
       "      <td>1.000000</td>\n",
       "      <td>0.001197</td>\n",
       "      <td>0.041449</td>\n",
       "      <td>0.000956</td>\n",
       "      <td>0.098624</td>\n",
       "      <td>0.051205</td>\n",
       "      <td>0.075859</td>\n",
       "      <td>-0.215344</td>\n",
       "    </tr>\n",
       "    <tr>\n",
       "      <th>marital_divorced</th>\n",
       "      <td>0.148043</td>\n",
       "      <td>0.048878</td>\n",
       "      <td>-0.036284</td>\n",
       "      <td>0.017798</td>\n",
       "      <td>-0.007121</td>\n",
       "      <td>0.021373</td>\n",
       "      <td>-0.022157</td>\n",
       "      <td>-0.003411</td>\n",
       "      <td>-0.022158</td>\n",
       "      <td>0.034840</td>\n",
       "      <td>0.001197</td>\n",
       "      <td>1.000000</td>\n",
       "      <td>-0.218091</td>\n",
       "      <td>-0.000352</td>\n",
       "      <td>-0.004009</td>\n",
       "      <td>0.007473</td>\n",
       "      <td>-0.003186</td>\n",
       "      <td>0.027805</td>\n",
       "    </tr>\n",
       "    <tr>\n",
       "      <th>marital_single</th>\n",
       "      <td>-0.410768</td>\n",
       "      <td>0.007391</td>\n",
       "      <td>0.007525</td>\n",
       "      <td>-0.048496</td>\n",
       "      <td>0.006769</td>\n",
       "      <td>0.024560</td>\n",
       "      <td>-0.008093</td>\n",
       "      <td>0.020693</td>\n",
       "      <td>0.035558</td>\n",
       "      <td>0.045815</td>\n",
       "      <td>0.041449</td>\n",
       "      <td>-0.218091</td>\n",
       "      <td>1.000000</td>\n",
       "      <td>-0.149384</td>\n",
       "      <td>0.121481</td>\n",
       "      <td>-0.008737</td>\n",
       "      <td>-0.037470</td>\n",
       "      <td>-0.061990</td>\n",
       "    </tr>\n",
       "    <tr>\n",
       "      <th>education_primary</th>\n",
       "      <td>0.224938</td>\n",
       "      <td>-0.006734</td>\n",
       "      <td>-0.001551</td>\n",
       "      <td>-0.016574</td>\n",
       "      <td>-0.020851</td>\n",
       "      <td>-0.003640</td>\n",
       "      <td>0.009746</td>\n",
       "      <td>-0.019708</td>\n",
       "      <td>-0.020439</td>\n",
       "      <td>-0.027420</td>\n",
       "      <td>0.000956</td>\n",
       "      <td>-0.000352</td>\n",
       "      <td>-0.149384</td>\n",
       "      <td>1.000000</td>\n",
       "      <td>-0.274062</td>\n",
       "      <td>-0.087248</td>\n",
       "      <td>0.074205</td>\n",
       "      <td>0.083647</td>\n",
       "    </tr>\n",
       "    <tr>\n",
       "      <th>education_tertiary</th>\n",
       "      <td>-0.094042</td>\n",
       "      <td>-0.021407</td>\n",
       "      <td>0.076487</td>\n",
       "      <td>-0.043434</td>\n",
       "      <td>0.007465</td>\n",
       "      <td>-0.017779</td>\n",
       "      <td>0.022631</td>\n",
       "      <td>0.000377</td>\n",
       "      <td>0.026977</td>\n",
       "      <td>0.056649</td>\n",
       "      <td>0.098624</td>\n",
       "      <td>-0.004009</td>\n",
       "      <td>0.121481</td>\n",
       "      <td>-0.274062</td>\n",
       "      <td>1.000000</td>\n",
       "      <td>-0.135533</td>\n",
       "      <td>-0.046299</td>\n",
       "      <td>-0.131012</td>\n",
       "    </tr>\n",
       "    <tr>\n",
       "      <th>education_unknown</th>\n",
       "      <td>0.081111</td>\n",
       "      <td>-0.001240</td>\n",
       "      <td>0.019230</td>\n",
       "      <td>-0.066621</td>\n",
       "      <td>0.000787</td>\n",
       "      <td>-0.010802</td>\n",
       "      <td>-0.020508</td>\n",
       "      <td>0.004601</td>\n",
       "      <td>-0.004239</td>\n",
       "      <td>-0.008870</td>\n",
       "      <td>0.051205</td>\n",
       "      <td>0.007473</td>\n",
       "      <td>-0.008737</td>\n",
       "      <td>-0.087248</td>\n",
       "      <td>-0.135533</td>\n",
       "      <td>1.000000</td>\n",
       "      <td>0.029185</td>\n",
       "      <td>0.044513</td>\n",
       "    </tr>\n",
       "    <tr>\n",
       "      <th>contact_telephone</th>\n",
       "      <td>0.183060</td>\n",
       "      <td>-0.021119</td>\n",
       "      <td>0.034025</td>\n",
       "      <td>-0.004945</td>\n",
       "      <td>0.053527</td>\n",
       "      <td>-0.021180</td>\n",
       "      <td>0.026571</td>\n",
       "      <td>0.019660</td>\n",
       "      <td>0.031797</td>\n",
       "      <td>0.025878</td>\n",
       "      <td>0.075859</td>\n",
       "      <td>-0.003186</td>\n",
       "      <td>-0.037470</td>\n",
       "      <td>0.074205</td>\n",
       "      <td>-0.046299</td>\n",
       "      <td>0.029185</td>\n",
       "      <td>1.000000</td>\n",
       "      <td>-0.171870</td>\n",
       "    </tr>\n",
       "    <tr>\n",
       "      <th>contact_unknown</th>\n",
       "      <td>-0.035125</td>\n",
       "      <td>0.014151</td>\n",
       "      <td>-0.018892</td>\n",
       "      <td>-0.005894</td>\n",
       "      <td>-0.048143</td>\n",
       "      <td>-0.005469</td>\n",
       "      <td>0.004882</td>\n",
       "      <td>-0.246270</td>\n",
       "      <td>-0.194142</td>\n",
       "      <td>-0.139399</td>\n",
       "      <td>-0.215344</td>\n",
       "      <td>0.027805</td>\n",
       "      <td>-0.061990</td>\n",
       "      <td>0.083647</td>\n",
       "      <td>-0.131012</td>\n",
       "      <td>0.044513</td>\n",
       "      <td>-0.171870</td>\n",
       "      <td>1.000000</td>\n",
       "    </tr>\n",
       "  </tbody>\n",
       "</table>\n",
       "</div>"
      ],
      "text/plain": [
       "                         age   default   balance      loan       day  \\\n",
       "age                 1.000000 -0.017885  0.083820 -0.011250 -0.017853   \n",
       "default            -0.017885  1.000000 -0.070886  0.063994 -0.013261   \n",
       "balance             0.083820 -0.070886  1.000000 -0.071349 -0.008677   \n",
       "loan               -0.011250  0.063994 -0.071349  1.000000 -0.004879   \n",
       "day                -0.017853 -0.013261 -0.008677 -0.004879  1.000000   \n",
       "duration           -0.002367 -0.011615 -0.015950 -0.004997 -0.024629   \n",
       "campaign           -0.005148 -0.012348 -0.009976  0.017120  0.160706   \n",
       "pdays              -0.008894 -0.026317  0.009437 -0.031086 -0.094352   \n",
       "previous           -0.003511 -0.026656  0.026196 -0.022115 -0.059114   \n",
       "c                   0.045092  0.001303  0.017905 -0.070517 -0.011244   \n",
       "housing_no          0.193888 -0.006881  0.050227 -0.018451  0.031291   \n",
       "marital_divorced    0.148043  0.048878 -0.036284  0.017798 -0.007121   \n",
       "marital_single     -0.410768  0.007391  0.007525 -0.048496  0.006769   \n",
       "education_primary   0.224938 -0.006734 -0.001551 -0.016574 -0.020851   \n",
       "education_tertiary -0.094042 -0.021407  0.076487 -0.043434  0.007465   \n",
       "education_unknown   0.081111 -0.001240  0.019230 -0.066621  0.000787   \n",
       "contact_telephone   0.183060 -0.021119  0.034025 -0.004945  0.053527   \n",
       "contact_unknown    -0.035125  0.014151 -0.018892 -0.005894 -0.048143   \n",
       "\n",
       "                    duration  campaign     pdays  previous         c  \\\n",
       "age                -0.002367 -0.005148 -0.008894 -0.003511  0.045092   \n",
       "default            -0.011615 -0.012348 -0.026317 -0.026656  0.001303   \n",
       "balance            -0.015950 -0.009976  0.009437  0.026196  0.017905   \n",
       "loan               -0.004997  0.017120 -0.031086 -0.022115 -0.070517   \n",
       "day                -0.024629  0.160706 -0.094352 -0.059114 -0.011244   \n",
       "duration            1.000000 -0.068382  0.010380  0.018080  0.401118   \n",
       "campaign           -0.068382  1.000000 -0.093137 -0.067833 -0.061147   \n",
       "pdays               0.010380 -0.093137  1.000000  0.577562  0.104087   \n",
       "previous            0.018080 -0.067833  0.577562  1.000000  0.116714   \n",
       "c                   0.401118 -0.061147  0.104087  0.116714  1.000000   \n",
       "housing_no         -0.015740  0.003574 -0.116893 -0.038621  0.104683   \n",
       "marital_divorced    0.021373 -0.022157 -0.003411 -0.022158  0.034840   \n",
       "marital_single      0.024560 -0.008093  0.020693  0.035558  0.045815   \n",
       "education_primary  -0.003640  0.009746 -0.019708 -0.020439 -0.027420   \n",
       "education_tertiary -0.017779  0.022631  0.000377  0.026977  0.056649   \n",
       "education_unknown  -0.010802 -0.020508  0.004601 -0.004239 -0.008870   \n",
       "contact_telephone  -0.021180  0.026571  0.019660  0.031797  0.025878   \n",
       "contact_unknown    -0.005469  0.004882 -0.246270 -0.194142 -0.139399   \n",
       "\n",
       "                    housing_no  marital_divorced  marital_single  \\\n",
       "age                   0.193888          0.148043       -0.410768   \n",
       "default              -0.006881          0.048878        0.007391   \n",
       "balance               0.050227         -0.036284        0.007525   \n",
       "loan                 -0.018451          0.017798       -0.048496   \n",
       "day                   0.031291         -0.007121        0.006769   \n",
       "duration             -0.015740          0.021373        0.024560   \n",
       "campaign              0.003574         -0.022157       -0.008093   \n",
       "pdays                -0.116893         -0.003411        0.020693   \n",
       "previous             -0.038621         -0.022158        0.035558   \n",
       "c                     0.104683          0.034840        0.045815   \n",
       "housing_no            1.000000          0.001197        0.041449   \n",
       "marital_divorced      0.001197          1.000000       -0.218091   \n",
       "marital_single        0.041449         -0.218091        1.000000   \n",
       "education_primary     0.000956         -0.000352       -0.149384   \n",
       "education_tertiary    0.098624         -0.004009        0.121481   \n",
       "education_unknown     0.051205          0.007473       -0.008737   \n",
       "contact_telephone     0.075859         -0.003186       -0.037470   \n",
       "contact_unknown      -0.215344          0.027805       -0.061990   \n",
       "\n",
       "                    education_primary  education_tertiary  education_unknown  \\\n",
       "age                          0.224938           -0.094042           0.081111   \n",
       "default                     -0.006734           -0.021407          -0.001240   \n",
       "balance                     -0.001551            0.076487           0.019230   \n",
       "loan                        -0.016574           -0.043434          -0.066621   \n",
       "day                         -0.020851            0.007465           0.000787   \n",
       "duration                    -0.003640           -0.017779          -0.010802   \n",
       "campaign                     0.009746            0.022631          -0.020508   \n",
       "pdays                       -0.019708            0.000377           0.004601   \n",
       "previous                    -0.020439            0.026977          -0.004239   \n",
       "c                           -0.027420            0.056649          -0.008870   \n",
       "housing_no                   0.000956            0.098624           0.051205   \n",
       "marital_divorced            -0.000352           -0.004009           0.007473   \n",
       "marital_single              -0.149384            0.121481          -0.008737   \n",
       "education_primary            1.000000           -0.274062          -0.087248   \n",
       "education_tertiary          -0.274062            1.000000          -0.135533   \n",
       "education_unknown           -0.087248           -0.135533           1.000000   \n",
       "contact_telephone            0.074205           -0.046299           0.029185   \n",
       "contact_unknown              0.083647           -0.131012           0.044513   \n",
       "\n",
       "                    contact_telephone  contact_unknown  \n",
       "age                          0.183060        -0.035125  \n",
       "default                     -0.021119         0.014151  \n",
       "balance                      0.034025        -0.018892  \n",
       "loan                        -0.004945        -0.005894  \n",
       "day                          0.053527        -0.048143  \n",
       "duration                    -0.021180        -0.005469  \n",
       "campaign                     0.026571         0.004882  \n",
       "pdays                        0.019660        -0.246270  \n",
       "previous                     0.031797        -0.194142  \n",
       "c                            0.025878        -0.139399  \n",
       "housing_no                   0.075859        -0.215344  \n",
       "marital_divorced            -0.003186         0.027805  \n",
       "marital_single              -0.037470        -0.061990  \n",
       "education_primary            0.074205         0.083647  \n",
       "education_tertiary          -0.046299        -0.131012  \n",
       "education_unknown            0.029185         0.044513  \n",
       "contact_telephone            1.000000        -0.171870  \n",
       "contact_unknown             -0.171870         1.000000  "
      ]
     },
     "execution_count": 33,
     "metadata": {},
     "output_type": "execute_result"
    }
   ],
   "source": [
    "pd.set_option('display.max_rows', 20)\n",
    "pd.set_option('display.max_columns', 20)\n",
    "\n",
    "df.corr()"
   ]
  },
  {
   "cell_type": "markdown",
   "metadata": {},
   "source": [
    "Answer: Duration has a 0.4 correlation with c, so that's definitely the highest. But the documentation says not to include it, as it is found out at the same time as the output variable. Sigh. "
   ]
  },
  {
   "cell_type": "code",
   "execution_count": 34,
   "metadata": {
    "collapsed": false
   },
   "outputs": [],
   "source": [
    "df.drop('duration', axis = 1, inplace = True)"
   ]
  },
  {
   "cell_type": "markdown",
   "metadata": {},
   "source": [
    "> ## Question 11.  Split the dataset into a training set (60%) and a testing set (the rest)"
   ]
  },
  {
   "cell_type": "code",
   "execution_count": 35,
   "metadata": {
    "collapsed": true
   },
   "outputs": [],
   "source": [
    "train_df = df.sample(frac = .6)\n",
    "test_df = df.drop(train_df.index)"
   ]
  },
  {
   "cell_type": "markdown",
   "metadata": {},
   "source": [
    "> ## Question 12.  Run a logistic regression with `age`, `marital` (the dummies), `default`, `balance`, `housing`, `loan`, `campaign`, `pdays`, `previous`?"
   ]
  },
  {
   "cell_type": "code",
   "execution_count": 36,
   "metadata": {
    "collapsed": false
   },
   "outputs": [],
   "source": [
    "columns_to_include = ['age', 'marital_single', 'marital_divorced',\n",
    "    'default', 'balance', 'housing_no',\n",
    "    'loan', 'campaign', 'pdays', 'previous']\n",
    "\n",
    "def X_c(df):\n",
    "    X = df[ columns_to_include ]\n",
    "    c = df.c\n",
    "    return X, c\n",
    "\n",
    "train_X, train_c = X_c(train_df)\n",
    "test_X, test_c = X_c(test_df)"
   ]
  },
  {
   "cell_type": "code",
   "execution_count": 37,
   "metadata": {
    "collapsed": false
   },
   "outputs": [
    {
     "data": {
      "text/plain": [
       "age                   int64\n",
       "marital_single      float64\n",
       "marital_divorced    float64\n",
       "default               int64\n",
       "balance               int64\n",
       "housing_no            int64\n",
       "loan                  int64\n",
       "campaign              int64\n",
       "pdays                 int64\n",
       "previous              int64\n",
       "dtype: object"
      ]
     },
     "execution_count": 37,
     "metadata": {},
     "output_type": "execute_result"
    }
   ],
   "source": [
    "train_X.dtypes"
   ]
  },
  {
   "cell_type": "code",
   "execution_count": 38,
   "metadata": {
    "collapsed": false
   },
   "outputs": [
    {
     "name": "stdout",
     "output_type": "stream",
     "text": [
      "[-2.98898955]\n",
      "[[  1.39750710e-02   3.64805557e-01   3.26208230e-01   1.17281980e-01\n",
      "   -1.77128369e-05   8.03796675e-01  -5.61061369e-01  -9.76732617e-02\n",
      "    1.87575235e-03   1.17753371e-01]]\n"
     ]
    }
   ],
   "source": [
    "model = linear_model.LogisticRegression().fit(train_X, train_c)\n",
    "\n",
    "print(model.intercept_)\n",
    "print(model.coef_)"
   ]
  },
  {
   "cell_type": "code",
   "execution_count": 40,
   "metadata": {
    "collapsed": false
   },
   "outputs": [
    {
     "data": {
      "text/plain": [
       "Index(['age', 'marital_single', 'marital_divorced', 'default', 'balance',\n",
       "       'housing_no', 'loan', 'campaign', 'pdays', 'previous'],\n",
       "      dtype='object')"
      ]
     },
     "execution_count": 40,
     "metadata": {},
     "output_type": "execute_result"
    }
   ],
   "source": [
    "train_X.columns"
   ]
  },
  {
   "cell_type": "markdown",
   "metadata": {},
   "source": [
    "> ## Question 13.  What is your training error?  What is your generalization error?  Does it make sense?"
   ]
  },
  {
   "cell_type": "code",
   "execution_count": 39,
   "metadata": {
    "collapsed": false
   },
   "outputs": [
    {
     "name": "stdout",
     "output_type": "stream",
     "text": [
      "0.116844821231\n",
      "0.116150442478\n"
     ]
    }
   ],
   "source": [
    "print(1-model.score(train_X,train_c))\n",
    "print(1-model.score(test_X,test_c))"
   ]
  },
  {
   "cell_type": "markdown",
   "metadata": {},
   "source": [
    "Answer: No, testing error is a little less than training error, that seems off"
   ]
  },
  {
   "cell_type": "markdown",
   "metadata": {},
   "source": [
    "> ## Question 14.  Interpret your coefficients. (At least `marital_single`, `campaign`, and `default`).  Does your interpretation  make sense?"
   ]
  },
  {
   "cell_type": "code",
   "execution_count": 45,
   "metadata": {
    "collapsed": false
   },
   "outputs": [
    {
     "name": "stdout",
     "output_type": "stream",
     "text": [
      "age 0.0140731787953\n",
      "marital_single 0.440233936889\n",
      "marital_divorced 0.385703884353\n",
      "default 0.124436453615\n",
      "balance -1.77126800169e-05\n",
      "housing_no 1.23400664579\n",
      "loan -0.42939687789\n",
      "campaign -0.0930548109504\n",
      "pdays 0.00187751267126\n",
      "previous 0.124966628183\n"
     ]
    }
   ],
   "source": [
    "for a,b in zip(columns_to_include, np.exp(model.coef_[0]) - 1):\n",
    "    print(a,b)"
   ]
  },
  {
   "cell_type": "markdown",
   "metadata": {},
   "source": [
    "Answer: This gives odds. Single people are more likely to subscribe than married people (odds are 44% higher), perhaps because they only have to make decisions for themselves. \n",
    "\n",
    "Being contacted more for a campaign makes people slightly less likely to respond to this campaign (odds go down by 9%), probably because people get better about saying 'no' if they've said no before. \n",
    "\n",
    "If they've defaulted, people are slightly more likely to subscribe (odds go up by 12%), perhaps because people who default are less responsible with their money"
   ]
  },
  {
   "cell_type": "markdown",
   "metadata": {},
   "source": [
    "> ## Question 15.  What is your prediction for a 30 years old single female, a homeowner with a \\$1,000 balance in the bank, without a loan, who has never been contacted before, and who has never defaulted"
   ]
  },
  {
   "cell_type": "code",
   "execution_count": 46,
   "metadata": {
    "collapsed": false
   },
   "outputs": [
    {
     "name": "stdout",
     "output_type": "stream",
     "text": [
      "[1]\n",
      "[[ 0.45958616  0.54041384]]\n"
     ]
    }
   ],
   "source": [
    "predict_X = [ [30, 1, 0, 0, 1000, 1, 0, 3, 999, 0] ]\n",
    "\n",
    "print(model.predict(predict_X))\n",
    "print(model.predict_proba(predict_X))"
   ]
  },
  {
   "cell_type": "markdown",
   "metadata": {},
   "source": [
    "Answer:  54% chance of subscribing"
   ]
  }
 ],
 "metadata": {
  "anaconda-cloud": {},
  "kernelspec": {
   "display_name": "Python [conda root]",
   "language": "python",
   "name": "conda-root-py"
  },
  "language_info": {
   "codemirror_mode": {
    "name": "ipython",
    "version": 3
   },
   "file_extension": ".py",
   "mimetype": "text/x-python",
   "name": "python",
   "nbconvert_exporter": "python",
   "pygments_lexer": "ipython3",
   "version": "3.5.2"
  }
 },
 "nbformat": 4,
 "nbformat_minor": 0
}
